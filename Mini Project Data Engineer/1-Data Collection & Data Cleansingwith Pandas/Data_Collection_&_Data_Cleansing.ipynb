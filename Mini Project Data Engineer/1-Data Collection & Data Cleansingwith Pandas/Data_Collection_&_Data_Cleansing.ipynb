{
  "cells": [
    {
      "cell_type": "markdown",
      "metadata": {
        "id": "84j3PhApSF7V"
      },
      "source": [
        "# Data Collection & Data Cleansing \n",
        "โหลดข้อมูลจาก kaggle ข้อมูลที่ใช้ทำ Mini Project นี้ superstore.csv และ Clean ข้อมูล"
      ]
    },
    {
      "cell_type": "code",
      "execution_count": 4,
      "metadata": {
        "id": "wClL_7YcoGOO"
      },
      "outputs": [],
      "source": [
        "import pandas as pd\n",
        "import numpy as np"
      ]
    },
    {
      "cell_type": "code",
      "execution_count": 5,
      "metadata": {
        "id": "D_edLrvQujj0"
      },
      "outputs": [],
      "source": [
        "superstore = pd.read_csv(\"/content/superstore.csv\", index_col='Row ID')"
      ]
    },
    {
      "cell_type": "code",
      "execution_count": 6,
      "metadata": {
        "colab": {
          "base_uri": "https://localhost:8080/",
          "height": 649
        },
        "id": "w3EnyM3ounPy",
        "outputId": "90a20b10-0046-44ff-ca67-32a15bf3399b"
      },
      "outputs": [
        {
          "data": {
            "text/html": [
              "\n",
              "  <div id=\"df-0a2f952f-c474-4cfa-86c5-059a283f4548\">\n",
              "    <div class=\"colab-df-container\">\n",
              "      <div>\n",
              "<style scoped>\n",
              "    .dataframe tbody tr th:only-of-type {\n",
              "        vertical-align: middle;\n",
              "    }\n",
              "\n",
              "    .dataframe tbody tr th {\n",
              "        vertical-align: top;\n",
              "    }\n",
              "\n",
              "    .dataframe thead th {\n",
              "        text-align: right;\n",
              "    }\n",
              "</style>\n",
              "<table border=\"1\" class=\"dataframe\">\n",
              "  <thead>\n",
              "    <tr style=\"text-align: right;\">\n",
              "      <th></th>\n",
              "      <th>Order ID</th>\n",
              "      <th>Order Date</th>\n",
              "      <th>Ship Date</th>\n",
              "      <th>Ship Mode</th>\n",
              "      <th>Customer ID</th>\n",
              "      <th>Customer Name</th>\n",
              "      <th>Segment</th>\n",
              "      <th>Country</th>\n",
              "      <th>City</th>\n",
              "      <th>State</th>\n",
              "      <th>Postal Code</th>\n",
              "      <th>Region</th>\n",
              "      <th>Product ID</th>\n",
              "      <th>Category</th>\n",
              "      <th>Sub-Category</th>\n",
              "      <th>Product Name</th>\n",
              "      <th>Sales</th>\n",
              "      <th>Quantity</th>\n",
              "      <th>Discount</th>\n",
              "      <th>Profit</th>\n",
              "    </tr>\n",
              "    <tr>\n",
              "      <th>Row ID</th>\n",
              "      <th></th>\n",
              "      <th></th>\n",
              "      <th></th>\n",
              "      <th></th>\n",
              "      <th></th>\n",
              "      <th></th>\n",
              "      <th></th>\n",
              "      <th></th>\n",
              "      <th></th>\n",
              "      <th></th>\n",
              "      <th></th>\n",
              "      <th></th>\n",
              "      <th></th>\n",
              "      <th></th>\n",
              "      <th></th>\n",
              "      <th></th>\n",
              "      <th></th>\n",
              "      <th></th>\n",
              "      <th></th>\n",
              "      <th></th>\n",
              "    </tr>\n",
              "  </thead>\n",
              "  <tbody>\n",
              "    <tr>\n",
              "      <th>1</th>\n",
              "      <td>CA-2016-152156</td>\n",
              "      <td>11/8/2016</td>\n",
              "      <td>11/11/2016</td>\n",
              "      <td>Second Class</td>\n",
              "      <td>CG-12520</td>\n",
              "      <td>Claire Gute</td>\n",
              "      <td>Consumer</td>\n",
              "      <td>United States</td>\n",
              "      <td>Henderson</td>\n",
              "      <td>Kentucky</td>\n",
              "      <td>42420</td>\n",
              "      <td>South</td>\n",
              "      <td>FUR-BO-10001798</td>\n",
              "      <td>Furniture</td>\n",
              "      <td>Bookcases</td>\n",
              "      <td>Bush Somerset Collection Bookcase</td>\n",
              "      <td>261.9600</td>\n",
              "      <td>2</td>\n",
              "      <td>0.00</td>\n",
              "      <td>41.9136</td>\n",
              "    </tr>\n",
              "    <tr>\n",
              "      <th>2</th>\n",
              "      <td>CA-2016-152156</td>\n",
              "      <td>11/8/2016</td>\n",
              "      <td>11/11/2016</td>\n",
              "      <td>Second Class</td>\n",
              "      <td>CG-12520</td>\n",
              "      <td>Claire Gute</td>\n",
              "      <td>Consumer</td>\n",
              "      <td>United States</td>\n",
              "      <td>Henderson</td>\n",
              "      <td>Kentucky</td>\n",
              "      <td>42420</td>\n",
              "      <td>South</td>\n",
              "      <td>FUR-CH-10000454</td>\n",
              "      <td>Furniture</td>\n",
              "      <td>Chairs</td>\n",
              "      <td>Hon Deluxe Fabric Upholstered Stacking Chairs,...</td>\n",
              "      <td>731.9400</td>\n",
              "      <td>3</td>\n",
              "      <td>0.00</td>\n",
              "      <td>219.5820</td>\n",
              "    </tr>\n",
              "    <tr>\n",
              "      <th>3</th>\n",
              "      <td>CA-2016-138688</td>\n",
              "      <td>6/12/2016</td>\n",
              "      <td>6/16/2016</td>\n",
              "      <td>Second Class</td>\n",
              "      <td>DV-13045</td>\n",
              "      <td>Darrin Van Huff</td>\n",
              "      <td>Corporate</td>\n",
              "      <td>United States</td>\n",
              "      <td>Los Angeles</td>\n",
              "      <td>California</td>\n",
              "      <td>90036</td>\n",
              "      <td>West</td>\n",
              "      <td>OFF-LA-10000240</td>\n",
              "      <td>Office Supplies</td>\n",
              "      <td>Labels</td>\n",
              "      <td>Self-Adhesive Address Labels for Typewriters b...</td>\n",
              "      <td>14.6200</td>\n",
              "      <td>2</td>\n",
              "      <td>0.00</td>\n",
              "      <td>6.8714</td>\n",
              "    </tr>\n",
              "    <tr>\n",
              "      <th>4</th>\n",
              "      <td>US-2015-108966</td>\n",
              "      <td>10/11/2015</td>\n",
              "      <td>10/18/2015</td>\n",
              "      <td>Standard Class</td>\n",
              "      <td>SO-20335</td>\n",
              "      <td>Sean O'Donnell</td>\n",
              "      <td>Consumer</td>\n",
              "      <td>United States</td>\n",
              "      <td>Fort Lauderdale</td>\n",
              "      <td>Florida</td>\n",
              "      <td>33311</td>\n",
              "      <td>South</td>\n",
              "      <td>FUR-TA-10000577</td>\n",
              "      <td>Furniture</td>\n",
              "      <td>Tables</td>\n",
              "      <td>Bretford CR4500 Series Slim Rectangular Table</td>\n",
              "      <td>957.5775</td>\n",
              "      <td>5</td>\n",
              "      <td>0.45</td>\n",
              "      <td>-383.0310</td>\n",
              "    </tr>\n",
              "    <tr>\n",
              "      <th>5</th>\n",
              "      <td>US-2015-108966</td>\n",
              "      <td>10/11/2015</td>\n",
              "      <td>10/18/2015</td>\n",
              "      <td>Standard Class</td>\n",
              "      <td>SO-20335</td>\n",
              "      <td>Sean O'Donnell</td>\n",
              "      <td>Consumer</td>\n",
              "      <td>United States</td>\n",
              "      <td>Fort Lauderdale</td>\n",
              "      <td>Florida</td>\n",
              "      <td>33311</td>\n",
              "      <td>South</td>\n",
              "      <td>OFF-ST-10000760</td>\n",
              "      <td>Office Supplies</td>\n",
              "      <td>Storage</td>\n",
              "      <td>Eldon Fold 'N Roll Cart System</td>\n",
              "      <td>22.3680</td>\n",
              "      <td>2</td>\n",
              "      <td>0.20</td>\n",
              "      <td>2.5164</td>\n",
              "    </tr>\n",
              "  </tbody>\n",
              "</table>\n",
              "</div>\n",
              "      <button class=\"colab-df-convert\" onclick=\"convertToInteractive('df-0a2f952f-c474-4cfa-86c5-059a283f4548')\"\n",
              "              title=\"Convert this dataframe to an interactive table.\"\n",
              "              style=\"display:none;\">\n",
              "        \n",
              "  <svg xmlns=\"http://www.w3.org/2000/svg\" height=\"24px\"viewBox=\"0 0 24 24\"\n",
              "       width=\"24px\">\n",
              "    <path d=\"M0 0h24v24H0V0z\" fill=\"none\"/>\n",
              "    <path d=\"M18.56 5.44l.94 2.06.94-2.06 2.06-.94-2.06-.94-.94-2.06-.94 2.06-2.06.94zm-11 1L8.5 8.5l.94-2.06 2.06-.94-2.06-.94L8.5 2.5l-.94 2.06-2.06.94zm10 10l.94 2.06.94-2.06 2.06-.94-2.06-.94-.94-2.06-.94 2.06-2.06.94z\"/><path d=\"M17.41 7.96l-1.37-1.37c-.4-.4-.92-.59-1.43-.59-.52 0-1.04.2-1.43.59L10.3 9.45l-7.72 7.72c-.78.78-.78 2.05 0 2.83L4 21.41c.39.39.9.59 1.41.59.51 0 1.02-.2 1.41-.59l7.78-7.78 2.81-2.81c.8-.78.8-2.07 0-2.86zM5.41 20L4 18.59l7.72-7.72 1.47 1.35L5.41 20z\"/>\n",
              "  </svg>\n",
              "      </button>\n",
              "      \n",
              "  <style>\n",
              "    .colab-df-container {\n",
              "      display:flex;\n",
              "      flex-wrap:wrap;\n",
              "      gap: 12px;\n",
              "    }\n",
              "\n",
              "    .colab-df-convert {\n",
              "      background-color: #E8F0FE;\n",
              "      border: none;\n",
              "      border-radius: 50%;\n",
              "      cursor: pointer;\n",
              "      display: none;\n",
              "      fill: #1967D2;\n",
              "      height: 32px;\n",
              "      padding: 0 0 0 0;\n",
              "      width: 32px;\n",
              "    }\n",
              "\n",
              "    .colab-df-convert:hover {\n",
              "      background-color: #E2EBFA;\n",
              "      box-shadow: 0px 1px 2px rgba(60, 64, 67, 0.3), 0px 1px 3px 1px rgba(60, 64, 67, 0.15);\n",
              "      fill: #174EA6;\n",
              "    }\n",
              "\n",
              "    [theme=dark] .colab-df-convert {\n",
              "      background-color: #3B4455;\n",
              "      fill: #D2E3FC;\n",
              "    }\n",
              "\n",
              "    [theme=dark] .colab-df-convert:hover {\n",
              "      background-color: #434B5C;\n",
              "      box-shadow: 0px 1px 3px 1px rgba(0, 0, 0, 0.15);\n",
              "      filter: drop-shadow(0px 1px 2px rgba(0, 0, 0, 0.3));\n",
              "      fill: #FFFFFF;\n",
              "    }\n",
              "  </style>\n",
              "\n",
              "      <script>\n",
              "        const buttonEl =\n",
              "          document.querySelector('#df-0a2f952f-c474-4cfa-86c5-059a283f4548 button.colab-df-convert');\n",
              "        buttonEl.style.display =\n",
              "          google.colab.kernel.accessAllowed ? 'block' : 'none';\n",
              "\n",
              "        async function convertToInteractive(key) {\n",
              "          const element = document.querySelector('#df-0a2f952f-c474-4cfa-86c5-059a283f4548');\n",
              "          const dataTable =\n",
              "            await google.colab.kernel.invokeFunction('convertToInteractive',\n",
              "                                                     [key], {});\n",
              "          if (!dataTable) return;\n",
              "\n",
              "          const docLinkHtml = 'Like what you see? Visit the ' +\n",
              "            '<a target=\"_blank\" href=https://colab.research.google.com/notebooks/data_table.ipynb>data table notebook</a>'\n",
              "            + ' to learn more about interactive tables.';\n",
              "          element.innerHTML = '';\n",
              "          dataTable['output_type'] = 'display_data';\n",
              "          await google.colab.output.renderOutput(dataTable, element);\n",
              "          const docLink = document.createElement('div');\n",
              "          docLink.innerHTML = docLinkHtml;\n",
              "          element.appendChild(docLink);\n",
              "        }\n",
              "      </script>\n",
              "    </div>\n",
              "  </div>\n",
              "  "
            ],
            "text/plain": [
              "              Order ID  Order Date   Ship Date       Ship Mode Customer ID  \\\n",
              "Row ID                                                                       \n",
              "1       CA-2016-152156   11/8/2016  11/11/2016    Second Class    CG-12520   \n",
              "2       CA-2016-152156   11/8/2016  11/11/2016    Second Class    CG-12520   \n",
              "3       CA-2016-138688   6/12/2016   6/16/2016    Second Class    DV-13045   \n",
              "4       US-2015-108966  10/11/2015  10/18/2015  Standard Class    SO-20335   \n",
              "5       US-2015-108966  10/11/2015  10/18/2015  Standard Class    SO-20335   \n",
              "\n",
              "          Customer Name    Segment        Country             City  \\\n",
              "Row ID                                                               \n",
              "1           Claire Gute   Consumer  United States        Henderson   \n",
              "2           Claire Gute   Consumer  United States        Henderson   \n",
              "3       Darrin Van Huff  Corporate  United States      Los Angeles   \n",
              "4        Sean O'Donnell   Consumer  United States  Fort Lauderdale   \n",
              "5        Sean O'Donnell   Consumer  United States  Fort Lauderdale   \n",
              "\n",
              "             State  Postal Code Region       Product ID         Category  \\\n",
              "Row ID                                                                     \n",
              "1         Kentucky        42420  South  FUR-BO-10001798        Furniture   \n",
              "2         Kentucky        42420  South  FUR-CH-10000454        Furniture   \n",
              "3       California        90036   West  OFF-LA-10000240  Office Supplies   \n",
              "4          Florida        33311  South  FUR-TA-10000577        Furniture   \n",
              "5          Florida        33311  South  OFF-ST-10000760  Office Supplies   \n",
              "\n",
              "       Sub-Category                                       Product Name  \\\n",
              "Row ID                                                                   \n",
              "1         Bookcases                  Bush Somerset Collection Bookcase   \n",
              "2            Chairs  Hon Deluxe Fabric Upholstered Stacking Chairs,...   \n",
              "3            Labels  Self-Adhesive Address Labels for Typewriters b...   \n",
              "4            Tables      Bretford CR4500 Series Slim Rectangular Table   \n",
              "5           Storage                     Eldon Fold 'N Roll Cart System   \n",
              "\n",
              "           Sales  Quantity  Discount    Profit  \n",
              "Row ID                                          \n",
              "1       261.9600         2      0.00   41.9136  \n",
              "2       731.9400         3      0.00  219.5820  \n",
              "3        14.6200         2      0.00    6.8714  \n",
              "4       957.5775         5      0.45 -383.0310  \n",
              "5        22.3680         2      0.20    2.5164  "
            ]
          },
          "execution_count": 6,
          "metadata": {},
          "output_type": "execute_result"
        }
      ],
      "source": [
        "superstore.head()"
      ]
    },
    {
      "cell_type": "markdown",
      "metadata": {
        "id": "gKBjHvpzTM6-"
      },
      "source": [
        "# Data Profiling"
      ]
    },
    {
      "cell_type": "markdown",
      "metadata": {
        "id": "83rCah2VlA7I"
      },
      "source": [
        "ดูมีกี่ row และ column"
      ]
    },
    {
      "cell_type": "code",
      "execution_count": 7,
      "metadata": {
        "colab": {
          "base_uri": "https://localhost:8080/"
        },
        "id": "5lXySbopuokw",
        "outputId": "81eb21c3-4b64-4138-9235-06276ab6039f"
      },
      "outputs": [
        {
          "data": {
            "text/plain": [
              "(9994, 20)"
            ]
          },
          "execution_count": 7,
          "metadata": {},
          "output_type": "execute_result"
        }
      ],
      "source": [
        "superstore.shape"
      ]
    },
    {
      "cell_type": "code",
      "execution_count": 8,
      "metadata": {
        "colab": {
          "base_uri": "https://localhost:8080/"
        },
        "id": "guEXcf15k_P4",
        "outputId": "b328cdf7-9918-408b-8310-dac7cc375c2a"
      },
      "outputs": [
        {
          "data": {
            "text/plain": [
              "pandas.core.frame.DataFrame"
            ]
          },
          "execution_count": 8,
          "metadata": {},
          "output_type": "execute_result"
        }
      ],
      "source": [
        "type(superstore)"
      ]
    },
    {
      "cell_type": "code",
      "execution_count": 9,
      "metadata": {
        "colab": {
          "base_uri": "https://localhost:8080/"
        },
        "id": "5ZI-9KVinG3f",
        "outputId": "6b141a9e-89f8-44d1-87ee-b628ef9ef023"
      },
      "outputs": [
        {
          "name": "stdout",
          "output_type": "stream",
          "text": [
            "<class 'pandas.core.frame.DataFrame'>\n",
            "Int64Index: 9994 entries, 1 to 9994\n",
            "Data columns (total 20 columns):\n",
            " #   Column         Non-Null Count  Dtype  \n",
            "---  ------         --------------  -----  \n",
            " 0   Order ID       9994 non-null   object \n",
            " 1   Order Date     9994 non-null   object \n",
            " 2   Ship Date      9994 non-null   object \n",
            " 3   Ship Mode      9994 non-null   object \n",
            " 4   Customer ID    9994 non-null   object \n",
            " 5   Customer Name  9994 non-null   object \n",
            " 6   Segment        9994 non-null   object \n",
            " 7   Country        9994 non-null   object \n",
            " 8   City           9994 non-null   object \n",
            " 9   State          9994 non-null   object \n",
            " 10  Postal Code    9994 non-null   int64  \n",
            " 11  Region         9994 non-null   object \n",
            " 12  Product ID     9994 non-null   object \n",
            " 13  Category       9994 non-null   object \n",
            " 14  Sub-Category   9994 non-null   object \n",
            " 15  Product Name   9994 non-null   object \n",
            " 16  Sales          9994 non-null   float64\n",
            " 17  Quantity       9994 non-null   int64  \n",
            " 18  Discount       9994 non-null   float64\n",
            " 19  Profit         9994 non-null   float64\n",
            "dtypes: float64(3), int64(2), object(15)\n",
            "memory usage: 1.6+ MB\n"
          ]
        }
      ],
      "source": [
        "superstore.info()"
      ]
    },
    {
      "cell_type": "code",
      "execution_count": 10,
      "metadata": {
        "colab": {
          "base_uri": "https://localhost:8080/"
        },
        "id": "vWy5C0k5niK8",
        "outputId": "041e8158-27bf-4793-ecae-d9580c73f451"
      },
      "outputs": [
        {
          "data": {
            "text/plain": [
              "Index(['Order ID', 'Order Date', 'Ship Date', 'Ship Mode', 'Customer ID',\n",
              "       'Customer Name', 'Segment', 'Country', 'City', 'State', 'Postal Code',\n",
              "       'Region', 'Product ID', 'Category', 'Sub-Category', 'Product Name',\n",
              "       'Sales', 'Quantity', 'Discount', 'Profit'],\n",
              "      dtype='object')"
            ]
          },
          "execution_count": 10,
          "metadata": {},
          "output_type": "execute_result"
        }
      ],
      "source": [
        "superstore.columns"
      ]
    },
    {
      "cell_type": "markdown",
      "metadata": {
        "id": "EFGRLEBUnkKy"
      },
      "source": [
        "ทำการ Rename คอลัมน์"
      ]
    },
    {
      "cell_type": "code",
      "execution_count": 11,
      "metadata": {
        "id": "zPg99_15nsXC"
      },
      "outputs": [],
      "source": [
        "superstore.rename(columns={'Order ID': 'Order_ID',\n",
        "                           'Order Date': 'Order_Date', 'Ship Date': 'Ship_Date',\n",
        "                           'Ship Mode': 'Ship_Mode', 'Customer ID': 'Customer_ID',\n",
        "                           'Customer Name': 'Customer_Name', 'Postal Code': 'Postal_Code',\n",
        "                           'Product ID': 'Product_ID', 'Sub-Category': 'Sub_Category',\n",
        "                           'Product Name': 'Product_Name'},inplace=True)"
      ]
    },
    {
      "cell_type": "code",
      "execution_count": 12,
      "metadata": {
        "colab": {
          "base_uri": "https://localhost:8080/"
        },
        "id": "IGyt34hVnuSz",
        "outputId": "ddc78b0a-e8ec-429e-bf70-d72efabf8aff"
      },
      "outputs": [
        {
          "data": {
            "text/plain": [
              "Index(['Order_ID', 'Order_Date', 'Ship_Date', 'Ship_Mode', 'Customer_ID',\n",
              "       'Customer_Name', 'Segment', 'Country', 'City', 'State', 'Postal_Code',\n",
              "       'Region', 'Product_ID', 'Category', 'Sub_Category', 'Product_Name',\n",
              "       'Sales', 'Quantity', 'Discount', 'Profit'],\n",
              "      dtype='object')"
            ]
          },
          "execution_count": 12,
          "metadata": {},
          "output_type": "execute_result"
        }
      ],
      "source": [
        "superstore.columns"
      ]
    },
    {
      "cell_type": "markdown",
      "metadata": {
        "id": "pYrGeeoOoA7h"
      },
      "source": [
        "แปลงคอลัมน์ Order_Date, Ship_Date ให้เป็น datetime"
      ]
    },
    {
      "cell_type": "code",
      "execution_count": 13,
      "metadata": {
        "id": "ijhXZTJOuE6x"
      },
      "outputs": [],
      "source": [
        "superstore['Order_Date'] = pd.to_datetime(superstore['Order_Date'])\n",
        "superstore['Ship_Date'] = pd.to_datetime(superstore['Ship_Date'])"
      ]
    },
    {
      "cell_type": "code",
      "execution_count": 14,
      "metadata": {
        "colab": {
          "base_uri": "https://localhost:8080/",
          "height": 455
        },
        "id": "8kNKFUH4uplH",
        "outputId": "8ae970b5-b6ac-4070-bc84-31f50a099044"
      },
      "outputs": [
        {
          "data": {
            "text/html": [
              "\n",
              "  <div id=\"df-d4a83ebe-14f7-4d37-b4c4-1369fcbf2c25\">\n",
              "    <div class=\"colab-df-container\">\n",
              "      <div>\n",
              "<style scoped>\n",
              "    .dataframe tbody tr th:only-of-type {\n",
              "        vertical-align: middle;\n",
              "    }\n",
              "\n",
              "    .dataframe tbody tr th {\n",
              "        vertical-align: top;\n",
              "    }\n",
              "\n",
              "    .dataframe thead th {\n",
              "        text-align: right;\n",
              "    }\n",
              "</style>\n",
              "<table border=\"1\" class=\"dataframe\">\n",
              "  <thead>\n",
              "    <tr style=\"text-align: right;\">\n",
              "      <th></th>\n",
              "      <th>Order_Date</th>\n",
              "      <th>Ship_Date</th>\n",
              "    </tr>\n",
              "    <tr>\n",
              "      <th>Row ID</th>\n",
              "      <th></th>\n",
              "      <th></th>\n",
              "    </tr>\n",
              "  </thead>\n",
              "  <tbody>\n",
              "    <tr>\n",
              "      <th>1</th>\n",
              "      <td>2016-11-08</td>\n",
              "      <td>2016-11-11</td>\n",
              "    </tr>\n",
              "    <tr>\n",
              "      <th>2</th>\n",
              "      <td>2016-11-08</td>\n",
              "      <td>2016-11-11</td>\n",
              "    </tr>\n",
              "    <tr>\n",
              "      <th>3</th>\n",
              "      <td>2016-06-12</td>\n",
              "      <td>2016-06-16</td>\n",
              "    </tr>\n",
              "    <tr>\n",
              "      <th>4</th>\n",
              "      <td>2015-10-11</td>\n",
              "      <td>2015-10-18</td>\n",
              "    </tr>\n",
              "    <tr>\n",
              "      <th>5</th>\n",
              "      <td>2015-10-11</td>\n",
              "      <td>2015-10-18</td>\n",
              "    </tr>\n",
              "    <tr>\n",
              "      <th>...</th>\n",
              "      <td>...</td>\n",
              "      <td>...</td>\n",
              "    </tr>\n",
              "    <tr>\n",
              "      <th>9990</th>\n",
              "      <td>2014-01-21</td>\n",
              "      <td>2014-01-23</td>\n",
              "    </tr>\n",
              "    <tr>\n",
              "      <th>9991</th>\n",
              "      <td>2017-02-26</td>\n",
              "      <td>2017-03-03</td>\n",
              "    </tr>\n",
              "    <tr>\n",
              "      <th>9992</th>\n",
              "      <td>2017-02-26</td>\n",
              "      <td>2017-03-03</td>\n",
              "    </tr>\n",
              "    <tr>\n",
              "      <th>9993</th>\n",
              "      <td>2017-02-26</td>\n",
              "      <td>2017-03-03</td>\n",
              "    </tr>\n",
              "    <tr>\n",
              "      <th>9994</th>\n",
              "      <td>2017-05-04</td>\n",
              "      <td>2017-05-09</td>\n",
              "    </tr>\n",
              "  </tbody>\n",
              "</table>\n",
              "<p>9994 rows × 2 columns</p>\n",
              "</div>\n",
              "      <button class=\"colab-df-convert\" onclick=\"convertToInteractive('df-d4a83ebe-14f7-4d37-b4c4-1369fcbf2c25')\"\n",
              "              title=\"Convert this dataframe to an interactive table.\"\n",
              "              style=\"display:none;\">\n",
              "        \n",
              "  <svg xmlns=\"http://www.w3.org/2000/svg\" height=\"24px\"viewBox=\"0 0 24 24\"\n",
              "       width=\"24px\">\n",
              "    <path d=\"M0 0h24v24H0V0z\" fill=\"none\"/>\n",
              "    <path d=\"M18.56 5.44l.94 2.06.94-2.06 2.06-.94-2.06-.94-.94-2.06-.94 2.06-2.06.94zm-11 1L8.5 8.5l.94-2.06 2.06-.94-2.06-.94L8.5 2.5l-.94 2.06-2.06.94zm10 10l.94 2.06.94-2.06 2.06-.94-2.06-.94-.94-2.06-.94 2.06-2.06.94z\"/><path d=\"M17.41 7.96l-1.37-1.37c-.4-.4-.92-.59-1.43-.59-.52 0-1.04.2-1.43.59L10.3 9.45l-7.72 7.72c-.78.78-.78 2.05 0 2.83L4 21.41c.39.39.9.59 1.41.59.51 0 1.02-.2 1.41-.59l7.78-7.78 2.81-2.81c.8-.78.8-2.07 0-2.86zM5.41 20L4 18.59l7.72-7.72 1.47 1.35L5.41 20z\"/>\n",
              "  </svg>\n",
              "      </button>\n",
              "      \n",
              "  <style>\n",
              "    .colab-df-container {\n",
              "      display:flex;\n",
              "      flex-wrap:wrap;\n",
              "      gap: 12px;\n",
              "    }\n",
              "\n",
              "    .colab-df-convert {\n",
              "      background-color: #E8F0FE;\n",
              "      border: none;\n",
              "      border-radius: 50%;\n",
              "      cursor: pointer;\n",
              "      display: none;\n",
              "      fill: #1967D2;\n",
              "      height: 32px;\n",
              "      padding: 0 0 0 0;\n",
              "      width: 32px;\n",
              "    }\n",
              "\n",
              "    .colab-df-convert:hover {\n",
              "      background-color: #E2EBFA;\n",
              "      box-shadow: 0px 1px 2px rgba(60, 64, 67, 0.3), 0px 1px 3px 1px rgba(60, 64, 67, 0.15);\n",
              "      fill: #174EA6;\n",
              "    }\n",
              "\n",
              "    [theme=dark] .colab-df-convert {\n",
              "      background-color: #3B4455;\n",
              "      fill: #D2E3FC;\n",
              "    }\n",
              "\n",
              "    [theme=dark] .colab-df-convert:hover {\n",
              "      background-color: #434B5C;\n",
              "      box-shadow: 0px 1px 3px 1px rgba(0, 0, 0, 0.15);\n",
              "      filter: drop-shadow(0px 1px 2px rgba(0, 0, 0, 0.3));\n",
              "      fill: #FFFFFF;\n",
              "    }\n",
              "  </style>\n",
              "\n",
              "      <script>\n",
              "        const buttonEl =\n",
              "          document.querySelector('#df-d4a83ebe-14f7-4d37-b4c4-1369fcbf2c25 button.colab-df-convert');\n",
              "        buttonEl.style.display =\n",
              "          google.colab.kernel.accessAllowed ? 'block' : 'none';\n",
              "\n",
              "        async function convertToInteractive(key) {\n",
              "          const element = document.querySelector('#df-d4a83ebe-14f7-4d37-b4c4-1369fcbf2c25');\n",
              "          const dataTable =\n",
              "            await google.colab.kernel.invokeFunction('convertToInteractive',\n",
              "                                                     [key], {});\n",
              "          if (!dataTable) return;\n",
              "\n",
              "          const docLinkHtml = 'Like what you see? Visit the ' +\n",
              "            '<a target=\"_blank\" href=https://colab.research.google.com/notebooks/data_table.ipynb>data table notebook</a>'\n",
              "            + ' to learn more about interactive tables.';\n",
              "          element.innerHTML = '';\n",
              "          dataTable['output_type'] = 'display_data';\n",
              "          await google.colab.output.renderOutput(dataTable, element);\n",
              "          const docLink = document.createElement('div');\n",
              "          docLink.innerHTML = docLinkHtml;\n",
              "          element.appendChild(docLink);\n",
              "        }\n",
              "      </script>\n",
              "    </div>\n",
              "  </div>\n",
              "  "
            ],
            "text/plain": [
              "       Order_Date  Ship_Date\n",
              "Row ID                      \n",
              "1      2016-11-08 2016-11-11\n",
              "2      2016-11-08 2016-11-11\n",
              "3      2016-06-12 2016-06-16\n",
              "4      2015-10-11 2015-10-18\n",
              "5      2015-10-11 2015-10-18\n",
              "...           ...        ...\n",
              "9990   2014-01-21 2014-01-23\n",
              "9991   2017-02-26 2017-03-03\n",
              "9992   2017-02-26 2017-03-03\n",
              "9993   2017-02-26 2017-03-03\n",
              "9994   2017-05-04 2017-05-09\n",
              "\n",
              "[9994 rows x 2 columns]"
            ]
          },
          "execution_count": 14,
          "metadata": {},
          "output_type": "execute_result"
        }
      ],
      "source": [
        "superstore[['Order_Date', 'Ship_Date']]"
      ]
    },
    {
      "cell_type": "code",
      "execution_count": 15,
      "metadata": {
        "colab": {
          "base_uri": "https://localhost:8080/"
        },
        "id": "apCveQFhoNEj",
        "outputId": "68722409-5ce6-452a-b842-33ccc8eb9f1d"
      },
      "outputs": [
        {
          "data": {
            "text/plain": [
              "Order_ID                 object\n",
              "Order_Date       datetime64[ns]\n",
              "Ship_Date        datetime64[ns]\n",
              "Ship_Mode                object\n",
              "Customer_ID              object\n",
              "Customer_Name            object\n",
              "Segment                  object\n",
              "Country                  object\n",
              "City                     object\n",
              "State                    object\n",
              "Postal_Code               int64\n",
              "Region                   object\n",
              "Product_ID               object\n",
              "Category                 object\n",
              "Sub_Category             object\n",
              "Product_Name             object\n",
              "Sales                   float64\n",
              "Quantity                  int64\n",
              "Discount                float64\n",
              "Profit                  float64\n",
              "dtype: object"
            ]
          },
          "execution_count": 15,
          "metadata": {},
          "output_type": "execute_result"
        }
      ],
      "source": [
        "superstore.dtypes"
      ]
    },
    {
      "cell_type": "code",
      "execution_count": 16,
      "metadata": {
        "colab": {
          "base_uri": "https://localhost:8080/",
          "height": 394
        },
        "id": "PB2WEv48oXpZ",
        "outputId": "3cabab04-dfe2-4e10-f8c0-e3328c859200"
      },
      "outputs": [
        {
          "data": {
            "text/html": [
              "\n",
              "  <div id=\"df-a9c5bea2-4a7a-4812-83b1-32a4128045b3\">\n",
              "    <div class=\"colab-df-container\">\n",
              "      <div>\n",
              "<style scoped>\n",
              "    .dataframe tbody tr th:only-of-type {\n",
              "        vertical-align: middle;\n",
              "    }\n",
              "\n",
              "    .dataframe tbody tr th {\n",
              "        vertical-align: top;\n",
              "    }\n",
              "\n",
              "    .dataframe thead th {\n",
              "        text-align: right;\n",
              "    }\n",
              "</style>\n",
              "<table border=\"1\" class=\"dataframe\">\n",
              "  <thead>\n",
              "    <tr style=\"text-align: right;\">\n",
              "      <th></th>\n",
              "      <th>Order_Date</th>\n",
              "      <th>Ship_Date</th>\n",
              "    </tr>\n",
              "    <tr>\n",
              "      <th>Row ID</th>\n",
              "      <th></th>\n",
              "      <th></th>\n",
              "    </tr>\n",
              "  </thead>\n",
              "  <tbody>\n",
              "    <tr>\n",
              "      <th>1</th>\n",
              "      <td>2016-11-08</td>\n",
              "      <td>2016-11-11</td>\n",
              "    </tr>\n",
              "    <tr>\n",
              "      <th>2</th>\n",
              "      <td>2016-11-08</td>\n",
              "      <td>2016-11-11</td>\n",
              "    </tr>\n",
              "    <tr>\n",
              "      <th>3</th>\n",
              "      <td>2016-06-12</td>\n",
              "      <td>2016-06-16</td>\n",
              "    </tr>\n",
              "    <tr>\n",
              "      <th>4</th>\n",
              "      <td>2015-10-11</td>\n",
              "      <td>2015-10-18</td>\n",
              "    </tr>\n",
              "    <tr>\n",
              "      <th>5</th>\n",
              "      <td>2015-10-11</td>\n",
              "      <td>2015-10-18</td>\n",
              "    </tr>\n",
              "    <tr>\n",
              "      <th>6</th>\n",
              "      <td>2014-06-09</td>\n",
              "      <td>2014-06-14</td>\n",
              "    </tr>\n",
              "    <tr>\n",
              "      <th>7</th>\n",
              "      <td>2014-06-09</td>\n",
              "      <td>2014-06-14</td>\n",
              "    </tr>\n",
              "    <tr>\n",
              "      <th>8</th>\n",
              "      <td>2014-06-09</td>\n",
              "      <td>2014-06-14</td>\n",
              "    </tr>\n",
              "    <tr>\n",
              "      <th>9</th>\n",
              "      <td>2014-06-09</td>\n",
              "      <td>2014-06-14</td>\n",
              "    </tr>\n",
              "    <tr>\n",
              "      <th>10</th>\n",
              "      <td>2014-06-09</td>\n",
              "      <td>2014-06-14</td>\n",
              "    </tr>\n",
              "  </tbody>\n",
              "</table>\n",
              "</div>\n",
              "      <button class=\"colab-df-convert\" onclick=\"convertToInteractive('df-a9c5bea2-4a7a-4812-83b1-32a4128045b3')\"\n",
              "              title=\"Convert this dataframe to an interactive table.\"\n",
              "              style=\"display:none;\">\n",
              "        \n",
              "  <svg xmlns=\"http://www.w3.org/2000/svg\" height=\"24px\"viewBox=\"0 0 24 24\"\n",
              "       width=\"24px\">\n",
              "    <path d=\"M0 0h24v24H0V0z\" fill=\"none\"/>\n",
              "    <path d=\"M18.56 5.44l.94 2.06.94-2.06 2.06-.94-2.06-.94-.94-2.06-.94 2.06-2.06.94zm-11 1L8.5 8.5l.94-2.06 2.06-.94-2.06-.94L8.5 2.5l-.94 2.06-2.06.94zm10 10l.94 2.06.94-2.06 2.06-.94-2.06-.94-.94-2.06-.94 2.06-2.06.94z\"/><path d=\"M17.41 7.96l-1.37-1.37c-.4-.4-.92-.59-1.43-.59-.52 0-1.04.2-1.43.59L10.3 9.45l-7.72 7.72c-.78.78-.78 2.05 0 2.83L4 21.41c.39.39.9.59 1.41.59.51 0 1.02-.2 1.41-.59l7.78-7.78 2.81-2.81c.8-.78.8-2.07 0-2.86zM5.41 20L4 18.59l7.72-7.72 1.47 1.35L5.41 20z\"/>\n",
              "  </svg>\n",
              "      </button>\n",
              "      \n",
              "  <style>\n",
              "    .colab-df-container {\n",
              "      display:flex;\n",
              "      flex-wrap:wrap;\n",
              "      gap: 12px;\n",
              "    }\n",
              "\n",
              "    .colab-df-convert {\n",
              "      background-color: #E8F0FE;\n",
              "      border: none;\n",
              "      border-radius: 50%;\n",
              "      cursor: pointer;\n",
              "      display: none;\n",
              "      fill: #1967D2;\n",
              "      height: 32px;\n",
              "      padding: 0 0 0 0;\n",
              "      width: 32px;\n",
              "    }\n",
              "\n",
              "    .colab-df-convert:hover {\n",
              "      background-color: #E2EBFA;\n",
              "      box-shadow: 0px 1px 2px rgba(60, 64, 67, 0.3), 0px 1px 3px 1px rgba(60, 64, 67, 0.15);\n",
              "      fill: #174EA6;\n",
              "    }\n",
              "\n",
              "    [theme=dark] .colab-df-convert {\n",
              "      background-color: #3B4455;\n",
              "      fill: #D2E3FC;\n",
              "    }\n",
              "\n",
              "    [theme=dark] .colab-df-convert:hover {\n",
              "      background-color: #434B5C;\n",
              "      box-shadow: 0px 1px 3px 1px rgba(0, 0, 0, 0.15);\n",
              "      filter: drop-shadow(0px 1px 2px rgba(0, 0, 0, 0.3));\n",
              "      fill: #FFFFFF;\n",
              "    }\n",
              "  </style>\n",
              "\n",
              "      <script>\n",
              "        const buttonEl =\n",
              "          document.querySelector('#df-a9c5bea2-4a7a-4812-83b1-32a4128045b3 button.colab-df-convert');\n",
              "        buttonEl.style.display =\n",
              "          google.colab.kernel.accessAllowed ? 'block' : 'none';\n",
              "\n",
              "        async function convertToInteractive(key) {\n",
              "          const element = document.querySelector('#df-a9c5bea2-4a7a-4812-83b1-32a4128045b3');\n",
              "          const dataTable =\n",
              "            await google.colab.kernel.invokeFunction('convertToInteractive',\n",
              "                                                     [key], {});\n",
              "          if (!dataTable) return;\n",
              "\n",
              "          const docLinkHtml = 'Like what you see? Visit the ' +\n",
              "            '<a target=\"_blank\" href=https://colab.research.google.com/notebooks/data_table.ipynb>data table notebook</a>'\n",
              "            + ' to learn more about interactive tables.';\n",
              "          element.innerHTML = '';\n",
              "          dataTable['output_type'] = 'display_data';\n",
              "          await google.colab.output.renderOutput(dataTable, element);\n",
              "          const docLink = document.createElement('div');\n",
              "          docLink.innerHTML = docLinkHtml;\n",
              "          element.appendChild(docLink);\n",
              "        }\n",
              "      </script>\n",
              "    </div>\n",
              "  </div>\n",
              "  "
            ],
            "text/plain": [
              "       Order_Date  Ship_Date\n",
              "Row ID                      \n",
              "1      2016-11-08 2016-11-11\n",
              "2      2016-11-08 2016-11-11\n",
              "3      2016-06-12 2016-06-16\n",
              "4      2015-10-11 2015-10-18\n",
              "5      2015-10-11 2015-10-18\n",
              "6      2014-06-09 2014-06-14\n",
              "7      2014-06-09 2014-06-14\n",
              "8      2014-06-09 2014-06-14\n",
              "9      2014-06-09 2014-06-14\n",
              "10     2014-06-09 2014-06-14"
            ]
          },
          "execution_count": 16,
          "metadata": {},
          "output_type": "execute_result"
        }
      ],
      "source": [
        "superstore[['Order_Date', 'Ship_Date']][0:10]"
      ]
    },
    {
      "cell_type": "markdown",
      "metadata": {
        "id": "u8c-Uc6dwKa7"
      },
      "source": [
        "# EDA - Exploratory Data Analysis"
      ]
    },
    {
      "cell_type": "markdown",
      "metadata": {
        "id": "oRmAfVgbTSTw"
      },
      "source": [
        "### Non-Graphical EDA แบบใช้ตัวเลข\n"
      ]
    },
    {
      "cell_type": "code",
      "execution_count": 17,
      "metadata": {
        "colab": {
          "base_uri": "https://localhost:8080/"
        },
        "id": "BkT1EJm8wMo7",
        "outputId": "e5299a86-d8e1-4342-9dd4-47c60e1c741a"
      },
      "outputs": [
        {
          "data": {
            "text/plain": [
              "pandas.core.frame.DataFrame"
            ]
          },
          "execution_count": 17,
          "metadata": {},
          "output_type": "execute_result"
        }
      ],
      "source": [
        "type(superstore)"
      ]
    },
    {
      "cell_type": "markdown",
      "metadata": {
        "id": "p5pLqobB-diR"
      },
      "source": [
        "ข้อมูลสรุปทางสติถิ"
      ]
    },
    {
      "cell_type": "code",
      "execution_count": 18,
      "metadata": {
        "colab": {
          "base_uri": "https://localhost:8080/",
          "height": 300
        },
        "id": "OaZOuS0J-gI4",
        "outputId": "9fb57ce9-f9e1-4bf9-c9cb-b67e3a37d0f7"
      },
      "outputs": [
        {
          "data": {
            "text/html": [
              "\n",
              "  <div id=\"df-a4dec5a9-26ff-4bea-afdc-151680bbfb8f\">\n",
              "    <div class=\"colab-df-container\">\n",
              "      <div>\n",
              "<style scoped>\n",
              "    .dataframe tbody tr th:only-of-type {\n",
              "        vertical-align: middle;\n",
              "    }\n",
              "\n",
              "    .dataframe tbody tr th {\n",
              "        vertical-align: top;\n",
              "    }\n",
              "\n",
              "    .dataframe thead th {\n",
              "        text-align: right;\n",
              "    }\n",
              "</style>\n",
              "<table border=\"1\" class=\"dataframe\">\n",
              "  <thead>\n",
              "    <tr style=\"text-align: right;\">\n",
              "      <th></th>\n",
              "      <th>Postal_Code</th>\n",
              "      <th>Sales</th>\n",
              "      <th>Quantity</th>\n",
              "      <th>Discount</th>\n",
              "      <th>Profit</th>\n",
              "    </tr>\n",
              "  </thead>\n",
              "  <tbody>\n",
              "    <tr>\n",
              "      <th>count</th>\n",
              "      <td>9994.000000</td>\n",
              "      <td>9994.000000</td>\n",
              "      <td>9994.000000</td>\n",
              "      <td>9994.000000</td>\n",
              "      <td>9994.000000</td>\n",
              "    </tr>\n",
              "    <tr>\n",
              "      <th>mean</th>\n",
              "      <td>55190.379428</td>\n",
              "      <td>229.858001</td>\n",
              "      <td>3.789574</td>\n",
              "      <td>0.156203</td>\n",
              "      <td>28.656896</td>\n",
              "    </tr>\n",
              "    <tr>\n",
              "      <th>std</th>\n",
              "      <td>32063.693350</td>\n",
              "      <td>623.245101</td>\n",
              "      <td>2.225110</td>\n",
              "      <td>0.206452</td>\n",
              "      <td>234.260108</td>\n",
              "    </tr>\n",
              "    <tr>\n",
              "      <th>min</th>\n",
              "      <td>1040.000000</td>\n",
              "      <td>0.444000</td>\n",
              "      <td>1.000000</td>\n",
              "      <td>0.000000</td>\n",
              "      <td>-6599.978000</td>\n",
              "    </tr>\n",
              "    <tr>\n",
              "      <th>25%</th>\n",
              "      <td>23223.000000</td>\n",
              "      <td>17.280000</td>\n",
              "      <td>2.000000</td>\n",
              "      <td>0.000000</td>\n",
              "      <td>1.728750</td>\n",
              "    </tr>\n",
              "    <tr>\n",
              "      <th>50%</th>\n",
              "      <td>56430.500000</td>\n",
              "      <td>54.490000</td>\n",
              "      <td>3.000000</td>\n",
              "      <td>0.200000</td>\n",
              "      <td>8.666500</td>\n",
              "    </tr>\n",
              "    <tr>\n",
              "      <th>75%</th>\n",
              "      <td>90008.000000</td>\n",
              "      <td>209.940000</td>\n",
              "      <td>5.000000</td>\n",
              "      <td>0.200000</td>\n",
              "      <td>29.364000</td>\n",
              "    </tr>\n",
              "    <tr>\n",
              "      <th>max</th>\n",
              "      <td>99301.000000</td>\n",
              "      <td>22638.480000</td>\n",
              "      <td>14.000000</td>\n",
              "      <td>0.800000</td>\n",
              "      <td>8399.976000</td>\n",
              "    </tr>\n",
              "  </tbody>\n",
              "</table>\n",
              "</div>\n",
              "      <button class=\"colab-df-convert\" onclick=\"convertToInteractive('df-a4dec5a9-26ff-4bea-afdc-151680bbfb8f')\"\n",
              "              title=\"Convert this dataframe to an interactive table.\"\n",
              "              style=\"display:none;\">\n",
              "        \n",
              "  <svg xmlns=\"http://www.w3.org/2000/svg\" height=\"24px\"viewBox=\"0 0 24 24\"\n",
              "       width=\"24px\">\n",
              "    <path d=\"M0 0h24v24H0V0z\" fill=\"none\"/>\n",
              "    <path d=\"M18.56 5.44l.94 2.06.94-2.06 2.06-.94-2.06-.94-.94-2.06-.94 2.06-2.06.94zm-11 1L8.5 8.5l.94-2.06 2.06-.94-2.06-.94L8.5 2.5l-.94 2.06-2.06.94zm10 10l.94 2.06.94-2.06 2.06-.94-2.06-.94-.94-2.06-.94 2.06-2.06.94z\"/><path d=\"M17.41 7.96l-1.37-1.37c-.4-.4-.92-.59-1.43-.59-.52 0-1.04.2-1.43.59L10.3 9.45l-7.72 7.72c-.78.78-.78 2.05 0 2.83L4 21.41c.39.39.9.59 1.41.59.51 0 1.02-.2 1.41-.59l7.78-7.78 2.81-2.81c.8-.78.8-2.07 0-2.86zM5.41 20L4 18.59l7.72-7.72 1.47 1.35L5.41 20z\"/>\n",
              "  </svg>\n",
              "      </button>\n",
              "      \n",
              "  <style>\n",
              "    .colab-df-container {\n",
              "      display:flex;\n",
              "      flex-wrap:wrap;\n",
              "      gap: 12px;\n",
              "    }\n",
              "\n",
              "    .colab-df-convert {\n",
              "      background-color: #E8F0FE;\n",
              "      border: none;\n",
              "      border-radius: 50%;\n",
              "      cursor: pointer;\n",
              "      display: none;\n",
              "      fill: #1967D2;\n",
              "      height: 32px;\n",
              "      padding: 0 0 0 0;\n",
              "      width: 32px;\n",
              "    }\n",
              "\n",
              "    .colab-df-convert:hover {\n",
              "      background-color: #E2EBFA;\n",
              "      box-shadow: 0px 1px 2px rgba(60, 64, 67, 0.3), 0px 1px 3px 1px rgba(60, 64, 67, 0.15);\n",
              "      fill: #174EA6;\n",
              "    }\n",
              "\n",
              "    [theme=dark] .colab-df-convert {\n",
              "      background-color: #3B4455;\n",
              "      fill: #D2E3FC;\n",
              "    }\n",
              "\n",
              "    [theme=dark] .colab-df-convert:hover {\n",
              "      background-color: #434B5C;\n",
              "      box-shadow: 0px 1px 3px 1px rgba(0, 0, 0, 0.15);\n",
              "      filter: drop-shadow(0px 1px 2px rgba(0, 0, 0, 0.3));\n",
              "      fill: #FFFFFF;\n",
              "    }\n",
              "  </style>\n",
              "\n",
              "      <script>\n",
              "        const buttonEl =\n",
              "          document.querySelector('#df-a4dec5a9-26ff-4bea-afdc-151680bbfb8f button.colab-df-convert');\n",
              "        buttonEl.style.display =\n",
              "          google.colab.kernel.accessAllowed ? 'block' : 'none';\n",
              "\n",
              "        async function convertToInteractive(key) {\n",
              "          const element = document.querySelector('#df-a4dec5a9-26ff-4bea-afdc-151680bbfb8f');\n",
              "          const dataTable =\n",
              "            await google.colab.kernel.invokeFunction('convertToInteractive',\n",
              "                                                     [key], {});\n",
              "          if (!dataTable) return;\n",
              "\n",
              "          const docLinkHtml = 'Like what you see? Visit the ' +\n",
              "            '<a target=\"_blank\" href=https://colab.research.google.com/notebooks/data_table.ipynb>data table notebook</a>'\n",
              "            + ' to learn more about interactive tables.';\n",
              "          element.innerHTML = '';\n",
              "          dataTable['output_type'] = 'display_data';\n",
              "          await google.colab.output.renderOutput(dataTable, element);\n",
              "          const docLink = document.createElement('div');\n",
              "          docLink.innerHTML = docLinkHtml;\n",
              "          element.appendChild(docLink);\n",
              "        }\n",
              "      </script>\n",
              "    </div>\n",
              "  </div>\n",
              "  "
            ],
            "text/plain": [
              "        Postal_Code         Sales     Quantity     Discount       Profit\n",
              "count   9994.000000   9994.000000  9994.000000  9994.000000  9994.000000\n",
              "mean   55190.379428    229.858001     3.789574     0.156203    28.656896\n",
              "std    32063.693350    623.245101     2.225110     0.206452   234.260108\n",
              "min     1040.000000      0.444000     1.000000     0.000000 -6599.978000\n",
              "25%    23223.000000     17.280000     2.000000     0.000000     1.728750\n",
              "50%    56430.500000     54.490000     3.000000     0.200000     8.666500\n",
              "75%    90008.000000    209.940000     5.000000     0.200000    29.364000\n",
              "max    99301.000000  22638.480000    14.000000     0.800000  8399.976000"
            ]
          },
          "execution_count": 18,
          "metadata": {},
          "output_type": "execute_result"
        }
      ],
      "source": [
        "superstore.describe()"
      ]
    },
    {
      "cell_type": "markdown",
      "metadata": {
        "id": "drVfU6FV9a_h"
      },
      "source": [
        "ข้อมูลสรุปทางสติถิคอลัมน์ Sales Quantity Profit Discount "
      ]
    },
    {
      "cell_type": "code",
      "execution_count": 19,
      "metadata": {
        "colab": {
          "base_uri": "https://localhost:8080/",
          "height": 300
        },
        "id": "aCk8j-gc9EEV",
        "outputId": "d2c15e37-9670-4a90-8893-4118940ef64b"
      },
      "outputs": [
        {
          "data": {
            "text/html": [
              "\n",
              "  <div id=\"df-3d0a796d-54cc-4a77-933a-8ea741b08575\">\n",
              "    <div class=\"colab-df-container\">\n",
              "      <div>\n",
              "<style scoped>\n",
              "    .dataframe tbody tr th:only-of-type {\n",
              "        vertical-align: middle;\n",
              "    }\n",
              "\n",
              "    .dataframe tbody tr th {\n",
              "        vertical-align: top;\n",
              "    }\n",
              "\n",
              "    .dataframe thead th {\n",
              "        text-align: right;\n",
              "    }\n",
              "</style>\n",
              "<table border=\"1\" class=\"dataframe\">\n",
              "  <thead>\n",
              "    <tr style=\"text-align: right;\">\n",
              "      <th></th>\n",
              "      <th>Sales</th>\n",
              "      <th>Quantity</th>\n",
              "      <th>Profit</th>\n",
              "      <th>Discount</th>\n",
              "    </tr>\n",
              "  </thead>\n",
              "  <tbody>\n",
              "    <tr>\n",
              "      <th>count</th>\n",
              "      <td>9994.000000</td>\n",
              "      <td>9994.000000</td>\n",
              "      <td>9994.000000</td>\n",
              "      <td>9994.000000</td>\n",
              "    </tr>\n",
              "    <tr>\n",
              "      <th>mean</th>\n",
              "      <td>229.858001</td>\n",
              "      <td>3.789574</td>\n",
              "      <td>28.656896</td>\n",
              "      <td>0.156203</td>\n",
              "    </tr>\n",
              "    <tr>\n",
              "      <th>std</th>\n",
              "      <td>623.245101</td>\n",
              "      <td>2.225110</td>\n",
              "      <td>234.260108</td>\n",
              "      <td>0.206452</td>\n",
              "    </tr>\n",
              "    <tr>\n",
              "      <th>min</th>\n",
              "      <td>0.444000</td>\n",
              "      <td>1.000000</td>\n",
              "      <td>-6599.978000</td>\n",
              "      <td>0.000000</td>\n",
              "    </tr>\n",
              "    <tr>\n",
              "      <th>25%</th>\n",
              "      <td>17.280000</td>\n",
              "      <td>2.000000</td>\n",
              "      <td>1.728750</td>\n",
              "      <td>0.000000</td>\n",
              "    </tr>\n",
              "    <tr>\n",
              "      <th>50%</th>\n",
              "      <td>54.490000</td>\n",
              "      <td>3.000000</td>\n",
              "      <td>8.666500</td>\n",
              "      <td>0.200000</td>\n",
              "    </tr>\n",
              "    <tr>\n",
              "      <th>75%</th>\n",
              "      <td>209.940000</td>\n",
              "      <td>5.000000</td>\n",
              "      <td>29.364000</td>\n",
              "      <td>0.200000</td>\n",
              "    </tr>\n",
              "    <tr>\n",
              "      <th>max</th>\n",
              "      <td>22638.480000</td>\n",
              "      <td>14.000000</td>\n",
              "      <td>8399.976000</td>\n",
              "      <td>0.800000</td>\n",
              "    </tr>\n",
              "  </tbody>\n",
              "</table>\n",
              "</div>\n",
              "      <button class=\"colab-df-convert\" onclick=\"convertToInteractive('df-3d0a796d-54cc-4a77-933a-8ea741b08575')\"\n",
              "              title=\"Convert this dataframe to an interactive table.\"\n",
              "              style=\"display:none;\">\n",
              "        \n",
              "  <svg xmlns=\"http://www.w3.org/2000/svg\" height=\"24px\"viewBox=\"0 0 24 24\"\n",
              "       width=\"24px\">\n",
              "    <path d=\"M0 0h24v24H0V0z\" fill=\"none\"/>\n",
              "    <path d=\"M18.56 5.44l.94 2.06.94-2.06 2.06-.94-2.06-.94-.94-2.06-.94 2.06-2.06.94zm-11 1L8.5 8.5l.94-2.06 2.06-.94-2.06-.94L8.5 2.5l-.94 2.06-2.06.94zm10 10l.94 2.06.94-2.06 2.06-.94-2.06-.94-.94-2.06-.94 2.06-2.06.94z\"/><path d=\"M17.41 7.96l-1.37-1.37c-.4-.4-.92-.59-1.43-.59-.52 0-1.04.2-1.43.59L10.3 9.45l-7.72 7.72c-.78.78-.78 2.05 0 2.83L4 21.41c.39.39.9.59 1.41.59.51 0 1.02-.2 1.41-.59l7.78-7.78 2.81-2.81c.8-.78.8-2.07 0-2.86zM5.41 20L4 18.59l7.72-7.72 1.47 1.35L5.41 20z\"/>\n",
              "  </svg>\n",
              "      </button>\n",
              "      \n",
              "  <style>\n",
              "    .colab-df-container {\n",
              "      display:flex;\n",
              "      flex-wrap:wrap;\n",
              "      gap: 12px;\n",
              "    }\n",
              "\n",
              "    .colab-df-convert {\n",
              "      background-color: #E8F0FE;\n",
              "      border: none;\n",
              "      border-radius: 50%;\n",
              "      cursor: pointer;\n",
              "      display: none;\n",
              "      fill: #1967D2;\n",
              "      height: 32px;\n",
              "      padding: 0 0 0 0;\n",
              "      width: 32px;\n",
              "    }\n",
              "\n",
              "    .colab-df-convert:hover {\n",
              "      background-color: #E2EBFA;\n",
              "      box-shadow: 0px 1px 2px rgba(60, 64, 67, 0.3), 0px 1px 3px 1px rgba(60, 64, 67, 0.15);\n",
              "      fill: #174EA6;\n",
              "    }\n",
              "\n",
              "    [theme=dark] .colab-df-convert {\n",
              "      background-color: #3B4455;\n",
              "      fill: #D2E3FC;\n",
              "    }\n",
              "\n",
              "    [theme=dark] .colab-df-convert:hover {\n",
              "      background-color: #434B5C;\n",
              "      box-shadow: 0px 1px 3px 1px rgba(0, 0, 0, 0.15);\n",
              "      filter: drop-shadow(0px 1px 2px rgba(0, 0, 0, 0.3));\n",
              "      fill: #FFFFFF;\n",
              "    }\n",
              "  </style>\n",
              "\n",
              "      <script>\n",
              "        const buttonEl =\n",
              "          document.querySelector('#df-3d0a796d-54cc-4a77-933a-8ea741b08575 button.colab-df-convert');\n",
              "        buttonEl.style.display =\n",
              "          google.colab.kernel.accessAllowed ? 'block' : 'none';\n",
              "\n",
              "        async function convertToInteractive(key) {\n",
              "          const element = document.querySelector('#df-3d0a796d-54cc-4a77-933a-8ea741b08575');\n",
              "          const dataTable =\n",
              "            await google.colab.kernel.invokeFunction('convertToInteractive',\n",
              "                                                     [key], {});\n",
              "          if (!dataTable) return;\n",
              "\n",
              "          const docLinkHtml = 'Like what you see? Visit the ' +\n",
              "            '<a target=\"_blank\" href=https://colab.research.google.com/notebooks/data_table.ipynb>data table notebook</a>'\n",
              "            + ' to learn more about interactive tables.';\n",
              "          element.innerHTML = '';\n",
              "          dataTable['output_type'] = 'display_data';\n",
              "          await google.colab.output.renderOutput(dataTable, element);\n",
              "          const docLink = document.createElement('div');\n",
              "          docLink.innerHTML = docLinkHtml;\n",
              "          element.appendChild(docLink);\n",
              "        }\n",
              "      </script>\n",
              "    </div>\n",
              "  </div>\n",
              "  "
            ],
            "text/plain": [
              "              Sales     Quantity       Profit     Discount\n",
              "count   9994.000000  9994.000000  9994.000000  9994.000000\n",
              "mean     229.858001     3.789574    28.656896     0.156203\n",
              "std      623.245101     2.225110   234.260108     0.206452\n",
              "min        0.444000     1.000000 -6599.978000     0.000000\n",
              "25%       17.280000     2.000000     1.728750     0.000000\n",
              "50%       54.490000     3.000000     8.666500     0.200000\n",
              "75%      209.940000     5.000000    29.364000     0.200000\n",
              "max    22638.480000    14.000000  8399.976000     0.800000"
            ]
          },
          "execution_count": 19,
          "metadata": {},
          "output_type": "execute_result"
        }
      ],
      "source": [
        "superstore[['Sales', 'Quantity', 'Profit', 'Discount']].describe()"
      ]
    },
    {
      "cell_type": "code",
      "execution_count": 20,
      "metadata": {
        "colab": {
          "base_uri": "https://localhost:8080/",
          "height": 317
        },
        "id": "Y1_8jeJsu82c",
        "outputId": "d45d3dfc-8cfa-43f6-acc5-841c890580bb"
      },
      "outputs": [
        {
          "data": {
            "text/html": [
              "\n",
              "  <div id=\"df-25f7818f-dbd1-404a-8272-9b8d25ec796d\">\n",
              "    <div class=\"colab-df-container\">\n",
              "      <div>\n",
              "<style scoped>\n",
              "    .dataframe tbody tr th:only-of-type {\n",
              "        vertical-align: middle;\n",
              "    }\n",
              "\n",
              "    .dataframe tbody tr th {\n",
              "        vertical-align: top;\n",
              "    }\n",
              "\n",
              "    .dataframe thead tr th {\n",
              "        text-align: left;\n",
              "    }\n",
              "\n",
              "    .dataframe thead tr:last-of-type th {\n",
              "        text-align: right;\n",
              "    }\n",
              "</style>\n",
              "<table border=\"1\" class=\"dataframe\">\n",
              "  <thead>\n",
              "    <tr>\n",
              "      <th></th>\n",
              "      <th colspan=\"8\" halign=\"left\">Postal_Code</th>\n",
              "      <th colspan=\"2\" halign=\"left\">Sales</th>\n",
              "      <th>...</th>\n",
              "      <th colspan=\"2\" halign=\"left\">Discount</th>\n",
              "      <th colspan=\"8\" halign=\"left\">Profit</th>\n",
              "    </tr>\n",
              "    <tr>\n",
              "      <th></th>\n",
              "      <th>count</th>\n",
              "      <th>mean</th>\n",
              "      <th>std</th>\n",
              "      <th>min</th>\n",
              "      <th>25%</th>\n",
              "      <th>50%</th>\n",
              "      <th>75%</th>\n",
              "      <th>max</th>\n",
              "      <th>count</th>\n",
              "      <th>mean</th>\n",
              "      <th>...</th>\n",
              "      <th>75%</th>\n",
              "      <th>max</th>\n",
              "      <th>count</th>\n",
              "      <th>mean</th>\n",
              "      <th>std</th>\n",
              "      <th>min</th>\n",
              "      <th>25%</th>\n",
              "      <th>50%</th>\n",
              "      <th>75%</th>\n",
              "      <th>max</th>\n",
              "    </tr>\n",
              "    <tr>\n",
              "      <th>Category</th>\n",
              "      <th></th>\n",
              "      <th></th>\n",
              "      <th></th>\n",
              "      <th></th>\n",
              "      <th></th>\n",
              "      <th></th>\n",
              "      <th></th>\n",
              "      <th></th>\n",
              "      <th></th>\n",
              "      <th></th>\n",
              "      <th></th>\n",
              "      <th></th>\n",
              "      <th></th>\n",
              "      <th></th>\n",
              "      <th></th>\n",
              "      <th></th>\n",
              "      <th></th>\n",
              "      <th></th>\n",
              "      <th></th>\n",
              "      <th></th>\n",
              "      <th></th>\n",
              "    </tr>\n",
              "  </thead>\n",
              "  <tbody>\n",
              "    <tr>\n",
              "      <th>Furniture</th>\n",
              "      <td>2121.0</td>\n",
              "      <td>55726.556341</td>\n",
              "      <td>32261.888225</td>\n",
              "      <td>1040.0</td>\n",
              "      <td>22801.0</td>\n",
              "      <td>60505.0</td>\n",
              "      <td>90032.0</td>\n",
              "      <td>99301.0</td>\n",
              "      <td>2121.0</td>\n",
              "      <td>349.834887</td>\n",
              "      <td>...</td>\n",
              "      <td>0.3</td>\n",
              "      <td>0.7</td>\n",
              "      <td>2121.0</td>\n",
              "      <td>8.699327</td>\n",
              "      <td>136.049246</td>\n",
              "      <td>-1862.3124</td>\n",
              "      <td>-12.84900</td>\n",
              "      <td>7.7748</td>\n",
              "      <td>33.7266</td>\n",
              "      <td>1013.127</td>\n",
              "    </tr>\n",
              "    <tr>\n",
              "      <th>Office Supplies</th>\n",
              "      <td>6026.0</td>\n",
              "      <td>54890.951211</td>\n",
              "      <td>32046.665773</td>\n",
              "      <td>1453.0</td>\n",
              "      <td>23223.0</td>\n",
              "      <td>55247.0</td>\n",
              "      <td>90004.0</td>\n",
              "      <td>99301.0</td>\n",
              "      <td>6026.0</td>\n",
              "      <td>119.324101</td>\n",
              "      <td>...</td>\n",
              "      <td>0.2</td>\n",
              "      <td>0.8</td>\n",
              "      <td>6026.0</td>\n",
              "      <td>20.327050</td>\n",
              "      <td>164.887280</td>\n",
              "      <td>-3701.8928</td>\n",
              "      <td>2.10150</td>\n",
              "      <td>6.8824</td>\n",
              "      <td>19.4163</td>\n",
              "      <td>4946.370</td>\n",
              "    </tr>\n",
              "    <tr>\n",
              "      <th>Technology</th>\n",
              "      <td>1847.0</td>\n",
              "      <td>55551.572279</td>\n",
              "      <td>31896.118284</td>\n",
              "      <td>1841.0</td>\n",
              "      <td>23392.0</td>\n",
              "      <td>59601.0</td>\n",
              "      <td>90008.0</td>\n",
              "      <td>99207.0</td>\n",
              "      <td>1847.0</td>\n",
              "      <td>452.709276</td>\n",
              "      <td>...</td>\n",
              "      <td>0.2</td>\n",
              "      <td>0.7</td>\n",
              "      <td>1847.0</td>\n",
              "      <td>78.752002</td>\n",
              "      <td>428.816633</td>\n",
              "      <td>-6599.9780</td>\n",
              "      <td>5.20365</td>\n",
              "      <td>25.0182</td>\n",
              "      <td>74.8946</td>\n",
              "      <td>8399.976</td>\n",
              "    </tr>\n",
              "  </tbody>\n",
              "</table>\n",
              "<p>3 rows × 40 columns</p>\n",
              "</div>\n",
              "      <button class=\"colab-df-convert\" onclick=\"convertToInteractive('df-25f7818f-dbd1-404a-8272-9b8d25ec796d')\"\n",
              "              title=\"Convert this dataframe to an interactive table.\"\n",
              "              style=\"display:none;\">\n",
              "        \n",
              "  <svg xmlns=\"http://www.w3.org/2000/svg\" height=\"24px\"viewBox=\"0 0 24 24\"\n",
              "       width=\"24px\">\n",
              "    <path d=\"M0 0h24v24H0V0z\" fill=\"none\"/>\n",
              "    <path d=\"M18.56 5.44l.94 2.06.94-2.06 2.06-.94-2.06-.94-.94-2.06-.94 2.06-2.06.94zm-11 1L8.5 8.5l.94-2.06 2.06-.94-2.06-.94L8.5 2.5l-.94 2.06-2.06.94zm10 10l.94 2.06.94-2.06 2.06-.94-2.06-.94-.94-2.06-.94 2.06-2.06.94z\"/><path d=\"M17.41 7.96l-1.37-1.37c-.4-.4-.92-.59-1.43-.59-.52 0-1.04.2-1.43.59L10.3 9.45l-7.72 7.72c-.78.78-.78 2.05 0 2.83L4 21.41c.39.39.9.59 1.41.59.51 0 1.02-.2 1.41-.59l7.78-7.78 2.81-2.81c.8-.78.8-2.07 0-2.86zM5.41 20L4 18.59l7.72-7.72 1.47 1.35L5.41 20z\"/>\n",
              "  </svg>\n",
              "      </button>\n",
              "      \n",
              "  <style>\n",
              "    .colab-df-container {\n",
              "      display:flex;\n",
              "      flex-wrap:wrap;\n",
              "      gap: 12px;\n",
              "    }\n",
              "\n",
              "    .colab-df-convert {\n",
              "      background-color: #E8F0FE;\n",
              "      border: none;\n",
              "      border-radius: 50%;\n",
              "      cursor: pointer;\n",
              "      display: none;\n",
              "      fill: #1967D2;\n",
              "      height: 32px;\n",
              "      padding: 0 0 0 0;\n",
              "      width: 32px;\n",
              "    }\n",
              "\n",
              "    .colab-df-convert:hover {\n",
              "      background-color: #E2EBFA;\n",
              "      box-shadow: 0px 1px 2px rgba(60, 64, 67, 0.3), 0px 1px 3px 1px rgba(60, 64, 67, 0.15);\n",
              "      fill: #174EA6;\n",
              "    }\n",
              "\n",
              "    [theme=dark] .colab-df-convert {\n",
              "      background-color: #3B4455;\n",
              "      fill: #D2E3FC;\n",
              "    }\n",
              "\n",
              "    [theme=dark] .colab-df-convert:hover {\n",
              "      background-color: #434B5C;\n",
              "      box-shadow: 0px 1px 3px 1px rgba(0, 0, 0, 0.15);\n",
              "      filter: drop-shadow(0px 1px 2px rgba(0, 0, 0, 0.3));\n",
              "      fill: #FFFFFF;\n",
              "    }\n",
              "  </style>\n",
              "\n",
              "      <script>\n",
              "        const buttonEl =\n",
              "          document.querySelector('#df-25f7818f-dbd1-404a-8272-9b8d25ec796d button.colab-df-convert');\n",
              "        buttonEl.style.display =\n",
              "          google.colab.kernel.accessAllowed ? 'block' : 'none';\n",
              "\n",
              "        async function convertToInteractive(key) {\n",
              "          const element = document.querySelector('#df-25f7818f-dbd1-404a-8272-9b8d25ec796d');\n",
              "          const dataTable =\n",
              "            await google.colab.kernel.invokeFunction('convertToInteractive',\n",
              "                                                     [key], {});\n",
              "          if (!dataTable) return;\n",
              "\n",
              "          const docLinkHtml = 'Like what you see? Visit the ' +\n",
              "            '<a target=\"_blank\" href=https://colab.research.google.com/notebooks/data_table.ipynb>data table notebook</a>'\n",
              "            + ' to learn more about interactive tables.';\n",
              "          element.innerHTML = '';\n",
              "          dataTable['output_type'] = 'display_data';\n",
              "          await google.colab.output.renderOutput(dataTable, element);\n",
              "          const docLink = document.createElement('div');\n",
              "          docLink.innerHTML = docLinkHtml;\n",
              "          element.appendChild(docLink);\n",
              "        }\n",
              "      </script>\n",
              "    </div>\n",
              "  </div>\n",
              "  "
            ],
            "text/plain": [
              "                Postal_Code                                               \\\n",
              "                      count          mean           std     min      25%   \n",
              "Category                                                                   \n",
              "Furniture            2121.0  55726.556341  32261.888225  1040.0  22801.0   \n",
              "Office Supplies      6026.0  54890.951211  32046.665773  1453.0  23223.0   \n",
              "Technology           1847.0  55551.572279  31896.118284  1841.0  23392.0   \n",
              "\n",
              "                                             Sales              ... Discount  \\\n",
              "                     50%      75%      max   count        mean  ...      75%   \n",
              "Category                                                        ...            \n",
              "Furniture        60505.0  90032.0  99301.0  2121.0  349.834887  ...      0.3   \n",
              "Office Supplies  55247.0  90004.0  99301.0  6026.0  119.324101  ...      0.2   \n",
              "Technology       59601.0  90008.0  99207.0  1847.0  452.709276  ...      0.2   \n",
              "\n",
              "                      Profit                                              \\\n",
              "                 max   count       mean         std        min       25%   \n",
              "Category                                                                   \n",
              "Furniture        0.7  2121.0   8.699327  136.049246 -1862.3124 -12.84900   \n",
              "Office Supplies  0.8  6026.0  20.327050  164.887280 -3701.8928   2.10150   \n",
              "Technology       0.7  1847.0  78.752002  428.816633 -6599.9780   5.20365   \n",
              "\n",
              "                                             \n",
              "                     50%      75%       max  \n",
              "Category                                     \n",
              "Furniture         7.7748  33.7266  1013.127  \n",
              "Office Supplies   6.8824  19.4163  4946.370  \n",
              "Technology       25.0182  74.8946  8399.976  \n",
              "\n",
              "[3 rows x 40 columns]"
            ]
          },
          "execution_count": 20,
          "metadata": {},
          "output_type": "execute_result"
        }
      ],
      "source": [
        "category_des = superstore.groupby(['Category'])\n",
        "category_des.describe()"
      ]
    },
    {
      "cell_type": "markdown",
      "metadata": {
        "id": "tNaOX-TX_mNW"
      },
      "source": [
        "นับจำนวน Category มีกี่ประเภทด้วยคำสั่ง groupby(), value_counts()"
      ]
    },
    {
      "cell_type": "code",
      "execution_count": 21,
      "metadata": {
        "colab": {
          "base_uri": "https://localhost:8080/"
        },
        "id": "4uHmgWEvzZl-",
        "outputId": "2be18daa-d399-4085-e68b-1e742575a971"
      },
      "outputs": [
        {
          "data": {
            "text/plain": [
              "Category\n",
              "Furniture          2121\n",
              "Office Supplies    6026\n",
              "Technology         1847\n",
              "Name: Category, dtype: int64"
            ]
          },
          "execution_count": 21,
          "metadata": {},
          "output_type": "execute_result"
        }
      ],
      "source": [
        "superstore.groupby(['Category'])['Category'].count()"
      ]
    },
    {
      "cell_type": "code",
      "execution_count": 22,
      "metadata": {
        "colab": {
          "base_uri": "https://localhost:8080/"
        },
        "id": "nTOYAxOFAmYp",
        "outputId": "d7bd0196-574b-4af8-ae26-ec9e08e1ec01"
      },
      "outputs": [
        {
          "data": {
            "text/plain": [
              "Sub_Category\n",
              "Accessories     775\n",
              "Appliances      466\n",
              "Art             796\n",
              "Binders        1523\n",
              "Bookcases       228\n",
              "Chairs          617\n",
              "Copiers          68\n",
              "Envelopes       254\n",
              "Fasteners       217\n",
              "Furnishings     957\n",
              "Labels          364\n",
              "Machines        115\n",
              "Paper          1370\n",
              "Phones          889\n",
              "Storage         846\n",
              "Supplies        190\n",
              "Tables          319\n",
              "Name: Sub_Category, dtype: int64"
            ]
          },
          "execution_count": 22,
          "metadata": {},
          "output_type": "execute_result"
        }
      ],
      "source": [
        "superstore.groupby(['Sub_Category'])['Sub_Category'].count()"
      ]
    },
    {
      "cell_type": "code",
      "execution_count": 23,
      "metadata": {
        "colab": {
          "base_uri": "https://localhost:8080/",
          "height": 424
        },
        "id": "Hx5mCrfL0sjB",
        "outputId": "f876cdfa-4393-4ddd-c41d-6c0c9598b1dd"
      },
      "outputs": [
        {
          "data": {
            "text/html": [
              "\n",
              "  <div id=\"df-006af585-239a-47a4-9cef-aafea9192a08\">\n",
              "    <div class=\"colab-df-container\">\n",
              "      <div>\n",
              "<style scoped>\n",
              "    .dataframe tbody tr th:only-of-type {\n",
              "        vertical-align: middle;\n",
              "    }\n",
              "\n",
              "    .dataframe tbody tr th {\n",
              "        vertical-align: top;\n",
              "    }\n",
              "\n",
              "    .dataframe thead th {\n",
              "        text-align: right;\n",
              "    }\n",
              "</style>\n",
              "<table border=\"1\" class=\"dataframe\">\n",
              "  <thead>\n",
              "    <tr style=\"text-align: right;\">\n",
              "      <th></th>\n",
              "      <th>City</th>\n",
              "    </tr>\n",
              "  </thead>\n",
              "  <tbody>\n",
              "    <tr>\n",
              "      <th>New York City</th>\n",
              "      <td>915</td>\n",
              "    </tr>\n",
              "    <tr>\n",
              "      <th>Los Angeles</th>\n",
              "      <td>747</td>\n",
              "    </tr>\n",
              "    <tr>\n",
              "      <th>Philadelphia</th>\n",
              "      <td>537</td>\n",
              "    </tr>\n",
              "    <tr>\n",
              "      <th>San Francisco</th>\n",
              "      <td>510</td>\n",
              "    </tr>\n",
              "    <tr>\n",
              "      <th>Seattle</th>\n",
              "      <td>428</td>\n",
              "    </tr>\n",
              "    <tr>\n",
              "      <th>...</th>\n",
              "      <td>...</td>\n",
              "    </tr>\n",
              "    <tr>\n",
              "      <th>Glenview</th>\n",
              "      <td>1</td>\n",
              "    </tr>\n",
              "    <tr>\n",
              "      <th>Missouri City</th>\n",
              "      <td>1</td>\n",
              "    </tr>\n",
              "    <tr>\n",
              "      <th>Rochester Hills</th>\n",
              "      <td>1</td>\n",
              "    </tr>\n",
              "    <tr>\n",
              "      <th>Palatine</th>\n",
              "      <td>1</td>\n",
              "    </tr>\n",
              "    <tr>\n",
              "      <th>Manhattan</th>\n",
              "      <td>1</td>\n",
              "    </tr>\n",
              "  </tbody>\n",
              "</table>\n",
              "<p>531 rows × 1 columns</p>\n",
              "</div>\n",
              "      <button class=\"colab-df-convert\" onclick=\"convertToInteractive('df-006af585-239a-47a4-9cef-aafea9192a08')\"\n",
              "              title=\"Convert this dataframe to an interactive table.\"\n",
              "              style=\"display:none;\">\n",
              "        \n",
              "  <svg xmlns=\"http://www.w3.org/2000/svg\" height=\"24px\"viewBox=\"0 0 24 24\"\n",
              "       width=\"24px\">\n",
              "    <path d=\"M0 0h24v24H0V0z\" fill=\"none\"/>\n",
              "    <path d=\"M18.56 5.44l.94 2.06.94-2.06 2.06-.94-2.06-.94-.94-2.06-.94 2.06-2.06.94zm-11 1L8.5 8.5l.94-2.06 2.06-.94-2.06-.94L8.5 2.5l-.94 2.06-2.06.94zm10 10l.94 2.06.94-2.06 2.06-.94-2.06-.94-.94-2.06-.94 2.06-2.06.94z\"/><path d=\"M17.41 7.96l-1.37-1.37c-.4-.4-.92-.59-1.43-.59-.52 0-1.04.2-1.43.59L10.3 9.45l-7.72 7.72c-.78.78-.78 2.05 0 2.83L4 21.41c.39.39.9.59 1.41.59.51 0 1.02-.2 1.41-.59l7.78-7.78 2.81-2.81c.8-.78.8-2.07 0-2.86zM5.41 20L4 18.59l7.72-7.72 1.47 1.35L5.41 20z\"/>\n",
              "  </svg>\n",
              "      </button>\n",
              "      \n",
              "  <style>\n",
              "    .colab-df-container {\n",
              "      display:flex;\n",
              "      flex-wrap:wrap;\n",
              "      gap: 12px;\n",
              "    }\n",
              "\n",
              "    .colab-df-convert {\n",
              "      background-color: #E8F0FE;\n",
              "      border: none;\n",
              "      border-radius: 50%;\n",
              "      cursor: pointer;\n",
              "      display: none;\n",
              "      fill: #1967D2;\n",
              "      height: 32px;\n",
              "      padding: 0 0 0 0;\n",
              "      width: 32px;\n",
              "    }\n",
              "\n",
              "    .colab-df-convert:hover {\n",
              "      background-color: #E2EBFA;\n",
              "      box-shadow: 0px 1px 2px rgba(60, 64, 67, 0.3), 0px 1px 3px 1px rgba(60, 64, 67, 0.15);\n",
              "      fill: #174EA6;\n",
              "    }\n",
              "\n",
              "    [theme=dark] .colab-df-convert {\n",
              "      background-color: #3B4455;\n",
              "      fill: #D2E3FC;\n",
              "    }\n",
              "\n",
              "    [theme=dark] .colab-df-convert:hover {\n",
              "      background-color: #434B5C;\n",
              "      box-shadow: 0px 1px 3px 1px rgba(0, 0, 0, 0.15);\n",
              "      filter: drop-shadow(0px 1px 2px rgba(0, 0, 0, 0.3));\n",
              "      fill: #FFFFFF;\n",
              "    }\n",
              "  </style>\n",
              "\n",
              "      <script>\n",
              "        const buttonEl =\n",
              "          document.querySelector('#df-006af585-239a-47a4-9cef-aafea9192a08 button.colab-df-convert');\n",
              "        buttonEl.style.display =\n",
              "          google.colab.kernel.accessAllowed ? 'block' : 'none';\n",
              "\n",
              "        async function convertToInteractive(key) {\n",
              "          const element = document.querySelector('#df-006af585-239a-47a4-9cef-aafea9192a08');\n",
              "          const dataTable =\n",
              "            await google.colab.kernel.invokeFunction('convertToInteractive',\n",
              "                                                     [key], {});\n",
              "          if (!dataTable) return;\n",
              "\n",
              "          const docLinkHtml = 'Like what you see? Visit the ' +\n",
              "            '<a target=\"_blank\" href=https://colab.research.google.com/notebooks/data_table.ipynb>data table notebook</a>'\n",
              "            + ' to learn more about interactive tables.';\n",
              "          element.innerHTML = '';\n",
              "          dataTable['output_type'] = 'display_data';\n",
              "          await google.colab.output.renderOutput(dataTable, element);\n",
              "          const docLink = document.createElement('div');\n",
              "          docLink.innerHTML = docLinkHtml;\n",
              "          element.appendChild(docLink);\n",
              "        }\n",
              "      </script>\n",
              "    </div>\n",
              "  </div>\n",
              "  "
            ],
            "text/plain": [
              "                 City\n",
              "New York City     915\n",
              "Los Angeles       747\n",
              "Philadelphia      537\n",
              "San Francisco     510\n",
              "Seattle           428\n",
              "...               ...\n",
              "Glenview            1\n",
              "Missouri City       1\n",
              "Rochester Hills     1\n",
              "Palatine            1\n",
              "Manhattan           1\n",
              "\n",
              "[531 rows x 1 columns]"
            ]
          },
          "execution_count": 23,
          "metadata": {},
          "output_type": "execute_result"
        }
      ],
      "source": [
        "# นับจำนวน City มีกี่ประเทศ \n",
        "superstore['City'].value_counts(ascending=False).to_frame()"
      ]
    },
    {
      "cell_type": "markdown",
      "metadata": {
        "id": "F-QX1RWH_23W"
      },
      "source": [
        "เรียงคอลัมน์ที่เลือกจากมากไปน้อย"
      ]
    },
    {
      "cell_type": "code",
      "execution_count": 24,
      "metadata": {
        "colab": {
          "base_uri": "https://localhost:8080/",
          "height": 579
        },
        "id": "y0ecbVhUAALO",
        "outputId": "6a03a84a-b720-456e-eff3-3fd2fccdb8a1"
      },
      "outputs": [
        {
          "data": {
            "text/html": [
              "\n",
              "  <div id=\"df-833f5354-7350-4a3f-8e51-f1f08120446c\">\n",
              "    <div class=\"colab-df-container\">\n",
              "      <div>\n",
              "<style scoped>\n",
              "    .dataframe tbody tr th:only-of-type {\n",
              "        vertical-align: middle;\n",
              "    }\n",
              "\n",
              "    .dataframe tbody tr th {\n",
              "        vertical-align: top;\n",
              "    }\n",
              "\n",
              "    .dataframe thead th {\n",
              "        text-align: right;\n",
              "    }\n",
              "</style>\n",
              "<table border=\"1\" class=\"dataframe\">\n",
              "  <thead>\n",
              "    <tr style=\"text-align: right;\">\n",
              "      <th></th>\n",
              "      <th>Order_ID</th>\n",
              "      <th>Order_Date</th>\n",
              "      <th>Ship_Date</th>\n",
              "      <th>Ship_Mode</th>\n",
              "      <th>Customer_ID</th>\n",
              "      <th>Customer_Name</th>\n",
              "      <th>Segment</th>\n",
              "      <th>Country</th>\n",
              "      <th>City</th>\n",
              "      <th>State</th>\n",
              "      <th>Postal_Code</th>\n",
              "      <th>Region</th>\n",
              "      <th>Product_ID</th>\n",
              "      <th>Category</th>\n",
              "      <th>Sub_Category</th>\n",
              "      <th>Product_Name</th>\n",
              "      <th>Sales</th>\n",
              "      <th>Quantity</th>\n",
              "      <th>Discount</th>\n",
              "      <th>Profit</th>\n",
              "    </tr>\n",
              "    <tr>\n",
              "      <th>Row ID</th>\n",
              "      <th></th>\n",
              "      <th></th>\n",
              "      <th></th>\n",
              "      <th></th>\n",
              "      <th></th>\n",
              "      <th></th>\n",
              "      <th></th>\n",
              "      <th></th>\n",
              "      <th></th>\n",
              "      <th></th>\n",
              "      <th></th>\n",
              "      <th></th>\n",
              "      <th></th>\n",
              "      <th></th>\n",
              "      <th></th>\n",
              "      <th></th>\n",
              "      <th></th>\n",
              "      <th></th>\n",
              "      <th></th>\n",
              "      <th></th>\n",
              "    </tr>\n",
              "  </thead>\n",
              "  <tbody>\n",
              "    <tr>\n",
              "      <th>2698</th>\n",
              "      <td>CA-2014-145317</td>\n",
              "      <td>2014-03-18</td>\n",
              "      <td>2014-03-23</td>\n",
              "      <td>Standard Class</td>\n",
              "      <td>SM-20320</td>\n",
              "      <td>Sean Miller</td>\n",
              "      <td>Home Office</td>\n",
              "      <td>United States</td>\n",
              "      <td>Jacksonville</td>\n",
              "      <td>Florida</td>\n",
              "      <td>32216</td>\n",
              "      <td>South</td>\n",
              "      <td>TEC-MA-10002412</td>\n",
              "      <td>Technology</td>\n",
              "      <td>Machines</td>\n",
              "      <td>Cisco TelePresence System EX90 Videoconferenci...</td>\n",
              "      <td>22638.480</td>\n",
              "      <td>6</td>\n",
              "      <td>0.5</td>\n",
              "      <td>-1811.0784</td>\n",
              "    </tr>\n",
              "    <tr>\n",
              "      <th>6827</th>\n",
              "      <td>CA-2016-118689</td>\n",
              "      <td>2016-10-02</td>\n",
              "      <td>2016-10-09</td>\n",
              "      <td>Standard Class</td>\n",
              "      <td>TC-20980</td>\n",
              "      <td>Tamara Chand</td>\n",
              "      <td>Corporate</td>\n",
              "      <td>United States</td>\n",
              "      <td>Lafayette</td>\n",
              "      <td>Indiana</td>\n",
              "      <td>47905</td>\n",
              "      <td>Central</td>\n",
              "      <td>TEC-CO-10004722</td>\n",
              "      <td>Technology</td>\n",
              "      <td>Copiers</td>\n",
              "      <td>Canon imageCLASS 2200 Advanced Copier</td>\n",
              "      <td>17499.950</td>\n",
              "      <td>5</td>\n",
              "      <td>0.0</td>\n",
              "      <td>8399.9760</td>\n",
              "    </tr>\n",
              "    <tr>\n",
              "      <th>8154</th>\n",
              "      <td>CA-2017-140151</td>\n",
              "      <td>2017-03-23</td>\n",
              "      <td>2017-03-25</td>\n",
              "      <td>First Class</td>\n",
              "      <td>RB-19360</td>\n",
              "      <td>Raymond Buch</td>\n",
              "      <td>Consumer</td>\n",
              "      <td>United States</td>\n",
              "      <td>Seattle</td>\n",
              "      <td>Washington</td>\n",
              "      <td>98115</td>\n",
              "      <td>West</td>\n",
              "      <td>TEC-CO-10004722</td>\n",
              "      <td>Technology</td>\n",
              "      <td>Copiers</td>\n",
              "      <td>Canon imageCLASS 2200 Advanced Copier</td>\n",
              "      <td>13999.960</td>\n",
              "      <td>4</td>\n",
              "      <td>0.0</td>\n",
              "      <td>6719.9808</td>\n",
              "    </tr>\n",
              "    <tr>\n",
              "      <th>2624</th>\n",
              "      <td>CA-2017-127180</td>\n",
              "      <td>2017-10-22</td>\n",
              "      <td>2017-10-24</td>\n",
              "      <td>First Class</td>\n",
              "      <td>TA-21385</td>\n",
              "      <td>Tom Ashbrook</td>\n",
              "      <td>Home Office</td>\n",
              "      <td>United States</td>\n",
              "      <td>New York City</td>\n",
              "      <td>New York</td>\n",
              "      <td>10024</td>\n",
              "      <td>East</td>\n",
              "      <td>TEC-CO-10004722</td>\n",
              "      <td>Technology</td>\n",
              "      <td>Copiers</td>\n",
              "      <td>Canon imageCLASS 2200 Advanced Copier</td>\n",
              "      <td>11199.968</td>\n",
              "      <td>4</td>\n",
              "      <td>0.2</td>\n",
              "      <td>3919.9888</td>\n",
              "    </tr>\n",
              "    <tr>\n",
              "      <th>4191</th>\n",
              "      <td>CA-2017-166709</td>\n",
              "      <td>2017-11-17</td>\n",
              "      <td>2017-11-22</td>\n",
              "      <td>Standard Class</td>\n",
              "      <td>HL-15040</td>\n",
              "      <td>Hunter Lopez</td>\n",
              "      <td>Consumer</td>\n",
              "      <td>United States</td>\n",
              "      <td>Newark</td>\n",
              "      <td>Delaware</td>\n",
              "      <td>19711</td>\n",
              "      <td>East</td>\n",
              "      <td>TEC-CO-10004722</td>\n",
              "      <td>Technology</td>\n",
              "      <td>Copiers</td>\n",
              "      <td>Canon imageCLASS 2200 Advanced Copier</td>\n",
              "      <td>10499.970</td>\n",
              "      <td>3</td>\n",
              "      <td>0.0</td>\n",
              "      <td>5039.9856</td>\n",
              "    </tr>\n",
              "  </tbody>\n",
              "</table>\n",
              "</div>\n",
              "      <button class=\"colab-df-convert\" onclick=\"convertToInteractive('df-833f5354-7350-4a3f-8e51-f1f08120446c')\"\n",
              "              title=\"Convert this dataframe to an interactive table.\"\n",
              "              style=\"display:none;\">\n",
              "        \n",
              "  <svg xmlns=\"http://www.w3.org/2000/svg\" height=\"24px\"viewBox=\"0 0 24 24\"\n",
              "       width=\"24px\">\n",
              "    <path d=\"M0 0h24v24H0V0z\" fill=\"none\"/>\n",
              "    <path d=\"M18.56 5.44l.94 2.06.94-2.06 2.06-.94-2.06-.94-.94-2.06-.94 2.06-2.06.94zm-11 1L8.5 8.5l.94-2.06 2.06-.94-2.06-.94L8.5 2.5l-.94 2.06-2.06.94zm10 10l.94 2.06.94-2.06 2.06-.94-2.06-.94-.94-2.06-.94 2.06-2.06.94z\"/><path d=\"M17.41 7.96l-1.37-1.37c-.4-.4-.92-.59-1.43-.59-.52 0-1.04.2-1.43.59L10.3 9.45l-7.72 7.72c-.78.78-.78 2.05 0 2.83L4 21.41c.39.39.9.59 1.41.59.51 0 1.02-.2 1.41-.59l7.78-7.78 2.81-2.81c.8-.78.8-2.07 0-2.86zM5.41 20L4 18.59l7.72-7.72 1.47 1.35L5.41 20z\"/>\n",
              "  </svg>\n",
              "      </button>\n",
              "      \n",
              "  <style>\n",
              "    .colab-df-container {\n",
              "      display:flex;\n",
              "      flex-wrap:wrap;\n",
              "      gap: 12px;\n",
              "    }\n",
              "\n",
              "    .colab-df-convert {\n",
              "      background-color: #E8F0FE;\n",
              "      border: none;\n",
              "      border-radius: 50%;\n",
              "      cursor: pointer;\n",
              "      display: none;\n",
              "      fill: #1967D2;\n",
              "      height: 32px;\n",
              "      padding: 0 0 0 0;\n",
              "      width: 32px;\n",
              "    }\n",
              "\n",
              "    .colab-df-convert:hover {\n",
              "      background-color: #E2EBFA;\n",
              "      box-shadow: 0px 1px 2px rgba(60, 64, 67, 0.3), 0px 1px 3px 1px rgba(60, 64, 67, 0.15);\n",
              "      fill: #174EA6;\n",
              "    }\n",
              "\n",
              "    [theme=dark] .colab-df-convert {\n",
              "      background-color: #3B4455;\n",
              "      fill: #D2E3FC;\n",
              "    }\n",
              "\n",
              "    [theme=dark] .colab-df-convert:hover {\n",
              "      background-color: #434B5C;\n",
              "      box-shadow: 0px 1px 3px 1px rgba(0, 0, 0, 0.15);\n",
              "      filter: drop-shadow(0px 1px 2px rgba(0, 0, 0, 0.3));\n",
              "      fill: #FFFFFF;\n",
              "    }\n",
              "  </style>\n",
              "\n",
              "      <script>\n",
              "        const buttonEl =\n",
              "          document.querySelector('#df-833f5354-7350-4a3f-8e51-f1f08120446c button.colab-df-convert');\n",
              "        buttonEl.style.display =\n",
              "          google.colab.kernel.accessAllowed ? 'block' : 'none';\n",
              "\n",
              "        async function convertToInteractive(key) {\n",
              "          const element = document.querySelector('#df-833f5354-7350-4a3f-8e51-f1f08120446c');\n",
              "          const dataTable =\n",
              "            await google.colab.kernel.invokeFunction('convertToInteractive',\n",
              "                                                     [key], {});\n",
              "          if (!dataTable) return;\n",
              "\n",
              "          const docLinkHtml = 'Like what you see? Visit the ' +\n",
              "            '<a target=\"_blank\" href=https://colab.research.google.com/notebooks/data_table.ipynb>data table notebook</a>'\n",
              "            + ' to learn more about interactive tables.';\n",
              "          element.innerHTML = '';\n",
              "          dataTable['output_type'] = 'display_data';\n",
              "          await google.colab.output.renderOutput(dataTable, element);\n",
              "          const docLink = document.createElement('div');\n",
              "          docLink.innerHTML = docLinkHtml;\n",
              "          element.appendChild(docLink);\n",
              "        }\n",
              "      </script>\n",
              "    </div>\n",
              "  </div>\n",
              "  "
            ],
            "text/plain": [
              "              Order_ID Order_Date  Ship_Date       Ship_Mode Customer_ID  \\\n",
              "Row ID                                                                     \n",
              "2698    CA-2014-145317 2014-03-18 2014-03-23  Standard Class    SM-20320   \n",
              "6827    CA-2016-118689 2016-10-02 2016-10-09  Standard Class    TC-20980   \n",
              "8154    CA-2017-140151 2017-03-23 2017-03-25     First Class    RB-19360   \n",
              "2624    CA-2017-127180 2017-10-22 2017-10-24     First Class    TA-21385   \n",
              "4191    CA-2017-166709 2017-11-17 2017-11-22  Standard Class    HL-15040   \n",
              "\n",
              "       Customer_Name      Segment        Country           City       State  \\\n",
              "Row ID                                                                        \n",
              "2698     Sean Miller  Home Office  United States   Jacksonville     Florida   \n",
              "6827    Tamara Chand    Corporate  United States      Lafayette     Indiana   \n",
              "8154    Raymond Buch     Consumer  United States        Seattle  Washington   \n",
              "2624    Tom Ashbrook  Home Office  United States  New York City    New York   \n",
              "4191    Hunter Lopez     Consumer  United States         Newark    Delaware   \n",
              "\n",
              "        Postal_Code   Region       Product_ID    Category Sub_Category  \\\n",
              "Row ID                                                                   \n",
              "2698          32216    South  TEC-MA-10002412  Technology     Machines   \n",
              "6827          47905  Central  TEC-CO-10004722  Technology      Copiers   \n",
              "8154          98115     West  TEC-CO-10004722  Technology      Copiers   \n",
              "2624          10024     East  TEC-CO-10004722  Technology      Copiers   \n",
              "4191          19711     East  TEC-CO-10004722  Technology      Copiers   \n",
              "\n",
              "                                             Product_Name      Sales  \\\n",
              "Row ID                                                                 \n",
              "2698    Cisco TelePresence System EX90 Videoconferenci...  22638.480   \n",
              "6827                Canon imageCLASS 2200 Advanced Copier  17499.950   \n",
              "8154                Canon imageCLASS 2200 Advanced Copier  13999.960   \n",
              "2624                Canon imageCLASS 2200 Advanced Copier  11199.968   \n",
              "4191                Canon imageCLASS 2200 Advanced Copier  10499.970   \n",
              "\n",
              "        Quantity  Discount     Profit  \n",
              "Row ID                                 \n",
              "2698           6       0.5 -1811.0784  \n",
              "6827           5       0.0  8399.9760  \n",
              "8154           4       0.0  6719.9808  \n",
              "2624           4       0.2  3919.9888  \n",
              "4191           3       0.0  5039.9856  "
            ]
          },
          "execution_count": 24,
          "metadata": {},
          "output_type": "execute_result"
        }
      ],
      "source": [
        "superstore.sort_values(by='Sales', ascending=False).nlargest(5, 'Sales')"
      ]
    },
    {
      "cell_type": "markdown",
      "metadata": {
        "id": "ynth3Drz1ou3"
      },
      "source": [
        "หาปีในคอลัมน์ Order Date มีปีอะไรบ้าง"
      ]
    },
    {
      "cell_type": "code",
      "execution_count": 25,
      "metadata": {
        "colab": {
          "base_uri": "https://localhost:8080/",
          "height": 206
        },
        "id": "HV0xjjkq1-19",
        "outputId": "ea72f24e-f33e-4830-cef2-3227bd0a4006"
      },
      "outputs": [
        {
          "data": {
            "text/html": [
              "\n",
              "  <div id=\"df-ef82c36b-c888-456e-85ff-200bac3b8b67\">\n",
              "    <div class=\"colab-df-container\">\n",
              "      <div>\n",
              "<style scoped>\n",
              "    .dataframe tbody tr th:only-of-type {\n",
              "        vertical-align: middle;\n",
              "    }\n",
              "\n",
              "    .dataframe tbody tr th {\n",
              "        vertical-align: top;\n",
              "    }\n",
              "\n",
              "    .dataframe thead th {\n",
              "        text-align: right;\n",
              "    }\n",
              "</style>\n",
              "<table border=\"1\" class=\"dataframe\">\n",
              "  <thead>\n",
              "    <tr style=\"text-align: right;\">\n",
              "      <th></th>\n",
              "      <th>Order_Date</th>\n",
              "    </tr>\n",
              "    <tr>\n",
              "      <th>Order_Date</th>\n",
              "      <th></th>\n",
              "    </tr>\n",
              "  </thead>\n",
              "  <tbody>\n",
              "    <tr>\n",
              "      <th>2014</th>\n",
              "      <td>1993</td>\n",
              "    </tr>\n",
              "    <tr>\n",
              "      <th>2015</th>\n",
              "      <td>2102</td>\n",
              "    </tr>\n",
              "    <tr>\n",
              "      <th>2016</th>\n",
              "      <td>2587</td>\n",
              "    </tr>\n",
              "    <tr>\n",
              "      <th>2017</th>\n",
              "      <td>3312</td>\n",
              "    </tr>\n",
              "  </tbody>\n",
              "</table>\n",
              "</div>\n",
              "      <button class=\"colab-df-convert\" onclick=\"convertToInteractive('df-ef82c36b-c888-456e-85ff-200bac3b8b67')\"\n",
              "              title=\"Convert this dataframe to an interactive table.\"\n",
              "              style=\"display:none;\">\n",
              "        \n",
              "  <svg xmlns=\"http://www.w3.org/2000/svg\" height=\"24px\"viewBox=\"0 0 24 24\"\n",
              "       width=\"24px\">\n",
              "    <path d=\"M0 0h24v24H0V0z\" fill=\"none\"/>\n",
              "    <path d=\"M18.56 5.44l.94 2.06.94-2.06 2.06-.94-2.06-.94-.94-2.06-.94 2.06-2.06.94zm-11 1L8.5 8.5l.94-2.06 2.06-.94-2.06-.94L8.5 2.5l-.94 2.06-2.06.94zm10 10l.94 2.06.94-2.06 2.06-.94-2.06-.94-.94-2.06-.94 2.06-2.06.94z\"/><path d=\"M17.41 7.96l-1.37-1.37c-.4-.4-.92-.59-1.43-.59-.52 0-1.04.2-1.43.59L10.3 9.45l-7.72 7.72c-.78.78-.78 2.05 0 2.83L4 21.41c.39.39.9.59 1.41.59.51 0 1.02-.2 1.41-.59l7.78-7.78 2.81-2.81c.8-.78.8-2.07 0-2.86zM5.41 20L4 18.59l7.72-7.72 1.47 1.35L5.41 20z\"/>\n",
              "  </svg>\n",
              "      </button>\n",
              "      \n",
              "  <style>\n",
              "    .colab-df-container {\n",
              "      display:flex;\n",
              "      flex-wrap:wrap;\n",
              "      gap: 12px;\n",
              "    }\n",
              "\n",
              "    .colab-df-convert {\n",
              "      background-color: #E8F0FE;\n",
              "      border: none;\n",
              "      border-radius: 50%;\n",
              "      cursor: pointer;\n",
              "      display: none;\n",
              "      fill: #1967D2;\n",
              "      height: 32px;\n",
              "      padding: 0 0 0 0;\n",
              "      width: 32px;\n",
              "    }\n",
              "\n",
              "    .colab-df-convert:hover {\n",
              "      background-color: #E2EBFA;\n",
              "      box-shadow: 0px 1px 2px rgba(60, 64, 67, 0.3), 0px 1px 3px 1px rgba(60, 64, 67, 0.15);\n",
              "      fill: #174EA6;\n",
              "    }\n",
              "\n",
              "    [theme=dark] .colab-df-convert {\n",
              "      background-color: #3B4455;\n",
              "      fill: #D2E3FC;\n",
              "    }\n",
              "\n",
              "    [theme=dark] .colab-df-convert:hover {\n",
              "      background-color: #434B5C;\n",
              "      box-shadow: 0px 1px 3px 1px rgba(0, 0, 0, 0.15);\n",
              "      filter: drop-shadow(0px 1px 2px rgba(0, 0, 0, 0.3));\n",
              "      fill: #FFFFFF;\n",
              "    }\n",
              "  </style>\n",
              "\n",
              "      <script>\n",
              "        const buttonEl =\n",
              "          document.querySelector('#df-ef82c36b-c888-456e-85ff-200bac3b8b67 button.colab-df-convert');\n",
              "        buttonEl.style.display =\n",
              "          google.colab.kernel.accessAllowed ? 'block' : 'none';\n",
              "\n",
              "        async function convertToInteractive(key) {\n",
              "          const element = document.querySelector('#df-ef82c36b-c888-456e-85ff-200bac3b8b67');\n",
              "          const dataTable =\n",
              "            await google.colab.kernel.invokeFunction('convertToInteractive',\n",
              "                                                     [key], {});\n",
              "          if (!dataTable) return;\n",
              "\n",
              "          const docLinkHtml = 'Like what you see? Visit the ' +\n",
              "            '<a target=\"_blank\" href=https://colab.research.google.com/notebooks/data_table.ipynb>data table notebook</a>'\n",
              "            + ' to learn more about interactive tables.';\n",
              "          element.innerHTML = '';\n",
              "          dataTable['output_type'] = 'display_data';\n",
              "          await google.colab.output.renderOutput(dataTable, element);\n",
              "          const docLink = document.createElement('div');\n",
              "          docLink.innerHTML = docLinkHtml;\n",
              "          element.appendChild(docLink);\n",
              "        }\n",
              "      </script>\n",
              "    </div>\n",
              "  </div>\n",
              "  "
            ],
            "text/plain": [
              "            Order_Date\n",
              "Order_Date            \n",
              "2014              1993\n",
              "2015              2102\n",
              "2016              2587\n",
              "2017              3312"
            ]
          },
          "execution_count": 25,
          "metadata": {},
          "output_type": "execute_result"
        }
      ],
      "source": [
        "superstore[['Order_Date']].groupby(superstore.Order_Date.dt.year).agg('count')"
      ]
    },
    {
      "cell_type": "markdown",
      "metadata": {
        "id": "-UjV0ISTAxjD"
      },
      "source": [
        "หายอดขายทั้งหมดแบ่งแต่ละ Sub Category"
      ]
    },
    {
      "cell_type": "code",
      "execution_count": 26,
      "metadata": {
        "colab": {
          "base_uri": "https://localhost:8080/"
        },
        "id": "CF_HNcPAAxJC",
        "outputId": "8eb5ba07-c753-42c7-8a10-3a639195f363"
      },
      "outputs": [
        {
          "data": {
            "text/plain": [
              "Sub_Category\n",
              "Accessories    167380.3180\n",
              "Appliances     107532.1610\n",
              "Art             27118.7920\n",
              "Binders        203412.7330\n",
              "Bookcases      114879.9963\n",
              "Chairs         328449.1030\n",
              "Copiers        149528.0300\n",
              "Envelopes       16476.4020\n",
              "Fasteners        3024.2800\n",
              "Furnishings     91705.1640\n",
              "Labels          12486.3120\n",
              "Machines       189238.6310\n",
              "Paper           78479.2060\n",
              "Phones         330007.0540\n",
              "Storage        223843.6080\n",
              "Supplies        46673.5380\n",
              "Tables         206965.5320\n",
              "Name: Sales, dtype: float64"
            ]
          },
          "execution_count": 26,
          "metadata": {},
          "output_type": "execute_result"
        }
      ],
      "source": [
        "superstore.groupby('Sub_Category').sum()['Sales']"
      ]
    },
    {
      "cell_type": "code",
      "execution_count": 27,
      "metadata": {
        "colab": {
          "base_uri": "https://localhost:8080/"
        },
        "id": "LxlyNRcz2-7c",
        "outputId": "eda7b8d1-4fe8-435e-cacf-e018c7309ceb"
      },
      "outputs": [
        {
          "data": {
            "text/plain": [
              "Binders        1523\n",
              "Paper          1370\n",
              "Furnishings     957\n",
              "Phones          889\n",
              "Storage         846\n",
              "Art             796\n",
              "Accessories     775\n",
              "Chairs          617\n",
              "Appliances      466\n",
              "Labels          364\n",
              "Tables          319\n",
              "Envelopes       254\n",
              "Bookcases       228\n",
              "Fasteners       217\n",
              "Supplies        190\n",
              "Machines        115\n",
              "Copiers          68\n",
              "Name: Sub_Category, dtype: int64"
            ]
          },
          "execution_count": 27,
          "metadata": {},
          "output_type": "execute_result"
        }
      ],
      "source": [
        "superstore['Sub_Category'].value_counts().loc[lambda x: x>1]"
      ]
    },
    {
      "cell_type": "markdown",
      "metadata": {
        "id": "UPz_IfShBri5"
      },
      "source": [
        "หา Profit แต่ละ Sub Category เยอะที่สุด 5 อันดับ"
      ]
    },
    {
      "cell_type": "code",
      "execution_count": 28,
      "metadata": {
        "colab": {
          "base_uri": "https://localhost:8080/"
        },
        "id": "aGSfqiIUBxpo",
        "outputId": "a42aa2e1-897f-45f8-9b0c-80e5f0e31c25"
      },
      "outputs": [
        {
          "data": {
            "text/plain": [
              "Sub_Category\n",
              "Copiers        55617.8249\n",
              "Phones         44515.7306\n",
              "Accessories    41936.6357\n",
              "Paper          34053.5693\n",
              "Binders        30221.7633\n",
              "Name: Profit, dtype: float64"
            ]
          },
          "execution_count": 28,
          "metadata": {},
          "output_type": "execute_result"
        }
      ],
      "source": [
        "superstore.groupby('Sub_Category').sum()['Profit'].nlargest(5)"
      ]
    },
    {
      "cell_type": "code",
      "execution_count": 29,
      "metadata": {
        "colab": {
          "base_uri": "https://localhost:8080/",
          "height": 455
        },
        "id": "mWN4zYy8G0ga",
        "outputId": "cb5f074c-340b-4030-a868-2e5544f63691"
      },
      "outputs": [
        {
          "data": {
            "text/html": [
              "\n",
              "  <div id=\"df-4fa853ec-12df-4d09-9220-1198fdaf150b\">\n",
              "    <div class=\"colab-df-container\">\n",
              "      <div>\n",
              "<style scoped>\n",
              "    .dataframe tbody tr th:only-of-type {\n",
              "        vertical-align: middle;\n",
              "    }\n",
              "\n",
              "    .dataframe tbody tr th {\n",
              "        vertical-align: top;\n",
              "    }\n",
              "\n",
              "    .dataframe thead th {\n",
              "        text-align: right;\n",
              "    }\n",
              "</style>\n",
              "<table border=\"1\" class=\"dataframe\">\n",
              "  <thead>\n",
              "    <tr style=\"text-align: right;\">\n",
              "      <th></th>\n",
              "      <th></th>\n",
              "      <th>sum</th>\n",
              "      <th>mean</th>\n",
              "      <th>std</th>\n",
              "    </tr>\n",
              "    <tr>\n",
              "      <th>City</th>\n",
              "      <th>Category</th>\n",
              "      <th></th>\n",
              "      <th></th>\n",
              "      <th></th>\n",
              "    </tr>\n",
              "  </thead>\n",
              "  <tbody>\n",
              "    <tr>\n",
              "      <th>Aberdeen</th>\n",
              "      <th>Office Supplies</th>\n",
              "      <td>25.500</td>\n",
              "      <td>25.500000</td>\n",
              "      <td>NaN</td>\n",
              "    </tr>\n",
              "    <tr>\n",
              "      <th>Abilene</th>\n",
              "      <th>Office Supplies</th>\n",
              "      <td>1.392</td>\n",
              "      <td>1.392000</td>\n",
              "      <td>NaN</td>\n",
              "    </tr>\n",
              "    <tr>\n",
              "      <th rowspan=\"3\" valign=\"top\">Akron</th>\n",
              "      <th>Furniture</th>\n",
              "      <td>433.596</td>\n",
              "      <td>216.798000</td>\n",
              "      <td>95.552754</td>\n",
              "    </tr>\n",
              "    <tr>\n",
              "      <th>Office Supplies</th>\n",
              "      <td>1113.388</td>\n",
              "      <td>79.527714</td>\n",
              "      <td>178.168414</td>\n",
              "    </tr>\n",
              "    <tr>\n",
              "      <th>Technology</th>\n",
              "      <td>1183.002</td>\n",
              "      <td>236.600400</td>\n",
              "      <td>96.529237</td>\n",
              "    </tr>\n",
              "    <tr>\n",
              "      <th>...</th>\n",
              "      <th>...</th>\n",
              "      <td>...</td>\n",
              "      <td>...</td>\n",
              "      <td>...</td>\n",
              "    </tr>\n",
              "    <tr>\n",
              "      <th rowspan=\"2\" valign=\"top\">York</th>\n",
              "      <th>Furniture</th>\n",
              "      <td>422.058</td>\n",
              "      <td>422.058000</td>\n",
              "      <td>NaN</td>\n",
              "    </tr>\n",
              "    <tr>\n",
              "      <th>Office Supplies</th>\n",
              "      <td>395.920</td>\n",
              "      <td>98.980000</td>\n",
              "      <td>104.394831</td>\n",
              "    </tr>\n",
              "    <tr>\n",
              "      <th>Yucaipa</th>\n",
              "      <th>Office Supplies</th>\n",
              "      <td>50.800</td>\n",
              "      <td>50.800000</td>\n",
              "      <td>NaN</td>\n",
              "    </tr>\n",
              "    <tr>\n",
              "      <th rowspan=\"2\" valign=\"top\">Yuma</th>\n",
              "      <th>Office Supplies</th>\n",
              "      <td>55.352</td>\n",
              "      <td>27.676000</td>\n",
              "      <td>24.296189</td>\n",
              "    </tr>\n",
              "    <tr>\n",
              "      <th>Technology</th>\n",
              "      <td>785.513</td>\n",
              "      <td>392.756500</td>\n",
              "      <td>293.065355</td>\n",
              "    </tr>\n",
              "  </tbody>\n",
              "</table>\n",
              "<p>1198 rows × 3 columns</p>\n",
              "</div>\n",
              "      <button class=\"colab-df-convert\" onclick=\"convertToInteractive('df-4fa853ec-12df-4d09-9220-1198fdaf150b')\"\n",
              "              title=\"Convert this dataframe to an interactive table.\"\n",
              "              style=\"display:none;\">\n",
              "        \n",
              "  <svg xmlns=\"http://www.w3.org/2000/svg\" height=\"24px\"viewBox=\"0 0 24 24\"\n",
              "       width=\"24px\">\n",
              "    <path d=\"M0 0h24v24H0V0z\" fill=\"none\"/>\n",
              "    <path d=\"M18.56 5.44l.94 2.06.94-2.06 2.06-.94-2.06-.94-.94-2.06-.94 2.06-2.06.94zm-11 1L8.5 8.5l.94-2.06 2.06-.94-2.06-.94L8.5 2.5l-.94 2.06-2.06.94zm10 10l.94 2.06.94-2.06 2.06-.94-2.06-.94-.94-2.06-.94 2.06-2.06.94z\"/><path d=\"M17.41 7.96l-1.37-1.37c-.4-.4-.92-.59-1.43-.59-.52 0-1.04.2-1.43.59L10.3 9.45l-7.72 7.72c-.78.78-.78 2.05 0 2.83L4 21.41c.39.39.9.59 1.41.59.51 0 1.02-.2 1.41-.59l7.78-7.78 2.81-2.81c.8-.78.8-2.07 0-2.86zM5.41 20L4 18.59l7.72-7.72 1.47 1.35L5.41 20z\"/>\n",
              "  </svg>\n",
              "      </button>\n",
              "      \n",
              "  <style>\n",
              "    .colab-df-container {\n",
              "      display:flex;\n",
              "      flex-wrap:wrap;\n",
              "      gap: 12px;\n",
              "    }\n",
              "\n",
              "    .colab-df-convert {\n",
              "      background-color: #E8F0FE;\n",
              "      border: none;\n",
              "      border-radius: 50%;\n",
              "      cursor: pointer;\n",
              "      display: none;\n",
              "      fill: #1967D2;\n",
              "      height: 32px;\n",
              "      padding: 0 0 0 0;\n",
              "      width: 32px;\n",
              "    }\n",
              "\n",
              "    .colab-df-convert:hover {\n",
              "      background-color: #E2EBFA;\n",
              "      box-shadow: 0px 1px 2px rgba(60, 64, 67, 0.3), 0px 1px 3px 1px rgba(60, 64, 67, 0.15);\n",
              "      fill: #174EA6;\n",
              "    }\n",
              "\n",
              "    [theme=dark] .colab-df-convert {\n",
              "      background-color: #3B4455;\n",
              "      fill: #D2E3FC;\n",
              "    }\n",
              "\n",
              "    [theme=dark] .colab-df-convert:hover {\n",
              "      background-color: #434B5C;\n",
              "      box-shadow: 0px 1px 3px 1px rgba(0, 0, 0, 0.15);\n",
              "      filter: drop-shadow(0px 1px 2px rgba(0, 0, 0, 0.3));\n",
              "      fill: #FFFFFF;\n",
              "    }\n",
              "  </style>\n",
              "\n",
              "      <script>\n",
              "        const buttonEl =\n",
              "          document.querySelector('#df-4fa853ec-12df-4d09-9220-1198fdaf150b button.colab-df-convert');\n",
              "        buttonEl.style.display =\n",
              "          google.colab.kernel.accessAllowed ? 'block' : 'none';\n",
              "\n",
              "        async function convertToInteractive(key) {\n",
              "          const element = document.querySelector('#df-4fa853ec-12df-4d09-9220-1198fdaf150b');\n",
              "          const dataTable =\n",
              "            await google.colab.kernel.invokeFunction('convertToInteractive',\n",
              "                                                     [key], {});\n",
              "          if (!dataTable) return;\n",
              "\n",
              "          const docLinkHtml = 'Like what you see? Visit the ' +\n",
              "            '<a target=\"_blank\" href=https://colab.research.google.com/notebooks/data_table.ipynb>data table notebook</a>'\n",
              "            + ' to learn more about interactive tables.';\n",
              "          element.innerHTML = '';\n",
              "          dataTable['output_type'] = 'display_data';\n",
              "          await google.colab.output.renderOutput(dataTable, element);\n",
              "          const docLink = document.createElement('div');\n",
              "          docLink.innerHTML = docLinkHtml;\n",
              "          element.appendChild(docLink);\n",
              "        }\n",
              "      </script>\n",
              "    </div>\n",
              "  </div>\n",
              "  "
            ],
            "text/plain": [
              "                               sum        mean         std\n",
              "City     Category                                         \n",
              "Aberdeen Office Supplies    25.500   25.500000         NaN\n",
              "Abilene  Office Supplies     1.392    1.392000         NaN\n",
              "Akron    Furniture         433.596  216.798000   95.552754\n",
              "         Office Supplies  1113.388   79.527714  178.168414\n",
              "         Technology       1183.002  236.600400   96.529237\n",
              "...                            ...         ...         ...\n",
              "York     Furniture         422.058  422.058000         NaN\n",
              "         Office Supplies   395.920   98.980000  104.394831\n",
              "Yucaipa  Office Supplies    50.800   50.800000         NaN\n",
              "Yuma     Office Supplies    55.352   27.676000   24.296189\n",
              "         Technology        785.513  392.756500  293.065355\n",
              "\n",
              "[1198 rows x 3 columns]"
            ]
          },
          "execution_count": 29,
          "metadata": {},
          "output_type": "execute_result"
        }
      ],
      "source": [
        "superstore.groupby(['City', 'Category'])['Sales'].agg(['sum','mean','std'])"
      ]
    },
    {
      "cell_type": "code",
      "execution_count": 30,
      "metadata": {
        "colab": {
          "base_uri": "https://localhost:8080/"
        },
        "id": "M8dKYPiKyUsG",
        "outputId": "b131c38d-6949-42ae-de56-120ebf479dd5"
      },
      "outputs": [
        {
          "data": {
            "text/plain": [
              "Index(['Order_ID', 'Order_Date', 'Ship_Date', 'Ship_Mode', 'Customer_ID',\n",
              "       'Customer_Name', 'Segment', 'Country', 'City', 'State', 'Postal_Code',\n",
              "       'Region', 'Product_ID', 'Category', 'Sub_Category', 'Product_Name',\n",
              "       'Sales', 'Quantity', 'Discount', 'Profit'],\n",
              "      dtype='object')"
            ]
          },
          "execution_count": 30,
          "metadata": {},
          "output_type": "execute_result"
        }
      ],
      "source": [
        "superstore.columns"
      ]
    },
    {
      "cell_type": "code",
      "execution_count": 31,
      "metadata": {
        "colab": {
          "base_uri": "https://localhost:8080/",
          "height": 143
        },
        "id": "yluT8rYAx1ZP",
        "outputId": "a05c11d6-ffa9-49ce-e5e9-bb5951e3869e"
      },
      "outputs": [
        {
          "data": {
            "text/html": [
              "\n",
              "  <div id=\"df-1709e682-fb5f-467b-877c-a88d6d7de3f0\">\n",
              "    <div class=\"colab-df-container\">\n",
              "      <div>\n",
              "<style scoped>\n",
              "    .dataframe tbody tr th:only-of-type {\n",
              "        vertical-align: middle;\n",
              "    }\n",
              "\n",
              "    .dataframe tbody tr th {\n",
              "        vertical-align: top;\n",
              "    }\n",
              "\n",
              "    .dataframe thead th {\n",
              "        text-align: right;\n",
              "    }\n",
              "</style>\n",
              "<table border=\"1\" class=\"dataframe\">\n",
              "  <thead>\n",
              "    <tr style=\"text-align: right;\">\n",
              "      <th></th>\n",
              "      <th>Sales</th>\n",
              "      <th>Quantity</th>\n",
              "      <th>Discount</th>\n",
              "      <th>Profit</th>\n",
              "    </tr>\n",
              "  </thead>\n",
              "  <tbody>\n",
              "    <tr>\n",
              "      <th>sum</th>\n",
              "      <td>2.297201e+06</td>\n",
              "      <td>37873.000000</td>\n",
              "      <td>1561.090000</td>\n",
              "      <td>286397.021700</td>\n",
              "    </tr>\n",
              "    <tr>\n",
              "      <th>std</th>\n",
              "      <td>6.232451e+02</td>\n",
              "      <td>2.225110</td>\n",
              "      <td>0.206452</td>\n",
              "      <td>234.260108</td>\n",
              "    </tr>\n",
              "    <tr>\n",
              "      <th>mean</th>\n",
              "      <td>2.298580e+02</td>\n",
              "      <td>3.789574</td>\n",
              "      <td>0.156203</td>\n",
              "      <td>28.656896</td>\n",
              "    </tr>\n",
              "  </tbody>\n",
              "</table>\n",
              "</div>\n",
              "      <button class=\"colab-df-convert\" onclick=\"convertToInteractive('df-1709e682-fb5f-467b-877c-a88d6d7de3f0')\"\n",
              "              title=\"Convert this dataframe to an interactive table.\"\n",
              "              style=\"display:none;\">\n",
              "        \n",
              "  <svg xmlns=\"http://www.w3.org/2000/svg\" height=\"24px\"viewBox=\"0 0 24 24\"\n",
              "       width=\"24px\">\n",
              "    <path d=\"M0 0h24v24H0V0z\" fill=\"none\"/>\n",
              "    <path d=\"M18.56 5.44l.94 2.06.94-2.06 2.06-.94-2.06-.94-.94-2.06-.94 2.06-2.06.94zm-11 1L8.5 8.5l.94-2.06 2.06-.94-2.06-.94L8.5 2.5l-.94 2.06-2.06.94zm10 10l.94 2.06.94-2.06 2.06-.94-2.06-.94-.94-2.06-.94 2.06-2.06.94z\"/><path d=\"M17.41 7.96l-1.37-1.37c-.4-.4-.92-.59-1.43-.59-.52 0-1.04.2-1.43.59L10.3 9.45l-7.72 7.72c-.78.78-.78 2.05 0 2.83L4 21.41c.39.39.9.59 1.41.59.51 0 1.02-.2 1.41-.59l7.78-7.78 2.81-2.81c.8-.78.8-2.07 0-2.86zM5.41 20L4 18.59l7.72-7.72 1.47 1.35L5.41 20z\"/>\n",
              "  </svg>\n",
              "      </button>\n",
              "      \n",
              "  <style>\n",
              "    .colab-df-container {\n",
              "      display:flex;\n",
              "      flex-wrap:wrap;\n",
              "      gap: 12px;\n",
              "    }\n",
              "\n",
              "    .colab-df-convert {\n",
              "      background-color: #E8F0FE;\n",
              "      border: none;\n",
              "      border-radius: 50%;\n",
              "      cursor: pointer;\n",
              "      display: none;\n",
              "      fill: #1967D2;\n",
              "      height: 32px;\n",
              "      padding: 0 0 0 0;\n",
              "      width: 32px;\n",
              "    }\n",
              "\n",
              "    .colab-df-convert:hover {\n",
              "      background-color: #E2EBFA;\n",
              "      box-shadow: 0px 1px 2px rgba(60, 64, 67, 0.3), 0px 1px 3px 1px rgba(60, 64, 67, 0.15);\n",
              "      fill: #174EA6;\n",
              "    }\n",
              "\n",
              "    [theme=dark] .colab-df-convert {\n",
              "      background-color: #3B4455;\n",
              "      fill: #D2E3FC;\n",
              "    }\n",
              "\n",
              "    [theme=dark] .colab-df-convert:hover {\n",
              "      background-color: #434B5C;\n",
              "      box-shadow: 0px 1px 3px 1px rgba(0, 0, 0, 0.15);\n",
              "      filter: drop-shadow(0px 1px 2px rgba(0, 0, 0, 0.3));\n",
              "      fill: #FFFFFF;\n",
              "    }\n",
              "  </style>\n",
              "\n",
              "      <script>\n",
              "        const buttonEl =\n",
              "          document.querySelector('#df-1709e682-fb5f-467b-877c-a88d6d7de3f0 button.colab-df-convert');\n",
              "        buttonEl.style.display =\n",
              "          google.colab.kernel.accessAllowed ? 'block' : 'none';\n",
              "\n",
              "        async function convertToInteractive(key) {\n",
              "          const element = document.querySelector('#df-1709e682-fb5f-467b-877c-a88d6d7de3f0');\n",
              "          const dataTable =\n",
              "            await google.colab.kernel.invokeFunction('convertToInteractive',\n",
              "                                                     [key], {});\n",
              "          if (!dataTable) return;\n",
              "\n",
              "          const docLinkHtml = 'Like what you see? Visit the ' +\n",
              "            '<a target=\"_blank\" href=https://colab.research.google.com/notebooks/data_table.ipynb>data table notebook</a>'\n",
              "            + ' to learn more about interactive tables.';\n",
              "          element.innerHTML = '';\n",
              "          dataTable['output_type'] = 'display_data';\n",
              "          await google.colab.output.renderOutput(dataTable, element);\n",
              "          const docLink = document.createElement('div');\n",
              "          docLink.innerHTML = docLinkHtml;\n",
              "          element.appendChild(docLink);\n",
              "        }\n",
              "      </script>\n",
              "    </div>\n",
              "  </div>\n",
              "  "
            ],
            "text/plain": [
              "             Sales      Quantity     Discount         Profit\n",
              "sum   2.297201e+06  37873.000000  1561.090000  286397.021700\n",
              "std   6.232451e+02      2.225110     0.206452     234.260108\n",
              "mean  2.298580e+02      3.789574     0.156203      28.656896"
            ]
          },
          "execution_count": 31,
          "metadata": {},
          "output_type": "execute_result"
        }
      ],
      "source": [
        "superstore[['Sales', 'Quantity', 'Discount', 'Profit']].agg(['sum','std','mean'])"
      ]
    },
    {
      "cell_type": "code",
      "execution_count": 32,
      "metadata": {
        "colab": {
          "base_uri": "https://localhost:8080/"
        },
        "id": "R5G3xLNtu3nF",
        "outputId": "53615d22-39dd-47ee-ee1d-f1d1824dec6e"
      },
      "outputs": [
        {
          "data": {
            "text/plain": [
              "Sales     2.297201e+06\n",
              "Profit    2.863970e+05\n",
              "dtype: float64"
            ]
          },
          "execution_count": 32,
          "metadata": {},
          "output_type": "execute_result"
        }
      ],
      "source": [
        "superstore[['Sales', 'Profit']].apply(sum, axis=0)"
      ]
    },
    {
      "cell_type": "code",
      "execution_count": 33,
      "metadata": {
        "colab": {
          "base_uri": "https://localhost:8080/"
        },
        "id": "rjNr1oc04b43",
        "outputId": "fc2e4f9f-33ad-413a-e172-2876f30d1c64"
      },
      "outputs": [
        {
          "data": {
            "text/plain": [
              "Index(['Order_ID', 'Order_Date', 'Ship_Date', 'Ship_Mode', 'Customer_ID',\n",
              "       'Customer_Name', 'Segment', 'Country', 'City', 'State', 'Postal_Code',\n",
              "       'Region', 'Product_ID', 'Category', 'Sub_Category', 'Product_Name',\n",
              "       'Sales', 'Quantity', 'Discount', 'Profit'],\n",
              "      dtype='object')"
            ]
          },
          "execution_count": 33,
          "metadata": {},
          "output_type": "execute_result"
        }
      ],
      "source": [
        "superstore.columns"
      ]
    },
    {
      "cell_type": "markdown",
      "metadata": {
        "id": "Y5QKYNaT4TX7"
      },
      "source": [
        "### Query & Filter \n",
        "ฟิลเตอร์ DataFrame ด้วยเงื่อนไขต่างใช้ฟังก์ชัน .query(), เลือก Column จาก DataFrame = dataframe['column_name']"
      ]
    },
    {
      "cell_type": "code",
      "execution_count": 34,
      "metadata": {
        "colab": {
          "base_uri": "https://localhost:8080/"
        },
        "id": "I6v83lsN4WhQ",
        "outputId": "db0dbdd2-aba6-4d21-c654-160a62ab43d5"
      },
      "outputs": [
        {
          "data": {
            "text/plain": [
              "(775, 20)"
            ]
          },
          "execution_count": 34,
          "metadata": {},
          "output_type": "execute_result"
        }
      ],
      "source": [
        "# หา Accessories อยู่ในหมวดหมู่มีกี่แถว\n",
        "superstore.query('Sub_Category == \"Accessories\" ').shape"
      ]
    },
    {
      "cell_type": "code",
      "execution_count": 35,
      "metadata": {
        "colab": {
          "base_uri": "https://localhost:8080/",
          "height": 988
        },
        "id": "qmDVRcSlIVWa",
        "outputId": "eb5380d4-5180-4ca1-bdbe-15b85f138f13"
      },
      "outputs": [
        {
          "data": {
            "text/html": [
              "\n",
              "  <div id=\"df-fba8c69e-ef67-4b29-8012-c1e6b5e8806d\">\n",
              "    <div class=\"colab-df-container\">\n",
              "      <div>\n",
              "<style scoped>\n",
              "    .dataframe tbody tr th:only-of-type {\n",
              "        vertical-align: middle;\n",
              "    }\n",
              "\n",
              "    .dataframe tbody tr th {\n",
              "        vertical-align: top;\n",
              "    }\n",
              "\n",
              "    .dataframe thead th {\n",
              "        text-align: right;\n",
              "    }\n",
              "</style>\n",
              "<table border=\"1\" class=\"dataframe\">\n",
              "  <thead>\n",
              "    <tr style=\"text-align: right;\">\n",
              "      <th></th>\n",
              "      <th>Order_ID</th>\n",
              "      <th>Order_Date</th>\n",
              "      <th>Ship_Date</th>\n",
              "      <th>Ship_Mode</th>\n",
              "      <th>Customer_ID</th>\n",
              "      <th>Customer_Name</th>\n",
              "      <th>Segment</th>\n",
              "      <th>Country</th>\n",
              "      <th>City</th>\n",
              "      <th>State</th>\n",
              "      <th>Postal_Code</th>\n",
              "      <th>Region</th>\n",
              "      <th>Product_ID</th>\n",
              "      <th>Category</th>\n",
              "      <th>Sub_Category</th>\n",
              "      <th>Product_Name</th>\n",
              "      <th>Sales</th>\n",
              "      <th>Quantity</th>\n",
              "      <th>Discount</th>\n",
              "      <th>Profit</th>\n",
              "    </tr>\n",
              "    <tr>\n",
              "      <th>Row ID</th>\n",
              "      <th></th>\n",
              "      <th></th>\n",
              "      <th></th>\n",
              "      <th></th>\n",
              "      <th></th>\n",
              "      <th></th>\n",
              "      <th></th>\n",
              "      <th></th>\n",
              "      <th></th>\n",
              "      <th></th>\n",
              "      <th></th>\n",
              "      <th></th>\n",
              "      <th></th>\n",
              "      <th></th>\n",
              "      <th></th>\n",
              "      <th></th>\n",
              "      <th></th>\n",
              "      <th></th>\n",
              "      <th></th>\n",
              "      <th></th>\n",
              "    </tr>\n",
              "  </thead>\n",
              "  <tbody>\n",
              "    <tr>\n",
              "      <th>98</th>\n",
              "      <td>CA-2017-157833</td>\n",
              "      <td>2017-06-17</td>\n",
              "      <td>2017-06-20</td>\n",
              "      <td>First Class</td>\n",
              "      <td>KD-16345</td>\n",
              "      <td>Katherine Ducich</td>\n",
              "      <td>Consumer</td>\n",
              "      <td>United States</td>\n",
              "      <td>San Francisco</td>\n",
              "      <td>California</td>\n",
              "      <td>94122</td>\n",
              "      <td>West</td>\n",
              "      <td>OFF-BI-10001721</td>\n",
              "      <td>Office Supplies</td>\n",
              "      <td>Binders</td>\n",
              "      <td>Trimflex Flexible Post Binders</td>\n",
              "      <td>51.312</td>\n",
              "      <td>3</td>\n",
              "      <td>0.2</td>\n",
              "      <td>17.9592</td>\n",
              "    </tr>\n",
              "    <tr>\n",
              "      <th>142</th>\n",
              "      <td>CA-2017-106180</td>\n",
              "      <td>2017-09-18</td>\n",
              "      <td>2017-09-23</td>\n",
              "      <td>Standard Class</td>\n",
              "      <td>SH-19975</td>\n",
              "      <td>Sally Hughsby</td>\n",
              "      <td>Corporate</td>\n",
              "      <td>United States</td>\n",
              "      <td>San Francisco</td>\n",
              "      <td>California</td>\n",
              "      <td>94122</td>\n",
              "      <td>West</td>\n",
              "      <td>OFF-AR-10000940</td>\n",
              "      <td>Office Supplies</td>\n",
              "      <td>Art</td>\n",
              "      <td>Newell 343</td>\n",
              "      <td>8.820</td>\n",
              "      <td>3</td>\n",
              "      <td>0.0</td>\n",
              "      <td>2.3814</td>\n",
              "    </tr>\n",
              "    <tr>\n",
              "      <th>143</th>\n",
              "      <td>CA-2017-106180</td>\n",
              "      <td>2017-09-18</td>\n",
              "      <td>2017-09-23</td>\n",
              "      <td>Standard Class</td>\n",
              "      <td>SH-19975</td>\n",
              "      <td>Sally Hughsby</td>\n",
              "      <td>Corporate</td>\n",
              "      <td>United States</td>\n",
              "      <td>San Francisco</td>\n",
              "      <td>California</td>\n",
              "      <td>94122</td>\n",
              "      <td>West</td>\n",
              "      <td>OFF-EN-10004030</td>\n",
              "      <td>Office Supplies</td>\n",
              "      <td>Envelopes</td>\n",
              "      <td>Convenience Packs of Business Envelopes</td>\n",
              "      <td>10.860</td>\n",
              "      <td>3</td>\n",
              "      <td>0.0</td>\n",
              "      <td>5.1042</td>\n",
              "    </tr>\n",
              "    <tr>\n",
              "      <th>144</th>\n",
              "      <td>CA-2017-106180</td>\n",
              "      <td>2017-09-18</td>\n",
              "      <td>2017-09-23</td>\n",
              "      <td>Standard Class</td>\n",
              "      <td>SH-19975</td>\n",
              "      <td>Sally Hughsby</td>\n",
              "      <td>Corporate</td>\n",
              "      <td>United States</td>\n",
              "      <td>San Francisco</td>\n",
              "      <td>California</td>\n",
              "      <td>94122</td>\n",
              "      <td>West</td>\n",
              "      <td>OFF-PA-10004327</td>\n",
              "      <td>Office Supplies</td>\n",
              "      <td>Paper</td>\n",
              "      <td>Xerox 1911</td>\n",
              "      <td>143.700</td>\n",
              "      <td>3</td>\n",
              "      <td>0.0</td>\n",
              "      <td>68.9760</td>\n",
              "    </tr>\n",
              "    <tr>\n",
              "      <th>206</th>\n",
              "      <td>CA-2017-108329</td>\n",
              "      <td>2017-12-09</td>\n",
              "      <td>2017-12-14</td>\n",
              "      <td>Standard Class</td>\n",
              "      <td>LE-16810</td>\n",
              "      <td>Laurel Elliston</td>\n",
              "      <td>Consumer</td>\n",
              "      <td>United States</td>\n",
              "      <td>Whittier</td>\n",
              "      <td>California</td>\n",
              "      <td>90604</td>\n",
              "      <td>West</td>\n",
              "      <td>TEC-PH-10001918</td>\n",
              "      <td>Technology</td>\n",
              "      <td>Phones</td>\n",
              "      <td>Nortel Business Series Terminal T7208 Digital ...</td>\n",
              "      <td>444.768</td>\n",
              "      <td>4</td>\n",
              "      <td>0.2</td>\n",
              "      <td>44.4768</td>\n",
              "    </tr>\n",
              "    <tr>\n",
              "      <th>...</th>\n",
              "      <td>...</td>\n",
              "      <td>...</td>\n",
              "      <td>...</td>\n",
              "      <td>...</td>\n",
              "      <td>...</td>\n",
              "      <td>...</td>\n",
              "      <td>...</td>\n",
              "      <td>...</td>\n",
              "      <td>...</td>\n",
              "      <td>...</td>\n",
              "      <td>...</td>\n",
              "      <td>...</td>\n",
              "      <td>...</td>\n",
              "      <td>...</td>\n",
              "      <td>...</td>\n",
              "      <td>...</td>\n",
              "      <td>...</td>\n",
              "      <td>...</td>\n",
              "      <td>...</td>\n",
              "      <td>...</td>\n",
              "    </tr>\n",
              "    <tr>\n",
              "      <th>9942</th>\n",
              "      <td>CA-2017-164028</td>\n",
              "      <td>2017-11-24</td>\n",
              "      <td>2017-11-30</td>\n",
              "      <td>Standard Class</td>\n",
              "      <td>JL-15835</td>\n",
              "      <td>John Lee</td>\n",
              "      <td>Consumer</td>\n",
              "      <td>United States</td>\n",
              "      <td>San Francisco</td>\n",
              "      <td>California</td>\n",
              "      <td>94122</td>\n",
              "      <td>West</td>\n",
              "      <td>TEC-AC-10001772</td>\n",
              "      <td>Technology</td>\n",
              "      <td>Accessories</td>\n",
              "      <td>Memorex Mini Travel Drive 16 GB USB 2.0 Flash ...</td>\n",
              "      <td>223.580</td>\n",
              "      <td>14</td>\n",
              "      <td>0.0</td>\n",
              "      <td>87.1962</td>\n",
              "    </tr>\n",
              "    <tr>\n",
              "      <th>9991</th>\n",
              "      <td>CA-2017-121258</td>\n",
              "      <td>2017-02-26</td>\n",
              "      <td>2017-03-03</td>\n",
              "      <td>Standard Class</td>\n",
              "      <td>DB-13060</td>\n",
              "      <td>Dave Brooks</td>\n",
              "      <td>Consumer</td>\n",
              "      <td>United States</td>\n",
              "      <td>Costa Mesa</td>\n",
              "      <td>California</td>\n",
              "      <td>92627</td>\n",
              "      <td>West</td>\n",
              "      <td>FUR-FU-10000747</td>\n",
              "      <td>Furniture</td>\n",
              "      <td>Furnishings</td>\n",
              "      <td>Tenex B1-RE Series Chair Mats for Low Pile Car...</td>\n",
              "      <td>91.960</td>\n",
              "      <td>2</td>\n",
              "      <td>0.0</td>\n",
              "      <td>15.6332</td>\n",
              "    </tr>\n",
              "    <tr>\n",
              "      <th>9992</th>\n",
              "      <td>CA-2017-121258</td>\n",
              "      <td>2017-02-26</td>\n",
              "      <td>2017-03-03</td>\n",
              "      <td>Standard Class</td>\n",
              "      <td>DB-13060</td>\n",
              "      <td>Dave Brooks</td>\n",
              "      <td>Consumer</td>\n",
              "      <td>United States</td>\n",
              "      <td>Costa Mesa</td>\n",
              "      <td>California</td>\n",
              "      <td>92627</td>\n",
              "      <td>West</td>\n",
              "      <td>TEC-PH-10003645</td>\n",
              "      <td>Technology</td>\n",
              "      <td>Phones</td>\n",
              "      <td>Aastra 57i VoIP phone</td>\n",
              "      <td>258.576</td>\n",
              "      <td>2</td>\n",
              "      <td>0.2</td>\n",
              "      <td>19.3932</td>\n",
              "    </tr>\n",
              "    <tr>\n",
              "      <th>9993</th>\n",
              "      <td>CA-2017-121258</td>\n",
              "      <td>2017-02-26</td>\n",
              "      <td>2017-03-03</td>\n",
              "      <td>Standard Class</td>\n",
              "      <td>DB-13060</td>\n",
              "      <td>Dave Brooks</td>\n",
              "      <td>Consumer</td>\n",
              "      <td>United States</td>\n",
              "      <td>Costa Mesa</td>\n",
              "      <td>California</td>\n",
              "      <td>92627</td>\n",
              "      <td>West</td>\n",
              "      <td>OFF-PA-10004041</td>\n",
              "      <td>Office Supplies</td>\n",
              "      <td>Paper</td>\n",
              "      <td>It's Hot Message Books with Stickers, 2 3/4\" x 5\"</td>\n",
              "      <td>29.600</td>\n",
              "      <td>4</td>\n",
              "      <td>0.0</td>\n",
              "      <td>13.3200</td>\n",
              "    </tr>\n",
              "    <tr>\n",
              "      <th>9994</th>\n",
              "      <td>CA-2017-119914</td>\n",
              "      <td>2017-05-04</td>\n",
              "      <td>2017-05-09</td>\n",
              "      <td>Second Class</td>\n",
              "      <td>CC-12220</td>\n",
              "      <td>Chris Cortes</td>\n",
              "      <td>Consumer</td>\n",
              "      <td>United States</td>\n",
              "      <td>Westminster</td>\n",
              "      <td>California</td>\n",
              "      <td>92683</td>\n",
              "      <td>West</td>\n",
              "      <td>OFF-AP-10002684</td>\n",
              "      <td>Office Supplies</td>\n",
              "      <td>Appliances</td>\n",
              "      <td>Acco 7-Outlet Masterpiece Power Center, Wihtou...</td>\n",
              "      <td>243.160</td>\n",
              "      <td>2</td>\n",
              "      <td>0.0</td>\n",
              "      <td>72.9480</td>\n",
              "    </tr>\n",
              "  </tbody>\n",
              "</table>\n",
              "<p>663 rows × 20 columns</p>\n",
              "</div>\n",
              "      <button class=\"colab-df-convert\" onclick=\"convertToInteractive('df-fba8c69e-ef67-4b29-8012-c1e6b5e8806d')\"\n",
              "              title=\"Convert this dataframe to an interactive table.\"\n",
              "              style=\"display:none;\">\n",
              "        \n",
              "  <svg xmlns=\"http://www.w3.org/2000/svg\" height=\"24px\"viewBox=\"0 0 24 24\"\n",
              "       width=\"24px\">\n",
              "    <path d=\"M0 0h24v24H0V0z\" fill=\"none\"/>\n",
              "    <path d=\"M18.56 5.44l.94 2.06.94-2.06 2.06-.94-2.06-.94-.94-2.06-.94 2.06-2.06.94zm-11 1L8.5 8.5l.94-2.06 2.06-.94-2.06-.94L8.5 2.5l-.94 2.06-2.06.94zm10 10l.94 2.06.94-2.06 2.06-.94-2.06-.94-.94-2.06-.94 2.06-2.06.94z\"/><path d=\"M17.41 7.96l-1.37-1.37c-.4-.4-.92-.59-1.43-.59-.52 0-1.04.2-1.43.59L10.3 9.45l-7.72 7.72c-.78.78-.78 2.05 0 2.83L4 21.41c.39.39.9.59 1.41.59.51 0 1.02-.2 1.41-.59l7.78-7.78 2.81-2.81c.8-.78.8-2.07 0-2.86zM5.41 20L4 18.59l7.72-7.72 1.47 1.35L5.41 20z\"/>\n",
              "  </svg>\n",
              "      </button>\n",
              "      \n",
              "  <style>\n",
              "    .colab-df-container {\n",
              "      display:flex;\n",
              "      flex-wrap:wrap;\n",
              "      gap: 12px;\n",
              "    }\n",
              "\n",
              "    .colab-df-convert {\n",
              "      background-color: #E8F0FE;\n",
              "      border: none;\n",
              "      border-radius: 50%;\n",
              "      cursor: pointer;\n",
              "      display: none;\n",
              "      fill: #1967D2;\n",
              "      height: 32px;\n",
              "      padding: 0 0 0 0;\n",
              "      width: 32px;\n",
              "    }\n",
              "\n",
              "    .colab-df-convert:hover {\n",
              "      background-color: #E2EBFA;\n",
              "      box-shadow: 0px 1px 2px rgba(60, 64, 67, 0.3), 0px 1px 3px 1px rgba(60, 64, 67, 0.15);\n",
              "      fill: #174EA6;\n",
              "    }\n",
              "\n",
              "    [theme=dark] .colab-df-convert {\n",
              "      background-color: #3B4455;\n",
              "      fill: #D2E3FC;\n",
              "    }\n",
              "\n",
              "    [theme=dark] .colab-df-convert:hover {\n",
              "      background-color: #434B5C;\n",
              "      box-shadow: 0px 1px 3px 1px rgba(0, 0, 0, 0.15);\n",
              "      filter: drop-shadow(0px 1px 2px rgba(0, 0, 0, 0.3));\n",
              "      fill: #FFFFFF;\n",
              "    }\n",
              "  </style>\n",
              "\n",
              "      <script>\n",
              "        const buttonEl =\n",
              "          document.querySelector('#df-fba8c69e-ef67-4b29-8012-c1e6b5e8806d button.colab-df-convert');\n",
              "        buttonEl.style.display =\n",
              "          google.colab.kernel.accessAllowed ? 'block' : 'none';\n",
              "\n",
              "        async function convertToInteractive(key) {\n",
              "          const element = document.querySelector('#df-fba8c69e-ef67-4b29-8012-c1e6b5e8806d');\n",
              "          const dataTable =\n",
              "            await google.colab.kernel.invokeFunction('convertToInteractive',\n",
              "                                                     [key], {});\n",
              "          if (!dataTable) return;\n",
              "\n",
              "          const docLinkHtml = 'Like what you see? Visit the ' +\n",
              "            '<a target=\"_blank\" href=https://colab.research.google.com/notebooks/data_table.ipynb>data table notebook</a>'\n",
              "            + ' to learn more about interactive tables.';\n",
              "          element.innerHTML = '';\n",
              "          dataTable['output_type'] = 'display_data';\n",
              "          await google.colab.output.renderOutput(dataTable, element);\n",
              "          const docLink = document.createElement('div');\n",
              "          docLink.innerHTML = docLinkHtml;\n",
              "          element.appendChild(docLink);\n",
              "        }\n",
              "      </script>\n",
              "    </div>\n",
              "  </div>\n",
              "  "
            ],
            "text/plain": [
              "              Order_ID Order_Date  Ship_Date       Ship_Mode Customer_ID  \\\n",
              "Row ID                                                                     \n",
              "98      CA-2017-157833 2017-06-17 2017-06-20     First Class    KD-16345   \n",
              "142     CA-2017-106180 2017-09-18 2017-09-23  Standard Class    SH-19975   \n",
              "143     CA-2017-106180 2017-09-18 2017-09-23  Standard Class    SH-19975   \n",
              "144     CA-2017-106180 2017-09-18 2017-09-23  Standard Class    SH-19975   \n",
              "206     CA-2017-108329 2017-12-09 2017-12-14  Standard Class    LE-16810   \n",
              "...                ...        ...        ...             ...         ...   \n",
              "9942    CA-2017-164028 2017-11-24 2017-11-30  Standard Class    JL-15835   \n",
              "9991    CA-2017-121258 2017-02-26 2017-03-03  Standard Class    DB-13060   \n",
              "9992    CA-2017-121258 2017-02-26 2017-03-03  Standard Class    DB-13060   \n",
              "9993    CA-2017-121258 2017-02-26 2017-03-03  Standard Class    DB-13060   \n",
              "9994    CA-2017-119914 2017-05-04 2017-05-09    Second Class    CC-12220   \n",
              "\n",
              "           Customer_Name    Segment        Country           City       State  \\\n",
              "Row ID                                                                          \n",
              "98      Katherine Ducich   Consumer  United States  San Francisco  California   \n",
              "142        Sally Hughsby  Corporate  United States  San Francisco  California   \n",
              "143        Sally Hughsby  Corporate  United States  San Francisco  California   \n",
              "144        Sally Hughsby  Corporate  United States  San Francisco  California   \n",
              "206      Laurel Elliston   Consumer  United States       Whittier  California   \n",
              "...                  ...        ...            ...            ...         ...   \n",
              "9942            John Lee   Consumer  United States  San Francisco  California   \n",
              "9991         Dave Brooks   Consumer  United States     Costa Mesa  California   \n",
              "9992         Dave Brooks   Consumer  United States     Costa Mesa  California   \n",
              "9993         Dave Brooks   Consumer  United States     Costa Mesa  California   \n",
              "9994        Chris Cortes   Consumer  United States    Westminster  California   \n",
              "\n",
              "        Postal_Code Region       Product_ID         Category Sub_Category  \\\n",
              "Row ID                                                                      \n",
              "98            94122   West  OFF-BI-10001721  Office Supplies      Binders   \n",
              "142           94122   West  OFF-AR-10000940  Office Supplies          Art   \n",
              "143           94122   West  OFF-EN-10004030  Office Supplies    Envelopes   \n",
              "144           94122   West  OFF-PA-10004327  Office Supplies        Paper   \n",
              "206           90604   West  TEC-PH-10001918       Technology       Phones   \n",
              "...             ...    ...              ...              ...          ...   \n",
              "9942          94122   West  TEC-AC-10001772       Technology  Accessories   \n",
              "9991          92627   West  FUR-FU-10000747        Furniture  Furnishings   \n",
              "9992          92627   West  TEC-PH-10003645       Technology       Phones   \n",
              "9993          92627   West  OFF-PA-10004041  Office Supplies        Paper   \n",
              "9994          92683   West  OFF-AP-10002684  Office Supplies   Appliances   \n",
              "\n",
              "                                             Product_Name    Sales  Quantity  \\\n",
              "Row ID                                                                         \n",
              "98                         Trimflex Flexible Post Binders   51.312         3   \n",
              "142                                            Newell 343    8.820         3   \n",
              "143               Convenience Packs of Business Envelopes   10.860         3   \n",
              "144                                            Xerox 1911  143.700         3   \n",
              "206     Nortel Business Series Terminal T7208 Digital ...  444.768         4   \n",
              "...                                                   ...      ...       ...   \n",
              "9942    Memorex Mini Travel Drive 16 GB USB 2.0 Flash ...  223.580        14   \n",
              "9991    Tenex B1-RE Series Chair Mats for Low Pile Car...   91.960         2   \n",
              "9992                                Aastra 57i VoIP phone  258.576         2   \n",
              "9993    It's Hot Message Books with Stickers, 2 3/4\" x 5\"   29.600         4   \n",
              "9994    Acco 7-Outlet Masterpiece Power Center, Wihtou...  243.160         2   \n",
              "\n",
              "        Discount   Profit  \n",
              "Row ID                     \n",
              "98           0.2  17.9592  \n",
              "142          0.0   2.3814  \n",
              "143          0.0   5.1042  \n",
              "144          0.0  68.9760  \n",
              "206          0.2  44.4768  \n",
              "...          ...      ...  \n",
              "9942         0.0  87.1962  \n",
              "9991         0.0  15.6332  \n",
              "9992         0.2  19.3932  \n",
              "9993         0.0  13.3200  \n",
              "9994         0.0  72.9480  \n",
              "\n",
              "[663 rows x 20 columns]"
            ]
          },
          "execution_count": 35,
          "metadata": {},
          "output_type": "execute_result"
        }
      ],
      "source": [
        "# หายอดขายในปี 2017 โดย State อยู่ใน California\n",
        "superstore[superstore['Order_Date'].dt.year == 2017 ].query(\"State == 'California' \")"
      ]
    },
    {
      "cell_type": "markdown",
      "metadata": {
        "id": "QNrGS0WvFZum"
      },
      "source": [
        "สามารถสร้างคอลัมน์ Year เก็บค่าปีเท่านั้น"
      ]
    },
    {
      "cell_type": "code",
      "execution_count": 36,
      "metadata": {
        "colab": {
          "base_uri": "https://localhost:8080/"
        },
        "id": "_W_7TTEbFOpx",
        "outputId": "c2712805-d9f1-4da8-ba28-dbacb30e2460"
      },
      "outputs": [
        {
          "data": {
            "text/plain": [
              "Index(['Order_ID', 'Order_Date', 'Ship_Date', 'Ship_Mode', 'Customer_ID',\n",
              "       'Customer_Name', 'Segment', 'Country', 'City', 'State', 'Postal_Code',\n",
              "       'Region', 'Product_ID', 'Category', 'Sub_Category', 'Product_Name',\n",
              "       'Sales', 'Quantity', 'Discount', 'Profit', 'Year'],\n",
              "      dtype='object')"
            ]
          },
          "execution_count": 36,
          "metadata": {},
          "output_type": "execute_result"
        }
      ],
      "source": [
        "superstore['Year'] = superstore['Order_Date'].dt.year\n",
        "superstore.columns"
      ]
    },
    {
      "cell_type": "code",
      "execution_count": 37,
      "metadata": {
        "colab": {
          "base_uri": "https://localhost:8080/"
        },
        "id": "AW8x5HCsGAqU",
        "outputId": "8f1a3b4a-9e3b-477d-a530-d335ab6a38ec"
      },
      "outputs": [
        {
          "data": {
            "text/plain": [
              "Profit    93439.2696\n",
              "dtype: float64"
            ]
          },
          "execution_count": 37,
          "metadata": {},
          "output_type": "execute_result"
        }
      ],
      "source": [
        "# หา Profit ในปี 2017\n",
        "superstore.query('Year == 2017')[['Profit']].sum()"
      ]
    },
    {
      "cell_type": "code",
      "execution_count": 38,
      "metadata": {
        "colab": {
          "base_uri": "https://localhost:8080/",
          "height": 901
        },
        "id": "m8hi4kYSpgvh",
        "outputId": "9b4d7e1b-b92e-41a2-f2b2-8372db80dce5"
      },
      "outputs": [
        {
          "data": {
            "text/html": [
              "\n",
              "  <div id=\"df-6feb1535-10b3-455b-a9de-4dfaf84c5394\">\n",
              "    <div class=\"colab-df-container\">\n",
              "      <div>\n",
              "<style scoped>\n",
              "    .dataframe tbody tr th:only-of-type {\n",
              "        vertical-align: middle;\n",
              "    }\n",
              "\n",
              "    .dataframe tbody tr th {\n",
              "        vertical-align: top;\n",
              "    }\n",
              "\n",
              "    .dataframe thead th {\n",
              "        text-align: right;\n",
              "    }\n",
              "</style>\n",
              "<table border=\"1\" class=\"dataframe\">\n",
              "  <thead>\n",
              "    <tr style=\"text-align: right;\">\n",
              "      <th></th>\n",
              "      <th>Order_ID</th>\n",
              "      <th>Order_Date</th>\n",
              "      <th>Ship_Date</th>\n",
              "      <th>Ship_Mode</th>\n",
              "      <th>Customer_ID</th>\n",
              "      <th>Customer_Name</th>\n",
              "      <th>Segment</th>\n",
              "      <th>Country</th>\n",
              "      <th>City</th>\n",
              "      <th>State</th>\n",
              "      <th>...</th>\n",
              "      <th>Region</th>\n",
              "      <th>Product_ID</th>\n",
              "      <th>Category</th>\n",
              "      <th>Sub_Category</th>\n",
              "      <th>Product_Name</th>\n",
              "      <th>Sales</th>\n",
              "      <th>Quantity</th>\n",
              "      <th>Discount</th>\n",
              "      <th>Profit</th>\n",
              "      <th>Year</th>\n",
              "    </tr>\n",
              "    <tr>\n",
              "      <th>Row ID</th>\n",
              "      <th></th>\n",
              "      <th></th>\n",
              "      <th></th>\n",
              "      <th></th>\n",
              "      <th></th>\n",
              "      <th></th>\n",
              "      <th></th>\n",
              "      <th></th>\n",
              "      <th></th>\n",
              "      <th></th>\n",
              "      <th></th>\n",
              "      <th></th>\n",
              "      <th></th>\n",
              "      <th></th>\n",
              "      <th></th>\n",
              "      <th></th>\n",
              "      <th></th>\n",
              "      <th></th>\n",
              "      <th></th>\n",
              "      <th></th>\n",
              "      <th></th>\n",
              "    </tr>\n",
              "  </thead>\n",
              "  <tbody>\n",
              "    <tr>\n",
              "      <th>213</th>\n",
              "      <td>CA-2015-146262</td>\n",
              "      <td>2015-01-02</td>\n",
              "      <td>2015-01-09</td>\n",
              "      <td>Standard Class</td>\n",
              "      <td>VW-21775</td>\n",
              "      <td>Victoria Wilson</td>\n",
              "      <td>Corporate</td>\n",
              "      <td>United States</td>\n",
              "      <td>Medina</td>\n",
              "      <td>Ohio</td>\n",
              "      <td>...</td>\n",
              "      <td>East</td>\n",
              "      <td>OFF-LA-10004544</td>\n",
              "      <td>Office Supplies</td>\n",
              "      <td>Labels</td>\n",
              "      <td>Avery 505</td>\n",
              "      <td>23.680</td>\n",
              "      <td>2</td>\n",
              "      <td>0.2</td>\n",
              "      <td>8.8800</td>\n",
              "      <td>2015</td>\n",
              "    </tr>\n",
              "    <tr>\n",
              "      <th>214</th>\n",
              "      <td>CA-2015-146262</td>\n",
              "      <td>2015-01-02</td>\n",
              "      <td>2015-01-09</td>\n",
              "      <td>Standard Class</td>\n",
              "      <td>VW-21775</td>\n",
              "      <td>Victoria Wilson</td>\n",
              "      <td>Corporate</td>\n",
              "      <td>United States</td>\n",
              "      <td>Medina</td>\n",
              "      <td>Ohio</td>\n",
              "      <td>...</td>\n",
              "      <td>East</td>\n",
              "      <td>FUR-BO-10004695</td>\n",
              "      <td>Furniture</td>\n",
              "      <td>Bookcases</td>\n",
              "      <td>O'Sullivan 2-Door Barrister Bookcase in Odessa...</td>\n",
              "      <td>452.450</td>\n",
              "      <td>5</td>\n",
              "      <td>0.5</td>\n",
              "      <td>-244.3230</td>\n",
              "      <td>2015</td>\n",
              "    </tr>\n",
              "    <tr>\n",
              "      <th>215</th>\n",
              "      <td>CA-2015-146262</td>\n",
              "      <td>2015-01-02</td>\n",
              "      <td>2015-01-09</td>\n",
              "      <td>Standard Class</td>\n",
              "      <td>VW-21775</td>\n",
              "      <td>Victoria Wilson</td>\n",
              "      <td>Corporate</td>\n",
              "      <td>United States</td>\n",
              "      <td>Medina</td>\n",
              "      <td>Ohio</td>\n",
              "      <td>...</td>\n",
              "      <td>East</td>\n",
              "      <td>TEC-PH-10002844</td>\n",
              "      <td>Technology</td>\n",
              "      <td>Phones</td>\n",
              "      <td>Speck Products Candyshell Flip Case</td>\n",
              "      <td>62.982</td>\n",
              "      <td>3</td>\n",
              "      <td>0.4</td>\n",
              "      <td>-14.6958</td>\n",
              "      <td>2015</td>\n",
              "    </tr>\n",
              "    <tr>\n",
              "      <th>216</th>\n",
              "      <td>CA-2015-146262</td>\n",
              "      <td>2015-01-02</td>\n",
              "      <td>2015-01-09</td>\n",
              "      <td>Standard Class</td>\n",
              "      <td>VW-21775</td>\n",
              "      <td>Victoria Wilson</td>\n",
              "      <td>Corporate</td>\n",
              "      <td>United States</td>\n",
              "      <td>Medina</td>\n",
              "      <td>Ohio</td>\n",
              "      <td>...</td>\n",
              "      <td>East</td>\n",
              "      <td>TEC-MA-10000864</td>\n",
              "      <td>Technology</td>\n",
              "      <td>Machines</td>\n",
              "      <td>Cisco 9971 IP Video Phone Charcoal</td>\n",
              "      <td>1188.000</td>\n",
              "      <td>9</td>\n",
              "      <td>0.7</td>\n",
              "      <td>-950.4000</td>\n",
              "      <td>2015</td>\n",
              "    </tr>\n",
              "    <tr>\n",
              "      <th>217</th>\n",
              "      <td>CA-2015-146262</td>\n",
              "      <td>2015-01-02</td>\n",
              "      <td>2015-01-09</td>\n",
              "      <td>Standard Class</td>\n",
              "      <td>VW-21775</td>\n",
              "      <td>Victoria Wilson</td>\n",
              "      <td>Corporate</td>\n",
              "      <td>United States</td>\n",
              "      <td>Medina</td>\n",
              "      <td>Ohio</td>\n",
              "      <td>...</td>\n",
              "      <td>East</td>\n",
              "      <td>TEC-AC-10000109</td>\n",
              "      <td>Technology</td>\n",
              "      <td>Accessories</td>\n",
              "      <td>Sony Micro Vault Click 16 GB USB 2.0 Flash Drive</td>\n",
              "      <td>89.584</td>\n",
              "      <td>2</td>\n",
              "      <td>0.2</td>\n",
              "      <td>4.4792</td>\n",
              "      <td>2015</td>\n",
              "    </tr>\n",
              "    <tr>\n",
              "      <th>...</th>\n",
              "      <td>...</td>\n",
              "      <td>...</td>\n",
              "      <td>...</td>\n",
              "      <td>...</td>\n",
              "      <td>...</td>\n",
              "      <td>...</td>\n",
              "      <td>...</td>\n",
              "      <td>...</td>\n",
              "      <td>...</td>\n",
              "      <td>...</td>\n",
              "      <td>...</td>\n",
              "      <td>...</td>\n",
              "      <td>...</td>\n",
              "      <td>...</td>\n",
              "      <td>...</td>\n",
              "      <td>...</td>\n",
              "      <td>...</td>\n",
              "      <td>...</td>\n",
              "      <td>...</td>\n",
              "      <td>...</td>\n",
              "      <td>...</td>\n",
              "    </tr>\n",
              "    <tr>\n",
              "      <th>6009</th>\n",
              "      <td>CA-2015-135580</td>\n",
              "      <td>2015-12-30</td>\n",
              "      <td>2016-01-03</td>\n",
              "      <td>Standard Class</td>\n",
              "      <td>CL-12565</td>\n",
              "      <td>Clay Ludtke</td>\n",
              "      <td>Consumer</td>\n",
              "      <td>United States</td>\n",
              "      <td>Los Angeles</td>\n",
              "      <td>California</td>\n",
              "      <td>...</td>\n",
              "      <td>West</td>\n",
              "      <td>OFF-PA-10000595</td>\n",
              "      <td>Office Supplies</td>\n",
              "      <td>Paper</td>\n",
              "      <td>Xerox 1929</td>\n",
              "      <td>68.520</td>\n",
              "      <td>3</td>\n",
              "      <td>0.0</td>\n",
              "      <td>31.5192</td>\n",
              "      <td>2015</td>\n",
              "    </tr>\n",
              "    <tr>\n",
              "      <th>6011</th>\n",
              "      <td>CA-2015-135580</td>\n",
              "      <td>2015-12-30</td>\n",
              "      <td>2016-01-03</td>\n",
              "      <td>Standard Class</td>\n",
              "      <td>CL-12565</td>\n",
              "      <td>Clay Ludtke</td>\n",
              "      <td>Consumer</td>\n",
              "      <td>United States</td>\n",
              "      <td>Los Angeles</td>\n",
              "      <td>California</td>\n",
              "      <td>...</td>\n",
              "      <td>West</td>\n",
              "      <td>TEC-MA-10004002</td>\n",
              "      <td>Technology</td>\n",
              "      <td>Machines</td>\n",
              "      <td>Zebra GX420t Direct Thermal/Thermal Transfer P...</td>\n",
              "      <td>2548.560</td>\n",
              "      <td>6</td>\n",
              "      <td>0.2</td>\n",
              "      <td>286.7130</td>\n",
              "      <td>2015</td>\n",
              "    </tr>\n",
              "    <tr>\n",
              "      <th>6012</th>\n",
              "      <td>CA-2015-135580</td>\n",
              "      <td>2015-12-30</td>\n",
              "      <td>2016-01-03</td>\n",
              "      <td>Standard Class</td>\n",
              "      <td>CL-12565</td>\n",
              "      <td>Clay Ludtke</td>\n",
              "      <td>Consumer</td>\n",
              "      <td>United States</td>\n",
              "      <td>Los Angeles</td>\n",
              "      <td>California</td>\n",
              "      <td>...</td>\n",
              "      <td>West</td>\n",
              "      <td>OFF-EN-10003296</td>\n",
              "      <td>Office Supplies</td>\n",
              "      <td>Envelopes</td>\n",
              "      <td>Tyvek Side-Opening Peel &amp; Seel Expanding Envel...</td>\n",
              "      <td>271.440</td>\n",
              "      <td>3</td>\n",
              "      <td>0.0</td>\n",
              "      <td>122.1480</td>\n",
              "      <td>2015</td>\n",
              "    </tr>\n",
              "    <tr>\n",
              "      <th>6013</th>\n",
              "      <td>CA-2015-135580</td>\n",
              "      <td>2015-12-30</td>\n",
              "      <td>2016-01-03</td>\n",
              "      <td>Standard Class</td>\n",
              "      <td>CL-12565</td>\n",
              "      <td>Clay Ludtke</td>\n",
              "      <td>Consumer</td>\n",
              "      <td>United States</td>\n",
              "      <td>Los Angeles</td>\n",
              "      <td>California</td>\n",
              "      <td>...</td>\n",
              "      <td>West</td>\n",
              "      <td>TEC-PH-10004345</td>\n",
              "      <td>Technology</td>\n",
              "      <td>Phones</td>\n",
              "      <td>Cisco SPA 502G IP Phone</td>\n",
              "      <td>287.880</td>\n",
              "      <td>3</td>\n",
              "      <td>0.2</td>\n",
              "      <td>35.9850</td>\n",
              "      <td>2015</td>\n",
              "    </tr>\n",
              "    <tr>\n",
              "      <th>6010</th>\n",
              "      <td>CA-2015-135580</td>\n",
              "      <td>2015-12-30</td>\n",
              "      <td>2016-01-03</td>\n",
              "      <td>Standard Class</td>\n",
              "      <td>CL-12565</td>\n",
              "      <td>Clay Ludtke</td>\n",
              "      <td>Consumer</td>\n",
              "      <td>United States</td>\n",
              "      <td>Los Angeles</td>\n",
              "      <td>California</td>\n",
              "      <td>...</td>\n",
              "      <td>West</td>\n",
              "      <td>OFF-ST-10000798</td>\n",
              "      <td>Office Supplies</td>\n",
              "      <td>Storage</td>\n",
              "      <td>2300 Heavy-Duty Transfer File Systems by Perma</td>\n",
              "      <td>74.940</td>\n",
              "      <td>3</td>\n",
              "      <td>0.0</td>\n",
              "      <td>14.2386</td>\n",
              "      <td>2015</td>\n",
              "    </tr>\n",
              "  </tbody>\n",
              "</table>\n",
              "<p>2091 rows × 21 columns</p>\n",
              "</div>\n",
              "      <button class=\"colab-df-convert\" onclick=\"convertToInteractive('df-6feb1535-10b3-455b-a9de-4dfaf84c5394')\"\n",
              "              title=\"Convert this dataframe to an interactive table.\"\n",
              "              style=\"display:none;\">\n",
              "        \n",
              "  <svg xmlns=\"http://www.w3.org/2000/svg\" height=\"24px\"viewBox=\"0 0 24 24\"\n",
              "       width=\"24px\">\n",
              "    <path d=\"M0 0h24v24H0V0z\" fill=\"none\"/>\n",
              "    <path d=\"M18.56 5.44l.94 2.06.94-2.06 2.06-.94-2.06-.94-.94-2.06-.94 2.06-2.06.94zm-11 1L8.5 8.5l.94-2.06 2.06-.94-2.06-.94L8.5 2.5l-.94 2.06-2.06.94zm10 10l.94 2.06.94-2.06 2.06-.94-2.06-.94-.94-2.06-.94 2.06-2.06.94z\"/><path d=\"M17.41 7.96l-1.37-1.37c-.4-.4-.92-.59-1.43-.59-.52 0-1.04.2-1.43.59L10.3 9.45l-7.72 7.72c-.78.78-.78 2.05 0 2.83L4 21.41c.39.39.9.59 1.41.59.51 0 1.02-.2 1.41-.59l7.78-7.78 2.81-2.81c.8-.78.8-2.07 0-2.86zM5.41 20L4 18.59l7.72-7.72 1.47 1.35L5.41 20z\"/>\n",
              "  </svg>\n",
              "      </button>\n",
              "      \n",
              "  <style>\n",
              "    .colab-df-container {\n",
              "      display:flex;\n",
              "      flex-wrap:wrap;\n",
              "      gap: 12px;\n",
              "    }\n",
              "\n",
              "    .colab-df-convert {\n",
              "      background-color: #E8F0FE;\n",
              "      border: none;\n",
              "      border-radius: 50%;\n",
              "      cursor: pointer;\n",
              "      display: none;\n",
              "      fill: #1967D2;\n",
              "      height: 32px;\n",
              "      padding: 0 0 0 0;\n",
              "      width: 32px;\n",
              "    }\n",
              "\n",
              "    .colab-df-convert:hover {\n",
              "      background-color: #E2EBFA;\n",
              "      box-shadow: 0px 1px 2px rgba(60, 64, 67, 0.3), 0px 1px 3px 1px rgba(60, 64, 67, 0.15);\n",
              "      fill: #174EA6;\n",
              "    }\n",
              "\n",
              "    [theme=dark] .colab-df-convert {\n",
              "      background-color: #3B4455;\n",
              "      fill: #D2E3FC;\n",
              "    }\n",
              "\n",
              "    [theme=dark] .colab-df-convert:hover {\n",
              "      background-color: #434B5C;\n",
              "      box-shadow: 0px 1px 3px 1px rgba(0, 0, 0, 0.15);\n",
              "      filter: drop-shadow(0px 1px 2px rgba(0, 0, 0, 0.3));\n",
              "      fill: #FFFFFF;\n",
              "    }\n",
              "  </style>\n",
              "\n",
              "      <script>\n",
              "        const buttonEl =\n",
              "          document.querySelector('#df-6feb1535-10b3-455b-a9de-4dfaf84c5394 button.colab-df-convert');\n",
              "        buttonEl.style.display =\n",
              "          google.colab.kernel.accessAllowed ? 'block' : 'none';\n",
              "\n",
              "        async function convertToInteractive(key) {\n",
              "          const element = document.querySelector('#df-6feb1535-10b3-455b-a9de-4dfaf84c5394');\n",
              "          const dataTable =\n",
              "            await google.colab.kernel.invokeFunction('convertToInteractive',\n",
              "                                                     [key], {});\n",
              "          if (!dataTable) return;\n",
              "\n",
              "          const docLinkHtml = 'Like what you see? Visit the ' +\n",
              "            '<a target=\"_blank\" href=https://colab.research.google.com/notebooks/data_table.ipynb>data table notebook</a>'\n",
              "            + ' to learn more about interactive tables.';\n",
              "          element.innerHTML = '';\n",
              "          dataTable['output_type'] = 'display_data';\n",
              "          await google.colab.output.renderOutput(dataTable, element);\n",
              "          const docLink = document.createElement('div');\n",
              "          docLink.innerHTML = docLinkHtml;\n",
              "          element.appendChild(docLink);\n",
              "        }\n",
              "      </script>\n",
              "    </div>\n",
              "  </div>\n",
              "  "
            ],
            "text/plain": [
              "              Order_ID Order_Date  Ship_Date       Ship_Mode Customer_ID  \\\n",
              "Row ID                                                                     \n",
              "213     CA-2015-146262 2015-01-02 2015-01-09  Standard Class    VW-21775   \n",
              "214     CA-2015-146262 2015-01-02 2015-01-09  Standard Class    VW-21775   \n",
              "215     CA-2015-146262 2015-01-02 2015-01-09  Standard Class    VW-21775   \n",
              "216     CA-2015-146262 2015-01-02 2015-01-09  Standard Class    VW-21775   \n",
              "217     CA-2015-146262 2015-01-02 2015-01-09  Standard Class    VW-21775   \n",
              "...                ...        ...        ...             ...         ...   \n",
              "6009    CA-2015-135580 2015-12-30 2016-01-03  Standard Class    CL-12565   \n",
              "6011    CA-2015-135580 2015-12-30 2016-01-03  Standard Class    CL-12565   \n",
              "6012    CA-2015-135580 2015-12-30 2016-01-03  Standard Class    CL-12565   \n",
              "6013    CA-2015-135580 2015-12-30 2016-01-03  Standard Class    CL-12565   \n",
              "6010    CA-2015-135580 2015-12-30 2016-01-03  Standard Class    CL-12565   \n",
              "\n",
              "          Customer_Name    Segment        Country         City       State  \\\n",
              "Row ID                                                                       \n",
              "213     Victoria Wilson  Corporate  United States       Medina        Ohio   \n",
              "214     Victoria Wilson  Corporate  United States       Medina        Ohio   \n",
              "215     Victoria Wilson  Corporate  United States       Medina        Ohio   \n",
              "216     Victoria Wilson  Corporate  United States       Medina        Ohio   \n",
              "217     Victoria Wilson  Corporate  United States       Medina        Ohio   \n",
              "...                 ...        ...            ...          ...         ...   \n",
              "6009        Clay Ludtke   Consumer  United States  Los Angeles  California   \n",
              "6011        Clay Ludtke   Consumer  United States  Los Angeles  California   \n",
              "6012        Clay Ludtke   Consumer  United States  Los Angeles  California   \n",
              "6013        Clay Ludtke   Consumer  United States  Los Angeles  California   \n",
              "6010        Clay Ludtke   Consumer  United States  Los Angeles  California   \n",
              "\n",
              "        ...  Region       Product_ID         Category Sub_Category  \\\n",
              "Row ID  ...                                                          \n",
              "213     ...    East  OFF-LA-10004544  Office Supplies       Labels   \n",
              "214     ...    East  FUR-BO-10004695        Furniture    Bookcases   \n",
              "215     ...    East  TEC-PH-10002844       Technology       Phones   \n",
              "216     ...    East  TEC-MA-10000864       Technology     Machines   \n",
              "217     ...    East  TEC-AC-10000109       Technology  Accessories   \n",
              "...     ...     ...              ...              ...          ...   \n",
              "6009    ...    West  OFF-PA-10000595  Office Supplies        Paper   \n",
              "6011    ...    West  TEC-MA-10004002       Technology     Machines   \n",
              "6012    ...    West  OFF-EN-10003296  Office Supplies    Envelopes   \n",
              "6013    ...    West  TEC-PH-10004345       Technology       Phones   \n",
              "6010    ...    West  OFF-ST-10000798  Office Supplies      Storage   \n",
              "\n",
              "                                             Product_Name     Sales  Quantity  \\\n",
              "Row ID                                                                          \n",
              "213                                             Avery 505    23.680         2   \n",
              "214     O'Sullivan 2-Door Barrister Bookcase in Odessa...   452.450         5   \n",
              "215                   Speck Products Candyshell Flip Case    62.982         3   \n",
              "216                    Cisco 9971 IP Video Phone Charcoal  1188.000         9   \n",
              "217      Sony Micro Vault Click 16 GB USB 2.0 Flash Drive    89.584         2   \n",
              "...                                                   ...       ...       ...   \n",
              "6009                                           Xerox 1929    68.520         3   \n",
              "6011    Zebra GX420t Direct Thermal/Thermal Transfer P...  2548.560         6   \n",
              "6012    Tyvek Side-Opening Peel & Seel Expanding Envel...   271.440         3   \n",
              "6013                              Cisco SPA 502G IP Phone   287.880         3   \n",
              "6010       2300 Heavy-Duty Transfer File Systems by Perma    74.940         3   \n",
              "\n",
              "        Discount    Profit  Year  \n",
              "Row ID                            \n",
              "213          0.2    8.8800  2015  \n",
              "214          0.5 -244.3230  2015  \n",
              "215          0.4  -14.6958  2015  \n",
              "216          0.7 -950.4000  2015  \n",
              "217          0.2    4.4792  2015  \n",
              "...          ...       ...   ...  \n",
              "6009         0.0   31.5192  2015  \n",
              "6011         0.2  286.7130  2015  \n",
              "6012         0.0  122.1480  2015  \n",
              "6013         0.2   35.9850  2015  \n",
              "6010         0.0   14.2386  2015  \n",
              "\n",
              "[2091 rows x 21 columns]"
            ]
          },
          "execution_count": 38,
          "metadata": {},
          "output_type": "execute_result"
        }
      ],
      "source": [
        "# หายอดขาดในปี 2015 เท่านั้นและเรียงจากน้อยไปมาก\n",
        "superstore[(superstore['Order_Date'] > \"2015-01-01\") & (superstore['Order_Date'] < \"2015-12-31\" ) ]\\\n",
        "    .sort_values(by=['Order_Date'], ascending=True)"
      ]
    },
    {
      "cell_type": "markdown",
      "metadata": {
        "id": "-5irUV6iktwh"
      },
      "source": [
        "ค้นหา Segment = Corporate ในปี 2015 มีกี่แถว และ หายอดขาย"
      ]
    },
    {
      "cell_type": "code",
      "execution_count": 39,
      "metadata": {
        "colab": {
          "base_uri": "https://localhost:8080/"
        },
        "id": "aC9j1YF6j0kp",
        "outputId": "f86a7745-e432-4721-d7cb-2b1397443a16"
      },
      "outputs": [
        {
          "data": {
            "text/plain": [
              "Consumer       5191\n",
              "Corporate      3020\n",
              "Home Office    1783\n",
              "Name: Segment, dtype: int64"
            ]
          },
          "execution_count": 39,
          "metadata": {},
          "output_type": "execute_result"
        }
      ],
      "source": [
        "superstore['Segment'].value_counts().loc[lambda x: x>1]"
      ]
    },
    {
      "cell_type": "code",
      "execution_count": 40,
      "metadata": {
        "colab": {
          "base_uri": "https://localhost:8080/"
        },
        "id": "KNQOzQKRjoWk",
        "outputId": "6b519ee1-d21c-4017-f7c3-155cfc59d01c"
      },
      "outputs": [
        {
          "data": {
            "text/plain": [
              "(4486, 21)"
            ]
          },
          "execution_count": 40,
          "metadata": {},
          "output_type": "execute_result"
        }
      ],
      "source": [
        "segment_cor_2015 = superstore[(superstore['Year'] == 2015) | (superstore['Segment']== \"Corporate\" ) ]\n",
        "segment_cor_2015.shape"
      ]
    },
    {
      "cell_type": "code",
      "execution_count": 41,
      "metadata": {
        "colab": {
          "base_uri": "https://localhost:8080/"
        },
        "id": "acw3i08Yk7mV",
        "outputId": "e05ae642-2431-4954-9497-6104ffa52b35"
      },
      "outputs": [
        {
          "data": {
            "text/plain": [
              "Sales    1.047922e+06\n",
              "dtype: float64"
            ]
          },
          "execution_count": 41,
          "metadata": {},
          "output_type": "execute_result"
        }
      ],
      "source": [
        "segment_cor_2015[['Sales']].apply(sum, axis=0)"
      ]
    },
    {
      "cell_type": "code",
      "execution_count": 42,
      "metadata": {
        "colab": {
          "base_uri": "https://localhost:8080/"
        },
        "id": "6lfDYkmxlO8u",
        "outputId": "3d7e2736-02b0-4f33-9847-de8008ca8431"
      },
      "outputs": [
        {
          "data": {
            "text/plain": [
              "Sales    1.047922e+06\n",
              "dtype: float64"
            ]
          },
          "execution_count": 42,
          "metadata": {},
          "output_type": "execute_result"
        }
      ],
      "source": [
        "np.sum(segment_cor_2015[['Sales']])"
      ]
    },
    {
      "cell_type": "code",
      "execution_count": 43,
      "metadata": {
        "colab": {
          "base_uri": "https://localhost:8080/",
          "height": 1000
        },
        "id": "7465I740UJis",
        "outputId": "e8b0d853-17c9-46a4-d992-ea1eb1fe85fd"
      },
      "outputs": [
        {
          "data": {
            "text/html": [
              "\n",
              "  <div id=\"df-cdca1406-538c-48f2-8cd4-fd94fba1202a\">\n",
              "    <div class=\"colab-df-container\">\n",
              "      <div>\n",
              "<style scoped>\n",
              "    .dataframe tbody tr th:only-of-type {\n",
              "        vertical-align: middle;\n",
              "    }\n",
              "\n",
              "    .dataframe tbody tr th {\n",
              "        vertical-align: top;\n",
              "    }\n",
              "\n",
              "    .dataframe thead th {\n",
              "        text-align: right;\n",
              "    }\n",
              "</style>\n",
              "<table border=\"1\" class=\"dataframe\">\n",
              "  <thead>\n",
              "    <tr style=\"text-align: right;\">\n",
              "      <th></th>\n",
              "      <th>Order_ID</th>\n",
              "      <th>Order_Date</th>\n",
              "      <th>Ship_Date</th>\n",
              "      <th>Ship_Mode</th>\n",
              "      <th>Customer_ID</th>\n",
              "      <th>Customer_Name</th>\n",
              "      <th>Segment</th>\n",
              "      <th>Country</th>\n",
              "      <th>City</th>\n",
              "      <th>State</th>\n",
              "      <th>...</th>\n",
              "      <th>Region</th>\n",
              "      <th>Product_ID</th>\n",
              "      <th>Category</th>\n",
              "      <th>Sub_Category</th>\n",
              "      <th>Product_Name</th>\n",
              "      <th>Sales</th>\n",
              "      <th>Quantity</th>\n",
              "      <th>Discount</th>\n",
              "      <th>Profit</th>\n",
              "      <th>Year</th>\n",
              "    </tr>\n",
              "    <tr>\n",
              "      <th>Row ID</th>\n",
              "      <th></th>\n",
              "      <th></th>\n",
              "      <th></th>\n",
              "      <th></th>\n",
              "      <th></th>\n",
              "      <th></th>\n",
              "      <th></th>\n",
              "      <th></th>\n",
              "      <th></th>\n",
              "      <th></th>\n",
              "      <th></th>\n",
              "      <th></th>\n",
              "      <th></th>\n",
              "      <th></th>\n",
              "      <th></th>\n",
              "      <th></th>\n",
              "      <th></th>\n",
              "      <th></th>\n",
              "      <th></th>\n",
              "      <th></th>\n",
              "      <th></th>\n",
              "    </tr>\n",
              "  </thead>\n",
              "  <tbody>\n",
              "    <tr>\n",
              "      <th>3</th>\n",
              "      <td>CA-2016-138688</td>\n",
              "      <td>2016-06-12</td>\n",
              "      <td>2016-06-16</td>\n",
              "      <td>Second Class</td>\n",
              "      <td>DV-13045</td>\n",
              "      <td>Darrin Van Huff</td>\n",
              "      <td>Corporate</td>\n",
              "      <td>United States</td>\n",
              "      <td>Los Angeles</td>\n",
              "      <td>California</td>\n",
              "      <td>...</td>\n",
              "      <td>West</td>\n",
              "      <td>OFF-LA-10000240</td>\n",
              "      <td>Office Supplies</td>\n",
              "      <td>Labels</td>\n",
              "      <td>Self-Adhesive Address Labels for Typewriters b...</td>\n",
              "      <td>14.620</td>\n",
              "      <td>2</td>\n",
              "      <td>0.0</td>\n",
              "      <td>6.8714</td>\n",
              "      <td>2016</td>\n",
              "    </tr>\n",
              "    <tr>\n",
              "      <th>22</th>\n",
              "      <td>CA-2016-137330</td>\n",
              "      <td>2016-12-09</td>\n",
              "      <td>2016-12-13</td>\n",
              "      <td>Standard Class</td>\n",
              "      <td>KB-16585</td>\n",
              "      <td>Ken Black</td>\n",
              "      <td>Corporate</td>\n",
              "      <td>United States</td>\n",
              "      <td>Fremont</td>\n",
              "      <td>Nebraska</td>\n",
              "      <td>...</td>\n",
              "      <td>Central</td>\n",
              "      <td>OFF-AR-10000246</td>\n",
              "      <td>Office Supplies</td>\n",
              "      <td>Art</td>\n",
              "      <td>Newell 318</td>\n",
              "      <td>19.460</td>\n",
              "      <td>7</td>\n",
              "      <td>0.0</td>\n",
              "      <td>5.0596</td>\n",
              "      <td>2016</td>\n",
              "    </tr>\n",
              "    <tr>\n",
              "      <th>23</th>\n",
              "      <td>CA-2016-137330</td>\n",
              "      <td>2016-12-09</td>\n",
              "      <td>2016-12-13</td>\n",
              "      <td>Standard Class</td>\n",
              "      <td>KB-16585</td>\n",
              "      <td>Ken Black</td>\n",
              "      <td>Corporate</td>\n",
              "      <td>United States</td>\n",
              "      <td>Fremont</td>\n",
              "      <td>Nebraska</td>\n",
              "      <td>...</td>\n",
              "      <td>Central</td>\n",
              "      <td>OFF-AP-10001492</td>\n",
              "      <td>Office Supplies</td>\n",
              "      <td>Appliances</td>\n",
              "      <td>Acco Six-Outlet Power Strip, 4' Cord Length</td>\n",
              "      <td>60.340</td>\n",
              "      <td>7</td>\n",
              "      <td>0.0</td>\n",
              "      <td>15.6884</td>\n",
              "      <td>2016</td>\n",
              "    </tr>\n",
              "    <tr>\n",
              "      <th>36</th>\n",
              "      <td>CA-2016-117590</td>\n",
              "      <td>2016-12-08</td>\n",
              "      <td>2016-12-10</td>\n",
              "      <td>First Class</td>\n",
              "      <td>GH-14485</td>\n",
              "      <td>Gene Hale</td>\n",
              "      <td>Corporate</td>\n",
              "      <td>United States</td>\n",
              "      <td>Richardson</td>\n",
              "      <td>Texas</td>\n",
              "      <td>...</td>\n",
              "      <td>Central</td>\n",
              "      <td>TEC-PH-10004977</td>\n",
              "      <td>Technology</td>\n",
              "      <td>Phones</td>\n",
              "      <td>GE 30524EE4</td>\n",
              "      <td>1097.544</td>\n",
              "      <td>7</td>\n",
              "      <td>0.2</td>\n",
              "      <td>123.4737</td>\n",
              "      <td>2016</td>\n",
              "    </tr>\n",
              "    <tr>\n",
              "      <th>37</th>\n",
              "      <td>CA-2016-117590</td>\n",
              "      <td>2016-12-08</td>\n",
              "      <td>2016-12-10</td>\n",
              "      <td>First Class</td>\n",
              "      <td>GH-14485</td>\n",
              "      <td>Gene Hale</td>\n",
              "      <td>Corporate</td>\n",
              "      <td>United States</td>\n",
              "      <td>Richardson</td>\n",
              "      <td>Texas</td>\n",
              "      <td>...</td>\n",
              "      <td>Central</td>\n",
              "      <td>FUR-FU-10003664</td>\n",
              "      <td>Furniture</td>\n",
              "      <td>Furnishings</td>\n",
              "      <td>Electrix Architect's Clamp-On Swing Arm Lamp, ...</td>\n",
              "      <td>190.920</td>\n",
              "      <td>5</td>\n",
              "      <td>0.6</td>\n",
              "      <td>-147.9630</td>\n",
              "      <td>2016</td>\n",
              "    </tr>\n",
              "    <tr>\n",
              "      <th>...</th>\n",
              "      <td>...</td>\n",
              "      <td>...</td>\n",
              "      <td>...</td>\n",
              "      <td>...</td>\n",
              "      <td>...</td>\n",
              "      <td>...</td>\n",
              "      <td>...</td>\n",
              "      <td>...</td>\n",
              "      <td>...</td>\n",
              "      <td>...</td>\n",
              "      <td>...</td>\n",
              "      <td>...</td>\n",
              "      <td>...</td>\n",
              "      <td>...</td>\n",
              "      <td>...</td>\n",
              "      <td>...</td>\n",
              "      <td>...</td>\n",
              "      <td>...</td>\n",
              "      <td>...</td>\n",
              "      <td>...</td>\n",
              "      <td>...</td>\n",
              "    </tr>\n",
              "    <tr>\n",
              "      <th>9965</th>\n",
              "      <td>CA-2016-146374</td>\n",
              "      <td>2016-12-05</td>\n",
              "      <td>2016-12-10</td>\n",
              "      <td>Second Class</td>\n",
              "      <td>HE-14800</td>\n",
              "      <td>Harold Engle</td>\n",
              "      <td>Corporate</td>\n",
              "      <td>United States</td>\n",
              "      <td>Newark</td>\n",
              "      <td>Delaware</td>\n",
              "      <td>...</td>\n",
              "      <td>East</td>\n",
              "      <td>FUR-FU-10002671</td>\n",
              "      <td>Furniture</td>\n",
              "      <td>Furnishings</td>\n",
              "      <td>Electrix 20W Halogen Replacement Bulb for Zoom...</td>\n",
              "      <td>13.400</td>\n",
              "      <td>1</td>\n",
              "      <td>0.0</td>\n",
              "      <td>6.4320</td>\n",
              "      <td>2016</td>\n",
              "    </tr>\n",
              "    <tr>\n",
              "      <th>9966</th>\n",
              "      <td>CA-2016-146374</td>\n",
              "      <td>2016-12-05</td>\n",
              "      <td>2016-12-10</td>\n",
              "      <td>Second Class</td>\n",
              "      <td>HE-14800</td>\n",
              "      <td>Harold Engle</td>\n",
              "      <td>Corporate</td>\n",
              "      <td>United States</td>\n",
              "      <td>Newark</td>\n",
              "      <td>Delaware</td>\n",
              "      <td>...</td>\n",
              "      <td>East</td>\n",
              "      <td>OFF-PA-10000349</td>\n",
              "      <td>Office Supplies</td>\n",
              "      <td>Paper</td>\n",
              "      <td>Easy-staple paper</td>\n",
              "      <td>4.980</td>\n",
              "      <td>1</td>\n",
              "      <td>0.0</td>\n",
              "      <td>2.3406</td>\n",
              "      <td>2016</td>\n",
              "    </tr>\n",
              "    <tr>\n",
              "      <th>9967</th>\n",
              "      <td>CA-2016-146374</td>\n",
              "      <td>2016-12-05</td>\n",
              "      <td>2016-12-10</td>\n",
              "      <td>Second Class</td>\n",
              "      <td>HE-14800</td>\n",
              "      <td>Harold Engle</td>\n",
              "      <td>Corporate</td>\n",
              "      <td>United States</td>\n",
              "      <td>Newark</td>\n",
              "      <td>Delaware</td>\n",
              "      <td>...</td>\n",
              "      <td>East</td>\n",
              "      <td>OFF-EN-10004483</td>\n",
              "      <td>Office Supplies</td>\n",
              "      <td>Envelopes</td>\n",
              "      <td>#10 White Business Envelopes,4 1/8 x 9 1/2</td>\n",
              "      <td>109.690</td>\n",
              "      <td>7</td>\n",
              "      <td>0.0</td>\n",
              "      <td>51.5543</td>\n",
              "      <td>2016</td>\n",
              "    </tr>\n",
              "    <tr>\n",
              "      <th>9988</th>\n",
              "      <td>CA-2017-163629</td>\n",
              "      <td>2017-11-17</td>\n",
              "      <td>2017-11-21</td>\n",
              "      <td>Standard Class</td>\n",
              "      <td>RA-19885</td>\n",
              "      <td>Ruben Ausman</td>\n",
              "      <td>Corporate</td>\n",
              "      <td>United States</td>\n",
              "      <td>Athens</td>\n",
              "      <td>Georgia</td>\n",
              "      <td>...</td>\n",
              "      <td>South</td>\n",
              "      <td>TEC-AC-10001539</td>\n",
              "      <td>Technology</td>\n",
              "      <td>Accessories</td>\n",
              "      <td>Logitech G430 Surround Sound Gaming Headset wi...</td>\n",
              "      <td>79.990</td>\n",
              "      <td>1</td>\n",
              "      <td>0.0</td>\n",
              "      <td>28.7964</td>\n",
              "      <td>2017</td>\n",
              "    </tr>\n",
              "    <tr>\n",
              "      <th>9989</th>\n",
              "      <td>CA-2017-163629</td>\n",
              "      <td>2017-11-17</td>\n",
              "      <td>2017-11-21</td>\n",
              "      <td>Standard Class</td>\n",
              "      <td>RA-19885</td>\n",
              "      <td>Ruben Ausman</td>\n",
              "      <td>Corporate</td>\n",
              "      <td>United States</td>\n",
              "      <td>Athens</td>\n",
              "      <td>Georgia</td>\n",
              "      <td>...</td>\n",
              "      <td>South</td>\n",
              "      <td>TEC-PH-10004006</td>\n",
              "      <td>Technology</td>\n",
              "      <td>Phones</td>\n",
              "      <td>Panasonic KX - TS880B Telephone</td>\n",
              "      <td>206.100</td>\n",
              "      <td>5</td>\n",
              "      <td>0.0</td>\n",
              "      <td>55.6470</td>\n",
              "      <td>2017</td>\n",
              "    </tr>\n",
              "  </tbody>\n",
              "</table>\n",
              "<p>3020 rows × 21 columns</p>\n",
              "</div>\n",
              "      <button class=\"colab-df-convert\" onclick=\"convertToInteractive('df-cdca1406-538c-48f2-8cd4-fd94fba1202a')\"\n",
              "              title=\"Convert this dataframe to an interactive table.\"\n",
              "              style=\"display:none;\">\n",
              "        \n",
              "  <svg xmlns=\"http://www.w3.org/2000/svg\" height=\"24px\"viewBox=\"0 0 24 24\"\n",
              "       width=\"24px\">\n",
              "    <path d=\"M0 0h24v24H0V0z\" fill=\"none\"/>\n",
              "    <path d=\"M18.56 5.44l.94 2.06.94-2.06 2.06-.94-2.06-.94-.94-2.06-.94 2.06-2.06.94zm-11 1L8.5 8.5l.94-2.06 2.06-.94-2.06-.94L8.5 2.5l-.94 2.06-2.06.94zm10 10l.94 2.06.94-2.06 2.06-.94-2.06-.94-.94-2.06-.94 2.06-2.06.94z\"/><path d=\"M17.41 7.96l-1.37-1.37c-.4-.4-.92-.59-1.43-.59-.52 0-1.04.2-1.43.59L10.3 9.45l-7.72 7.72c-.78.78-.78 2.05 0 2.83L4 21.41c.39.39.9.59 1.41.59.51 0 1.02-.2 1.41-.59l7.78-7.78 2.81-2.81c.8-.78.8-2.07 0-2.86zM5.41 20L4 18.59l7.72-7.72 1.47 1.35L5.41 20z\"/>\n",
              "  </svg>\n",
              "      </button>\n",
              "      \n",
              "  <style>\n",
              "    .colab-df-container {\n",
              "      display:flex;\n",
              "      flex-wrap:wrap;\n",
              "      gap: 12px;\n",
              "    }\n",
              "\n",
              "    .colab-df-convert {\n",
              "      background-color: #E8F0FE;\n",
              "      border: none;\n",
              "      border-radius: 50%;\n",
              "      cursor: pointer;\n",
              "      display: none;\n",
              "      fill: #1967D2;\n",
              "      height: 32px;\n",
              "      padding: 0 0 0 0;\n",
              "      width: 32px;\n",
              "    }\n",
              "\n",
              "    .colab-df-convert:hover {\n",
              "      background-color: #E2EBFA;\n",
              "      box-shadow: 0px 1px 2px rgba(60, 64, 67, 0.3), 0px 1px 3px 1px rgba(60, 64, 67, 0.15);\n",
              "      fill: #174EA6;\n",
              "    }\n",
              "\n",
              "    [theme=dark] .colab-df-convert {\n",
              "      background-color: #3B4455;\n",
              "      fill: #D2E3FC;\n",
              "    }\n",
              "\n",
              "    [theme=dark] .colab-df-convert:hover {\n",
              "      background-color: #434B5C;\n",
              "      box-shadow: 0px 1px 3px 1px rgba(0, 0, 0, 0.15);\n",
              "      filter: drop-shadow(0px 1px 2px rgba(0, 0, 0, 0.3));\n",
              "      fill: #FFFFFF;\n",
              "    }\n",
              "  </style>\n",
              "\n",
              "      <script>\n",
              "        const buttonEl =\n",
              "          document.querySelector('#df-cdca1406-538c-48f2-8cd4-fd94fba1202a button.colab-df-convert');\n",
              "        buttonEl.style.display =\n",
              "          google.colab.kernel.accessAllowed ? 'block' : 'none';\n",
              "\n",
              "        async function convertToInteractive(key) {\n",
              "          const element = document.querySelector('#df-cdca1406-538c-48f2-8cd4-fd94fba1202a');\n",
              "          const dataTable =\n",
              "            await google.colab.kernel.invokeFunction('convertToInteractive',\n",
              "                                                     [key], {});\n",
              "          if (!dataTable) return;\n",
              "\n",
              "          const docLinkHtml = 'Like what you see? Visit the ' +\n",
              "            '<a target=\"_blank\" href=https://colab.research.google.com/notebooks/data_table.ipynb>data table notebook</a>'\n",
              "            + ' to learn more about interactive tables.';\n",
              "          element.innerHTML = '';\n",
              "          dataTable['output_type'] = 'display_data';\n",
              "          await google.colab.output.renderOutput(dataTable, element);\n",
              "          const docLink = document.createElement('div');\n",
              "          docLink.innerHTML = docLinkHtml;\n",
              "          element.appendChild(docLink);\n",
              "        }\n",
              "      </script>\n",
              "    </div>\n",
              "  </div>\n",
              "  "
            ],
            "text/plain": [
              "              Order_ID Order_Date  Ship_Date       Ship_Mode Customer_ID  \\\n",
              "Row ID                                                                     \n",
              "3       CA-2016-138688 2016-06-12 2016-06-16    Second Class    DV-13045   \n",
              "22      CA-2016-137330 2016-12-09 2016-12-13  Standard Class    KB-16585   \n",
              "23      CA-2016-137330 2016-12-09 2016-12-13  Standard Class    KB-16585   \n",
              "36      CA-2016-117590 2016-12-08 2016-12-10     First Class    GH-14485   \n",
              "37      CA-2016-117590 2016-12-08 2016-12-10     First Class    GH-14485   \n",
              "...                ...        ...        ...             ...         ...   \n",
              "9965    CA-2016-146374 2016-12-05 2016-12-10    Second Class    HE-14800   \n",
              "9966    CA-2016-146374 2016-12-05 2016-12-10    Second Class    HE-14800   \n",
              "9967    CA-2016-146374 2016-12-05 2016-12-10    Second Class    HE-14800   \n",
              "9988    CA-2017-163629 2017-11-17 2017-11-21  Standard Class    RA-19885   \n",
              "9989    CA-2017-163629 2017-11-17 2017-11-21  Standard Class    RA-19885   \n",
              "\n",
              "          Customer_Name    Segment        Country         City       State  \\\n",
              "Row ID                                                                       \n",
              "3       Darrin Van Huff  Corporate  United States  Los Angeles  California   \n",
              "22            Ken Black  Corporate  United States      Fremont    Nebraska   \n",
              "23            Ken Black  Corporate  United States      Fremont    Nebraska   \n",
              "36            Gene Hale  Corporate  United States   Richardson       Texas   \n",
              "37            Gene Hale  Corporate  United States   Richardson       Texas   \n",
              "...                 ...        ...            ...          ...         ...   \n",
              "9965       Harold Engle  Corporate  United States       Newark    Delaware   \n",
              "9966       Harold Engle  Corporate  United States       Newark    Delaware   \n",
              "9967       Harold Engle  Corporate  United States       Newark    Delaware   \n",
              "9988       Ruben Ausman  Corporate  United States       Athens     Georgia   \n",
              "9989       Ruben Ausman  Corporate  United States       Athens     Georgia   \n",
              "\n",
              "        ...   Region       Product_ID         Category Sub_Category  \\\n",
              "Row ID  ...                                                           \n",
              "3       ...     West  OFF-LA-10000240  Office Supplies       Labels   \n",
              "22      ...  Central  OFF-AR-10000246  Office Supplies          Art   \n",
              "23      ...  Central  OFF-AP-10001492  Office Supplies   Appliances   \n",
              "36      ...  Central  TEC-PH-10004977       Technology       Phones   \n",
              "37      ...  Central  FUR-FU-10003664        Furniture  Furnishings   \n",
              "...     ...      ...              ...              ...          ...   \n",
              "9965    ...     East  FUR-FU-10002671        Furniture  Furnishings   \n",
              "9966    ...     East  OFF-PA-10000349  Office Supplies        Paper   \n",
              "9967    ...     East  OFF-EN-10004483  Office Supplies    Envelopes   \n",
              "9988    ...    South  TEC-AC-10001539       Technology  Accessories   \n",
              "9989    ...    South  TEC-PH-10004006       Technology       Phones   \n",
              "\n",
              "                                             Product_Name     Sales  Quantity  \\\n",
              "Row ID                                                                          \n",
              "3       Self-Adhesive Address Labels for Typewriters b...    14.620         2   \n",
              "22                                             Newell 318    19.460         7   \n",
              "23            Acco Six-Outlet Power Strip, 4' Cord Length    60.340         7   \n",
              "36                                            GE 30524EE4  1097.544         7   \n",
              "37      Electrix Architect's Clamp-On Swing Arm Lamp, ...   190.920         5   \n",
              "...                                                   ...       ...       ...   \n",
              "9965    Electrix 20W Halogen Replacement Bulb for Zoom...    13.400         1   \n",
              "9966                                    Easy-staple paper     4.980         1   \n",
              "9967           #10 White Business Envelopes,4 1/8 x 9 1/2   109.690         7   \n",
              "9988    Logitech G430 Surround Sound Gaming Headset wi...    79.990         1   \n",
              "9989                      Panasonic KX - TS880B Telephone   206.100         5   \n",
              "\n",
              "        Discount    Profit  Year  \n",
              "Row ID                            \n",
              "3            0.0    6.8714  2016  \n",
              "22           0.0    5.0596  2016  \n",
              "23           0.0   15.6884  2016  \n",
              "36           0.2  123.4737  2016  \n",
              "37           0.6 -147.9630  2016  \n",
              "...          ...       ...   ...  \n",
              "9965         0.0    6.4320  2016  \n",
              "9966         0.0    2.3406  2016  \n",
              "9967         0.0   51.5543  2016  \n",
              "9988         0.0   28.7964  2017  \n",
              "9989         0.0   55.6470  2017  \n",
              "\n",
              "[3020 rows x 21 columns]"
            ]
          },
          "execution_count": 43,
          "metadata": {},
          "output_type": "execute_result"
        }
      ],
      "source": [
        "# สามารถใช้ .query() หา Segment = Corporate ในปี 2015 ได้ผลลัทธ์เหมือนกัน\n",
        "superstore.query('Year ==  \"2015\"  | Segment == \"Corporate\" ')"
      ]
    },
    {
      "cell_type": "markdown",
      "metadata": {
        "id": "06tLi5F73_Kn"
      },
      "source": [
        "หาสัดส่วนยอดขายรวม (%) ใน West + Centarl ปี 2017 เป็นเท่าใด เช่น 25%"
      ]
    },
    {
      "cell_type": "code",
      "execution_count": 44,
      "metadata": {
        "colab": {
          "base_uri": "https://localhost:8080/"
        },
        "id": "hlpBqyPS37tZ",
        "outputId": "568d67e4-67cd-48ad-a935-b07733a7c2ce"
      },
      "outputs": [
        {
          "name": "stdout",
          "output_type": "stream",
          "text": [
            "Total Sales: 2297200.86\n",
            "Total Sales West+Central : 397226.4937\n",
            "Proportion : 17.29 % of all\n"
          ]
        }
      ],
      "source": [
        "all_sales = superstore['Sales'].sum().round(2)\n",
        "print(f\"Total Sales: {all_sales}\")\n",
        "\n",
        "west_central = superstore[(superstore['Year'] == 2017)].query('Region == \"West\" | Region == \"Central\" ')\n",
        "west_central = west_central['Sales'].sum()\n",
        "print(f\"Total Sales West+Central : {west_central}\")\n",
        "\n",
        "proportion = west_central / (all_sales/100)\n",
        "print(f\"Proportion : {proportion.round(2)} % of all\")"
      ]
    },
    {
      "cell_type": "markdown",
      "metadata": {
        "id": "jDX9XkQHAHUr"
      },
      "source": [
        "##EDA แบบใช้กราฟฟิก"
      ]
    },
    {
      "cell_type": "code",
      "execution_count": 45,
      "metadata": {
        "id": "y1rG2ix9rz5r"
      },
      "outputs": [],
      "source": [
        "import seaborn as sns\n",
        "import matplotlib.pyplot as plt\n",
        "\n",
        "%matplotlib inline"
      ]
    },
    {
      "cell_type": "code",
      "execution_count": 46,
      "metadata": {
        "colab": {
          "base_uri": "https://localhost:8080/"
        },
        "id": "swHsw0WVst-6",
        "outputId": "9c4706ef-79e9-4f4c-a590-7f273b7ea405"
      },
      "outputs": [
        {
          "data": {
            "text/plain": [
              "Index(['Order_ID', 'Order_Date', 'Ship_Date', 'Ship_Mode', 'Customer_ID',\n",
              "       'Customer_Name', 'Segment', 'Country', 'City', 'State', 'Postal_Code',\n",
              "       'Region', 'Product_ID', 'Category', 'Sub_Category', 'Product_Name',\n",
              "       'Sales', 'Quantity', 'Discount', 'Profit', 'Year'],\n",
              "      dtype='object')"
            ]
          },
          "execution_count": 46,
          "metadata": {},
          "output_type": "execute_result"
        }
      ],
      "source": [
        "superstore.columns"
      ]
    },
    {
      "cell_type": "markdown",
      "metadata": {
        "id": "iW6_QAZ_9nHR"
      },
      "source": [
        "Histograms"
      ]
    },
    {
      "cell_type": "code",
      "execution_count": 91,
      "metadata": {
        "colab": {
          "base_uri": "https://localhost:8080/",
          "height": 316
        },
        "id": "No8FmcAQ5MA5",
        "outputId": "32883b48-abd7-427e-b216-b1131f75d9d4"
      },
      "outputs": [
        {
          "data": {
            "text/plain": [
              "array([[<matplotlib.axes._subplots.AxesSubplot object at 0x7f3a87920b90>]],\n",
              "      dtype=object)"
            ]
          },
          "execution_count": 91,
          "metadata": {},
          "output_type": "execute_result"
        },
        {
          "data": {
            "image/png": "[encoded data removed]",
            "text/plain": [
              "<Figure size 432x288 with 1 Axes>"
            ]
          },
          "metadata": {
            "needs_background": "light"
          },
          "output_type": "display_data"
        }
      ],
      "source": [
        "superstore[['Sales']].hist(grid=False, color='orange',\n",
        "                              sharex=True, sharey=True)"
      ]
    },
    {
      "cell_type": "code",
      "execution_count": 98,
      "metadata": {
        "colab": {
          "base_uri": "https://localhost:8080/",
          "height": 282
        },
        "id": "nm5Jr7Gd57wB",
        "outputId": "90956a05-43a6-49cb-aa51-04310616468d"
      },
      "outputs": [
        {
          "data": {
            "text/plain": [
              "<matplotlib.axes._subplots.AxesSubplot at 0x7f3a8769a390>"
            ]
          },
          "execution_count": 98,
          "metadata": {},
          "output_type": "execute_result"
        },
        {
          "data": {
            "image/png": "[encoded data removed]",
            "text/plain": [
              "<Figure size 432x288 with 1 Axes>"
            ]
          },
          "metadata": {
            "needs_background": "light"
          },
          "output_type": "display_data"
        }
      ],
      "source": [
        "superstore['Sub_Category'].value_counts().sort_values().plot.barh()"
      ]
    },
    {
      "cell_type": "code",
      "execution_count": 47,
      "metadata": {
        "colab": {
          "base_uri": "https://localhost:8080/",
          "height": 312
        },
        "id": "1O_Am33Ubd3l",
        "outputId": "bbea0ca8-de18-45f1-a6c5-23e789c97d73"
      },
      "outputs": [
        {
          "data": {
            "text/plain": [
              "Text(0, 0.5, 'Count')"
            ]
          },
          "execution_count": 47,
          "metadata": {},
          "output_type": "execute_result"
        },
        {
          "data": {
            "image/png": "[encoded data removed]",
            "text/plain": [
              "<Figure size 432x288 with 1 Axes>"
            ]
          },
          "metadata": {
            "needs_background": "light"
          },
          "output_type": "display_data"
        }
      ],
      "source": [
        "ax = superstore['Sub_Category'].value_counts(ascending=True).head(10) \\\n",
        "    .plot(kind='barh', title='Top 10 Sub Category ')\n",
        "ax.set_xlabel('Sub Category')\n",
        "ax.set_ylabel('Count')"
      ]
    },
    {
      "cell_type": "code",
      "execution_count": 48,
      "metadata": {
        "colab": {
          "base_uri": "https://localhost:8080/",
          "height": 386
        },
        "id": "OCg5i6ulSidv",
        "outputId": "14b967ae-3da6-44f8-81ad-eca5fbce96bb"
      },
      "outputs": [
        {
          "data": {
            "text/plain": [
              "<seaborn.axisgrid.FacetGrid at 0x7f3ab2881f10>"
            ]
          },
          "execution_count": 48,
          "metadata": {},
          "output_type": "execute_result"
        },
        {
          "data": {
            "image/png": "[encoded data removed]",
            "text/plain": [
              "<Figure size 360x360 with 1 Axes>"
            ]
          },
          "metadata": {
            "needs_background": "light"
          },
          "output_type": "display_data"
        }
      ],
      "source": [
        "\n",
        "sns.displot(superstore, x=\"Category\")"
      ]
    },
    {
      "cell_type": "code",
      "execution_count": 49,
      "metadata": {
        "colab": {
          "base_uri": "https://localhost:8080/",
          "height": 296
        },
        "id": "E1T46P72rwkn",
        "outputId": "b68a75a2-575f-453d-b3ad-f849f65e92fd"
      },
      "outputs": [
        {
          "data": {
            "text/plain": [
              "<matplotlib.axes._subplots.AxesSubplot at 0x7f3aafa7c7d0>"
            ]
          },
          "execution_count": 49,
          "metadata": {},
          "output_type": "execute_result"
        },
        {
          "data": {
            "image/png": "[encoded data removed]",
            "text/plain": [
              "<Figure size 432x288 with 1 Axes>"
            ]
          },
          "metadata": {
            "needs_background": "light"
          },
          "output_type": "display_data"
        }
      ],
      "source": [
        "sns.histplot(superstore['Sales'], bins=[1000, 2000, 3000, 4000,5000, 6000, 7000, 8000])"
      ]
    },
    {
      "cell_type": "code",
      "execution_count": 50,
      "metadata": {
        "colab": {
          "base_uri": "https://localhost:8080/",
          "height": 368
        },
        "id": "fSFNVoU4VvHJ",
        "outputId": "4e8a1d0e-081c-4d6c-92e7-56add380670e"
      },
      "outputs": [
        {
          "name": "stderr",
          "output_type": "stream",
          "text": [
            "/usr/local/lib/python3.7/dist-packages/seaborn/distributions.py:2619: FutureWarning: `distplot` is a deprecated function and will be removed in a future version. Please adapt your code to use either `displot` (a figure-level function with similar flexibility) or `histplot` (an axes-level function for histograms).\n",
            "  warnings.warn(msg, FutureWarning)\n"
          ]
        },
        {
          "data": {
            "text/plain": [
              "Text(0.5, 1.0, 'Sales')"
            ]
          },
          "execution_count": 50,
          "metadata": {},
          "output_type": "execute_result"
        },
        {
          "data": {
            "image/png": "[encoded data removed]",
            "text/plain": [
              "<Figure size 504x288 with 1 Axes>"
            ]
          },
          "metadata": {
            "needs_background": "light"
          },
          "output_type": "display_data"
        }
      ],
      "source": [
        "plt.figure(figsize=(7,4))\n",
        "sns.distplot(superstore['Sales'],kde=True)\n",
        "plt.title('Sales', size=14)"
      ]
    },
    {
      "cell_type": "markdown",
      "metadata": {
        "id": "SqoYo5jZ-PQO"
      },
      "source": [
        "Barplots"
      ]
    },
    {
      "cell_type": "code",
      "execution_count": 51,
      "metadata": {
        "colab": {
          "base_uri": "https://localhost:8080/",
          "height": 368
        },
        "id": "af1S4WyHee5C",
        "outputId": "7d0a77f9-0e79-4235-e701-501dcb112ea5"
      },
      "outputs": [
        {
          "data": {
            "text/plain": [
              "Text(0.5, 1.0, 'Top 10 Sub Category')"
            ]
          },
          "execution_count": 51,
          "metadata": {},
          "output_type": "execute_result"
        },
        {
          "data": {
            "image/png": "[encoded data removed]",
            "text/plain": [
              "<Figure size 720x360 with 1 Axes>"
            ]
          },
          "metadata": {
            "needs_background": "light"
          },
          "output_type": "display_data"
        }
      ],
      "source": [
        "plt.figure(figsize=(10,5))\n",
        "sns.countplot(x='Sub_Category', data=superstore,\n",
        "              order=superstore['Sub_Category'].value_counts().nlargest(10).index)\n",
        "plt.title('Top 10 Sub Category')"
      ]
    },
    {
      "cell_type": "code",
      "execution_count": 106,
      "metadata": {
        "colab": {
          "base_uri": "https://localhost:8080/"
        },
        "id": "fZ8ogxUn8vPd",
        "outputId": "af7af885-b74f-4832-fc0b-fcfd01d2172f"
      },
      "outputs": [
        {
          "data": {
            "text/plain": [
              "['Solarize_Light2',\n",
              " '_classic_test_patch',\n",
              " 'bmh',\n",
              " 'classic',\n",
              " 'dark_background',\n",
              " 'fast',\n",
              " 'fivethirtyeight',\n",
              " 'ggplot',\n",
              " 'grayscale',\n",
              " 'seaborn',\n",
              " 'seaborn-bright',\n",
              " 'seaborn-colorblind',\n",
              " 'seaborn-dark',\n",
              " 'seaborn-dark-palette',\n",
              " 'seaborn-darkgrid',\n",
              " 'seaborn-deep',\n",
              " 'seaborn-muted',\n",
              " 'seaborn-notebook',\n",
              " 'seaborn-paper',\n",
              " 'seaborn-pastel',\n",
              " 'seaborn-poster',\n",
              " 'seaborn-talk',\n",
              " 'seaborn-ticks',\n",
              " 'seaborn-white',\n",
              " 'seaborn-whitegrid',\n",
              " 'tableau-colorblind10']"
            ]
          },
          "execution_count": 106,
          "metadata": {},
          "output_type": "execute_result"
        }
      ],
      "source": [
        "plt.style.available"
      ]
    },
    {
      "cell_type": "code",
      "execution_count": 112,
      "metadata": {
        "colab": {
          "base_uri": "https://localhost:8080/",
          "height": 388
        },
        "id": "x7Ir-krA75gM",
        "outputId": "20f84823-ee14-4fe7-f862-626f1830409b"
      },
      "outputs": [
        {
          "data": {
            "text/plain": [
              "<matplotlib.axes._subplots.AxesSubplot at 0x7f3a86ed0ad0>"
            ]
          },
          "execution_count": 112,
          "metadata": {},
          "output_type": "execute_result"
        },
        {
          "data": {
            "image/png": "[encoded data removed]",
            "text/plain": [
              "<Figure size 576x432 with 1 Axes>"
            ]
          },
          "metadata": {},
          "output_type": "display_data"
        }
      ],
      "source": [
        "plt.figure(figsize=(8,6))\n",
        "plt.style.use('tableau-colorblind10')\n",
        "superstore.Sub_Category.value_counts().sort_values().plot.barh()"
      ]
    },
    {
      "cell_type": "markdown",
      "metadata": {
        "id": "0aCfs2Ea6k1Z"
      },
      "source": [
        "Line Chart"
      ]
    },
    {
      "cell_type": "code",
      "execution_count": 52,
      "metadata": {
        "colab": {
          "base_uri": "https://localhost:8080/",
          "height": 295
        },
        "id": "OkUCPhQevBWY",
        "outputId": "f7635a7e-123b-4fb8-f6ec-7e912c5897b2"
      },
      "outputs": [
        {
          "data": {
            "image/png": "[encoded data removed]",
            "text/plain": [
              "<Figure size 432x288 with 1 Axes>"
            ]
          },
          "metadata": {
            "needs_background": "light"
          },
          "output_type": "display_data"
        }
      ],
      "source": [
        "df_pivot = superstore.pivot_table(\n",
        "    index='Region', columns='Year',\n",
        "    values=['Sales'], aggfunc=sum)\n",
        "\n",
        "df_pivot.plot()\n",
        "plt.title('Sales By Year')\n",
        "plt.show()"
      ]
    },
    {
      "cell_type": "markdown",
      "metadata": {
        "id": "EeLoWUJcWRbl"
      },
      "source": [
        "Scatter Plot"
      ]
    },
    {
      "cell_type": "code",
      "execution_count": 53,
      "metadata": {
        "colab": {
          "base_uri": "https://localhost:8080/",
          "height": 296
        },
        "id": "bz5SDbjZVB_a",
        "outputId": "e742d78a-5f92-470b-9b0b-2bf177679c61"
      },
      "outputs": [
        {
          "data": {
            "text/plain": [
              "<matplotlib.axes._subplots.AxesSubplot at 0x7f3aaf7f1290>"
            ]
          },
          "execution_count": 53,
          "metadata": {},
          "output_type": "execute_result"
        },
        {
          "data": {
            "image/png": "[encoded data removed]",
            "text/plain": [
              "<Figure size 432x288 with 1 Axes>"
            ]
          },
          "metadata": {
            "needs_background": "light"
          },
          "output_type": "display_data"
        }
      ],
      "source": [
        "sns.scatterplot(data=superstore,\n",
        "                x='Sales',\n",
        "                y=\"Profit\",\n",
        "                hue='Category',\n",
        "                size='Category')"
      ]
    },
    {
      "cell_type": "code",
      "execution_count": 54,
      "metadata": {
        "colab": {
          "base_uri": "https://localhost:8080/",
          "height": 404
        },
        "id": "VJwzAzXRYcIn",
        "outputId": "b3ceb6d9-0522-4e9d-b4ef-ffe3b3da5dbf"
      },
      "outputs": [
        {
          "data": {
            "text/plain": [
              "Text(3.174999999999997, 0.5, 'Profit')"
            ]
          },
          "execution_count": 54,
          "metadata": {},
          "output_type": "execute_result"
        },
        {
          "data": {
            "text/plain": [
              "<Figure size 576x288 with 0 Axes>"
            ]
          },
          "metadata": {},
          "output_type": "display_data"
        },
        {
          "data": {
            "image/png": "[encoded data removed]",
            "text/plain": [
              "<Figure size 590.4x360 with 1 Axes>"
            ]
          },
          "metadata": {
            "needs_background": "light"
          },
          "output_type": "display_data"
        }
      ],
      "source": [
        "plt.figure(figsize=(8,4))\n",
        "sns.lmplot(data = superstore, x=\"Sales\", y=\"Profit\", \n",
        "           height=5, aspect=1.64,\n",
        "           ci=False,\n",
        "           line_kws={'color': 'red'}, \n",
        "           scatter_kws={\"color\": \"black\"})\n",
        "plt.xlabel('Sales')\n",
        "plt.ylabel('Profit')"
      ]
    },
    {
      "cell_type": "code",
      "execution_count": 55,
      "metadata": {
        "colab": {
          "base_uri": "https://localhost:8080/"
        },
        "id": "3cbeghYigt8M",
        "outputId": "90251b53-a637-4f53-c012-cd2816fec883"
      },
      "outputs": [
        {
          "data": {
            "text/plain": [
              "Index(['Order_ID', 'Order_Date', 'Ship_Date', 'Ship_Mode', 'Customer_ID',\n",
              "       'Customer_Name', 'Segment', 'Country', 'City', 'State', 'Postal_Code',\n",
              "       'Region', 'Product_ID', 'Category', 'Sub_Category', 'Product_Name',\n",
              "       'Sales', 'Quantity', 'Discount', 'Profit', 'Year'],\n",
              "      dtype='object')"
            ]
          },
          "execution_count": 55,
          "metadata": {},
          "output_type": "execute_result"
        }
      ],
      "source": [
        "superstore.columns"
      ]
    },
    {
      "cell_type": "markdown",
      "metadata": {
        "id": "Evr4kuqC3d7N"
      },
      "source": [
        "Join Plot"
      ]
    },
    {
      "cell_type": "code",
      "execution_count": 87,
      "metadata": {
        "colab": {
          "base_uri": "https://localhost:8080/",
          "height": 458
        },
        "id": "h7OCHApX3fis",
        "outputId": "1720f606-b770-4655-bd9d-09c6f824300f"
      },
      "outputs": [
        {
          "data": {
            "text/plain": [
              "<seaborn.axisgrid.JointGrid at 0x7f3a8d9596d0>"
            ]
          },
          "execution_count": 87,
          "metadata": {},
          "output_type": "execute_result"
        },
        {
          "data": {
            "image/png": "[encoded data removed]",
            "text/plain": [
              "<Figure size 432x432 with 3 Axes>"
            ]
          },
          "metadata": {
            "needs_background": "light"
          },
          "output_type": "display_data"
        }
      ],
      "source": [
        "sns.jointplot(data=superstore,\n",
        "            x='Sales', y='Profit',\n",
        "            kind='reg',\n",
        "            color='orange', )"
      ]
    },
    {
      "cell_type": "markdown",
      "metadata": {
        "id": "Sp5NA5tphzYt"
      },
      "source": [
        "ฺBox Plot"
      ]
    },
    {
      "cell_type": "code",
      "execution_count": 100,
      "metadata": {
        "colab": {
          "base_uri": "https://localhost:8080/",
          "height": 282
        },
        "id": "YJQclrRN6p1O",
        "outputId": "6dc497e3-5537-4e1b-8a1b-ca6b64eff13d"
      },
      "outputs": [
        {
          "data": {
            "text/plain": [
              "<matplotlib.axes._subplots.AxesSubplot at 0x7f3a875f3bd0>"
            ]
          },
          "execution_count": 100,
          "metadata": {},
          "output_type": "execute_result"
        },
        {
          "data": {
            "image/png": "[encoded data removed]",
            "text/plain": [
              "<Figure size 432x288 with 1 Axes>"
            ]
          },
          "metadata": {
            "needs_background": "light"
          },
          "output_type": "display_data"
        }
      ],
      "source": [
        "superstore[['Quantity']].plot.box()"
      ]
    },
    {
      "cell_type": "code",
      "execution_count": 56,
      "metadata": {
        "colab": {
          "base_uri": "https://localhost:8080/",
          "height": 282
        },
        "id": "RD9J4b1Jis7L",
        "outputId": "6cc4b2a4-bfb7-4fc9-9489-b4b6b00696ec"
      },
      "outputs": [
        {
          "data": {
            "text/plain": [
              "<matplotlib.axes._subplots.AxesSubplot at 0x7f3aaf5faa90>"
            ]
          },
          "execution_count": 56,
          "metadata": {},
          "output_type": "execute_result"
        },
        {
          "data": {
            "image/png": "[encoded data removed]",
            "text/plain": [
              "<Figure size 432x288 with 1 Axes>"
            ]
          },
          "metadata": {
            "needs_background": "light"
          },
          "output_type": "display_data"
        }
      ],
      "source": [
        "sns.boxplot(data=superstore[['Quantity']])"
      ]
    },
    {
      "cell_type": "code",
      "execution_count": 57,
      "metadata": {
        "colab": {
          "base_uri": "https://localhost:8080/",
          "height": 312
        },
        "id": "TNsE_uvTPKvH",
        "outputId": "24473eee-0329-4cb9-8df8-66c6e07f3bbd"
      },
      "outputs": [
        {
          "data": {
            "text/plain": [
              "Text(0.5, 1.0, 'Total profit of the segment')"
            ]
          },
          "execution_count": 57,
          "metadata": {},
          "output_type": "execute_result"
        },
        {
          "data": {
            "image/png": "[encoded data removed]",
            "text/plain": [
              "<Figure size 576x288 with 1 Axes>"
            ]
          },
          "metadata": {
            "needs_background": "light"
          },
          "output_type": "display_data"
        }
      ],
      "source": [
        "plt.figure(figsize=(8, 4))\n",
        "sns.boxplot(x='Segment', y='Profit', data=superstore)\n",
        "plt.xlabel('profit for segment ')\n",
        "plt.title('Total profit of the segment')"
      ]
    },
    {
      "cell_type": "markdown",
      "metadata": {
        "id": "e0kD8EGESCcu"
      },
      "source": [
        "Heatmap"
      ]
    },
    {
      "cell_type": "code",
      "execution_count": 58,
      "metadata": {
        "colab": {
          "base_uri": "https://localhost:8080/",
          "height": 286
        },
        "id": "wR49NCRmSB-J",
        "outputId": "0ddc5304-d0fd-4c57-8e19-640c491de950"
      },
      "outputs": [
        {
          "data": {
            "text/plain": [
              "<matplotlib.axes._subplots.AxesSubplot at 0x7f3aaf5b0a10>"
            ]
          },
          "execution_count": 58,
          "metadata": {},
          "output_type": "execute_result"
        },
        {
          "data": {
            "image/png": "[encoded data removed]",
            "text/plain": [
              "<Figure size 432x288 with 2 Axes>"
            ]
          },
          "metadata": {
            "needs_background": "light"
          },
          "output_type": "display_data"
        }
      ],
      "source": [
        "sns.heatmap(superstore[['Sales','Quantity','Discount','Profit']].corr())"
      ]
    },
    {
      "cell_type": "code",
      "execution_count": 74,
      "metadata": {
        "colab": {
          "base_uri": "https://localhost:8080/",
          "height": 567
        },
        "id": "7SX8lXesYn5v",
        "outputId": "925ce33e-f379-4653-d4df-4b1302444f2b"
      },
      "outputs": [
        {
          "data": {
            "text/plain": [
              "<seaborn.axisgrid.PairGrid at 0x7f3aacf5bc50>"
            ]
          },
          "execution_count": 74,
          "metadata": {},
          "output_type": "execute_result"
        },
        {
          "data": {
            "image/png": "[encoded data removed]",
            "text/plain": [
              "<Figure size 650.875x540 with 12 Axes>"
            ]
          },
          "metadata": {
            "needs_background": "light"
          },
          "output_type": "display_data"
        }
      ],
      "source": [
        "sns.pairplot(superstore, vars=['Sales', 'Profit', 'Discount'],\n",
        "             hue='Category')"
      ]
    },
    {
      "cell_type": "markdown",
      "metadata": {
        "id": "G9Fo2Qe53R9i"
      },
      "source": [
        "Facet Grid"
      ]
    },
    {
      "cell_type": "code",
      "execution_count": 60,
      "metadata": {
        "colab": {
          "base_uri": "https://localhost:8080/",
          "height": 242
        },
        "id": "q4-tizLNZBFk",
        "outputId": "a79e90b5-6b57-404d-9100-e03b8c959748"
      },
      "outputs": [
        {
          "data": {
            "text/plain": [
              "<seaborn.axisgrid.FacetGrid at 0x7f3aaf075310>"
            ]
          },
          "execution_count": 60,
          "metadata": {},
          "output_type": "execute_result"
        },
        {
          "data": {
            "image/png": "[encoded data removed]",
            "text/plain": [
              "<Figure size 648x216 with 3 Axes>"
            ]
          },
          "metadata": {
            "needs_background": "light"
          },
          "output_type": "display_data"
        }
      ],
      "source": [
        "g = sns.FacetGrid(superstore, col='Category')\n",
        "g.map(sns.regplot, x='Sales', y='Profit', data=superstore, fit_reg=True, scatter_kws={'alpha':.3})"
      ]
    },
    {
      "cell_type": "markdown",
      "metadata": {
        "id": "fbAnv3_Rwj5l"
      },
      "source": [
        "# Data Cleansing with Pandas"
      ]
    },
    {
      "cell_type": "code",
      "execution_count": 61,
      "metadata": {
        "colab": {
          "base_uri": "https://localhost:8080/",
          "height": 536
        },
        "id": "10uC4w2e6tbE",
        "outputId": "e62298f5-465b-41af-8b1a-886049d2c0c8"
      },
      "outputs": [
        {
          "data": {
            "text/html": [
              "\n",
              "  <div id=\"df-4eac5998-22f6-4543-a048-5cba99650050\">\n",
              "    <div class=\"colab-df-container\">\n",
              "      <div>\n",
              "<style scoped>\n",
              "    .dataframe tbody tr th:only-of-type {\n",
              "        vertical-align: middle;\n",
              "    }\n",
              "\n",
              "    .dataframe tbody tr th {\n",
              "        vertical-align: top;\n",
              "    }\n",
              "\n",
              "    .dataframe thead th {\n",
              "        text-align: right;\n",
              "    }\n",
              "</style>\n",
              "<table border=\"1\" class=\"dataframe\">\n",
              "  <thead>\n",
              "    <tr style=\"text-align: right;\">\n",
              "      <th></th>\n",
              "      <th>Order_ID</th>\n",
              "      <th>Order_Date</th>\n",
              "      <th>Ship_Date</th>\n",
              "      <th>Ship_Mode</th>\n",
              "      <th>Customer_ID</th>\n",
              "      <th>Customer_Name</th>\n",
              "      <th>Segment</th>\n",
              "      <th>Country</th>\n",
              "      <th>City</th>\n",
              "      <th>State</th>\n",
              "      <th>...</th>\n",
              "      <th>Region</th>\n",
              "      <th>Product_ID</th>\n",
              "      <th>Category</th>\n",
              "      <th>Sub_Category</th>\n",
              "      <th>Product_Name</th>\n",
              "      <th>Sales</th>\n",
              "      <th>Quantity</th>\n",
              "      <th>Discount</th>\n",
              "      <th>Profit</th>\n",
              "      <th>Year</th>\n",
              "    </tr>\n",
              "    <tr>\n",
              "      <th>Row ID</th>\n",
              "      <th></th>\n",
              "      <th></th>\n",
              "      <th></th>\n",
              "      <th></th>\n",
              "      <th></th>\n",
              "      <th></th>\n",
              "      <th></th>\n",
              "      <th></th>\n",
              "      <th></th>\n",
              "      <th></th>\n",
              "      <th></th>\n",
              "      <th></th>\n",
              "      <th></th>\n",
              "      <th></th>\n",
              "      <th></th>\n",
              "      <th></th>\n",
              "      <th></th>\n",
              "      <th></th>\n",
              "      <th></th>\n",
              "      <th></th>\n",
              "      <th></th>\n",
              "    </tr>\n",
              "  </thead>\n",
              "  <tbody>\n",
              "    <tr>\n",
              "      <th>1</th>\n",
              "      <td>NaN</td>\n",
              "      <td>NaT</td>\n",
              "      <td>NaT</td>\n",
              "      <td>NaN</td>\n",
              "      <td>NaN</td>\n",
              "      <td>NaN</td>\n",
              "      <td>NaN</td>\n",
              "      <td>NaN</td>\n",
              "      <td>NaN</td>\n",
              "      <td>NaN</td>\n",
              "      <td>...</td>\n",
              "      <td>NaN</td>\n",
              "      <td>NaN</td>\n",
              "      <td>NaN</td>\n",
              "      <td>NaN</td>\n",
              "      <td>NaN</td>\n",
              "      <td>NaN</td>\n",
              "      <td>NaN</td>\n",
              "      <td>NaN</td>\n",
              "      <td>NaN</td>\n",
              "      <td>NaN</td>\n",
              "    </tr>\n",
              "    <tr>\n",
              "      <th>2</th>\n",
              "      <td>NaN</td>\n",
              "      <td>NaT</td>\n",
              "      <td>NaT</td>\n",
              "      <td>NaN</td>\n",
              "      <td>NaN</td>\n",
              "      <td>NaN</td>\n",
              "      <td>NaN</td>\n",
              "      <td>NaN</td>\n",
              "      <td>NaN</td>\n",
              "      <td>NaN</td>\n",
              "      <td>...</td>\n",
              "      <td>NaN</td>\n",
              "      <td>NaN</td>\n",
              "      <td>NaN</td>\n",
              "      <td>NaN</td>\n",
              "      <td>NaN</td>\n",
              "      <td>NaN</td>\n",
              "      <td>NaN</td>\n",
              "      <td>NaN</td>\n",
              "      <td>NaN</td>\n",
              "      <td>NaN</td>\n",
              "    </tr>\n",
              "    <tr>\n",
              "      <th>3</th>\n",
              "      <td>NaN</td>\n",
              "      <td>NaT</td>\n",
              "      <td>NaT</td>\n",
              "      <td>NaN</td>\n",
              "      <td>NaN</td>\n",
              "      <td>NaN</td>\n",
              "      <td>NaN</td>\n",
              "      <td>NaN</td>\n",
              "      <td>NaN</td>\n",
              "      <td>NaN</td>\n",
              "      <td>...</td>\n",
              "      <td>NaN</td>\n",
              "      <td>NaN</td>\n",
              "      <td>NaN</td>\n",
              "      <td>NaN</td>\n",
              "      <td>NaN</td>\n",
              "      <td>NaN</td>\n",
              "      <td>NaN</td>\n",
              "      <td>NaN</td>\n",
              "      <td>NaN</td>\n",
              "      <td>NaN</td>\n",
              "    </tr>\n",
              "    <tr>\n",
              "      <th>4</th>\n",
              "      <td>NaN</td>\n",
              "      <td>NaT</td>\n",
              "      <td>NaT</td>\n",
              "      <td>NaN</td>\n",
              "      <td>NaN</td>\n",
              "      <td>NaN</td>\n",
              "      <td>NaN</td>\n",
              "      <td>NaN</td>\n",
              "      <td>NaN</td>\n",
              "      <td>NaN</td>\n",
              "      <td>...</td>\n",
              "      <td>NaN</td>\n",
              "      <td>NaN</td>\n",
              "      <td>NaN</td>\n",
              "      <td>NaN</td>\n",
              "      <td>NaN</td>\n",
              "      <td>NaN</td>\n",
              "      <td>NaN</td>\n",
              "      <td>NaN</td>\n",
              "      <td>NaN</td>\n",
              "      <td>NaN</td>\n",
              "    </tr>\n",
              "    <tr>\n",
              "      <th>5</th>\n",
              "      <td>NaN</td>\n",
              "      <td>NaT</td>\n",
              "      <td>NaT</td>\n",
              "      <td>NaN</td>\n",
              "      <td>NaN</td>\n",
              "      <td>NaN</td>\n",
              "      <td>NaN</td>\n",
              "      <td>NaN</td>\n",
              "      <td>NaN</td>\n",
              "      <td>NaN</td>\n",
              "      <td>...</td>\n",
              "      <td>NaN</td>\n",
              "      <td>NaN</td>\n",
              "      <td>NaN</td>\n",
              "      <td>NaN</td>\n",
              "      <td>NaN</td>\n",
              "      <td>NaN</td>\n",
              "      <td>NaN</td>\n",
              "      <td>NaN</td>\n",
              "      <td>NaN</td>\n",
              "      <td>NaN</td>\n",
              "    </tr>\n",
              "    <tr>\n",
              "      <th>...</th>\n",
              "      <td>...</td>\n",
              "      <td>...</td>\n",
              "      <td>...</td>\n",
              "      <td>...</td>\n",
              "      <td>...</td>\n",
              "      <td>...</td>\n",
              "      <td>...</td>\n",
              "      <td>...</td>\n",
              "      <td>...</td>\n",
              "      <td>...</td>\n",
              "      <td>...</td>\n",
              "      <td>...</td>\n",
              "      <td>...</td>\n",
              "      <td>...</td>\n",
              "      <td>...</td>\n",
              "      <td>...</td>\n",
              "      <td>...</td>\n",
              "      <td>...</td>\n",
              "      <td>...</td>\n",
              "      <td>...</td>\n",
              "      <td>...</td>\n",
              "    </tr>\n",
              "    <tr>\n",
              "      <th>9990</th>\n",
              "      <td>NaN</td>\n",
              "      <td>NaT</td>\n",
              "      <td>NaT</td>\n",
              "      <td>NaN</td>\n",
              "      <td>NaN</td>\n",
              "      <td>NaN</td>\n",
              "      <td>NaN</td>\n",
              "      <td>NaN</td>\n",
              "      <td>NaN</td>\n",
              "      <td>NaN</td>\n",
              "      <td>...</td>\n",
              "      <td>NaN</td>\n",
              "      <td>NaN</td>\n",
              "      <td>NaN</td>\n",
              "      <td>NaN</td>\n",
              "      <td>NaN</td>\n",
              "      <td>NaN</td>\n",
              "      <td>NaN</td>\n",
              "      <td>NaN</td>\n",
              "      <td>NaN</td>\n",
              "      <td>NaN</td>\n",
              "    </tr>\n",
              "    <tr>\n",
              "      <th>9991</th>\n",
              "      <td>NaN</td>\n",
              "      <td>NaT</td>\n",
              "      <td>NaT</td>\n",
              "      <td>NaN</td>\n",
              "      <td>NaN</td>\n",
              "      <td>NaN</td>\n",
              "      <td>NaN</td>\n",
              "      <td>NaN</td>\n",
              "      <td>NaN</td>\n",
              "      <td>NaN</td>\n",
              "      <td>...</td>\n",
              "      <td>NaN</td>\n",
              "      <td>NaN</td>\n",
              "      <td>NaN</td>\n",
              "      <td>NaN</td>\n",
              "      <td>NaN</td>\n",
              "      <td>NaN</td>\n",
              "      <td>NaN</td>\n",
              "      <td>NaN</td>\n",
              "      <td>NaN</td>\n",
              "      <td>NaN</td>\n",
              "    </tr>\n",
              "    <tr>\n",
              "      <th>9992</th>\n",
              "      <td>NaN</td>\n",
              "      <td>NaT</td>\n",
              "      <td>NaT</td>\n",
              "      <td>NaN</td>\n",
              "      <td>NaN</td>\n",
              "      <td>NaN</td>\n",
              "      <td>NaN</td>\n",
              "      <td>NaN</td>\n",
              "      <td>NaN</td>\n",
              "      <td>NaN</td>\n",
              "      <td>...</td>\n",
              "      <td>NaN</td>\n",
              "      <td>NaN</td>\n",
              "      <td>NaN</td>\n",
              "      <td>NaN</td>\n",
              "      <td>NaN</td>\n",
              "      <td>NaN</td>\n",
              "      <td>NaN</td>\n",
              "      <td>NaN</td>\n",
              "      <td>NaN</td>\n",
              "      <td>NaN</td>\n",
              "    </tr>\n",
              "    <tr>\n",
              "      <th>9993</th>\n",
              "      <td>NaN</td>\n",
              "      <td>NaT</td>\n",
              "      <td>NaT</td>\n",
              "      <td>NaN</td>\n",
              "      <td>NaN</td>\n",
              "      <td>NaN</td>\n",
              "      <td>NaN</td>\n",
              "      <td>NaN</td>\n",
              "      <td>NaN</td>\n",
              "      <td>NaN</td>\n",
              "      <td>...</td>\n",
              "      <td>NaN</td>\n",
              "      <td>NaN</td>\n",
              "      <td>NaN</td>\n",
              "      <td>NaN</td>\n",
              "      <td>NaN</td>\n",
              "      <td>NaN</td>\n",
              "      <td>NaN</td>\n",
              "      <td>NaN</td>\n",
              "      <td>NaN</td>\n",
              "      <td>NaN</td>\n",
              "    </tr>\n",
              "    <tr>\n",
              "      <th>9994</th>\n",
              "      <td>NaN</td>\n",
              "      <td>NaT</td>\n",
              "      <td>NaT</td>\n",
              "      <td>NaN</td>\n",
              "      <td>NaN</td>\n",
              "      <td>NaN</td>\n",
              "      <td>NaN</td>\n",
              "      <td>NaN</td>\n",
              "      <td>NaN</td>\n",
              "      <td>NaN</td>\n",
              "      <td>...</td>\n",
              "      <td>NaN</td>\n",
              "      <td>NaN</td>\n",
              "      <td>NaN</td>\n",
              "      <td>NaN</td>\n",
              "      <td>NaN</td>\n",
              "      <td>NaN</td>\n",
              "      <td>NaN</td>\n",
              "      <td>NaN</td>\n",
              "      <td>NaN</td>\n",
              "      <td>NaN</td>\n",
              "    </tr>\n",
              "  </tbody>\n",
              "</table>\n",
              "<p>9994 rows × 21 columns</p>\n",
              "</div>\n",
              "      <button class=\"colab-df-convert\" onclick=\"convertToInteractive('df-4eac5998-22f6-4543-a048-5cba99650050')\"\n",
              "              title=\"Convert this dataframe to an interactive table.\"\n",
              "              style=\"display:none;\">\n",
              "        \n",
              "  <svg xmlns=\"http://www.w3.org/2000/svg\" height=\"24px\"viewBox=\"0 0 24 24\"\n",
              "       width=\"24px\">\n",
              "    <path d=\"M0 0h24v24H0V0z\" fill=\"none\"/>\n",
              "    <path d=\"M18.56 5.44l.94 2.06.94-2.06 2.06-.94-2.06-.94-.94-2.06-.94 2.06-2.06.94zm-11 1L8.5 8.5l.94-2.06 2.06-.94-2.06-.94L8.5 2.5l-.94 2.06-2.06.94zm10 10l.94 2.06.94-2.06 2.06-.94-2.06-.94-.94-2.06-.94 2.06-2.06.94z\"/><path d=\"M17.41 7.96l-1.37-1.37c-.4-.4-.92-.59-1.43-.59-.52 0-1.04.2-1.43.59L10.3 9.45l-7.72 7.72c-.78.78-.78 2.05 0 2.83L4 21.41c.39.39.9.59 1.41.59.51 0 1.02-.2 1.41-.59l7.78-7.78 2.81-2.81c.8-.78.8-2.07 0-2.86zM5.41 20L4 18.59l7.72-7.72 1.47 1.35L5.41 20z\"/>\n",
              "  </svg>\n",
              "      </button>\n",
              "      \n",
              "  <style>\n",
              "    .colab-df-container {\n",
              "      display:flex;\n",
              "      flex-wrap:wrap;\n",
              "      gap: 12px;\n",
              "    }\n",
              "\n",
              "    .colab-df-convert {\n",
              "      background-color: #E8F0FE;\n",
              "      border: none;\n",
              "      border-radius: 50%;\n",
              "      cursor: pointer;\n",
              "      display: none;\n",
              "      fill: #1967D2;\n",
              "      height: 32px;\n",
              "      padding: 0 0 0 0;\n",
              "      width: 32px;\n",
              "    }\n",
              "\n",
              "    .colab-df-convert:hover {\n",
              "      background-color: #E2EBFA;\n",
              "      box-shadow: 0px 1px 2px rgba(60, 64, 67, 0.3), 0px 1px 3px 1px rgba(60, 64, 67, 0.15);\n",
              "      fill: #174EA6;\n",
              "    }\n",
              "\n",
              "    [theme=dark] .colab-df-convert {\n",
              "      background-color: #3B4455;\n",
              "      fill: #D2E3FC;\n",
              "    }\n",
              "\n",
              "    [theme=dark] .colab-df-convert:hover {\n",
              "      background-color: #434B5C;\n",
              "      box-shadow: 0px 1px 3px 1px rgba(0, 0, 0, 0.15);\n",
              "      filter: drop-shadow(0px 1px 2px rgba(0, 0, 0, 0.3));\n",
              "      fill: #FFFFFF;\n",
              "    }\n",
              "  </style>\n",
              "\n",
              "      <script>\n",
              "        const buttonEl =\n",
              "          document.querySelector('#df-4eac5998-22f6-4543-a048-5cba99650050 button.colab-df-convert');\n",
              "        buttonEl.style.display =\n",
              "          google.colab.kernel.accessAllowed ? 'block' : 'none';\n",
              "\n",
              "        async function convertToInteractive(key) {\n",
              "          const element = document.querySelector('#df-4eac5998-22f6-4543-a048-5cba99650050');\n",
              "          const dataTable =\n",
              "            await google.colab.kernel.invokeFunction('convertToInteractive',\n",
              "                                                     [key], {});\n",
              "          if (!dataTable) return;\n",
              "\n",
              "          const docLinkHtml = 'Like what you see? Visit the ' +\n",
              "            '<a target=\"_blank\" href=https://colab.research.google.com/notebooks/data_table.ipynb>data table notebook</a>'\n",
              "            + ' to learn more about interactive tables.';\n",
              "          element.innerHTML = '';\n",
              "          dataTable['output_type'] = 'display_data';\n",
              "          await google.colab.output.renderOutput(dataTable, element);\n",
              "          const docLink = document.createElement('div');\n",
              "          docLink.innerHTML = docLinkHtml;\n",
              "          element.appendChild(docLink);\n",
              "        }\n",
              "      </script>\n",
              "    </div>\n",
              "  </div>\n",
              "  "
            ],
            "text/plain": [
              "       Order_ID Order_Date Ship_Date Ship_Mode Customer_ID Customer_Name  \\\n",
              "Row ID                                                                     \n",
              "1           NaN        NaT       NaT       NaN         NaN           NaN   \n",
              "2           NaN        NaT       NaT       NaN         NaN           NaN   \n",
              "3           NaN        NaT       NaT       NaN         NaN           NaN   \n",
              "4           NaN        NaT       NaT       NaN         NaN           NaN   \n",
              "5           NaN        NaT       NaT       NaN         NaN           NaN   \n",
              "...         ...        ...       ...       ...         ...           ...   \n",
              "9990        NaN        NaT       NaT       NaN         NaN           NaN   \n",
              "9991        NaN        NaT       NaT       NaN         NaN           NaN   \n",
              "9992        NaN        NaT       NaT       NaN         NaN           NaN   \n",
              "9993        NaN        NaT       NaT       NaN         NaN           NaN   \n",
              "9994        NaN        NaT       NaT       NaN         NaN           NaN   \n",
              "\n",
              "       Segment Country City State  ...  Region Product_ID Category  \\\n",
              "Row ID                             ...                               \n",
              "1          NaN     NaN  NaN   NaN  ...     NaN        NaN      NaN   \n",
              "2          NaN     NaN  NaN   NaN  ...     NaN        NaN      NaN   \n",
              "3          NaN     NaN  NaN   NaN  ...     NaN        NaN      NaN   \n",
              "4          NaN     NaN  NaN   NaN  ...     NaN        NaN      NaN   \n",
              "5          NaN     NaN  NaN   NaN  ...     NaN        NaN      NaN   \n",
              "...        ...     ...  ...   ...  ...     ...        ...      ...   \n",
              "9990       NaN     NaN  NaN   NaN  ...     NaN        NaN      NaN   \n",
              "9991       NaN     NaN  NaN   NaN  ...     NaN        NaN      NaN   \n",
              "9992       NaN     NaN  NaN   NaN  ...     NaN        NaN      NaN   \n",
              "9993       NaN     NaN  NaN   NaN  ...     NaN        NaN      NaN   \n",
              "9994       NaN     NaN  NaN   NaN  ...     NaN        NaN      NaN   \n",
              "\n",
              "       Sub_Category Product_Name Sales  Quantity  Discount  Profit  Year  \n",
              "Row ID                                                                    \n",
              "1               NaN          NaN   NaN       NaN       NaN     NaN   NaN  \n",
              "2               NaN          NaN   NaN       NaN       NaN     NaN   NaN  \n",
              "3               NaN          NaN   NaN       NaN       NaN     NaN   NaN  \n",
              "4               NaN          NaN   NaN       NaN       NaN     NaN   NaN  \n",
              "5               NaN          NaN   NaN       NaN       NaN     NaN   NaN  \n",
              "...             ...          ...   ...       ...       ...     ...   ...  \n",
              "9990            NaN          NaN   NaN       NaN       NaN     NaN   NaN  \n",
              "9991            NaN          NaN   NaN       NaN       NaN     NaN   NaN  \n",
              "9992            NaN          NaN   NaN       NaN       NaN     NaN   NaN  \n",
              "9993            NaN          NaN   NaN       NaN       NaN     NaN   NaN  \n",
              "9994            NaN          NaN   NaN       NaN       NaN     NaN   NaN  \n",
              "\n",
              "[9994 rows x 21 columns]"
            ]
          },
          "execution_count": 61,
          "metadata": {},
          "output_type": "execute_result"
        }
      ],
      "source": [
        "superstore[superstore.isna()]"
      ]
    },
    {
      "cell_type": "code",
      "execution_count": 62,
      "metadata": {
        "colab": {
          "base_uri": "https://localhost:8080/"
        },
        "id": "702DGySbuz59",
        "outputId": "80cb8633-aa4f-49c6-fba8-ac8cbc9d48a6"
      },
      "outputs": [
        {
          "data": {
            "text/plain": [
              "Order_ID         0\n",
              "Order_Date       0\n",
              "Ship_Date        0\n",
              "Ship_Mode        0\n",
              "Customer_ID      0\n",
              "Customer_Name    0\n",
              "Segment          0\n",
              "Country          0\n",
              "City             0\n",
              "State            0\n",
              "Postal_Code      0\n",
              "Region           0\n",
              "Product_ID       0\n",
              "Category         0\n",
              "Sub_Category     0\n",
              "Product_Name     0\n",
              "Sales            0\n",
              "Quantity         0\n",
              "Discount         0\n",
              "Profit           0\n",
              "Year             0\n",
              "dtype: int64"
            ]
          },
          "execution_count": 62,
          "metadata": {},
          "output_type": "execute_result"
        }
      ],
      "source": [
        "# เช็ค missing value\n",
        "superstore.isna().sum()"
      ]
    },
    {
      "cell_type": "code",
      "execution_count": 63,
      "metadata": {
        "colab": {
          "base_uri": "https://localhost:8080/",
          "height": 191
        },
        "id": "aR4P9p_olAmf",
        "outputId": "318ec7d1-2775-4e93-e2a5-08239dfc6713"
      },
      "outputs": [
        {
          "data": {
            "text/html": [
              "\n",
              "  <div id=\"df-03805dac-0d93-4752-8595-43de32fdb486\">\n",
              "    <div class=\"colab-df-container\">\n",
              "      <div>\n",
              "<style scoped>\n",
              "    .dataframe tbody tr th:only-of-type {\n",
              "        vertical-align: middle;\n",
              "    }\n",
              "\n",
              "    .dataframe tbody tr th {\n",
              "        vertical-align: top;\n",
              "    }\n",
              "\n",
              "    .dataframe thead th {\n",
              "        text-align: right;\n",
              "    }\n",
              "</style>\n",
              "<table border=\"1\" class=\"dataframe\">\n",
              "  <thead>\n",
              "    <tr style=\"text-align: right;\">\n",
              "      <th></th>\n",
              "      <th>Order_ID</th>\n",
              "      <th>Order_Date</th>\n",
              "      <th>Ship_Date</th>\n",
              "      <th>Ship_Mode</th>\n",
              "      <th>Customer_ID</th>\n",
              "      <th>Customer_Name</th>\n",
              "      <th>Segment</th>\n",
              "      <th>Country</th>\n",
              "      <th>City</th>\n",
              "      <th>State</th>\n",
              "      <th>...</th>\n",
              "      <th>Region</th>\n",
              "      <th>Product_ID</th>\n",
              "      <th>Category</th>\n",
              "      <th>Sub_Category</th>\n",
              "      <th>Product_Name</th>\n",
              "      <th>Sales</th>\n",
              "      <th>Quantity</th>\n",
              "      <th>Discount</th>\n",
              "      <th>Profit</th>\n",
              "      <th>Year</th>\n",
              "    </tr>\n",
              "    <tr>\n",
              "      <th>Row ID</th>\n",
              "      <th></th>\n",
              "      <th></th>\n",
              "      <th></th>\n",
              "      <th></th>\n",
              "      <th></th>\n",
              "      <th></th>\n",
              "      <th></th>\n",
              "      <th></th>\n",
              "      <th></th>\n",
              "      <th></th>\n",
              "      <th></th>\n",
              "      <th></th>\n",
              "      <th></th>\n",
              "      <th></th>\n",
              "      <th></th>\n",
              "      <th></th>\n",
              "      <th></th>\n",
              "      <th></th>\n",
              "      <th></th>\n",
              "      <th></th>\n",
              "      <th></th>\n",
              "    </tr>\n",
              "  </thead>\n",
              "  <tbody>\n",
              "  </tbody>\n",
              "</table>\n",
              "<p>0 rows × 21 columns</p>\n",
              "</div>\n",
              "      <button class=\"colab-df-convert\" onclick=\"convertToInteractive('df-03805dac-0d93-4752-8595-43de32fdb486')\"\n",
              "              title=\"Convert this dataframe to an interactive table.\"\n",
              "              style=\"display:none;\">\n",
              "        \n",
              "  <svg xmlns=\"http://www.w3.org/2000/svg\" height=\"24px\"viewBox=\"0 0 24 24\"\n",
              "       width=\"24px\">\n",
              "    <path d=\"M0 0h24v24H0V0z\" fill=\"none\"/>\n",
              "    <path d=\"M18.56 5.44l.94 2.06.94-2.06 2.06-.94-2.06-.94-.94-2.06-.94 2.06-2.06.94zm-11 1L8.5 8.5l.94-2.06 2.06-.94-2.06-.94L8.5 2.5l-.94 2.06-2.06.94zm10 10l.94 2.06.94-2.06 2.06-.94-2.06-.94-.94-2.06-.94 2.06-2.06.94z\"/><path d=\"M17.41 7.96l-1.37-1.37c-.4-.4-.92-.59-1.43-.59-.52 0-1.04.2-1.43.59L10.3 9.45l-7.72 7.72c-.78.78-.78 2.05 0 2.83L4 21.41c.39.39.9.59 1.41.59.51 0 1.02-.2 1.41-.59l7.78-7.78 2.81-2.81c.8-.78.8-2.07 0-2.86zM5.41 20L4 18.59l7.72-7.72 1.47 1.35L5.41 20z\"/>\n",
              "  </svg>\n",
              "      </button>\n",
              "      \n",
              "  <style>\n",
              "    .colab-df-container {\n",
              "      display:flex;\n",
              "      flex-wrap:wrap;\n",
              "      gap: 12px;\n",
              "    }\n",
              "\n",
              "    .colab-df-convert {\n",
              "      background-color: #E8F0FE;\n",
              "      border: none;\n",
              "      border-radius: 50%;\n",
              "      cursor: pointer;\n",
              "      display: none;\n",
              "      fill: #1967D2;\n",
              "      height: 32px;\n",
              "      padding: 0 0 0 0;\n",
              "      width: 32px;\n",
              "    }\n",
              "\n",
              "    .colab-df-convert:hover {\n",
              "      background-color: #E2EBFA;\n",
              "      box-shadow: 0px 1px 2px rgba(60, 64, 67, 0.3), 0px 1px 3px 1px rgba(60, 64, 67, 0.15);\n",
              "      fill: #174EA6;\n",
              "    }\n",
              "\n",
              "    [theme=dark] .colab-df-convert {\n",
              "      background-color: #3B4455;\n",
              "      fill: #D2E3FC;\n",
              "    }\n",
              "\n",
              "    [theme=dark] .colab-df-convert:hover {\n",
              "      background-color: #434B5C;\n",
              "      box-shadow: 0px 1px 3px 1px rgba(0, 0, 0, 0.15);\n",
              "      filter: drop-shadow(0px 1px 2px rgba(0, 0, 0, 0.3));\n",
              "      fill: #FFFFFF;\n",
              "    }\n",
              "  </style>\n",
              "\n",
              "      <script>\n",
              "        const buttonEl =\n",
              "          document.querySelector('#df-03805dac-0d93-4752-8595-43de32fdb486 button.colab-df-convert');\n",
              "        buttonEl.style.display =\n",
              "          google.colab.kernel.accessAllowed ? 'block' : 'none';\n",
              "\n",
              "        async function convertToInteractive(key) {\n",
              "          const element = document.querySelector('#df-03805dac-0d93-4752-8595-43de32fdb486');\n",
              "          const dataTable =\n",
              "            await google.colab.kernel.invokeFunction('convertToInteractive',\n",
              "                                                     [key], {});\n",
              "          if (!dataTable) return;\n",
              "\n",
              "          const docLinkHtml = 'Like what you see? Visit the ' +\n",
              "            '<a target=\"_blank\" href=https://colab.research.google.com/notebooks/data_table.ipynb>data table notebook</a>'\n",
              "            + ' to learn more about interactive tables.';\n",
              "          element.innerHTML = '';\n",
              "          dataTable['output_type'] = 'display_data';\n",
              "          await google.colab.output.renderOutput(dataTable, element);\n",
              "          const docLink = document.createElement('div');\n",
              "          docLink.innerHTML = docLinkHtml;\n",
              "          element.appendChild(docLink);\n",
              "        }\n",
              "      </script>\n",
              "    </div>\n",
              "  </div>\n",
              "  "
            ],
            "text/plain": [
              "Empty DataFrame\n",
              "Columns: [Order_ID, Order_Date, Ship_Date, Ship_Mode, Customer_ID, Customer_Name, Segment, Country, City, State, Postal_Code, Region, Product_ID, Category, Sub_Category, Product_Name, Sales, Quantity, Discount, Profit, Year]\n",
              "Index: []\n",
              "\n",
              "[0 rows x 21 columns]"
            ]
          },
          "execution_count": 63,
          "metadata": {},
          "output_type": "execute_result"
        }
      ],
      "source": [
        "superstore[superstore.isna().any(axis=1)]"
      ]
    },
    {
      "cell_type": "markdown",
      "metadata": {
        "id": "0HjgWi72qGNv"
      },
      "source": [
        "เช็ค Customer_ID มีค่าที่เกินกว่าขอบเขตไหม เช่น ข้อมูล ID ที่ถูกต้องในคอลัม์ Customer_ID มีหน้าตา CM-12190 เข้าไปหามีตัวอักษรพิมพ์เล็กและตัวเลขที่เกินกว่า 5 หลัก"
      ]
    },
    {
      "cell_type": "code",
      "execution_count": 64,
      "metadata": {
        "colab": {
          "base_uri": "https://localhost:8080/",
          "height": 191
        },
        "id": "RN0tk5ZrqBqH",
        "outputId": "84c48d02-e203-419e-cd1b-322b85fe42e4"
      },
      "outputs": [
        {
          "data": {
            "text/html": [
              "\n",
              "  <div id=\"df-5961e013-07a1-4d14-94f0-359dd3b045ac\">\n",
              "    <div class=\"colab-df-container\">\n",
              "      <div>\n",
              "<style scoped>\n",
              "    .dataframe tbody tr th:only-of-type {\n",
              "        vertical-align: middle;\n",
              "    }\n",
              "\n",
              "    .dataframe tbody tr th {\n",
              "        vertical-align: top;\n",
              "    }\n",
              "\n",
              "    .dataframe thead th {\n",
              "        text-align: right;\n",
              "    }\n",
              "</style>\n",
              "<table border=\"1\" class=\"dataframe\">\n",
              "  <thead>\n",
              "    <tr style=\"text-align: right;\">\n",
              "      <th></th>\n",
              "      <th>Order_ID</th>\n",
              "      <th>Order_Date</th>\n",
              "      <th>Ship_Date</th>\n",
              "      <th>Ship_Mode</th>\n",
              "      <th>Customer_ID</th>\n",
              "      <th>Customer_Name</th>\n",
              "      <th>Segment</th>\n",
              "      <th>Country</th>\n",
              "      <th>City</th>\n",
              "      <th>State</th>\n",
              "      <th>...</th>\n",
              "      <th>Region</th>\n",
              "      <th>Product_ID</th>\n",
              "      <th>Category</th>\n",
              "      <th>Sub_Category</th>\n",
              "      <th>Product_Name</th>\n",
              "      <th>Sales</th>\n",
              "      <th>Quantity</th>\n",
              "      <th>Discount</th>\n",
              "      <th>Profit</th>\n",
              "      <th>Year</th>\n",
              "    </tr>\n",
              "    <tr>\n",
              "      <th>Row ID</th>\n",
              "      <th></th>\n",
              "      <th></th>\n",
              "      <th></th>\n",
              "      <th></th>\n",
              "      <th></th>\n",
              "      <th></th>\n",
              "      <th></th>\n",
              "      <th></th>\n",
              "      <th></th>\n",
              "      <th></th>\n",
              "      <th></th>\n",
              "      <th></th>\n",
              "      <th></th>\n",
              "      <th></th>\n",
              "      <th></th>\n",
              "      <th></th>\n",
              "      <th></th>\n",
              "      <th></th>\n",
              "      <th></th>\n",
              "      <th></th>\n",
              "      <th></th>\n",
              "    </tr>\n",
              "  </thead>\n",
              "  <tbody>\n",
              "  </tbody>\n",
              "</table>\n",
              "<p>0 rows × 21 columns</p>\n",
              "</div>\n",
              "      <button class=\"colab-df-convert\" onclick=\"convertToInteractive('df-5961e013-07a1-4d14-94f0-359dd3b045ac')\"\n",
              "              title=\"Convert this dataframe to an interactive table.\"\n",
              "              style=\"display:none;\">\n",
              "        \n",
              "  <svg xmlns=\"http://www.w3.org/2000/svg\" height=\"24px\"viewBox=\"0 0 24 24\"\n",
              "       width=\"24px\">\n",
              "    <path d=\"M0 0h24v24H0V0z\" fill=\"none\"/>\n",
              "    <path d=\"M18.56 5.44l.94 2.06.94-2.06 2.06-.94-2.06-.94-.94-2.06-.94 2.06-2.06.94zm-11 1L8.5 8.5l.94-2.06 2.06-.94-2.06-.94L8.5 2.5l-.94 2.06-2.06.94zm10 10l.94 2.06.94-2.06 2.06-.94-2.06-.94-.94-2.06-.94 2.06-2.06.94z\"/><path d=\"M17.41 7.96l-1.37-1.37c-.4-.4-.92-.59-1.43-.59-.52 0-1.04.2-1.43.59L10.3 9.45l-7.72 7.72c-.78.78-.78 2.05 0 2.83L4 21.41c.39.39.9.59 1.41.59.51 0 1.02-.2 1.41-.59l7.78-7.78 2.81-2.81c.8-.78.8-2.07 0-2.86zM5.41 20L4 18.59l7.72-7.72 1.47 1.35L5.41 20z\"/>\n",
              "  </svg>\n",
              "      </button>\n",
              "      \n",
              "  <style>\n",
              "    .colab-df-container {\n",
              "      display:flex;\n",
              "      flex-wrap:wrap;\n",
              "      gap: 12px;\n",
              "    }\n",
              "\n",
              "    .colab-df-convert {\n",
              "      background-color: #E8F0FE;\n",
              "      border: none;\n",
              "      border-radius: 50%;\n",
              "      cursor: pointer;\n",
              "      display: none;\n",
              "      fill: #1967D2;\n",
              "      height: 32px;\n",
              "      padding: 0 0 0 0;\n",
              "      width: 32px;\n",
              "    }\n",
              "\n",
              "    .colab-df-convert:hover {\n",
              "      background-color: #E2EBFA;\n",
              "      box-shadow: 0px 1px 2px rgba(60, 64, 67, 0.3), 0px 1px 3px 1px rgba(60, 64, 67, 0.15);\n",
              "      fill: #174EA6;\n",
              "    }\n",
              "\n",
              "    [theme=dark] .colab-df-convert {\n",
              "      background-color: #3B4455;\n",
              "      fill: #D2E3FC;\n",
              "    }\n",
              "\n",
              "    [theme=dark] .colab-df-convert:hover {\n",
              "      background-color: #434B5C;\n",
              "      box-shadow: 0px 1px 3px 1px rgba(0, 0, 0, 0.15);\n",
              "      filter: drop-shadow(0px 1px 2px rgba(0, 0, 0, 0.3));\n",
              "      fill: #FFFFFF;\n",
              "    }\n",
              "  </style>\n",
              "\n",
              "      <script>\n",
              "        const buttonEl =\n",
              "          document.querySelector('#df-5961e013-07a1-4d14-94f0-359dd3b045ac button.colab-df-convert');\n",
              "        buttonEl.style.display =\n",
              "          google.colab.kernel.accessAllowed ? 'block' : 'none';\n",
              "\n",
              "        async function convertToInteractive(key) {\n",
              "          const element = document.querySelector('#df-5961e013-07a1-4d14-94f0-359dd3b045ac');\n",
              "          const dataTable =\n",
              "            await google.colab.kernel.invokeFunction('convertToInteractive',\n",
              "                                                     [key], {});\n",
              "          if (!dataTable) return;\n",
              "\n",
              "          const docLinkHtml = 'Like what you see? Visit the ' +\n",
              "            '<a target=\"_blank\" href=https://colab.research.google.com/notebooks/data_table.ipynb>data table notebook</a>'\n",
              "            + ' to learn more about interactive tables.';\n",
              "          element.innerHTML = '';\n",
              "          dataTable['output_type'] = 'display_data';\n",
              "          await google.colab.output.renderOutput(dataTable, element);\n",
              "          const docLink = document.createElement('div');\n",
              "          docLink.innerHTML = docLinkHtml;\n",
              "          element.appendChild(docLink);\n",
              "        }\n",
              "      </script>\n",
              "    </div>\n",
              "  </div>\n",
              "  "
            ],
            "text/plain": [
              "Empty DataFrame\n",
              "Columns: [Order_ID, Order_Date, Ship_Date, Ship_Mode, Customer_ID, Customer_Name, Segment, Country, City, State, Postal_Code, Region, Product_ID, Category, Sub_Category, Product_Name, Sales, Quantity, Discount, Profit, Year]\n",
              "Index: []\n",
              "\n",
              "[0 rows x 21 columns]"
            ]
          },
          "execution_count": 64,
          "metadata": {},
          "output_type": "execute_result"
        }
      ],
      "source": [
        "superstore[superstore['Customer_ID'].str.contains('^[A-Za-z]{2}-[A-Za-z0-9]{6}$')]"
      ]
    },
    {
      "cell_type": "code",
      "execution_count": 65,
      "metadata": {
        "colab": {
          "base_uri": "https://localhost:8080/",
          "height": 191
        },
        "id": "hfll7_xT7QJu",
        "outputId": "7e6edb11-c429-4166-8d2a-fcd59d4c8fb2"
      },
      "outputs": [
        {
          "data": {
            "text/html": [
              "\n",
              "  <div id=\"df-a9f8eacf-4cdb-4605-b2e2-cffea7786f1e\">\n",
              "    <div class=\"colab-df-container\">\n",
              "      <div>\n",
              "<style scoped>\n",
              "    .dataframe tbody tr th:only-of-type {\n",
              "        vertical-align: middle;\n",
              "    }\n",
              "\n",
              "    .dataframe tbody tr th {\n",
              "        vertical-align: top;\n",
              "    }\n",
              "\n",
              "    .dataframe thead th {\n",
              "        text-align: right;\n",
              "    }\n",
              "</style>\n",
              "<table border=\"1\" class=\"dataframe\">\n",
              "  <thead>\n",
              "    <tr style=\"text-align: right;\">\n",
              "      <th></th>\n",
              "      <th>Order_ID</th>\n",
              "      <th>Order_Date</th>\n",
              "      <th>Ship_Date</th>\n",
              "      <th>Ship_Mode</th>\n",
              "      <th>Customer_ID</th>\n",
              "      <th>Customer_Name</th>\n",
              "      <th>Segment</th>\n",
              "      <th>Country</th>\n",
              "      <th>City</th>\n",
              "      <th>State</th>\n",
              "      <th>...</th>\n",
              "      <th>Region</th>\n",
              "      <th>Product_ID</th>\n",
              "      <th>Category</th>\n",
              "      <th>Sub_Category</th>\n",
              "      <th>Product_Name</th>\n",
              "      <th>Sales</th>\n",
              "      <th>Quantity</th>\n",
              "      <th>Discount</th>\n",
              "      <th>Profit</th>\n",
              "      <th>Year</th>\n",
              "    </tr>\n",
              "    <tr>\n",
              "      <th>Row ID</th>\n",
              "      <th></th>\n",
              "      <th></th>\n",
              "      <th></th>\n",
              "      <th></th>\n",
              "      <th></th>\n",
              "      <th></th>\n",
              "      <th></th>\n",
              "      <th></th>\n",
              "      <th></th>\n",
              "      <th></th>\n",
              "      <th></th>\n",
              "      <th></th>\n",
              "      <th></th>\n",
              "      <th></th>\n",
              "      <th></th>\n",
              "      <th></th>\n",
              "      <th></th>\n",
              "      <th></th>\n",
              "      <th></th>\n",
              "      <th></th>\n",
              "      <th></th>\n",
              "    </tr>\n",
              "  </thead>\n",
              "  <tbody>\n",
              "  </tbody>\n",
              "</table>\n",
              "<p>0 rows × 21 columns</p>\n",
              "</div>\n",
              "      <button class=\"colab-df-convert\" onclick=\"convertToInteractive('df-a9f8eacf-4cdb-4605-b2e2-cffea7786f1e')\"\n",
              "              title=\"Convert this dataframe to an interactive table.\"\n",
              "              style=\"display:none;\">\n",
              "        \n",
              "  <svg xmlns=\"http://www.w3.org/2000/svg\" height=\"24px\"viewBox=\"0 0 24 24\"\n",
              "       width=\"24px\">\n",
              "    <path d=\"M0 0h24v24H0V0z\" fill=\"none\"/>\n",
              "    <path d=\"M18.56 5.44l.94 2.06.94-2.06 2.06-.94-2.06-.94-.94-2.06-.94 2.06-2.06.94zm-11 1L8.5 8.5l.94-2.06 2.06-.94-2.06-.94L8.5 2.5l-.94 2.06-2.06.94zm10 10l.94 2.06.94-2.06 2.06-.94-2.06-.94-.94-2.06-.94 2.06-2.06.94z\"/><path d=\"M17.41 7.96l-1.37-1.37c-.4-.4-.92-.59-1.43-.59-.52 0-1.04.2-1.43.59L10.3 9.45l-7.72 7.72c-.78.78-.78 2.05 0 2.83L4 21.41c.39.39.9.59 1.41.59.51 0 1.02-.2 1.41-.59l7.78-7.78 2.81-2.81c.8-.78.8-2.07 0-2.86zM5.41 20L4 18.59l7.72-7.72 1.47 1.35L5.41 20z\"/>\n",
              "  </svg>\n",
              "      </button>\n",
              "      \n",
              "  <style>\n",
              "    .colab-df-container {\n",
              "      display:flex;\n",
              "      flex-wrap:wrap;\n",
              "      gap: 12px;\n",
              "    }\n",
              "\n",
              "    .colab-df-convert {\n",
              "      background-color: #E8F0FE;\n",
              "      border: none;\n",
              "      border-radius: 50%;\n",
              "      cursor: pointer;\n",
              "      display: none;\n",
              "      fill: #1967D2;\n",
              "      height: 32px;\n",
              "      padding: 0 0 0 0;\n",
              "      width: 32px;\n",
              "    }\n",
              "\n",
              "    .colab-df-convert:hover {\n",
              "      background-color: #E2EBFA;\n",
              "      box-shadow: 0px 1px 2px rgba(60, 64, 67, 0.3), 0px 1px 3px 1px rgba(60, 64, 67, 0.15);\n",
              "      fill: #174EA6;\n",
              "    }\n",
              "\n",
              "    [theme=dark] .colab-df-convert {\n",
              "      background-color: #3B4455;\n",
              "      fill: #D2E3FC;\n",
              "    }\n",
              "\n",
              "    [theme=dark] .colab-df-convert:hover {\n",
              "      background-color: #434B5C;\n",
              "      box-shadow: 0px 1px 3px 1px rgba(0, 0, 0, 0.15);\n",
              "      filter: drop-shadow(0px 1px 2px rgba(0, 0, 0, 0.3));\n",
              "      fill: #FFFFFF;\n",
              "    }\n",
              "  </style>\n",
              "\n",
              "      <script>\n",
              "        const buttonEl =\n",
              "          document.querySelector('#df-a9f8eacf-4cdb-4605-b2e2-cffea7786f1e button.colab-df-convert');\n",
              "        buttonEl.style.display =\n",
              "          google.colab.kernel.accessAllowed ? 'block' : 'none';\n",
              "\n",
              "        async function convertToInteractive(key) {\n",
              "          const element = document.querySelector('#df-a9f8eacf-4cdb-4605-b2e2-cffea7786f1e');\n",
              "          const dataTable =\n",
              "            await google.colab.kernel.invokeFunction('convertToInteractive',\n",
              "                                                     [key], {});\n",
              "          if (!dataTable) return;\n",
              "\n",
              "          const docLinkHtml = 'Like what you see? Visit the ' +\n",
              "            '<a target=\"_blank\" href=https://colab.research.google.com/notebooks/data_table.ipynb>data table notebook</a>'\n",
              "            + ' to learn more about interactive tables.';\n",
              "          element.innerHTML = '';\n",
              "          dataTable['output_type'] = 'display_data';\n",
              "          await google.colab.output.renderOutput(dataTable, element);\n",
              "          const docLink = document.createElement('div');\n",
              "          docLink.innerHTML = docLinkHtml;\n",
              "          element.appendChild(docLink);\n",
              "        }\n",
              "      </script>\n",
              "    </div>\n",
              "  </div>\n",
              "  "
            ],
            "text/plain": [
              "Empty DataFrame\n",
              "Columns: [Order_ID, Order_Date, Ship_Date, Ship_Mode, Customer_ID, Customer_Name, Segment, Country, City, State, Postal_Code, Region, Product_ID, Category, Sub_Category, Product_Name, Sales, Quantity, Discount, Profit, Year]\n",
              "Index: []\n",
              "\n",
              "[0 rows x 21 columns]"
            ]
          },
          "execution_count": 65,
          "metadata": {},
          "output_type": "execute_result"
        }
      ],
      "source": [
        "# เช็ค Order_ID มีค่าที่ขอบเขตหรือไม่ \n",
        "# ตย. order id CA-2017-119914 \n",
        "superstore[superstore['Order_ID'].str.contains(\"^[A-Za-z]{3}-[0-9]{5}-[0-9]{7}$\")]"
      ]
    },
    {
      "cell_type": "markdown",
      "metadata": {
        "id": "uct_0AwzsU9t"
      },
      "source": [
        "Customer_ID ไม่มีข้อมูลที่ค่าผิดปกติ"
      ]
    },
    {
      "cell_type": "markdown",
      "metadata": {
        "id": "bQLCVgD7yyo-"
      },
      "source": [
        "หาค่า Unique ในแต่ละคอลัมน์"
      ]
    },
    {
      "cell_type": "code",
      "execution_count": 66,
      "metadata": {
        "colab": {
          "base_uri": "https://localhost:8080/"
        },
        "id": "sHd2hwj4yzP-",
        "outputId": "941534ed-4499-4309-f745-4f779258191c"
      },
      "outputs": [
        {
          "data": {
            "text/plain": [
              "array(['CG-12520', 'DV-13045', 'SO-20335', 'BH-11710', 'AA-10480',\n",
              "       'IM-15070', 'HP-14815', 'PK-19075', 'AG-10270', 'ZD-21925',\n",
              "       'KB-16585', 'SF-20065', 'EB-13870', 'EH-13945', 'TB-21520',\n",
              "       'MA-17560', 'GH-14485', 'SN-20710', 'LC-16930', 'RA-19885',\n",
              "       'ES-14080', 'ON-18715', 'PO-18865', 'LH-16900', 'DP-13000',\n",
              "       'JM-15265', 'TB-21055', 'KM-16720', 'PS-18970', 'BS-11590',\n",
              "       'KD-16270', 'HM-14980', 'JE-15745', 'KB-16600', 'SC-20770',\n",
              "       'DN-13690', 'JC-16105', 'CS-12400', 'PG-18895', 'GM-14455',\n",
              "       'JS-15685', 'KB-16315', 'RB-19705', 'PN-18775', 'KD-16345',\n",
              "       'ER-13855', 'RB-19465', 'GZ-14470', 'LC-16870', 'JM-15250',\n",
              "       'PA-19060', 'CV-12805', 'CL-12565', 'RC-19960', 'DK-13090',\n",
              "       'GG-14650', 'SC-20725', 'AD-10180', 'PF-19165', 'TS-21610',\n",
              "       'LS-16975', 'DW-13585', 'LC-16885', 'JD-15895', 'SH-19975',\n",
              "       'SG-20080', 'HA-14920', 'MG-17680', 'JE-16165', 'TW-21025',\n",
              "       'SP-20650', 'NK-18490', 'DB-13060', 'NP-18670', 'TT-21070',\n",
              "       'EM-13960', 'RD-19900', 'MJ-17740', 'BM-11140', 'CS-12130',\n",
              "       'JB-15400', 'SJ-20500', 'JK-15640', 'DK-13150', 'RM-19675',\n",
              "       'SK-19990', 'FM-14290', 'AM-10360', 'MP-17470', 'MZ-17515',\n",
              "       'CB-12025', 'VM-21685', 'FH-14365', 'MB-17305', 'BS-11755',\n",
              "       'LC-17140', 'HK-14890', 'LE-16810', 'JH-15985', 'MS-17980',\n",
              "       'VW-21775', 'JH-15910', 'JB-15925', 'DS-13180', 'VD-21670',\n",
              "       'EA-14035', 'DB-13120', 'KL-16645', 'DW-13480', 'LH-17155',\n",
              "       'KC-16540', 'DL-13315', 'DR-12880', 'CC-12670', 'Dl-13600',\n",
              "       'SB-20290', 'RC-19825', 'AH-10210', 'CB-12535', 'CA-12310',\n",
              "       'KH-16690', 'BB-10990', 'AG-10495', 'JO-15280', 'AH-10195',\n",
              "       'NZ-18565', 'KL-16555', 'AS-10225', 'CR-12625', 'SH-20395',\n",
              "       'BP-11185', 'TS-21205', 'AG-10525', 'SP-20860', 'NM-18445',\n",
              "       'FA-14230', 'GK-14620', 'DJ-13510', 'PO-18850', 'JL-15850',\n",
              "       'DB-13615', 'AC-10420', 'CC-12550', 'TD-20995', 'AB-10060',\n",
              "       'JL-15505', 'VB-21745', 'KW-16435', 'JD-16060', 'MK-17905',\n",
              "       'GT-14755', 'AG-10900', 'MM-18280', 'AR-10405', 'RA-19915',\n",
              "       'AS-10285', 'LA-16780', 'DO-13435', 'DK-13225', 'NG-18430',\n",
              "       'MV-18190', 'JG-15115', 'BP-11095', 'VP-21730', 'SS-20140',\n",
              "       'AG-10675', 'LF-17185', 'RF-19840', 'KH-16510', 'KC-16675',\n",
              "       'CJ-12010', 'PB-19150', 'MP-17965', 'NF-18385', 'SD-20485',\n",
              "       'KH-16630', 'RB-19795', 'MK-18160', 'PO-19180', 'BB-11545',\n",
              "       'TB-21595', 'RB-19360', 'EB-13705', 'SC-20095', 'TN-21040',\n",
              "       'JS-15940', 'MH-17785', 'JP-15520', 'JE-15475', 'JG-15805',\n",
              "       'XP-21865', 'EM-14065', 'MT-18070', 'SA-20830', 'CW-11905',\n",
              "       'AJ-10960', 'SS-20590', 'RO-19780', 'MD-17350', 'MY-17380',\n",
              "       'CM-12385', 'LS-17245', 'BN-11515', 'DB-13210', 'MC-17605',\n",
              "       'BD-11605', 'PH-18790', 'MG-18145', 'KB-16240', 'JC-15340',\n",
              "       'RL-19615', 'AA-10375', 'EP-13915', 'DK-12985', 'BD-11500',\n",
              "       'LM-17065', 'AS-10135', 'BD-11320', 'GT-14710', 'AJ-10945',\n",
              "       'OT-18730', 'LP-17080', 'CA-12775', 'JF-15490', 'FP-14320',\n",
              "       'EB-13840', 'JF-15415', 'SF-20200', 'TG-21640', 'CS-11950',\n",
              "       'CC-12145', 'DV-13465', 'BD-11725', 'ZC-21910', 'MS-17830',\n",
              "       'LR-16915', 'TP-21130', 'CK-12205', 'AS-10240', 'AR-10510',\n",
              "       'NB-18655', 'GD-14590', 'CK-12595', 'NG-18355', 'CA-12265',\n",
              "       'SF-20965', 'MO-17800', 'AT-10735', 'FM-14380', 'DJ-13420',\n",
              "       'ME-17725', 'JD-16150', 'JL-15835', 'SC-20305', 'CC-12430',\n",
              "       'AR-10825', 'SR-20740', 'CR-12730', 'EH-14125', 'SP-20545',\n",
              "       'TH-21235', 'RP-19390', 'RB-19570', 'CD-11980', 'DJ-13630',\n",
              "       'GT-14635', 'MC-17845', 'RA-19285', 'NP-18325', 'AB-10165',\n",
              "       'JO-15550', 'JK-15370', 'BN-11470', 'DP-13165', 'TH-21550',\n",
              "       'AP-10915', 'RS-19765', 'SV-20365', 'CK-12325', 'RD-19810',\n",
              "       'MR-17545', 'SC-20695', 'JF-15355', 'EG-13900', 'DS-13030',\n",
              "       'PO-19195', 'SS-20875', 'PB-19105', 'RF-19735', 'YC-21895',\n",
              "       'DC-13285', 'CP-12340', 'BF-11020', 'LH-17020', 'CS-12250',\n",
              "       'AJ-10795', 'BV-11245', 'DL-12865', 'BM-11785', 'LT-17110',\n",
              "       'JK-15730', 'ES-14020', 'RH-19495', 'CD-11920', 'HW-14935',\n",
              "       'MC-18130', 'GM-14440', 'PJ-19015', 'BW-11110', 'TR-21325',\n",
              "       'PG-18820', 'JL-15175', 'BM-11650', 'EM-14095', 'AF-10885',\n",
              "       'GA-14725', 'CK-12760', 'DP-13105', 'BK-11260', 'SJ-20125',\n",
              "       'CM-12445', 'AJ-10780', 'LS-16945', 'GP-14740', 'PK-18910',\n",
              "       'SM-20005', 'AG-10765', 'PM-19135', 'LL-16840', 'JS-15595',\n",
              "       'EL-13735', 'PC-18745', 'HL-15040', 'MS-17365', 'GB-14530',\n",
              "       'JR-16210', 'BE-11335', 'SC-20050', 'RW-19630', 'SE-20110',\n",
              "       'AH-10075', 'JM-15535', 'JJ-15760', 'RK-19300', 'CG-12040',\n",
              "       'RP-19270', 'KC-16255', 'KH-16360', 'GH-14665', 'SW-20275',\n",
              "       'JA-15970', 'DL-12925', 'LW-16990', 'TB-21190', 'BS-11800',\n",
              "       'RW-19690', 'TZ-21580', 'AS-10630', 'TS-21340', 'SL-20155',\n",
              "       'MW-18235', 'RD-19585', 'RA-19945', 'MT-17815', 'VG-21790',\n",
              "       'JS-15880', 'KM-16225', 'HR-14770', 'DE-13255', 'AG-10390',\n",
              "       'JJ-15445', 'JH-15430', 'RD-19660', 'MO-17500', 'NS-18640',\n",
              "       'DG-13300', 'NF-18595', 'MG-17650', 'TS-21160', 'BD-11620',\n",
              "       'CM-12160', 'SN-20560', 'EH-14005', 'FO-14305', 'MS-17710',\n",
              "       'CC-12100', 'DW-13540', 'BT-11395', 'CY-12745', 'BT-11485',\n",
              "       'PS-19045', 'PV-18985', 'NM-18520', 'DL-13495', 'CS-12355',\n",
              "       'FH-14275', 'NC-18340', 'AA-10315', 'LT-16765', 'AP-10720',\n",
              "       'PM-18940', 'AT-10435', 'CA-12055', 'HR-14830', 'BT-11530',\n",
              "       'LH-16750', 'SW-20755', 'SP-20620', 'BF-11170', 'KT-16480',\n",
              "       'BG-11695', 'GM-14680', 'EJ-14155', 'NP-18700', 'MH-18115',\n",
              "       'JR-15700', 'SM-20950', 'CC-12220', 'PF-19225', 'DC-12850',\n",
              "       'BD-11770', 'GM-14500', 'TB-21355', 'JH-16180', 'EB-13975',\n",
              "       'QJ-19255', 'TC-21535', 'CS-12460', 'HG-14965', 'LW-16825',\n",
              "       'MC-17575', 'LP-17095', 'EB-14170', 'GZ-14545', 'CP-12085',\n",
              "       'FG-14260', 'LD-17005', 'AB-10255', 'MN-17935', 'JR-15670',\n",
              "       'JF-15190', 'CM-12115', 'AS-10045', 'BP-11290', 'ND-18370',\n",
              "       'LB-16735', 'KT-16465', 'HM-14860', 'AB-10600', 'SZ-20035',\n",
              "       'MG-17890', 'JK-16120', 'PP-18955', 'YS-21880', 'KM-16375',\n",
              "       'AB-10105', 'HA-14905', 'BT-11305', 'SV-20815', 'RW-19540',\n",
              "       'DK-12835', 'ST-20530', 'MM-17920', 'PW-19030', 'SC-20440',\n",
              "       'TS-21085', 'MC-17425', 'ME-17320', 'NH-18610', 'MB-18085',\n",
              "       'KD-16495', 'KN-16390', 'NP-18685', 'CS-12505', 'MS-17770',\n",
              "       'CM-12655', 'Co-12640', 'TS-21370', 'JW-15220', 'JD-15790',\n",
              "       'PC-19000', 'AR-10540', 'AI-10855', 'TB-21400', 'PL-18925',\n",
              "       'GH-14425', 'MP-18175', 'JM-15655', 'CL-11890', 'DB-13270',\n",
              "       'IG-15085', 'BO-11425', 'AB-10150', 'JW-16075', 'EB-13750',\n",
              "       'SG-20470', 'CM-12190', 'AW-10840', 'MC-18100', 'TT-21460',\n",
              "       'VG-21805', 'MY-18295', 'RD-19480', 'DP-13390', 'ML-17395',\n",
              "       'JC-15385', 'JG-15160', 'MC-17275', 'NW-18400', 'TB-21280',\n",
              "       'BS-11380', 'HH-15010', 'CD-12280', 'TH-21100', 'MM-18055',\n",
              "       'NS-18505', 'RB-19645', 'SW-20455', 'EB-13930', 'PS-18760',\n",
              "       'HF-14995', 'HZ-14950', 'CD-12790', 'JK-15205', 'FM-14215',\n",
              "       'ED-13885', 'DA-13450', 'JW-15955', 'RM-19375', 'ML-17755',\n",
              "       'CC-12685', 'JE-15610', 'RP-19855', 'TB-21175', 'BE-11455',\n",
              "       'JF-15565', 'PB-19210', 'BT-11680', 'JL-15235', 'CH-12070',\n",
              "       'ND-18460', 'BF-10975', 'KH-16330', 'GW-14605', 'NC-18625',\n",
              "       'ME-18010', 'BP-11230', 'JC-15775', 'AS-10090', 'AC-10450',\n",
              "       'MD-17860', 'DB-13660', 'EH-13990', 'EH-13765', 'SC-20230',\n",
              "       'JE-15715', 'AC-10615', 'JD-16015', 'CB-12415', 'JS-16030',\n",
              "       'LW-17215', 'SC-20800', 'AM-10705', 'RH-19510', 'CT-11995',\n",
              "       'MC-17590', 'CC-12610', 'KA-16525', 'TC-20980', 'BF-11080',\n",
              "       'MM-17260', 'AH-10120', 'BW-11200', 'SW-20245', 'BS-11665',\n",
              "       'RF-19345', 'WB-21850', 'TB-21625', 'AF-10870', 'RB-19435',\n",
              "       'KF-16285', 'JH-15820', 'IL-15100', 'PB-18805', 'RH-19600',\n",
              "       'AW-10930', 'ML-17410', 'DB-13555', 'MH-17620', 'DK-13375',\n",
              "       'BT-11440', 'DB-13405', 'TG-21310', 'BF-11005', 'JM-16195',\n",
              "       'MZ-17335', 'MW-18220', 'MV-17485', 'SM-20320', 'TP-21415',\n",
              "       'JK-15625', 'PJ-18835', 'RS-19420', 'SV-20935', 'BC-11125',\n",
              "       'EM-13825', 'BM-11575', 'KN-16705', 'KW-16570', 'SC-20260',\n",
              "       'CV-12295', 'SG-20605', 'TM-21010', 'EM-13810', 'ML-18040',\n",
              "       'CR-12580', 'AZ-10750', 'PW-19240', 'SC-20380', 'CM-11935',\n",
              "       'GM-14695', 'TB-21250', 'JM-15865', 'SC-20575', 'LS-17200',\n",
              "       'RR-19315', 'DB-12910', 'TT-21220', 'LO-17170', 'KD-16615',\n",
              "       'NB-18580', 'BD-11635', 'CM-12235', 'EN-13780', 'KN-16450',\n",
              "       'BO-11350', 'AG-10300', 'MC-17635', 'TA-21385', 'JF-15295',\n",
              "       'TT-21265', 'SB-20170', 'CL-12700', 'HG-15025', 'NL-18310',\n",
              "       'RR-19525', 'TC-21295', 'SV-20785', 'BE-11410', 'SC-20680',\n",
              "       'DF-13135', 'FH-14350', 'MS-17530', 'RH-19555', 'GA-14515',\n",
              "       'JP-16135', 'Dp-13240', 'MO-17950', 'DL-13330', 'MH-18025',\n",
              "       'DR-12940', 'DM-13015', 'CA-11965', 'AC-10660', 'DM-13345',\n",
              "       'VF-21715', 'CC-12370', 'BF-11275', 'HG-14845', 'BP-11155',\n",
              "       'EM-14140', 'MA-17995', 'AY-10555', 'GB-14575', 'JB-16045',\n",
              "       'MG-17875', 'SR-20425', 'JB-16000', 'DM-12955', 'TC-21475',\n",
              "       'SW-20350', 'RE-19450', 'BF-11215', 'KB-16405', 'JG-15310',\n",
              "       'EC-14050', 'EB-14110', 'JP-15460', 'CS-11845', 'GH-14410',\n",
              "       'PT-19090', 'JL-15130', 'AH-10030', 'CC-12475', 'DW-13195',\n",
              "       'SJ-20215', 'BG-11740', 'LB-16795', 'CM-11815', 'EH-14185',\n",
              "       'TS-21505', 'PR-18880', 'LC-17050', 'CS-12490', 'DH-13075',\n",
              "       'JO-15145', 'AH-10690', 'HJ-14875', 'MH-17455', 'RD-19930',\n",
              "       'SC-20020', 'SU-20665', 'FC-14335', 'RB-19330', 'NC-18535',\n",
              "       'DB-12970', 'MF-17665', 'RM-19750', 'VM-21835', 'EJ-13720',\n",
              "       'NC-18415', 'LS-17230', 'KE-16420', 'DH-13675', 'PF-19120',\n",
              "       'VT-21700', 'MG-17695', 'SP-20920', 'CS-12175', 'DK-12895',\n",
              "       'KM-16660', 'AA-10645', 'DD-13570', 'AH-10465', 'TP-21565',\n",
              "       'EK-13795', 'CR-12820', 'SG-20890', 'AH-10585', 'NF-18475',\n",
              "       'BS-11365', 'SH-20635', 'RD-19720', 'AG-10330', 'GR-14560',\n",
              "       'VS-21820', 'TM-21490', 'TS-21430', 'DB-13360', 'NR-18550',\n",
              "       'CS-11860', 'MF-18250', 'LW-17125', 'AR-10345', 'KS-16300',\n",
              "       'AB-10015', 'LR-17035', 'SS-20410', 'JM-15580', 'JK-15325',\n",
              "       'DM-13525', 'ML-18265', 'MH-17290', 'FC-14245', 'TH-21115',\n",
              "       'JK-16090', 'SB-20185', 'BG-11035', 'BW-11065', 'MG-18205',\n",
              "       'DO-13645', 'BP-11050', 'TS-21655', 'EM-14200', 'AO-10810',\n",
              "       'MH-17440', 'SS-20515', 'LD-16855', 'VP-21760', 'TC-21145',\n",
              "       'IM-15055', 'AR-10570', 'CM-12715', 'FW-14395', 'LC-16960',\n",
              "       'HE-14800', 'BD-11560', 'HD-14785', 'CJ-11875', 'RS-19870',\n",
              "       'SC-20845', 'RE-19405', 'SM-20905'], dtype=object)"
            ]
          },
          "execution_count": 66,
          "metadata": {},
          "output_type": "execute_result"
        }
      ],
      "source": [
        "superstore['Customer_ID'].unique()"
      ]
    },
    {
      "cell_type": "code",
      "execution_count": 67,
      "metadata": {
        "colab": {
          "base_uri": "https://localhost:8080/"
        },
        "id": "88isAgwN0eP4",
        "outputId": "d8d0dd1d-3838-491e-ae0c-d18981a6e3e1"
      },
      "outputs": [
        {
          "data": {
            "text/plain": [
              "array(['Henderson', 'Los Angeles', 'Fort Lauderdale', 'Concord',\n",
              "       'Seattle', 'Fort Worth', 'Madison', 'West Jordan', 'San Francisco',\n",
              "       'Fremont', 'Philadelphia', 'Orem', 'Houston', 'Richardson',\n",
              "       'Naperville', 'Melbourne', 'Eagan', 'Westland', 'Dover',\n",
              "       'New Albany', 'New York City', 'Troy', 'Chicago', 'Gilbert',\n",
              "       'Springfield', 'Jackson', 'Memphis', 'Decatur', 'Durham',\n",
              "       'Columbia', 'Rochester', 'Minneapolis', 'Portland', 'Saint Paul',\n",
              "       'Aurora', 'Charlotte', 'Orland Park', 'Urbandale', 'Columbus',\n",
              "       'Bristol', 'Wilmington', 'Bloomington', 'Phoenix', 'Roseville',\n",
              "       'Independence', 'Pasadena', 'Newark', 'Franklin', 'Scottsdale',\n",
              "       'San Jose', 'Edmond', 'Carlsbad', 'San Antonio', 'Monroe',\n",
              "       'Fairfield', 'Grand Prairie', 'Redlands', 'Hamilton', 'Westfield',\n",
              "       'Akron', 'Denver', 'Dallas', 'Whittier', 'Saginaw', 'Medina',\n",
              "       'Dublin', 'Detroit', 'Tampa', 'Santa Clara', 'Lakeville',\n",
              "       'San Diego', 'Brentwood', 'Chapel Hill', 'Morristown',\n",
              "       'Cincinnati', 'Inglewood', 'Tamarac', 'Colorado Springs',\n",
              "       'Belleville', 'Taylor', 'Lakewood', 'Arlington', 'Arvada',\n",
              "       'Hackensack', 'Saint Petersburg', 'Long Beach', 'Hesperia',\n",
              "       'Murfreesboro', 'Layton', 'Austin', 'Lowell', 'Manchester',\n",
              "       'Harlingen', 'Tucson', 'Quincy', 'Pembroke Pines', 'Des Moines',\n",
              "       'Peoria', 'Las Vegas', 'Warwick', 'Miami', 'Huntington Beach',\n",
              "       'Richmond', 'Louisville', 'Lawrence', 'Canton', 'New Rochelle',\n",
              "       'Gastonia', 'Jacksonville', 'Auburn', 'Norman', 'Park Ridge',\n",
              "       'Amarillo', 'Lindenhurst', 'Huntsville', 'Fayetteville',\n",
              "       'Costa Mesa', 'Parker', 'Atlanta', 'Gladstone', 'Great Falls',\n",
              "       'Lakeland', 'Montgomery', 'Mesa', 'Green Bay', 'Anaheim',\n",
              "       'Marysville', 'Salem', 'Laredo', 'Grove City', 'Dearborn',\n",
              "       'Warner Robins', 'Vallejo', 'Mission Viejo', 'Rochester Hills',\n",
              "       'Plainfield', 'Sierra Vista', 'Vancouver', 'Cleveland', 'Tyler',\n",
              "       'Burlington', 'Waynesboro', 'Chester', 'Cary', 'Palm Coast',\n",
              "       'Mount Vernon', 'Hialeah', 'Oceanside', 'Evanston', 'Trenton',\n",
              "       'Cottage Grove', 'Bossier City', 'Lancaster', 'Asheville',\n",
              "       'Lake Elsinore', 'Omaha', 'Edmonds', 'Santa Ana', 'Milwaukee',\n",
              "       'Florence', 'Lorain', 'Linden', 'Salinas', 'New Brunswick',\n",
              "       'Garland', 'Norwich', 'Alexandria', 'Toledo', 'Farmington',\n",
              "       'Riverside', 'Torrance', 'Round Rock', 'Boca Raton',\n",
              "       'Virginia Beach', 'Murrieta', 'Olympia', 'Washington',\n",
              "       'Jefferson City', 'Saint Peters', 'Rockford', 'Brownsville',\n",
              "       'Yonkers', 'Oakland', 'Clinton', 'Encinitas', 'Roswell',\n",
              "       'Jonesboro', 'Antioch', 'Homestead', 'La Porte', 'Lansing',\n",
              "       'Cuyahoga Falls', 'Reno', 'Harrisonburg', 'Escondido', 'Royal Oak',\n",
              "       'Rockville', 'Coral Springs', 'Buffalo', 'Boynton Beach',\n",
              "       'Gulfport', 'Fresno', 'Greenville', 'Macon', 'Cedar Rapids',\n",
              "       'Providence', 'Pueblo', 'Deltona', 'Murray', 'Middletown',\n",
              "       'Freeport', 'Pico Rivera', 'Provo', 'Pleasant Grove', 'Smyrna',\n",
              "       'Parma', 'Mobile', 'New Bedford', 'Irving', 'Vineland', 'Glendale',\n",
              "       'Niagara Falls', 'Thomasville', 'Westminster', 'Coppell', 'Pomona',\n",
              "       'North Las Vegas', 'Allentown', 'Tempe', 'Laguna Niguel',\n",
              "       'Bridgeton', 'Everett', 'Watertown', 'Appleton', 'Bellevue',\n",
              "       'Allen', 'El Paso', 'Grapevine', 'Carrollton', 'Kent', 'Lafayette',\n",
              "       'Tigard', 'Skokie', 'Plano', 'Suffolk', 'Indianapolis', 'Bayonne',\n",
              "       'Greensboro', 'Baltimore', 'Kenosha', 'Olathe', 'Tulsa', 'Redmond',\n",
              "       'Raleigh', 'Muskogee', 'Meriden', 'Bowling Green', 'South Bend',\n",
              "       'Spokane', 'Keller', 'Port Orange', 'Medford', 'Charlottesville',\n",
              "       'Missoula', 'Apopka', 'Reading', 'Broomfield', 'Paterson',\n",
              "       'Oklahoma City', 'Chesapeake', 'Lubbock', 'Johnson City',\n",
              "       'San Bernardino', 'Leominster', 'Bozeman', 'Perth Amboy',\n",
              "       'Ontario', 'Rancho Cucamonga', 'Moorhead', 'Mesquite', 'Stockton',\n",
              "       'Ormond Beach', 'Sunnyvale', 'York', 'College Station',\n",
              "       'Saint Louis', 'Manteca', 'San Angelo', 'Salt Lake City',\n",
              "       'Knoxville', 'Little Rock', 'Lincoln Park', 'Marion', 'Littleton',\n",
              "       'Bangor', 'Southaven', 'New Castle', 'Midland', 'Sioux Falls',\n",
              "       'Fort Collins', 'Clarksville', 'Sacramento', 'Thousand Oaks',\n",
              "       'Malden', 'Holyoke', 'Albuquerque', 'Sparks', 'Coachella',\n",
              "       'Elmhurst', 'Passaic', 'North Charleston', 'Newport News',\n",
              "       'Jamestown', 'Mishawaka', 'La Quinta', 'Tallahassee', 'Nashville',\n",
              "       'Bellingham', 'Woodstock', 'Haltom City', 'Wheeling',\n",
              "       'Summerville', 'Hot Springs', 'Englewood', 'Las Cruces', 'Hoover',\n",
              "       'Frisco', 'Vacaville', 'Waukesha', 'Bakersfield', 'Pompano Beach',\n",
              "       'Corpus Christi', 'Redondo Beach', 'Orlando', 'Orange',\n",
              "       'Lake Charles', 'Highland Park', 'Hempstead', 'Noblesville',\n",
              "       'Apple Valley', 'Mount Pleasant', 'Sterling Heights', 'Eau Claire',\n",
              "       'Pharr', 'Billings', 'Gresham', 'Chattanooga', 'Meridian',\n",
              "       'Bolingbrook', 'Maple Grove', 'Woodland', 'Missouri City',\n",
              "       'Pearland', 'San Mateo', 'Grand Rapids', 'Visalia',\n",
              "       'Overland Park', 'Temecula', 'Yucaipa', 'Revere', 'Conroe',\n",
              "       'Tinley Park', 'Dubuque', 'Dearborn Heights', 'Santa Fe',\n",
              "       'Hickory', 'Carol Stream', 'Saint Cloud', 'North Miami',\n",
              "       'Plantation', 'Port Saint Lucie', 'Rock Hill', 'Odessa',\n",
              "       'West Allis', 'Chula Vista', 'Manhattan', 'Altoona', 'Thornton',\n",
              "       'Champaign', 'Texarkana', 'Edinburg', 'Baytown', 'Greenwood',\n",
              "       'Woonsocket', 'Superior', 'Bedford', 'Covington', 'Broken Arrow',\n",
              "       'Miramar', 'Hollywood', 'Deer Park', 'Wichita', 'Mcallen',\n",
              "       'Iowa City', 'Boise', 'Cranston', 'Port Arthur', 'Citrus Heights',\n",
              "       'The Colony', 'Daytona Beach', 'Bullhead City', 'Portage', 'Fargo',\n",
              "       'Elkhart', 'San Gabriel', 'Margate', 'Sandy Springs', 'Mentor',\n",
              "       'Lawton', 'Hampton', 'Rome', 'La Crosse', 'Lewiston',\n",
              "       'Hattiesburg', 'Danville', 'Logan', 'Waterbury', 'Athens',\n",
              "       'Avondale', 'Marietta', 'Yuma', 'Wausau', 'Pasco', 'Oak Park',\n",
              "       'Pensacola', 'League City', 'Gaithersburg', 'Lehi', 'Tuscaloosa',\n",
              "       'Moreno Valley', 'Georgetown', 'Loveland', 'Chandler', 'Helena',\n",
              "       'Kirkwood', 'Waco', 'Frankfort', 'Bethlehem', 'Grand Island',\n",
              "       'Woodbury', 'Rogers', 'Clovis', 'Jupiter', 'Santa Barbara',\n",
              "       'Cedar Hill', 'Norfolk', 'Draper', 'Ann Arbor', 'La Mesa',\n",
              "       'Pocatello', 'Holland', 'Milford', 'Buffalo Grove', 'Lake Forest',\n",
              "       'Redding', 'Chico', 'Utica', 'Conway', 'Cheyenne', 'Owensboro',\n",
              "       'Caldwell', 'Kenner', 'Nashua', 'Bartlett', 'Redwood City',\n",
              "       'Lebanon', 'Santa Maria', 'Des Plaines', 'Longview',\n",
              "       'Hendersonville', 'Waterloo', 'Cambridge', 'Palatine', 'Beverly',\n",
              "       'Eugene', 'Oxnard', 'Renton', 'Glenview', 'Delray Beach',\n",
              "       'Commerce City', 'Texas City', 'Wilson', 'Rio Rancho', 'Goldsboro',\n",
              "       'Montebello', 'El Cajon', 'Beaumont', 'West Palm Beach', 'Abilene',\n",
              "       'Normal', 'Saint Charles', 'Camarillo', 'Hillsboro', 'Burbank',\n",
              "       'Modesto', 'Garden City', 'Atlantic City', 'Longmont', 'Davis',\n",
              "       'Morgan Hill', 'Clifton', 'Sheboygan', 'East Point', 'Rapid City',\n",
              "       'Andover', 'Kissimmee', 'Shelton', 'Danbury', 'Sanford',\n",
              "       'San Marcos', 'Greeley', 'Mansfield', 'Elyria', 'Twin Falls',\n",
              "       'Coral Gables', 'Romeoville', 'Marlborough', 'Laurel', 'Bryan',\n",
              "       'Pine Bluff', 'Aberdeen', 'Hagerstown', 'East Orange',\n",
              "       'Arlington Heights', 'Oswego', 'Coon Rapids', 'San Clemente',\n",
              "       'San Luis Obispo', 'Springdale', 'Lodi', 'Mason'], dtype=object)"
            ]
          },
          "execution_count": 67,
          "metadata": {},
          "output_type": "execute_result"
        }
      ],
      "source": [
        "superstore['City'].unique()"
      ]
    },
    {
      "cell_type": "code",
      "execution_count": 68,
      "metadata": {
        "colab": {
          "base_uri": "https://localhost:8080/"
        },
        "id": "7oFXUQgGy9Wk",
        "outputId": "d0082abb-6ba9-42b4-e17e-28233034cb22"
      },
      "outputs": [
        {
          "data": {
            "text/plain": [
              "array(['Consumer', 'Corporate', 'Home Office'], dtype=object)"
            ]
          },
          "execution_count": 68,
          "metadata": {},
          "output_type": "execute_result"
        }
      ],
      "source": [
        "superstore['Segment'].unique()"
      ]
    },
    {
      "cell_type": "markdown",
      "metadata": {
        "id": "S16TNuz_zIpV"
      },
      "source": [
        "เช็คว่ามีแถวไหนข้อมูลซ้ำมั้ย (Duplicated)"
      ]
    },
    {
      "cell_type": "code",
      "execution_count": 69,
      "metadata": {
        "colab": {
          "base_uri": "https://localhost:8080/"
        },
        "id": "ID_YJpYVzJ0P",
        "outputId": "e9605618-e73c-4918-9e8e-5ceb039b4bd1"
      },
      "outputs": [
        {
          "data": {
            "text/plain": [
              "Row ID\n",
              "1       True\n",
              "2       True\n",
              "3       True\n",
              "4       True\n",
              "5       True\n",
              "        ... \n",
              "9990    True\n",
              "9991    True\n",
              "9992    True\n",
              "9993    True\n",
              "9994    True\n",
              "Length: 9994, dtype: bool"
            ]
          },
          "execution_count": 69,
          "metadata": {},
          "output_type": "execute_result"
        }
      ],
      "source": [
        "superstore.duplicated(['Customer_ID'], keep =False)"
      ]
    },
    {
      "cell_type": "markdown",
      "metadata": {
        "id": "x6f85X5s8GZ4"
      },
      "source": [
        "# Save to CSV"
      ]
    },
    {
      "cell_type": "code",
      "execution_count": 70,
      "metadata": {
        "id": "pIeeH7KGzKOe"
      },
      "outputs": [],
      "source": [
        "superstore.to_csv('supersotre_final.csv', index=True)"
      ]
    }
  ],
  "metadata": {
    "colab": {
      "collapsed_sections": [],
      "provenance": []
    },
    "kernelspec": {
      "display_name": "Python 3.10.7 64-bit ('3.10.7')",
      "language": "python",
      "name": "python3"
    },
    "language_info": {
      "name": "python",
      "version": "3.10.7"
    },
    "vscode": {
      "interpreter": {
        "hash": "8141240dc5fe49a8eb10e433f2a629a4d96bdd10059f4b4a1214dc8894777d02"
      }
    }
  },
  "nbformat": 4,
  "nbformat_minor": 0
}
