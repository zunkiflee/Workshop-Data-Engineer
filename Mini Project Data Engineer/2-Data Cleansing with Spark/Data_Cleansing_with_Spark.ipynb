{
  "nbformat": 4,
  "nbformat_minor": 0,
  "metadata": {
    "colab": {
      "provenance": [],
      "collapsed_sections": []
    },
    "kernelspec": {
      "name": "python3",
      "display_name": "Python 3"
    },
    "language_info": {
      "name": "python"
    }
  },
  "cells": [
    {
      "cell_type": "markdown",
      "source": [
        "# Mini Project: Data Cleansing with Spark"
      ],
      "metadata": {
        "id": "C6lxM4HuQlGk"
      }
    },
    {
      "cell_type": "markdown",
      "source": [
        "ใช้ PySpark, Spark SQL, Pandas จัดการข้อมูล เช่น Clean Data, EDA, Dat Profiling"
      ],
      "metadata": {
        "id": "Jua6Wk480-xI"
      }
    },
    {
      "cell_type": "markdown",
      "metadata": {
        "id": "hZ06tCiTn7z9"
      },
      "source": [
        "# Step 1) ติดตั้ง Spark และ PySpark"
      ]
    },
    {
      "cell_type": "code",
      "execution_count": 1,
      "metadata": {
        "colab": {
          "base_uri": "https://localhost:8080/"
        },
        "id": "hpHMz4jAPXZM",
        "outputId": "e6df1f8c-e2ca-4a7c-e67a-dc77255005c0"
      },
      "outputs": [
        {
          "output_type": "stream",
          "name": "stdout",
          "text": [
            "\r0% [Working]\r            \rGet:1 https://cloud.r-project.org/bin/linux/ubuntu bionic-cran40/ InRelease [3,626 B]\n",
            "\r0% [Connecting to archive.ubuntu.com (91.189.91.39)] [Connecting to security.ub\r                                                                               \rIgn:2 https://developer.download.nvidia.com/compute/machine-learning/repos/ubuntu1804/x86_64  InRelease\n",
            "\r0% [Connecting to archive.ubuntu.com (91.189.91.39)] [Connecting to security.ub\r0% [1 InRelease gpgv 3,626 B] [Connecting to archive.ubuntu.com (91.189.91.39)]\r                                                                               \rGet:3 https://developer.download.nvidia.com/compute/cuda/repos/ubuntu1804/x86_64  InRelease [1,581 B]\n",
            "\r0% [1 InRelease gpgv 3,626 B] [Connecting to archive.ubuntu.com (91.189.91.39)]\r0% [1 InRelease gpgv 3,626 B] [Connecting to archive.ubuntu.com (91.189.91.39)]\r                                                                               \rHit:4 https://developer.download.nvidia.com/compute/machine-learning/repos/ubuntu1804/x86_64  Release\n",
            "Hit:5 http://archive.ubuntu.com/ubuntu bionic InRelease\n",
            "Get:6 http://security.ubuntu.com/ubuntu bionic-security InRelease [88.7 kB]\n",
            "Get:7 http://archive.ubuntu.com/ubuntu bionic-updates InRelease [88.7 kB]\n",
            "Get:8 http://ppa.launchpad.net/c2d4u.team/c2d4u4.0+/ubuntu bionic InRelease [15.9 kB]\n",
            "Get:9 http://archive.ubuntu.com/ubuntu bionic-backports InRelease [83.3 kB]\n",
            "Hit:10 http://ppa.launchpad.net/cran/libgit2/ubuntu bionic InRelease\n",
            "Get:11 https://developer.download.nvidia.com/compute/cuda/repos/ubuntu1804/x86_64  Packages [985 kB]\n",
            "Hit:12 http://ppa.launchpad.net/deadsnakes/ppa/ubuntu bionic InRelease\n",
            "Hit:13 http://ppa.launchpad.net/graphics-drivers/ppa/ubuntu bionic InRelease\n",
            "Get:15 http://archive.ubuntu.com/ubuntu bionic-updates/universe amd64 Packages [2,332 kB]\n",
            "Get:16 http://archive.ubuntu.com/ubuntu bionic-updates/main amd64 Packages [3,467 kB]\n",
            "Get:17 http://ppa.launchpad.net/c2d4u.team/c2d4u4.0+/ubuntu bionic/main Sources [2,165 kB]\n",
            "Get:18 http://ppa.launchpad.net/c2d4u.team/c2d4u4.0+/ubuntu bionic/main amd64 Packages [1,109 kB]\n",
            "Get:19 http://security.ubuntu.com/ubuntu bionic-security/main amd64 Packages [3,035 kB]\n",
            "Get:20 http://security.ubuntu.com/ubuntu bionic-security/universe amd64 Packages [1,554 kB]\n",
            "Fetched 14.9 MB in 7s (2,234 kB/s)\n",
            "Reading package lists... Done\n",
            "spark-3.1.2-bin-hadoop2.7/\n",
            "spark-3.1.2-bin-hadoop2.7/R/\n",
            "spark-3.1.2-bin-hadoop2.7/R/lib/\n",
            "spark-3.1.2-bin-hadoop2.7/R/lib/sparkr.zip\n",
            "spark-3.1.2-bin-hadoop2.7/R/lib/SparkR/\n",
            "spark-3.1.2-bin-hadoop2.7/R/lib/SparkR/worker/\n",
            "spark-3.1.2-bin-hadoop2.7/R/lib/SparkR/worker/worker.R\n",
            "spark-3.1.2-bin-hadoop2.7/R/lib/SparkR/worker/daemon.R\n",
            "spark-3.1.2-bin-hadoop2.7/R/lib/SparkR/tests/\n",
            "spark-3.1.2-bin-hadoop2.7/R/lib/SparkR/tests/testthat/\n",
            "spark-3.1.2-bin-hadoop2.7/R/lib/SparkR/tests/testthat/test_basic.R\n",
            "spark-3.1.2-bin-hadoop2.7/R/lib/SparkR/profile/\n",
            "spark-3.1.2-bin-hadoop2.7/R/lib/SparkR/profile/shell.R\n",
            "spark-3.1.2-bin-hadoop2.7/R/lib/SparkR/profile/general.R\n",
            "spark-3.1.2-bin-hadoop2.7/R/lib/SparkR/R/\n",
            "spark-3.1.2-bin-hadoop2.7/R/lib/SparkR/R/SparkR\n",
            "spark-3.1.2-bin-hadoop2.7/R/lib/SparkR/R/SparkR.rdx\n",
            "spark-3.1.2-bin-hadoop2.7/R/lib/SparkR/R/SparkR.rdb\n",
            "spark-3.1.2-bin-hadoop2.7/R/lib/SparkR/Meta/\n",
            "spark-3.1.2-bin-hadoop2.7/R/lib/SparkR/Meta/features.rds\n",
            "spark-3.1.2-bin-hadoop2.7/R/lib/SparkR/Meta/package.rds\n",
            "spark-3.1.2-bin-hadoop2.7/R/lib/SparkR/Meta/links.rds\n",
            "spark-3.1.2-bin-hadoop2.7/R/lib/SparkR/Meta/hsearch.rds\n",
            "spark-3.1.2-bin-hadoop2.7/R/lib/SparkR/Meta/nsInfo.rds\n",
            "spark-3.1.2-bin-hadoop2.7/R/lib/SparkR/Meta/Rd.rds\n",
            "spark-3.1.2-bin-hadoop2.7/R/lib/SparkR/DESCRIPTION\n",
            "spark-3.1.2-bin-hadoop2.7/R/lib/SparkR/NAMESPACE\n",
            "spark-3.1.2-bin-hadoop2.7/R/lib/SparkR/INDEX\n",
            "spark-3.1.2-bin-hadoop2.7/R/lib/SparkR/html/\n",
            "spark-3.1.2-bin-hadoop2.7/R/lib/SparkR/html/R.css\n",
            "spark-3.1.2-bin-hadoop2.7/R/lib/SparkR/html/00Index.html\n",
            "spark-3.1.2-bin-hadoop2.7/R/lib/SparkR/help/\n",
            "spark-3.1.2-bin-hadoop2.7/R/lib/SparkR/help/aliases.rds\n",
            "spark-3.1.2-bin-hadoop2.7/R/lib/SparkR/help/AnIndex\n",
            "spark-3.1.2-bin-hadoop2.7/R/lib/SparkR/help/SparkR.rdx\n",
            "spark-3.1.2-bin-hadoop2.7/R/lib/SparkR/help/SparkR.rdb\n",
            "spark-3.1.2-bin-hadoop2.7/R/lib/SparkR/help/paths.rds\n",
            "spark-3.1.2-bin-hadoop2.7/sbin/\n",
            "spark-3.1.2-bin-hadoop2.7/sbin/workers.sh\n",
            "spark-3.1.2-bin-hadoop2.7/sbin/stop-workers.sh\n",
            "spark-3.1.2-bin-hadoop2.7/sbin/stop-worker.sh\n",
            "spark-3.1.2-bin-hadoop2.7/sbin/stop-thriftserver.sh\n",
            "spark-3.1.2-bin-hadoop2.7/sbin/stop-slaves.sh\n",
            "spark-3.1.2-bin-hadoop2.7/sbin/stop-slave.sh\n",
            "spark-3.1.2-bin-hadoop2.7/sbin/stop-mesos-shuffle-service.sh\n",
            "spark-3.1.2-bin-hadoop2.7/sbin/stop-mesos-dispatcher.sh\n",
            "spark-3.1.2-bin-hadoop2.7/sbin/stop-master.sh\n",
            "spark-3.1.2-bin-hadoop2.7/sbin/stop-history-server.sh\n",
            "spark-3.1.2-bin-hadoop2.7/sbin/stop-all.sh\n",
            "spark-3.1.2-bin-hadoop2.7/sbin/start-workers.sh\n",
            "spark-3.1.2-bin-hadoop2.7/sbin/start-worker.sh\n",
            "spark-3.1.2-bin-hadoop2.7/sbin/start-thriftserver.sh\n",
            "spark-3.1.2-bin-hadoop2.7/sbin/start-slaves.sh\n",
            "spark-3.1.2-bin-hadoop2.7/sbin/start-slave.sh\n",
            "spark-3.1.2-bin-hadoop2.7/sbin/start-mesos-shuffle-service.sh\n",
            "spark-3.1.2-bin-hadoop2.7/sbin/start-mesos-dispatcher.sh\n",
            "spark-3.1.2-bin-hadoop2.7/sbin/start-master.sh\n",
            "spark-3.1.2-bin-hadoop2.7/sbin/start-history-server.sh\n",
            "spark-3.1.2-bin-hadoop2.7/sbin/start-all.sh\n",
            "spark-3.1.2-bin-hadoop2.7/sbin/spark-daemons.sh\n",
            "spark-3.1.2-bin-hadoop2.7/sbin/spark-daemon.sh\n",
            "spark-3.1.2-bin-hadoop2.7/sbin/slaves.sh\n",
            "spark-3.1.2-bin-hadoop2.7/sbin/decommission-worker.sh\n",
            "spark-3.1.2-bin-hadoop2.7/sbin/decommission-slave.sh\n",
            "spark-3.1.2-bin-hadoop2.7/sbin/spark-config.sh\n",
            "spark-3.1.2-bin-hadoop2.7/examples/\n",
            "spark-3.1.2-bin-hadoop2.7/examples/jars/\n",
            "spark-3.1.2-bin-hadoop2.7/examples/jars/spark-examples_2.12-3.1.2.jar\n",
            "spark-3.1.2-bin-hadoop2.7/examples/jars/scopt_2.12-3.7.1.jar\n",
            "spark-3.1.2-bin-hadoop2.7/examples/src/\n",
            "spark-3.1.2-bin-hadoop2.7/examples/src/main/\n",
            "spark-3.1.2-bin-hadoop2.7/examples/src/main/scala/\n",
            "spark-3.1.2-bin-hadoop2.7/examples/src/main/scala/org/\n",
            "spark-3.1.2-bin-hadoop2.7/examples/src/main/scala/org/apache/\n",
            "spark-3.1.2-bin-hadoop2.7/examples/src/main/scala/org/apache/spark/\n",
            "spark-3.1.2-bin-hadoop2.7/examples/src/main/scala/org/apache/spark/examples/\n",
            "spark-3.1.2-bin-hadoop2.7/examples/src/main/scala/org/apache/spark/examples/DriverSubmissionTest.scala\n",
            "spark-3.1.2-bin-hadoop2.7/examples/src/main/scala/org/apache/spark/examples/DFSReadWriteTest.scala\n",
            "spark-3.1.2-bin-hadoop2.7/examples/src/main/scala/org/apache/spark/examples/BroadcastTest.scala\n",
            "spark-3.1.2-bin-hadoop2.7/examples/src/main/scala/org/apache/spark/examples/AccumulatorMetricsTest.scala\n",
            "spark-3.1.2-bin-hadoop2.7/examples/src/main/scala/org/apache/spark/examples/streaming/\n",
            "spark-3.1.2-bin-hadoop2.7/examples/src/main/scala/org/apache/spark/examples/streaming/clickstream/\n",
            "spark-3.1.2-bin-hadoop2.7/examples/src/main/scala/org/apache/spark/examples/streaming/clickstream/PageViewStream.scala\n",
            "spark-3.1.2-bin-hadoop2.7/examples/src/main/scala/org/apache/spark/examples/streaming/clickstream/PageViewGenerator.scala\n",
            "spark-3.1.2-bin-hadoop2.7/examples/src/main/scala/org/apache/spark/examples/streaming/StreamingExamples.scala\n",
            "spark-3.1.2-bin-hadoop2.7/examples/src/main/scala/org/apache/spark/examples/streaming/StatefulNetworkWordCount.scala\n",
            "spark-3.1.2-bin-hadoop2.7/examples/src/main/scala/org/apache/spark/examples/streaming/SqlNetworkWordCount.scala\n",
            "spark-3.1.2-bin-hadoop2.7/examples/src/main/scala/org/apache/spark/examples/streaming/RecoverableNetworkWordCount.scala\n",
            "spark-3.1.2-bin-hadoop2.7/examples/src/main/scala/org/apache/spark/examples/streaming/RawNetworkGrep.scala\n",
            "spark-3.1.2-bin-hadoop2.7/examples/src/main/scala/org/apache/spark/examples/streaming/QueueStream.scala\n",
            "spark-3.1.2-bin-hadoop2.7/examples/src/main/scala/org/apache/spark/examples/streaming/NetworkWordCount.scala\n",
            "spark-3.1.2-bin-hadoop2.7/examples/src/main/scala/org/apache/spark/examples/streaming/HdfsWordCount.scala\n",
            "spark-3.1.2-bin-hadoop2.7/examples/src/main/scala/org/apache/spark/examples/streaming/DirectKerberizedKafkaWordCount.scala\n",
            "spark-3.1.2-bin-hadoop2.7/examples/src/main/scala/org/apache/spark/examples/streaming/DirectKafkaWordCount.scala\n",
            "spark-3.1.2-bin-hadoop2.7/examples/src/main/scala/org/apache/spark/examples/streaming/CustomReceiver.scala\n",
            "spark-3.1.2-bin-hadoop2.7/examples/src/main/scala/org/apache/spark/examples/sql/\n",
            "spark-3.1.2-bin-hadoop2.7/examples/src/main/scala/org/apache/spark/examples/sql/streaming/\n",
            "spark-3.1.2-bin-hadoop2.7/examples/src/main/scala/org/apache/spark/examples/sql/streaming/StructuredSessionization.scala\n",
            "spark-3.1.2-bin-hadoop2.7/examples/src/main/scala/org/apache/spark/examples/sql/streaming/StructuredNetworkWordCountWindowed.scala\n",
            "spark-3.1.2-bin-hadoop2.7/examples/src/main/scala/org/apache/spark/examples/sql/streaming/StructuredNetworkWordCount.scala\n",
            "spark-3.1.2-bin-hadoop2.7/examples/src/main/scala/org/apache/spark/examples/sql/streaming/StructuredKerberizedKafkaWordCount.scala\n",
            "spark-3.1.2-bin-hadoop2.7/examples/src/main/scala/org/apache/spark/examples/sql/streaming/StructuredKafkaWordCount.scala\n",
            "spark-3.1.2-bin-hadoop2.7/examples/src/main/scala/org/apache/spark/examples/sql/hive/\n",
            "spark-3.1.2-bin-hadoop2.7/examples/src/main/scala/org/apache/spark/examples/sql/hive/SparkHiveExample.scala\n",
            "spark-3.1.2-bin-hadoop2.7/examples/src/main/scala/org/apache/spark/examples/sql/UserDefinedUntypedAggregation.scala\n",
            "spark-3.1.2-bin-hadoop2.7/examples/src/main/scala/org/apache/spark/examples/sql/UserDefinedTypedAggregation.scala\n",
            "spark-3.1.2-bin-hadoop2.7/examples/src/main/scala/org/apache/spark/examples/sql/UserDefinedScalar.scala\n",
            "spark-3.1.2-bin-hadoop2.7/examples/src/main/scala/org/apache/spark/examples/sql/SparkSQLExample.scala\n",
            "spark-3.1.2-bin-hadoop2.7/examples/src/main/scala/org/apache/spark/examples/sql/RDDRelation.scala\n",
            "spark-3.1.2-bin-hadoop2.7/examples/src/main/scala/org/apache/spark/examples/sql/SimpleTypedAggregator.scala\n",
            "spark-3.1.2-bin-hadoop2.7/examples/src/main/scala/org/apache/spark/examples/sql/SQLDataSourceExample.scala\n",
            "spark-3.1.2-bin-hadoop2.7/examples/src/main/scala/org/apache/spark/examples/pythonconverters/\n",
            "spark-3.1.2-bin-hadoop2.7/examples/src/main/scala/org/apache/spark/examples/pythonconverters/AvroConverters.scala\n",
            "spark-3.1.2-bin-hadoop2.7/examples/src/main/scala/org/apache/spark/examples/mllib/\n",
            "spark-3.1.2-bin-hadoop2.7/examples/src/main/scala/org/apache/spark/examples/mllib/Word2VecExample.scala\n",
            "spark-3.1.2-bin-hadoop2.7/examples/src/main/scala/org/apache/spark/examples/mllib/TallSkinnySVD.scala\n",
            "spark-3.1.2-bin-hadoop2.7/examples/src/main/scala/org/apache/spark/examples/mllib/TallSkinnyPCA.scala\n",
            "spark-3.1.2-bin-hadoop2.7/examples/src/main/scala/org/apache/spark/examples/mllib/TFIDFExample.scala\n",
            "spark-3.1.2-bin-hadoop2.7/examples/src/main/scala/org/apache/spark/examples/mllib/SummaryStatisticsExample.scala\n",
            "spark-3.1.2-bin-hadoop2.7/examples/src/main/scala/org/apache/spark/examples/mllib/StreamingTestExample.scala\n",
            "spark-3.1.2-bin-hadoop2.7/examples/src/main/scala/org/apache/spark/examples/mllib/StreamingLogisticRegression.scala\n",
            "spark-3.1.2-bin-hadoop2.7/examples/src/main/scala/org/apache/spark/examples/mllib/StreamingLinearRegressionExample.scala\n",
            "spark-3.1.2-bin-hadoop2.7/examples/src/main/scala/org/apache/spark/examples/mllib/StreamingKMeansExample.scala\n",
            "spark-3.1.2-bin-hadoop2.7/examples/src/main/scala/org/apache/spark/examples/mllib/StratifiedSamplingExample.scala\n",
            "spark-3.1.2-bin-hadoop2.7/examples/src/main/scala/org/apache/spark/examples/mllib/StandardScalerExample.scala\n",
            "spark-3.1.2-bin-hadoop2.7/examples/src/main/scala/org/apache/spark/examples/mllib/SparseNaiveBayes.scala\n",
            "spark-3.1.2-bin-hadoop2.7/examples/src/main/scala/org/apache/spark/examples/mllib/SimpleFPGrowth.scala\n",
            "spark-3.1.2-bin-hadoop2.7/examples/src/main/scala/org/apache/spark/examples/mllib/SampledRDDs.scala\n",
            "spark-3.1.2-bin-hadoop2.7/examples/src/main/scala/org/apache/spark/examples/mllib/SVMWithSGDExample.scala\n",
            "spark-3.1.2-bin-hadoop2.7/examples/src/main/scala/org/apache/spark/examples/mllib/SVDExample.scala\n",
            "spark-3.1.2-bin-hadoop2.7/examples/src/main/scala/org/apache/spark/examples/mllib/RecommendationExample.scala\n",
            "spark-3.1.2-bin-hadoop2.7/examples/src/main/scala/org/apache/spark/examples/mllib/RankingMetricsExample.scala\n",
            "spark-3.1.2-bin-hadoop2.7/examples/src/main/scala/org/apache/spark/examples/mllib/RandomRDDGeneration.scala\n",
            "spark-3.1.2-bin-hadoop2.7/examples/src/main/scala/org/apache/spark/examples/mllib/RandomForestRegressionExample.scala\n",
            "spark-3.1.2-bin-hadoop2.7/examples/src/main/scala/org/apache/spark/examples/mllib/RandomForestClassificationExample.scala\n",
            "spark-3.1.2-bin-hadoop2.7/examples/src/main/scala/org/apache/spark/examples/mllib/PrefixSpanExample.scala\n",
            "spark-3.1.2-bin-hadoop2.7/examples/src/main/scala/org/apache/spark/examples/mllib/PowerIterationClusteringExample.scala\n",
            "spark-3.1.2-bin-hadoop2.7/examples/src/main/scala/org/apache/spark/examples/mllib/PMMLModelExportExample.scala\n",
            "spark-3.1.2-bin-hadoop2.7/examples/src/main/scala/org/apache/spark/examples/mllib/PCAOnSourceVectorExample.scala\n",
            "spark-3.1.2-bin-hadoop2.7/examples/src/main/scala/org/apache/spark/examples/mllib/PCAOnRowMatrixExample.scala\n",
            "spark-3.1.2-bin-hadoop2.7/examples/src/main/scala/org/apache/spark/examples/mllib/NormalizerExample.scala\n",
            "spark-3.1.2-bin-hadoop2.7/examples/src/main/scala/org/apache/spark/examples/mllib/NaiveBayesExample.scala\n",
            "spark-3.1.2-bin-hadoop2.7/examples/src/main/scala/org/apache/spark/examples/mllib/MultivariateSummarizer.scala\n",
            "spark-3.1.2-bin-hadoop2.7/examples/src/main/scala/org/apache/spark/examples/mllib/MulticlassMetricsExample.scala\n",
            "spark-3.1.2-bin-hadoop2.7/examples/src/main/scala/org/apache/spark/examples/mllib/MultiLabelMetricsExample.scala\n",
            "spark-3.1.2-bin-hadoop2.7/examples/src/main/scala/org/apache/spark/examples/mllib/MovieLensALS.scala\n",
            "spark-3.1.2-bin-hadoop2.7/examples/src/main/scala/org/apache/spark/examples/mllib/LogisticRegressionWithLBFGSExample.scala\n",
            "spark-3.1.2-bin-hadoop2.7/examples/src/main/scala/org/apache/spark/examples/mllib/LatentDirichletAllocationExample.scala\n",
            "spark-3.1.2-bin-hadoop2.7/examples/src/main/scala/org/apache/spark/examples/mllib/LDAExample.scala\n",
            "spark-3.1.2-bin-hadoop2.7/examples/src/main/scala/org/apache/spark/examples/mllib/LBFGSExample.scala\n",
            "spark-3.1.2-bin-hadoop2.7/examples/src/main/scala/org/apache/spark/examples/mllib/KernelDensityEstimationExample.scala\n",
            "spark-3.1.2-bin-hadoop2.7/examples/src/main/scala/org/apache/spark/examples/mllib/KMeansExample.scala\n",
            "spark-3.1.2-bin-hadoop2.7/examples/src/main/scala/org/apache/spark/examples/mllib/IsotonicRegressionExample.scala\n",
            "spark-3.1.2-bin-hadoop2.7/examples/src/main/scala/org/apache/spark/examples/mllib/HypothesisTestingKolmogorovSmirnovTestExample.scala\n",
            "spark-3.1.2-bin-hadoop2.7/examples/src/main/scala/org/apache/spark/examples/mllib/HypothesisTestingExample.scala\n",
            "spark-3.1.2-bin-hadoop2.7/examples/src/main/scala/org/apache/spark/examples/mllib/GradientBoostingRegressionExample.scala\n",
            "spark-3.1.2-bin-hadoop2.7/examples/src/main/scala/org/apache/spark/examples/mllib/GradientBoostingClassificationExample.scala\n",
            "spark-3.1.2-bin-hadoop2.7/examples/src/main/scala/org/apache/spark/examples/mllib/GradientBoostedTreesRunner.scala\n",
            "spark-3.1.2-bin-hadoop2.7/examples/src/main/scala/org/apache/spark/examples/mllib/GaussianMixtureExample.scala\n",
            "spark-3.1.2-bin-hadoop2.7/examples/src/main/scala/org/apache/spark/examples/mllib/FPGrowthExample.scala\n",
            "spark-3.1.2-bin-hadoop2.7/examples/src/main/scala/org/apache/spark/examples/mllib/ElementwiseProductExample.scala\n",
            "spark-3.1.2-bin-hadoop2.7/examples/src/main/scala/org/apache/spark/examples/mllib/DenseKMeans.scala\n",
            "spark-3.1.2-bin-hadoop2.7/examples/src/main/scala/org/apache/spark/examples/mllib/DecisionTreeRunner.scala\n",
            "spark-3.1.2-bin-hadoop2.7/examples/src/main/scala/org/apache/spark/examples/mllib/DecisionTreeRegressionExample.scala\n",
            "spark-3.1.2-bin-hadoop2.7/examples/src/main/scala/org/apache/spark/examples/mllib/DecisionTreeClassificationExample.scala\n",
            "spark-3.1.2-bin-hadoop2.7/examples/src/main/scala/org/apache/spark/examples/mllib/CosineSimilarity.scala\n",
            "spark-3.1.2-bin-hadoop2.7/examples/src/main/scala/org/apache/spark/examples/mllib/CorrelationsExample.scala\n",
            "spark-3.1.2-bin-hadoop2.7/examples/src/main/scala/org/apache/spark/examples/mllib/Correlations.scala\n",
            "spark-3.1.2-bin-hadoop2.7/examples/src/main/scala/org/apache/spark/examples/mllib/ChiSqSelectorExample.scala\n",
            "spark-3.1.2-bin-hadoop2.7/examples/src/main/scala/org/apache/spark/examples/mllib/BisectingKMeansExample.scala\n",
            "spark-3.1.2-bin-hadoop2.7/examples/src/main/scala/org/apache/spark/examples/mllib/BinaryClassificationMetricsExample.scala\n",
            "spark-3.1.2-bin-hadoop2.7/examples/src/main/scala/org/apache/spark/examples/mllib/BinaryClassification.scala\n",
            "spark-3.1.2-bin-hadoop2.7/examples/src/main/scala/org/apache/spark/examples/mllib/AssociationRulesExample.scala\n",
            "spark-3.1.2-bin-hadoop2.7/examples/src/main/scala/org/apache/spark/examples/mllib/AbstractParams.scala\n",
            "spark-3.1.2-bin-hadoop2.7/examples/src/main/scala/org/apache/spark/examples/ml/\n",
            "spark-3.1.2-bin-hadoop2.7/examples/src/main/scala/org/apache/spark/examples/ml/Word2VecExample.scala\n",
            "spark-3.1.2-bin-hadoop2.7/examples/src/main/scala/org/apache/spark/examples/ml/VectorSlicerExample.scala\n",
            "spark-3.1.2-bin-hadoop2.7/examples/src/main/scala/org/apache/spark/examples/ml/VectorSizeHintExample.scala\n",
            "spark-3.1.2-bin-hadoop2.7/examples/src/main/scala/org/apache/spark/examples/ml/VectorIndexerExample.scala\n",
            "spark-3.1.2-bin-hadoop2.7/examples/src/main/scala/org/apache/spark/examples/ml/VectorAssemblerExample.scala\n",
            "spark-3.1.2-bin-hadoop2.7/examples/src/main/scala/org/apache/spark/examples/ml/VarianceThresholdSelectorExample.scala\n",
            "spark-3.1.2-bin-hadoop2.7/examples/src/main/scala/org/apache/spark/examples/ml/UnivariateFeatureSelectorExample.scala\n",
            "spark-3.1.2-bin-hadoop2.7/examples/src/main/scala/org/apache/spark/examples/ml/UnaryTransformerExample.scala\n",
            "spark-3.1.2-bin-hadoop2.7/examples/src/main/scala/org/apache/spark/examples/ml/TokenizerExample.scala\n",
            "spark-3.1.2-bin-hadoop2.7/examples/src/main/scala/org/apache/spark/examples/ml/TfIdfExample.scala\n",
            "spark-3.1.2-bin-hadoop2.7/examples/src/main/scala/org/apache/spark/examples/ml/SummarizerExample.scala\n",
            "spark-3.1.2-bin-hadoop2.7/examples/src/main/scala/org/apache/spark/examples/ml/StringIndexerExample.scala\n",
            "spark-3.1.2-bin-hadoop2.7/examples/src/main/scala/org/apache/spark/examples/ml/StopWordsRemoverExample.scala\n",
            "spark-3.1.2-bin-hadoop2.7/examples/src/main/scala/org/apache/spark/examples/ml/StandardScalerExample.scala\n",
            "spark-3.1.2-bin-hadoop2.7/examples/src/main/scala/org/apache/spark/examples/ml/SQLTransformerExample.scala\n",
            "spark-3.1.2-bin-hadoop2.7/examples/src/main/scala/org/apache/spark/examples/ml/RobustScalerExample.scala\n",
            "spark-3.1.2-bin-hadoop2.7/examples/src/main/scala/org/apache/spark/examples/ml/RandomForestRegressorExample.scala\n",
            "spark-3.1.2-bin-hadoop2.7/examples/src/main/scala/org/apache/spark/examples/ml/RandomForestExample.scala\n",
            "spark-3.1.2-bin-hadoop2.7/examples/src/main/scala/org/apache/spark/examples/ml/RandomForestClassifierExample.scala\n",
            "spark-3.1.2-bin-hadoop2.7/examples/src/main/scala/org/apache/spark/examples/ml/RFormulaExample.scala\n",
            "spark-3.1.2-bin-hadoop2.7/examples/src/main/scala/org/apache/spark/examples/ml/QuantileDiscretizerExample.scala\n",
            "spark-3.1.2-bin-hadoop2.7/examples/src/main/scala/org/apache/spark/examples/ml/PrefixSpanExample.scala\n",
            "spark-3.1.2-bin-hadoop2.7/examples/src/main/scala/org/apache/spark/examples/ml/PowerIterationClusteringExample.scala\n",
            "spark-3.1.2-bin-hadoop2.7/examples/src/main/scala/org/apache/spark/examples/ml/PolynomialExpansionExample.scala\n",
            "spark-3.1.2-bin-hadoop2.7/examples/src/main/scala/org/apache/spark/examples/ml/PipelineExample.scala\n",
            "spark-3.1.2-bin-hadoop2.7/examples/src/main/scala/org/apache/spark/examples/ml/PCAExample.scala\n",
            "spark-3.1.2-bin-hadoop2.7/examples/src/main/scala/org/apache/spark/examples/ml/OneVsRestExample.scala\n",
            "spark-3.1.2-bin-hadoop2.7/examples/src/main/scala/org/apache/spark/examples/ml/OneHotEncoderExample.scala\n",
            "spark-3.1.2-bin-hadoop2.7/examples/src/main/scala/org/apache/spark/examples/ml/NormalizerExample.scala\n",
            "spark-3.1.2-bin-hadoop2.7/examples/src/main/scala/org/apache/spark/examples/ml/NaiveBayesExample.scala\n",
            "spark-3.1.2-bin-hadoop2.7/examples/src/main/scala/org/apache/spark/examples/ml/NGramExample.scala\n",
            "spark-3.1.2-bin-hadoop2.7/examples/src/main/scala/org/apache/spark/examples/ml/MultilayerPerceptronClassifierExample.scala\n",
            "spark-3.1.2-bin-hadoop2.7/examples/src/main/scala/org/apache/spark/examples/ml/MulticlassLogisticRegressionWithElasticNetExample.scala\n",
            "spark-3.1.2-bin-hadoop2.7/examples/src/main/scala/org/apache/spark/examples/ml/ModelSelectionViaTrainValidationSplitExample.scala\n",
            "spark-3.1.2-bin-hadoop2.7/examples/src/main/scala/org/apache/spark/examples/ml/ModelSelectionViaCrossValidationExample.scala\n",
            "spark-3.1.2-bin-hadoop2.7/examples/src/main/scala/org/apache/spark/examples/ml/MinMaxScalerExample.scala\n",
            "spark-3.1.2-bin-hadoop2.7/examples/src/main/scala/org/apache/spark/examples/ml/MinHashLSHExample.scala\n",
            "spark-3.1.2-bin-hadoop2.7/examples/src/main/scala/org/apache/spark/examples/ml/MaxAbsScalerExample.scala\n",
            "spark-3.1.2-bin-hadoop2.7/examples/src/main/scala/org/apache/spark/examples/ml/LogisticRegressionWithElasticNetExample.scala\n",
            "spark-3.1.2-bin-hadoop2.7/examples/src/main/scala/org/apache/spark/examples/ml/LogisticRegressionSummaryExample.scala\n",
            "spark-3.1.2-bin-hadoop2.7/examples/src/main/scala/org/apache/spark/examples/ml/LogisticRegressionExample.scala\n",
            "spark-3.1.2-bin-hadoop2.7/examples/src/main/scala/org/apache/spark/examples/ml/LinearSVCExample.scala\n",
            "spark-3.1.2-bin-hadoop2.7/examples/src/main/scala/org/apache/spark/examples/ml/LinearRegressionWithElasticNetExample.scala\n",
            "spark-3.1.2-bin-hadoop2.7/examples/src/main/scala/org/apache/spark/examples/ml/LinearRegressionExample.scala\n",
            "spark-3.1.2-bin-hadoop2.7/examples/src/main/scala/org/apache/spark/examples/ml/LDAExample.scala\n",
            "spark-3.1.2-bin-hadoop2.7/examples/src/main/scala/org/apache/spark/examples/ml/KMeansExample.scala\n",
            "spark-3.1.2-bin-hadoop2.7/examples/src/main/scala/org/apache/spark/examples/ml/IsotonicRegressionExample.scala\n",
            "spark-3.1.2-bin-hadoop2.7/examples/src/main/scala/org/apache/spark/examples/ml/InteractionExample.scala\n",
            "spark-3.1.2-bin-hadoop2.7/examples/src/main/scala/org/apache/spark/examples/ml/IndexToStringExample.scala\n",
            "spark-3.1.2-bin-hadoop2.7/examples/src/main/scala/org/apache/spark/examples/ml/ImputerExample.scala\n",
            "spark-3.1.2-bin-hadoop2.7/examples/src/main/scala/org/apache/spark/examples/ml/GradientBoostedTreeRegressorExample.scala\n",
            "spark-3.1.2-bin-hadoop2.7/examples/src/main/scala/org/apache/spark/examples/ml/GradientBoostedTreeClassifierExample.scala\n",
            "spark-3.1.2-bin-hadoop2.7/examples/src/main/scala/org/apache/spark/examples/ml/GeneralizedLinearRegressionExample.scala\n",
            "spark-3.1.2-bin-hadoop2.7/examples/src/main/scala/org/apache/spark/examples/ml/GaussianMixtureExample.scala\n",
            "spark-3.1.2-bin-hadoop2.7/examples/src/main/scala/org/apache/spark/examples/ml/GBTExample.scala\n",
            "spark-3.1.2-bin-hadoop2.7/examples/src/main/scala/org/apache/spark/examples/ml/FeatureHasherExample.scala\n",
            "spark-3.1.2-bin-hadoop2.7/examples/src/main/scala/org/apache/spark/examples/ml/FPGrowthExample.scala\n",
            "spark-3.1.2-bin-hadoop2.7/examples/src/main/scala/org/apache/spark/examples/ml/FMRegressorExample.scala\n",
            "spark-3.1.2-bin-hadoop2.7/examples/src/main/scala/org/apache/spark/examples/ml/FMClassifierExample.scala\n",
            "spark-3.1.2-bin-hadoop2.7/examples/src/main/scala/org/apache/spark/examples/ml/EstimatorTransformerParamExample.scala\n",
            "spark-3.1.2-bin-hadoop2.7/examples/src/main/scala/org/apache/spark/examples/ml/ElementwiseProductExample.scala\n",
            "spark-3.1.2-bin-hadoop2.7/examples/src/main/scala/org/apache/spark/examples/ml/DeveloperApiExample.scala\n",
            "spark-3.1.2-bin-hadoop2.7/examples/src/main/scala/org/apache/spark/examples/ml/DecisionTreeRegressionExample.scala\n",
            "spark-3.1.2-bin-hadoop2.7/examples/src/main/scala/org/apache/spark/examples/ml/DecisionTreeExample.scala\n",
            "spark-3.1.2-bin-hadoop2.7/examples/src/main/scala/org/apache/spark/examples/ml/DecisionTreeClassificationExample.scala\n",
            "spark-3.1.2-bin-hadoop2.7/examples/src/main/scala/org/apache/spark/examples/ml/DataFrameExample.scala\n",
            "spark-3.1.2-bin-hadoop2.7/examples/src/main/scala/org/apache/spark/examples/ml/DCTExample.scala\n",
            "spark-3.1.2-bin-hadoop2.7/examples/src/main/scala/org/apache/spark/examples/ml/CountVectorizerExample.scala\n",
            "spark-3.1.2-bin-hadoop2.7/examples/src/main/scala/org/apache/spark/examples/ml/CorrelationExample.scala\n",
            "spark-3.1.2-bin-hadoop2.7/examples/src/main/scala/org/apache/spark/examples/ml/ChiSquareTestExample.scala\n",
            "spark-3.1.2-bin-hadoop2.7/examples/src/main/scala/org/apache/spark/examples/ml/ChiSqSelectorExample.scala\n",
            "spark-3.1.2-bin-hadoop2.7/examples/src/main/scala/org/apache/spark/examples/ml/BucketizerExample.scala\n",
            "spark-3.1.2-bin-hadoop2.7/examples/src/main/scala/org/apache/spark/examples/ml/BucketedRandomProjectionLSHExample.scala\n",
            "spark-3.1.2-bin-hadoop2.7/examples/src/main/scala/org/apache/spark/examples/ml/BisectingKMeansExample.scala\n",
            "spark-3.1.2-bin-hadoop2.7/examples/src/main/scala/org/apache/spark/examples/ml/BinarizerExample.scala\n",
            "spark-3.1.2-bin-hadoop2.7/examples/src/main/scala/org/apache/spark/examples/ml/ALSExample.scala\n",
            "spark-3.1.2-bin-hadoop2.7/examples/src/main/scala/org/apache/spark/examples/ml/AFTSurvivalRegressionExample.scala\n",
            "spark-3.1.2-bin-hadoop2.7/examples/src/main/scala/org/apache/spark/examples/graphx/\n",
            "spark-3.1.2-bin-hadoop2.7/examples/src/main/scala/org/apache/spark/examples/graphx/TriangleCountingExample.scala\n",
            "spark-3.1.2-bin-hadoop2.7/examples/src/main/scala/org/apache/spark/examples/graphx/SynthBenchmark.scala\n",
            "spark-3.1.2-bin-hadoop2.7/examples/src/main/scala/org/apache/spark/examples/graphx/SSSPExample.scala\n",
            "spark-3.1.2-bin-hadoop2.7/examples/src/main/scala/org/apache/spark/examples/graphx/PageRankExample.scala\n",
            "spark-3.1.2-bin-hadoop2.7/examples/src/main/scala/org/apache/spark/examples/graphx/LiveJournalPageRank.scala\n",
            "spark-3.1.2-bin-hadoop2.7/examples/src/main/scala/org/apache/spark/examples/graphx/ConnectedComponentsExample.scala\n",
            "spark-3.1.2-bin-hadoop2.7/examples/src/main/scala/org/apache/spark/examples/graphx/ComprehensiveExample.scala\n",
            "spark-3.1.2-bin-hadoop2.7/examples/src/main/scala/org/apache/spark/examples/graphx/Analytics.scala\n",
            "spark-3.1.2-bin-hadoop2.7/examples/src/main/scala/org/apache/spark/examples/graphx/AggregateMessagesExample.scala\n",
            "spark-3.1.2-bin-hadoop2.7/examples/src/main/scala/org/apache/spark/examples/SparkTC.scala\n",
            "spark-3.1.2-bin-hadoop2.7/examples/src/main/scala/org/apache/spark/examples/SparkRemoteFileTest.scala\n",
            "spark-3.1.2-bin-hadoop2.7/examples/src/main/scala/org/apache/spark/examples/SparkPi.scala\n",
            "spark-3.1.2-bin-hadoop2.7/examples/src/main/scala/org/apache/spark/examples/SparkPageRank.scala\n",
            "spark-3.1.2-bin-hadoop2.7/examples/src/main/scala/org/apache/spark/examples/SparkLR.scala\n",
            "spark-3.1.2-bin-hadoop2.7/examples/src/main/scala/org/apache/spark/examples/SparkKMeans.scala\n",
            "spark-3.1.2-bin-hadoop2.7/examples/src/main/scala/org/apache/spark/examples/SparkHdfsLR.scala\n",
            "spark-3.1.2-bin-hadoop2.7/examples/src/main/scala/org/apache/spark/examples/SparkALS.scala\n",
            "spark-3.1.2-bin-hadoop2.7/examples/src/main/scala/org/apache/spark/examples/SkewedGroupByTest.scala\n",
            "spark-3.1.2-bin-hadoop2.7/examples/src/main/scala/org/apache/spark/examples/SimpleSkewedGroupByTest.scala\n",
            "spark-3.1.2-bin-hadoop2.7/examples/src/main/scala/org/apache/spark/examples/MultiBroadcastTest.scala\n",
            "spark-3.1.2-bin-hadoop2.7/examples/src/main/scala/org/apache/spark/examples/LogQuery.scala\n",
            "spark-3.1.2-bin-hadoop2.7/examples/src/main/scala/org/apache/spark/examples/LocalPi.scala\n",
            "spark-3.1.2-bin-hadoop2.7/examples/src/main/scala/org/apache/spark/examples/LocalLR.scala\n",
            "spark-3.1.2-bin-hadoop2.7/examples/src/main/scala/org/apache/spark/examples/LocalFileLR.scala\n",
            "spark-3.1.2-bin-hadoop2.7/examples/src/main/scala/org/apache/spark/examples/LocalALS.scala\n",
            "spark-3.1.2-bin-hadoop2.7/examples/src/main/scala/org/apache/spark/examples/HdfsTest.scala\n",
            "spark-3.1.2-bin-hadoop2.7/examples/src/main/scala/org/apache/spark/examples/GroupByTest.scala\n",
            "spark-3.1.2-bin-hadoop2.7/examples/src/main/scala/org/apache/spark/examples/ExceptionHandlingTest.scala\n",
            "spark-3.1.2-bin-hadoop2.7/examples/src/main/scala/org/apache/spark/examples/LocalKMeans.scala\n",
            "spark-3.1.2-bin-hadoop2.7/examples/src/main/resources/\n",
            "spark-3.1.2-bin-hadoop2.7/examples/src/main/resources/users.parquet\n",
            "spark-3.1.2-bin-hadoop2.7/examples/src/main/resources/users.orc\n",
            "spark-3.1.2-bin-hadoop2.7/examples/src/main/resources/users.avro\n",
            "spark-3.1.2-bin-hadoop2.7/examples/src/main/resources/user.avsc\n",
            "spark-3.1.2-bin-hadoop2.7/examples/src/main/resources/people.txt\n",
            "spark-3.1.2-bin-hadoop2.7/examples/src/main/resources/people.json\n",
            "spark-3.1.2-bin-hadoop2.7/examples/src/main/resources/people.csv\n",
            "spark-3.1.2-bin-hadoop2.7/examples/src/main/resources/kv1.txt\n",
            "spark-3.1.2-bin-hadoop2.7/examples/src/main/resources/full_user.avsc\n",
            "spark-3.1.2-bin-hadoop2.7/examples/src/main/resources/employees.json\n",
            "spark-3.1.2-bin-hadoop2.7/examples/src/main/resources/dir1/\n",
            "spark-3.1.2-bin-hadoop2.7/examples/src/main/resources/dir1/file3.json\n",
            "spark-3.1.2-bin-hadoop2.7/examples/src/main/resources/dir1/file1.parquet\n",
            "spark-3.1.2-bin-hadoop2.7/examples/src/main/resources/dir1/dir2/\n",
            "spark-3.1.2-bin-hadoop2.7/examples/src/main/resources/dir1/dir2/file2.parquet\n",
            "spark-3.1.2-bin-hadoop2.7/examples/src/main/r/\n",
            "spark-3.1.2-bin-hadoop2.7/examples/src/main/r/streaming/\n",
            "spark-3.1.2-bin-hadoop2.7/examples/src/main/r/streaming/structured_network_wordcount.R\n",
            "spark-3.1.2-bin-hadoop2.7/examples/src/main/r/ml/\n",
            "spark-3.1.2-bin-hadoop2.7/examples/src/main/r/ml/svmLinear.R\n",
            "spark-3.1.2-bin-hadoop2.7/examples/src/main/r/ml/survreg.R\n",
            "spark-3.1.2-bin-hadoop2.7/examples/src/main/r/ml/randomForest.R\n",
            "spark-3.1.2-bin-hadoop2.7/examples/src/main/r/ml/prefixSpan.R\n",
            "spark-3.1.2-bin-hadoop2.7/examples/src/main/r/ml/powerIterationClustering.R\n",
            "spark-3.1.2-bin-hadoop2.7/examples/src/main/r/ml/naiveBayes.R\n",
            "spark-3.1.2-bin-hadoop2.7/examples/src/main/r/ml/mlp.R\n",
            "spark-3.1.2-bin-hadoop2.7/examples/src/main/r/ml/ml.R\n",
            "spark-3.1.2-bin-hadoop2.7/examples/src/main/r/ml/logit.R\n",
            "spark-3.1.2-bin-hadoop2.7/examples/src/main/r/ml/lm_with_elastic_net.R\n",
            "spark-3.1.2-bin-hadoop2.7/examples/src/main/r/ml/lda.R\n",
            "spark-3.1.2-bin-hadoop2.7/examples/src/main/r/ml/kstest.R\n",
            "spark-3.1.2-bin-hadoop2.7/examples/src/main/r/ml/kmeans.R\n",
            "spark-3.1.2-bin-hadoop2.7/examples/src/main/r/ml/isoreg.R\n",
            "spark-3.1.2-bin-hadoop2.7/examples/src/main/r/ml/glm.R\n",
            "spark-3.1.2-bin-hadoop2.7/examples/src/main/r/ml/gbt.R\n",
            "spark-3.1.2-bin-hadoop2.7/examples/src/main/r/ml/gaussianMixture.R\n",
            "spark-3.1.2-bin-hadoop2.7/examples/src/main/r/ml/fpm.R\n",
            "spark-3.1.2-bin-hadoop2.7/examples/src/main/r/ml/fmRegressor.R\n",
            "spark-3.1.2-bin-hadoop2.7/examples/src/main/r/ml/fmClassifier.R\n",
            "spark-3.1.2-bin-hadoop2.7/examples/src/main/r/ml/decisionTree.R\n",
            "spark-3.1.2-bin-hadoop2.7/examples/src/main/r/ml/bisectingKmeans.R\n",
            "spark-3.1.2-bin-hadoop2.7/examples/src/main/r/ml/als.R\n",
            "spark-3.1.2-bin-hadoop2.7/examples/src/main/r/dataframe.R\n",
            "spark-3.1.2-bin-hadoop2.7/examples/src/main/r/data-manipulation.R\n",
            "spark-3.1.2-bin-hadoop2.7/examples/src/main/r/RSparkSQLExample.R\n",
            "spark-3.1.2-bin-hadoop2.7/examples/src/main/python/\n",
            "spark-3.1.2-bin-hadoop2.7/examples/src/main/python/wordcount.py\n",
            "spark-3.1.2-bin-hadoop2.7/examples/src/main/python/transitive_closure.py\n",
            "spark-3.1.2-bin-hadoop2.7/examples/src/main/python/streaming/\n",
            "spark-3.1.2-bin-hadoop2.7/examples/src/main/python/streaming/stateful_network_wordcount.py\n",
            "spark-3.1.2-bin-hadoop2.7/examples/src/main/python/streaming/sql_network_wordcount.py\n",
            "spark-3.1.2-bin-hadoop2.7/examples/src/main/python/streaming/recoverable_network_wordcount.py\n",
            "spark-3.1.2-bin-hadoop2.7/examples/src/main/python/streaming/queue_stream.py\n",
            "spark-3.1.2-bin-hadoop2.7/examples/src/main/python/streaming/network_wordjoinsentiments.py\n",
            "spark-3.1.2-bin-hadoop2.7/examples/src/main/python/streaming/network_wordcount.py\n",
            "spark-3.1.2-bin-hadoop2.7/examples/src/main/python/streaming/hdfs_wordcount.py\n",
            "spark-3.1.2-bin-hadoop2.7/examples/src/main/python/status_api_demo.py\n",
            "spark-3.1.2-bin-hadoop2.7/examples/src/main/python/sql/\n",
            "spark-3.1.2-bin-hadoop2.7/examples/src/main/python/sql/streaming/\n",
            "spark-3.1.2-bin-hadoop2.7/examples/src/main/python/sql/streaming/structured_network_wordcount_windowed.py\n",
            "spark-3.1.2-bin-hadoop2.7/examples/src/main/python/sql/streaming/structured_network_wordcount.py\n",
            "spark-3.1.2-bin-hadoop2.7/examples/src/main/python/sql/streaming/structured_kafka_wordcount.py\n",
            "spark-3.1.2-bin-hadoop2.7/examples/src/main/python/sql/hive.py\n",
            "spark-3.1.2-bin-hadoop2.7/examples/src/main/python/sql/basic.py\n",
            "spark-3.1.2-bin-hadoop2.7/examples/src/main/python/sql/arrow.py\n",
            "spark-3.1.2-bin-hadoop2.7/examples/src/main/python/sql/datasource.py\n",
            "spark-3.1.2-bin-hadoop2.7/examples/src/main/python/sort.py\n",
            "spark-3.1.2-bin-hadoop2.7/examples/src/main/python/pi.py\n",
            "spark-3.1.2-bin-hadoop2.7/examples/src/main/python/parquet_inputformat.py\n",
            "spark-3.1.2-bin-hadoop2.7/examples/src/main/python/pagerank.py\n",
            "spark-3.1.2-bin-hadoop2.7/examples/src/main/python/mllib/\n",
            "spark-3.1.2-bin-hadoop2.7/examples/src/main/python/mllib/word2vec_example.py\n",
            "spark-3.1.2-bin-hadoop2.7/examples/src/main/python/mllib/word2vec.py\n",
            "spark-3.1.2-bin-hadoop2.7/examples/src/main/python/mllib/tf_idf_example.py\n",
            "spark-3.1.2-bin-hadoop2.7/examples/src/main/python/mllib/svm_with_sgd_example.py\n",
            "spark-3.1.2-bin-hadoop2.7/examples/src/main/python/mllib/svd_example.py\n",
            "spark-3.1.2-bin-hadoop2.7/examples/src/main/python/mllib/summary_statistics_example.py\n",
            "spark-3.1.2-bin-hadoop2.7/examples/src/main/python/mllib/streaming_linear_regression_example.py\n",
            "spark-3.1.2-bin-hadoop2.7/examples/src/main/python/mllib/streaming_k_means_example.py\n",
            "spark-3.1.2-bin-hadoop2.7/examples/src/main/python/mllib/stratified_sampling_example.py\n",
            "spark-3.1.2-bin-hadoop2.7/examples/src/main/python/mllib/standard_scaler_example.py\n",
            "spark-3.1.2-bin-hadoop2.7/examples/src/main/python/mllib/sampled_rdds.py\n",
            "spark-3.1.2-bin-hadoop2.7/examples/src/main/python/mllib/regression_metrics_example.py\n",
            "spark-3.1.2-bin-hadoop2.7/examples/src/main/python/mllib/recommendation_example.py\n",
            "spark-3.1.2-bin-hadoop2.7/examples/src/main/python/mllib/ranking_metrics_example.py\n",
            "spark-3.1.2-bin-hadoop2.7/examples/src/main/python/mllib/random_rdd_generation.py\n",
            "spark-3.1.2-bin-hadoop2.7/examples/src/main/python/mllib/random_forest_regression_example.py\n",
            "spark-3.1.2-bin-hadoop2.7/examples/src/main/python/mllib/random_forest_classification_example.py\n",
            "spark-3.1.2-bin-hadoop2.7/examples/src/main/python/mllib/power_iteration_clustering_example.py\n",
            "spark-3.1.2-bin-hadoop2.7/examples/src/main/python/mllib/pca_rowmatrix_example.py\n",
            "spark-3.1.2-bin-hadoop2.7/examples/src/main/python/mllib/normalizer_example.py\n",
            "spark-3.1.2-bin-hadoop2.7/examples/src/main/python/mllib/naive_bayes_example.py\n",
            "spark-3.1.2-bin-hadoop2.7/examples/src/main/python/mllib/multi_label_metrics_example.py\n",
            "spark-3.1.2-bin-hadoop2.7/examples/src/main/python/mllib/multi_class_metrics_example.py\n",
            "spark-3.1.2-bin-hadoop2.7/examples/src/main/python/mllib/logistic_regression_with_lbfgs_example.py\n",
            "spark-3.1.2-bin-hadoop2.7/examples/src/main/python/mllib/logistic_regression.py\n",
            "spark-3.1.2-bin-hadoop2.7/examples/src/main/python/mllib/linear_regression_with_sgd_example.py\n",
            "spark-3.1.2-bin-hadoop2.7/examples/src/main/python/mllib/latent_dirichlet_allocation_example.py\n",
            "spark-3.1.2-bin-hadoop2.7/examples/src/main/python/mllib/kmeans.py\n",
            "spark-3.1.2-bin-hadoop2.7/examples/src/main/python/mllib/kernel_density_estimation_example.py\n",
            "spark-3.1.2-bin-hadoop2.7/examples/src/main/python/mllib/k_means_example.py\n",
            "spark-3.1.2-bin-hadoop2.7/examples/src/main/python/mllib/isotonic_regression_example.py\n",
            "spark-3.1.2-bin-hadoop2.7/examples/src/main/python/mllib/hypothesis_testing_kolmogorov_smirnov_test_example.py\n",
            "spark-3.1.2-bin-hadoop2.7/examples/src/main/python/mllib/hypothesis_testing_example.py\n",
            "spark-3.1.2-bin-hadoop2.7/examples/src/main/python/mllib/gradient_boosting_regression_example.py\n",
            "spark-3.1.2-bin-hadoop2.7/examples/src/main/python/mllib/gradient_boosting_classification_example.py\n",
            "spark-3.1.2-bin-hadoop2.7/examples/src/main/python/mllib/gaussian_mixture_model.py\n",
            "spark-3.1.2-bin-hadoop2.7/examples/src/main/python/mllib/gaussian_mixture_example.py\n",
            "spark-3.1.2-bin-hadoop2.7/examples/src/main/python/mllib/fpgrowth_example.py\n",
            "spark-3.1.2-bin-hadoop2.7/examples/src/main/python/mllib/elementwise_product_example.py\n",
            "spark-3.1.2-bin-hadoop2.7/examples/src/main/python/mllib/decision_tree_regression_example.py\n",
            "spark-3.1.2-bin-hadoop2.7/examples/src/main/python/mllib/decision_tree_classification_example.py\n",
            "spark-3.1.2-bin-hadoop2.7/examples/src/main/python/mllib/correlations_example.py\n",
            "spark-3.1.2-bin-hadoop2.7/examples/src/main/python/mllib/correlations.py\n",
            "spark-3.1.2-bin-hadoop2.7/examples/src/main/python/mllib/bisecting_k_means_example.py\n",
            "spark-3.1.2-bin-hadoop2.7/examples/src/main/python/mllib/binary_classification_metrics_example.py\n",
            "spark-3.1.2-bin-hadoop2.7/examples/src/main/python/ml/\n",
            "spark-3.1.2-bin-hadoop2.7/examples/src/main/python/ml/word2vec_example.py\n",
            "spark-3.1.2-bin-hadoop2.7/examples/src/main/python/ml/vector_slicer_example.py\n",
            "spark-3.1.2-bin-hadoop2.7/examples/src/main/python/ml/vector_size_hint_example.py\n",
            "spark-3.1.2-bin-hadoop2.7/examples/src/main/python/ml/vector_indexer_example.py\n",
            "spark-3.1.2-bin-hadoop2.7/examples/src/main/python/ml/vector_assembler_example.py\n",
            "spark-3.1.2-bin-hadoop2.7/examples/src/main/python/ml/variance_threshold_selector_example.py\n",
            "spark-3.1.2-bin-hadoop2.7/examples/src/main/python/ml/univariate_feature_selector_example.py\n",
            "spark-3.1.2-bin-hadoop2.7/examples/src/main/python/ml/train_validation_split.py\n",
            "spark-3.1.2-bin-hadoop2.7/examples/src/main/python/ml/tokenizer_example.py\n",
            "spark-3.1.2-bin-hadoop2.7/examples/src/main/python/ml/tf_idf_example.py\n",
            "spark-3.1.2-bin-hadoop2.7/examples/src/main/python/ml/summarizer_example.py\n",
            "spark-3.1.2-bin-hadoop2.7/examples/src/main/python/ml/string_indexer_example.py\n",
            "spark-3.1.2-bin-hadoop2.7/examples/src/main/python/ml/stopwords_remover_example.py\n",
            "spark-3.1.2-bin-hadoop2.7/examples/src/main/python/ml/standard_scaler_example.py\n",
            "spark-3.1.2-bin-hadoop2.7/examples/src/main/python/ml/sql_transformer.py\n",
            "spark-3.1.2-bin-hadoop2.7/examples/src/main/python/ml/robust_scaler_example.py\n",
            "spark-3.1.2-bin-hadoop2.7/examples/src/main/python/ml/rformula_example.py\n",
            "spark-3.1.2-bin-hadoop2.7/examples/src/main/python/ml/random_forest_regressor_example.py\n",
            "spark-3.1.2-bin-hadoop2.7/examples/src/main/python/ml/random_forest_classifier_example.py\n",
            "spark-3.1.2-bin-hadoop2.7/examples/src/main/python/ml/quantile_discretizer_example.py\n",
            "spark-3.1.2-bin-hadoop2.7/examples/src/main/python/ml/prefixspan_example.py\n",
            "spark-3.1.2-bin-hadoop2.7/examples/src/main/python/ml/power_iteration_clustering_example.py\n",
            "spark-3.1.2-bin-hadoop2.7/examples/src/main/python/ml/polynomial_expansion_example.py\n",
            "spark-3.1.2-bin-hadoop2.7/examples/src/main/python/ml/pipeline_example.py\n",
            "spark-3.1.2-bin-hadoop2.7/examples/src/main/python/ml/pca_example.py\n",
            "spark-3.1.2-bin-hadoop2.7/examples/src/main/python/ml/onehot_encoder_example.py\n",
            "spark-3.1.2-bin-hadoop2.7/examples/src/main/python/ml/one_vs_rest_example.py\n",
            "spark-3.1.2-bin-hadoop2.7/examples/src/main/python/ml/normalizer_example.py\n",
            "spark-3.1.2-bin-hadoop2.7/examples/src/main/python/ml/naive_bayes_example.py\n",
            "spark-3.1.2-bin-hadoop2.7/examples/src/main/python/ml/n_gram_example.py\n",
            "spark-3.1.2-bin-hadoop2.7/examples/src/main/python/ml/multilayer_perceptron_classification.py\n",
            "spark-3.1.2-bin-hadoop2.7/examples/src/main/python/ml/multiclass_logistic_regression_with_elastic_net.py\n",
            "spark-3.1.2-bin-hadoop2.7/examples/src/main/python/ml/min_max_scaler_example.py\n",
            "spark-3.1.2-bin-hadoop2.7/examples/src/main/python/ml/min_hash_lsh_example.py\n",
            "spark-3.1.2-bin-hadoop2.7/examples/src/main/python/ml/max_abs_scaler_example.py\n",
            "spark-3.1.2-bin-hadoop2.7/examples/src/main/python/ml/logistic_regression_with_elastic_net.py\n",
            "spark-3.1.2-bin-hadoop2.7/examples/src/main/python/ml/logistic_regression_summary_example.py\n",
            "spark-3.1.2-bin-hadoop2.7/examples/src/main/python/ml/linearsvc.py\n",
            "spark-3.1.2-bin-hadoop2.7/examples/src/main/python/ml/linear_regression_with_elastic_net.py\n",
            "spark-3.1.2-bin-hadoop2.7/examples/src/main/python/ml/lda_example.py\n",
            "spark-3.1.2-bin-hadoop2.7/examples/src/main/python/ml/kmeans_example.py\n",
            "spark-3.1.2-bin-hadoop2.7/examples/src/main/python/ml/isotonic_regression_example.py\n",
            "spark-3.1.2-bin-hadoop2.7/examples/src/main/python/ml/interaction_example.py\n",
            "spark-3.1.2-bin-hadoop2.7/examples/src/main/python/ml/index_to_string_example.py\n",
            "spark-3.1.2-bin-hadoop2.7/examples/src/main/python/ml/imputer_example.py\n",
            "spark-3.1.2-bin-hadoop2.7/examples/src/main/python/ml/gradient_boosted_tree_regressor_example.py\n",
            "spark-3.1.2-bin-hadoop2.7/examples/src/main/python/ml/gradient_boosted_tree_classifier_example.py\n",
            "spark-3.1.2-bin-hadoop2.7/examples/src/main/python/ml/generalized_linear_regression_example.py\n",
            "spark-3.1.2-bin-hadoop2.7/examples/src/main/python/ml/gaussian_mixture_example.py\n",
            "spark-3.1.2-bin-hadoop2.7/examples/src/main/python/ml/fpgrowth_example.py\n",
            "spark-3.1.2-bin-hadoop2.7/examples/src/main/python/ml/fm_regressor_example.py\n",
            "spark-3.1.2-bin-hadoop2.7/examples/src/main/python/ml/fm_classifier_example.py\n",
            "spark-3.1.2-bin-hadoop2.7/examples/src/main/python/ml/feature_hasher_example.py\n",
            "spark-3.1.2-bin-hadoop2.7/examples/src/main/python/ml/estimator_transformer_param_example.py\n",
            "spark-3.1.2-bin-hadoop2.7/examples/src/main/python/ml/elementwise_product_example.py\n",
            "spark-3.1.2-bin-hadoop2.7/examples/src/main/python/ml/decision_tree_regression_example.py\n",
            "spark-3.1.2-bin-hadoop2.7/examples/src/main/python/ml/decision_tree_classification_example.py\n",
            "spark-3.1.2-bin-hadoop2.7/examples/src/main/python/ml/dct_example.py\n",
            "spark-3.1.2-bin-hadoop2.7/examples/src/main/python/ml/dataframe_example.py\n",
            "spark-3.1.2-bin-hadoop2.7/examples/src/main/python/ml/cross_validator.py\n",
            "spark-3.1.2-bin-hadoop2.7/examples/src/main/python/ml/count_vectorizer_example.py\n",
            "spark-3.1.2-bin-hadoop2.7/examples/src/main/python/ml/correlation_example.py\n",
            "spark-3.1.2-bin-hadoop2.7/examples/src/main/python/ml/chisq_selector_example.py\n",
            "spark-3.1.2-bin-hadoop2.7/examples/src/main/python/ml/chi_square_test_example.py\n",
            "spark-3.1.2-bin-hadoop2.7/examples/src/main/python/ml/bucketizer_example.py\n",
            "spark-3.1.2-bin-hadoop2.7/examples/src/main/python/ml/bucketed_random_projection_lsh_example.py\n",
            "spark-3.1.2-bin-hadoop2.7/examples/src/main/python/ml/bisecting_k_means_example.py\n",
            "spark-3.1.2-bin-hadoop2.7/examples/src/main/python/ml/binarizer_example.py\n",
            "spark-3.1.2-bin-hadoop2.7/examples/src/main/python/ml/als_example.py\n",
            "spark-3.1.2-bin-hadoop2.7/examples/src/main/python/ml/aft_survival_regression.py\n",
            "spark-3.1.2-bin-hadoop2.7/examples/src/main/python/logistic_regression.py\n",
            "spark-3.1.2-bin-hadoop2.7/examples/src/main/python/kmeans.py\n",
            "spark-3.1.2-bin-hadoop2.7/examples/src/main/python/avro_inputformat.py\n",
            "spark-3.1.2-bin-hadoop2.7/examples/src/main/python/als.py\n",
            "spark-3.1.2-bin-hadoop2.7/examples/src/main/scripts/\n",
            "spark-3.1.2-bin-hadoop2.7/examples/src/main/scripts/getGpusResources.sh\n",
            "spark-3.1.2-bin-hadoop2.7/examples/src/main/java/\n",
            "spark-3.1.2-bin-hadoop2.7/examples/src/main/java/org/\n",
            "spark-3.1.2-bin-hadoop2.7/examples/src/main/java/org/apache/\n",
            "spark-3.1.2-bin-hadoop2.7/examples/src/main/java/org/apache/spark/\n",
            "spark-3.1.2-bin-hadoop2.7/examples/src/main/java/org/apache/spark/examples/\n",
            "spark-3.1.2-bin-hadoop2.7/examples/src/main/java/org/apache/spark/examples/streaming/\n",
            "spark-3.1.2-bin-hadoop2.7/examples/src/main/java/org/apache/spark/examples/streaming/JavaStatefulNetworkWordCount.java\n",
            "spark-3.1.2-bin-hadoop2.7/examples/src/main/java/org/apache/spark/examples/streaming/JavaSqlNetworkWordCount.java\n",
            "spark-3.1.2-bin-hadoop2.7/examples/src/main/java/org/apache/spark/examples/streaming/JavaRecoverableNetworkWordCount.java\n",
            "spark-3.1.2-bin-hadoop2.7/examples/src/main/java/org/apache/spark/examples/streaming/JavaRecord.java\n",
            "spark-3.1.2-bin-hadoop2.7/examples/src/main/java/org/apache/spark/examples/streaming/JavaQueueStream.java\n",
            "spark-3.1.2-bin-hadoop2.7/examples/src/main/java/org/apache/spark/examples/streaming/JavaNetworkWordCount.java\n",
            "spark-3.1.2-bin-hadoop2.7/examples/src/main/java/org/apache/spark/examples/streaming/JavaDirectKerberizedKafkaWordCount.java\n",
            "spark-3.1.2-bin-hadoop2.7/examples/src/main/java/org/apache/spark/examples/streaming/JavaDirectKafkaWordCount.java\n",
            "spark-3.1.2-bin-hadoop2.7/examples/src/main/java/org/apache/spark/examples/streaming/JavaCustomReceiver.java\n",
            "spark-3.1.2-bin-hadoop2.7/examples/src/main/java/org/apache/spark/examples/sql/\n",
            "spark-3.1.2-bin-hadoop2.7/examples/src/main/java/org/apache/spark/examples/sql/streaming/\n",
            "spark-3.1.2-bin-hadoop2.7/examples/src/main/java/org/apache/spark/examples/sql/streaming/JavaStructuredSessionization.java\n",
            "spark-3.1.2-bin-hadoop2.7/examples/src/main/java/org/apache/spark/examples/sql/streaming/JavaStructuredNetworkWordCountWindowed.java\n",
            "spark-3.1.2-bin-hadoop2.7/examples/src/main/java/org/apache/spark/examples/sql/streaming/JavaStructuredNetworkWordCount.java\n",
            "spark-3.1.2-bin-hadoop2.7/examples/src/main/java/org/apache/spark/examples/sql/streaming/JavaStructuredKerberizedKafkaWordCount.java\n",
            "spark-3.1.2-bin-hadoop2.7/examples/src/main/java/org/apache/spark/examples/sql/streaming/JavaStructuredKafkaWordCount.java\n",
            "spark-3.1.2-bin-hadoop2.7/examples/src/main/java/org/apache/spark/examples/sql/hive/\n",
            "spark-3.1.2-bin-hadoop2.7/examples/src/main/java/org/apache/spark/examples/sql/hive/JavaSparkHiveExample.java\n",
            "spark-3.1.2-bin-hadoop2.7/examples/src/main/java/org/apache/spark/examples/sql/JavaUserDefinedUntypedAggregation.java\n",
            "spark-3.1.2-bin-hadoop2.7/examples/src/main/java/org/apache/spark/examples/sql/JavaUserDefinedTypedAggregation.java\n",
            "spark-3.1.2-bin-hadoop2.7/examples/src/main/java/org/apache/spark/examples/sql/JavaUserDefinedScalar.java\n",
            "spark-3.1.2-bin-hadoop2.7/examples/src/main/java/org/apache/spark/examples/sql/JavaSparkSQLExample.java\n",
            "spark-3.1.2-bin-hadoop2.7/examples/src/main/java/org/apache/spark/examples/sql/JavaSQLDataSourceExample.java\n",
            "spark-3.1.2-bin-hadoop2.7/examples/src/main/java/org/apache/spark/examples/mllib/\n",
            "spark-3.1.2-bin-hadoop2.7/examples/src/main/java/org/apache/spark/examples/mllib/JavaSummaryStatisticsExample.java\n",
            "spark-3.1.2-bin-hadoop2.7/examples/src/main/java/org/apache/spark/examples/mllib/JavaStreamingTestExample.java\n",
            "spark-3.1.2-bin-hadoop2.7/examples/src/main/java/org/apache/spark/examples/mllib/JavaStratifiedSamplingExample.java\n",
            "spark-3.1.2-bin-hadoop2.7/examples/src/main/java/org/apache/spark/examples/mllib/JavaSimpleFPGrowth.java\n",
            "spark-3.1.2-bin-hadoop2.7/examples/src/main/java/org/apache/spark/examples/mllib/JavaSVMWithSGDExample.java\n",
            "spark-3.1.2-bin-hadoop2.7/examples/src/main/java/org/apache/spark/examples/mllib/JavaSVDExample.java\n",
            "spark-3.1.2-bin-hadoop2.7/examples/src/main/java/org/apache/spark/examples/mllib/JavaRecommendationExample.java\n",
            "spark-3.1.2-bin-hadoop2.7/examples/src/main/java/org/apache/spark/examples/mllib/JavaRankingMetricsExample.java\n",
            "spark-3.1.2-bin-hadoop2.7/examples/src/main/java/org/apache/spark/examples/mllib/JavaRandomForestRegressionExample.java\n",
            "spark-3.1.2-bin-hadoop2.7/examples/src/main/java/org/apache/spark/examples/mllib/JavaRandomForestClassificationExample.java\n",
            "spark-3.1.2-bin-hadoop2.7/examples/src/main/java/org/apache/spark/examples/mllib/JavaPrefixSpanExample.java\n",
            "spark-3.1.2-bin-hadoop2.7/examples/src/main/java/org/apache/spark/examples/mllib/JavaPowerIterationClusteringExample.java\n",
            "spark-3.1.2-bin-hadoop2.7/examples/src/main/java/org/apache/spark/examples/mllib/JavaPCAExample.java\n",
            "spark-3.1.2-bin-hadoop2.7/examples/src/main/java/org/apache/spark/examples/mllib/JavaNaiveBayesExample.java\n",
            "spark-3.1.2-bin-hadoop2.7/examples/src/main/java/org/apache/spark/examples/mllib/JavaMulticlassClassificationMetricsExample.java\n",
            "spark-3.1.2-bin-hadoop2.7/examples/src/main/java/org/apache/spark/examples/mllib/JavaMultiLabelClassificationMetricsExample.java\n",
            "spark-3.1.2-bin-hadoop2.7/examples/src/main/java/org/apache/spark/examples/mllib/JavaLogisticRegressionWithLBFGSExample.java\n",
            "spark-3.1.2-bin-hadoop2.7/examples/src/main/java/org/apache/spark/examples/mllib/JavaLatentDirichletAllocationExample.java\n",
            "spark-3.1.2-bin-hadoop2.7/examples/src/main/java/org/apache/spark/examples/mllib/JavaLBFGSExample.java\n",
            "spark-3.1.2-bin-hadoop2.7/examples/src/main/java/org/apache/spark/examples/mllib/JavaKernelDensityEstimationExample.java\n",
            "spark-3.1.2-bin-hadoop2.7/examples/src/main/java/org/apache/spark/examples/mllib/JavaKMeansExample.java\n",
            "spark-3.1.2-bin-hadoop2.7/examples/src/main/java/org/apache/spark/examples/mllib/JavaIsotonicRegressionExample.java\n",
            "spark-3.1.2-bin-hadoop2.7/examples/src/main/java/org/apache/spark/examples/mllib/JavaHypothesisTestingKolmogorovSmirnovTestExample.java\n",
            "spark-3.1.2-bin-hadoop2.7/examples/src/main/java/org/apache/spark/examples/mllib/JavaHypothesisTestingExample.java\n",
            "spark-3.1.2-bin-hadoop2.7/examples/src/main/java/org/apache/spark/examples/mllib/JavaGradientBoostingRegressionExample.java\n",
            "spark-3.1.2-bin-hadoop2.7/examples/src/main/java/org/apache/spark/examples/mllib/JavaGradientBoostingClassificationExample.java\n",
            "spark-3.1.2-bin-hadoop2.7/examples/src/main/java/org/apache/spark/examples/mllib/JavaGaussianMixtureExample.java\n",
            "spark-3.1.2-bin-hadoop2.7/examples/src/main/java/org/apache/spark/examples/mllib/JavaElementwiseProductExample.java\n",
            "spark-3.1.2-bin-hadoop2.7/examples/src/main/java/org/apache/spark/examples/mllib/JavaDecisionTreeRegressionExample.java\n",
            "spark-3.1.2-bin-hadoop2.7/examples/src/main/java/org/apache/spark/examples/mllib/JavaDecisionTreeClassificationExample.java\n",
            "spark-3.1.2-bin-hadoop2.7/examples/src/main/java/org/apache/spark/examples/mllib/JavaCorrelationsExample.java\n",
            "spark-3.1.2-bin-hadoop2.7/examples/src/main/java/org/apache/spark/examples/mllib/JavaChiSqSelectorExample.java\n",
            "spark-3.1.2-bin-hadoop2.7/examples/src/main/java/org/apache/spark/examples/mllib/JavaBisectingKMeansExample.java\n",
            "spark-3.1.2-bin-hadoop2.7/examples/src/main/java/org/apache/spark/examples/mllib/JavaBinaryClassificationMetricsExample.java\n",
            "spark-3.1.2-bin-hadoop2.7/examples/src/main/java/org/apache/spark/examples/mllib/JavaAssociationRulesExample.java\n",
            "spark-3.1.2-bin-hadoop2.7/examples/src/main/java/org/apache/spark/examples/mllib/JavaALS.java\n",
            "spark-3.1.2-bin-hadoop2.7/examples/src/main/java/org/apache/spark/examples/ml/\n",
            "spark-3.1.2-bin-hadoop2.7/examples/src/main/java/org/apache/spark/examples/ml/JavaWord2VecExample.java\n",
            "spark-3.1.2-bin-hadoop2.7/examples/src/main/java/org/apache/spark/examples/ml/JavaVectorSlicerExample.java\n",
            "spark-3.1.2-bin-hadoop2.7/examples/src/main/java/org/apache/spark/examples/ml/JavaVectorSizeHintExample.java\n",
            "spark-3.1.2-bin-hadoop2.7/examples/src/main/java/org/apache/spark/examples/ml/JavaVectorIndexerExample.java\n",
            "spark-3.1.2-bin-hadoop2.7/examples/src/main/java/org/apache/spark/examples/ml/JavaVectorAssemblerExample.java\n",
            "spark-3.1.2-bin-hadoop2.7/examples/src/main/java/org/apache/spark/examples/ml/JavaVarianceThresholdSelectorExample.java\n",
            "spark-3.1.2-bin-hadoop2.7/examples/src/main/java/org/apache/spark/examples/ml/JavaUnivariateFeatureSelectorExample.java\n",
            "spark-3.1.2-bin-hadoop2.7/examples/src/main/java/org/apache/spark/examples/ml/JavaTfIdfExample.java\n",
            "spark-3.1.2-bin-hadoop2.7/examples/src/main/java/org/apache/spark/examples/ml/JavaSummarizerExample.java\n",
            "spark-3.1.2-bin-hadoop2.7/examples/src/main/java/org/apache/spark/examples/ml/JavaStringIndexerExample.java\n",
            "spark-3.1.2-bin-hadoop2.7/examples/src/main/java/org/apache/spark/examples/ml/JavaStopWordsRemoverExample.java\n",
            "spark-3.1.2-bin-hadoop2.7/examples/src/main/java/org/apache/spark/examples/ml/JavaStandardScalerExample.java\n",
            "spark-3.1.2-bin-hadoop2.7/examples/src/main/java/org/apache/spark/examples/ml/JavaSQLTransformerExample.java\n",
            "spark-3.1.2-bin-hadoop2.7/examples/src/main/java/org/apache/spark/examples/ml/JavaRobustScalerExample.java\n",
            "spark-3.1.2-bin-hadoop2.7/examples/src/main/java/org/apache/spark/examples/ml/JavaRandomForestRegressorExample.java\n",
            "spark-3.1.2-bin-hadoop2.7/examples/src/main/java/org/apache/spark/examples/ml/JavaRandomForestClassifierExample.java\n",
            "spark-3.1.2-bin-hadoop2.7/examples/src/main/java/org/apache/spark/examples/ml/JavaRFormulaExample.java\n",
            "spark-3.1.2-bin-hadoop2.7/examples/src/main/java/org/apache/spark/examples/ml/JavaQuantileDiscretizerExample.java\n",
            "spark-3.1.2-bin-hadoop2.7/examples/src/main/java/org/apache/spark/examples/ml/JavaPrefixSpanExample.java\n",
            "spark-3.1.2-bin-hadoop2.7/examples/src/main/java/org/apache/spark/examples/ml/JavaPowerIterationClusteringExample.java\n",
            "spark-3.1.2-bin-hadoop2.7/examples/src/main/java/org/apache/spark/examples/ml/JavaPolynomialExpansionExample.java\n",
            "spark-3.1.2-bin-hadoop2.7/examples/src/main/java/org/apache/spark/examples/ml/JavaPipelineExample.java\n",
            "spark-3.1.2-bin-hadoop2.7/examples/src/main/java/org/apache/spark/examples/ml/JavaPCAExample.java\n",
            "spark-3.1.2-bin-hadoop2.7/examples/src/main/java/org/apache/spark/examples/ml/JavaOneVsRestExample.java\n",
            "spark-3.1.2-bin-hadoop2.7/examples/src/main/java/org/apache/spark/examples/ml/JavaOneHotEncoderExample.java\n",
            "spark-3.1.2-bin-hadoop2.7/examples/src/main/java/org/apache/spark/examples/ml/JavaNormalizerExample.java\n",
            "spark-3.1.2-bin-hadoop2.7/examples/src/main/java/org/apache/spark/examples/ml/JavaNaiveBayesExample.java\n",
            "spark-3.1.2-bin-hadoop2.7/examples/src/main/java/org/apache/spark/examples/ml/JavaNGramExample.java\n",
            "spark-3.1.2-bin-hadoop2.7/examples/src/main/java/org/apache/spark/examples/ml/JavaMultilayerPerceptronClassifierExample.java\n",
            "spark-3.1.2-bin-hadoop2.7/examples/src/main/java/org/apache/spark/examples/ml/JavaMulticlassLogisticRegressionWithElasticNetExample.java\n",
            "spark-3.1.2-bin-hadoop2.7/examples/src/main/java/org/apache/spark/examples/ml/JavaModelSelectionViaTrainValidationSplitExample.java\n",
            "spark-3.1.2-bin-hadoop2.7/examples/src/main/java/org/apache/spark/examples/ml/JavaModelSelectionViaCrossValidationExample.java\n",
            "spark-3.1.2-bin-hadoop2.7/examples/src/main/java/org/apache/spark/examples/ml/JavaMinMaxScalerExample.java\n",
            "spark-3.1.2-bin-hadoop2.7/examples/src/main/java/org/apache/spark/examples/ml/JavaMinHashLSHExample.java\n",
            "spark-3.1.2-bin-hadoop2.7/examples/src/main/java/org/apache/spark/examples/ml/JavaMaxAbsScalerExample.java\n",
            "spark-3.1.2-bin-hadoop2.7/examples/src/main/java/org/apache/spark/examples/ml/JavaLogisticRegressionWithElasticNetExample.java\n",
            "spark-3.1.2-bin-hadoop2.7/examples/src/main/java/org/apache/spark/examples/ml/JavaLogisticRegressionSummaryExample.java\n",
            "spark-3.1.2-bin-hadoop2.7/examples/src/main/java/org/apache/spark/examples/ml/JavaLinearSVCExample.java\n",
            "spark-3.1.2-bin-hadoop2.7/examples/src/main/java/org/apache/spark/examples/ml/JavaLinearRegressionWithElasticNetExample.java\n",
            "spark-3.1.2-bin-hadoop2.7/examples/src/main/java/org/apache/spark/examples/ml/JavaLabeledDocument.java\n",
            "spark-3.1.2-bin-hadoop2.7/examples/src/main/java/org/apache/spark/examples/ml/JavaLDAExample.java\n",
            "spark-3.1.2-bin-hadoop2.7/examples/src/main/java/org/apache/spark/examples/ml/JavaKMeansExample.java\n",
            "spark-3.1.2-bin-hadoop2.7/examples/src/main/java/org/apache/spark/examples/ml/JavaIsotonicRegressionExample.java\n",
            "spark-3.1.2-bin-hadoop2.7/examples/src/main/java/org/apache/spark/examples/ml/JavaInteractionExample.java\n",
            "spark-3.1.2-bin-hadoop2.7/examples/src/main/java/org/apache/spark/examples/ml/JavaIndexToStringExample.java\n",
            "spark-3.1.2-bin-hadoop2.7/examples/src/main/java/org/apache/spark/examples/ml/JavaImputerExample.java\n",
            "spark-3.1.2-bin-hadoop2.7/examples/src/main/java/org/apache/spark/examples/ml/JavaGradientBoostedTreeRegressorExample.java\n",
            "spark-3.1.2-bin-hadoop2.7/examples/src/main/java/org/apache/spark/examples/ml/JavaGradientBoostedTreeClassifierExample.java\n",
            "spark-3.1.2-bin-hadoop2.7/examples/src/main/java/org/apache/spark/examples/ml/JavaGeneralizedLinearRegressionExample.java\n",
            "spark-3.1.2-bin-hadoop2.7/examples/src/main/java/org/apache/spark/examples/ml/JavaGaussianMixtureExample.java\n",
            "spark-3.1.2-bin-hadoop2.7/examples/src/main/java/org/apache/spark/examples/ml/JavaFeatureHasherExample.java\n",
            "spark-3.1.2-bin-hadoop2.7/examples/src/main/java/org/apache/spark/examples/ml/JavaFPGrowthExample.java\n",
            "spark-3.1.2-bin-hadoop2.7/examples/src/main/java/org/apache/spark/examples/ml/JavaFMRegressorExample.java\n",
            "spark-3.1.2-bin-hadoop2.7/examples/src/main/java/org/apache/spark/examples/ml/JavaFMClassifierExample.java\n",
            "spark-3.1.2-bin-hadoop2.7/examples/src/main/java/org/apache/spark/examples/ml/JavaEstimatorTransformerParamExample.java\n",
            "spark-3.1.2-bin-hadoop2.7/examples/src/main/java/org/apache/spark/examples/ml/JavaElementwiseProductExample.java\n",
            "spark-3.1.2-bin-hadoop2.7/examples/src/main/java/org/apache/spark/examples/ml/JavaDocument.java\n",
            "spark-3.1.2-bin-hadoop2.7/examples/src/main/java/org/apache/spark/examples/ml/JavaDecisionTreeRegressionExample.java\n",
            "spark-3.1.2-bin-hadoop2.7/examples/src/main/java/org/apache/spark/examples/ml/JavaDecisionTreeClassificationExample.java\n",
            "spark-3.1.2-bin-hadoop2.7/examples/src/main/java/org/apache/spark/examples/ml/JavaDCTExample.java\n",
            "spark-3.1.2-bin-hadoop2.7/examples/src/main/java/org/apache/spark/examples/ml/JavaCountVectorizerExample.java\n",
            "spark-3.1.2-bin-hadoop2.7/examples/src/main/java/org/apache/spark/examples/ml/JavaCorrelationExample.java\n",
            "spark-3.1.2-bin-hadoop2.7/examples/src/main/java/org/apache/spark/examples/ml/JavaChiSquareTestExample.java\n",
            "spark-3.1.2-bin-hadoop2.7/examples/src/main/java/org/apache/spark/examples/ml/JavaChiSqSelectorExample.java\n",
            "spark-3.1.2-bin-hadoop2.7/examples/src/main/java/org/apache/spark/examples/ml/JavaBucketizerExample.java\n",
            "spark-3.1.2-bin-hadoop2.7/examples/src/main/java/org/apache/spark/examples/ml/JavaBucketedRandomProjectionLSHExample.java\n",
            "spark-3.1.2-bin-hadoop2.7/examples/src/main/java/org/apache/spark/examples/ml/JavaBisectingKMeansExample.java\n",
            "spark-3.1.2-bin-hadoop2.7/examples/src/main/java/org/apache/spark/examples/ml/JavaBinarizerExample.java\n",
            "spark-3.1.2-bin-hadoop2.7/examples/src/main/java/org/apache/spark/examples/ml/JavaALSExample.java\n",
            "spark-3.1.2-bin-hadoop2.7/examples/src/main/java/org/apache/spark/examples/ml/JavaAFTSurvivalRegressionExample.java\n",
            "spark-3.1.2-bin-hadoop2.7/examples/src/main/java/org/apache/spark/examples/ml/JavaTokenizerExample.java\n",
            "spark-3.1.2-bin-hadoop2.7/examples/src/main/java/org/apache/spark/examples/JavaWordCount.java\n",
            "spark-3.1.2-bin-hadoop2.7/examples/src/main/java/org/apache/spark/examples/JavaTC.java\n",
            "spark-3.1.2-bin-hadoop2.7/examples/src/main/java/org/apache/spark/examples/JavaStatusTrackerDemo.java\n",
            "spark-3.1.2-bin-hadoop2.7/examples/src/main/java/org/apache/spark/examples/JavaSparkPi.java\n",
            "spark-3.1.2-bin-hadoop2.7/examples/src/main/java/org/apache/spark/examples/JavaPageRank.java\n",
            "spark-3.1.2-bin-hadoop2.7/examples/src/main/java/org/apache/spark/examples/JavaLogQuery.java\n",
            "spark-3.1.2-bin-hadoop2.7/examples/src/main/java/org/apache/spark/examples/JavaHdfsLR.java\n",
            "spark-3.1.2-bin-hadoop2.7/kubernetes/\n",
            "spark-3.1.2-bin-hadoop2.7/kubernetes/tests/\n",
            "spark-3.1.2-bin-hadoop2.7/kubernetes/tests/worker_memory_check.py\n",
            "spark-3.1.2-bin-hadoop2.7/kubernetes/tests/python_executable_check.py\n",
            "spark-3.1.2-bin-hadoop2.7/kubernetes/tests/pyfiles.py\n",
            "spark-3.1.2-bin-hadoop2.7/kubernetes/tests/py_container_checks.py\n",
            "spark-3.1.2-bin-hadoop2.7/kubernetes/tests/decommissioning_cleanup.py\n",
            "spark-3.1.2-bin-hadoop2.7/kubernetes/tests/decommissioning.py\n",
            "spark-3.1.2-bin-hadoop2.7/kubernetes/tests/autoscale.py\n",
            "spark-3.1.2-bin-hadoop2.7/kubernetes/dockerfiles/\n",
            "spark-3.1.2-bin-hadoop2.7/kubernetes/dockerfiles/spark/\n",
            "spark-3.1.2-bin-hadoop2.7/kubernetes/dockerfiles/spark/entrypoint.sh\n",
            "spark-3.1.2-bin-hadoop2.7/kubernetes/dockerfiles/spark/decom.sh\n",
            "spark-3.1.2-bin-hadoop2.7/kubernetes/dockerfiles/spark/bindings/\n",
            "spark-3.1.2-bin-hadoop2.7/kubernetes/dockerfiles/spark/bindings/python/\n",
            "spark-3.1.2-bin-hadoop2.7/kubernetes/dockerfiles/spark/bindings/python/Dockerfile\n",
            "spark-3.1.2-bin-hadoop2.7/kubernetes/dockerfiles/spark/bindings/R/\n",
            "spark-3.1.2-bin-hadoop2.7/kubernetes/dockerfiles/spark/bindings/R/Dockerfile\n",
            "spark-3.1.2-bin-hadoop2.7/kubernetes/dockerfiles/spark/Dockerfile\n",
            "spark-3.1.2-bin-hadoop2.7/yarn/\n",
            "spark-3.1.2-bin-hadoop2.7/yarn/spark-3.1.2-yarn-shuffle.jar\n",
            "spark-3.1.2-bin-hadoop2.7/jars/\n",
            "spark-3.1.2-bin-hadoop2.7/jars/zstd-jni-1.4.8-1.jar\n",
            "spark-3.1.2-bin-hadoop2.7/jars/zookeeper-3.4.14.jar\n",
            "spark-3.1.2-bin-hadoop2.7/jars/zjsonpatch-0.3.0.jar\n",
            "spark-3.1.2-bin-hadoop2.7/jars/xz-1.5.jar\n",
            "spark-3.1.2-bin-hadoop2.7/jars/xmlenc-0.52.jar\n",
            "spark-3.1.2-bin-hadoop2.7/jars/xml-apis-1.4.01.jar\n",
            "spark-3.1.2-bin-hadoop2.7/jars/xercesImpl-2.12.0.jar\n",
            "spark-3.1.2-bin-hadoop2.7/jars/xbean-asm7-shaded-4.15.jar\n",
            "spark-3.1.2-bin-hadoop2.7/jars/velocity-1.5.jar\n",
            "spark-3.1.2-bin-hadoop2.7/jars/univocity-parsers-2.9.1.jar\n",
            "spark-3.1.2-bin-hadoop2.7/jars/transaction-api-1.1.jar\n",
            "spark-3.1.2-bin-hadoop2.7/jars/threeten-extra-1.5.0.jar\n",
            "spark-3.1.2-bin-hadoop2.7/jars/super-csv-2.2.0.jar\n",
            "spark-3.1.2-bin-hadoop2.7/jars/stream-2.9.6.jar\n",
            "spark-3.1.2-bin-hadoop2.7/jars/stax-api-1.0.1.jar\n",
            "spark-3.1.2-bin-hadoop2.7/jars/stax-api-1.0-2.jar\n",
            "spark-3.1.2-bin-hadoop2.7/jars/spire_2.12-0.17.0-M1.jar\n",
            "spark-3.1.2-bin-hadoop2.7/jars/spire-util_2.12-0.17.0-M1.jar\n",
            "spark-3.1.2-bin-hadoop2.7/jars/spire-platform_2.12-0.17.0-M1.jar\n",
            "spark-3.1.2-bin-hadoop2.7/jars/spire-macros_2.12-0.17.0-M1.jar\n",
            "spark-3.1.2-bin-hadoop2.7/jars/spark-yarn_2.12-3.1.2.jar\n",
            "spark-3.1.2-bin-hadoop2.7/jars/spark-unsafe_2.12-3.1.2.jar\n",
            "spark-3.1.2-bin-hadoop2.7/jars/spark-tags_2.12-3.1.2.jar\n",
            "spark-3.1.2-bin-hadoop2.7/jars/spark-tags_2.12-3.1.2-tests.jar\n",
            "spark-3.1.2-bin-hadoop2.7/jars/spark-streaming_2.12-3.1.2.jar\n",
            "spark-3.1.2-bin-hadoop2.7/jars/spark-sql_2.12-3.1.2.jar\n",
            "spark-3.1.2-bin-hadoop2.7/jars/spark-sketch_2.12-3.1.2.jar\n",
            "spark-3.1.2-bin-hadoop2.7/jars/spark-repl_2.12-3.1.2.jar\n",
            "spark-3.1.2-bin-hadoop2.7/jars/spark-network-shuffle_2.12-3.1.2.jar\n",
            "spark-3.1.2-bin-hadoop2.7/jars/spark-network-common_2.12-3.1.2.jar\n",
            "spark-3.1.2-bin-hadoop2.7/jars/spark-mllib_2.12-3.1.2.jar\n",
            "spark-3.1.2-bin-hadoop2.7/jars/spark-mllib-local_2.12-3.1.2.jar\n",
            "spark-3.1.2-bin-hadoop2.7/jars/spark-mesos_2.12-3.1.2.jar\n",
            "spark-3.1.2-bin-hadoop2.7/jars/spark-launcher_2.12-3.1.2.jar\n",
            "spark-3.1.2-bin-hadoop2.7/jars/spark-kvstore_2.12-3.1.2.jar\n",
            "spark-3.1.2-bin-hadoop2.7/jars/spark-kubernetes_2.12-3.1.2.jar\n",
            "spark-3.1.2-bin-hadoop2.7/jars/spark-hive_2.12-3.1.2.jar\n",
            "spark-3.1.2-bin-hadoop2.7/jars/spark-hive-thriftserver_2.12-3.1.2.jar\n",
            "spark-3.1.2-bin-hadoop2.7/jars/spark-graphx_2.12-3.1.2.jar\n",
            "spark-3.1.2-bin-hadoop2.7/jars/spark-core_2.12-3.1.2.jar\n",
            "spark-3.1.2-bin-hadoop2.7/jars/spark-catalyst_2.12-3.1.2.jar\n",
            "spark-3.1.2-bin-hadoop2.7/jars/snappy-java-1.1.8.2.jar\n",
            "spark-3.1.2-bin-hadoop2.7/jars/snakeyaml-1.24.jar\n",
            "spark-3.1.2-bin-hadoop2.7/jars/slf4j-log4j12-1.7.30.jar\n",
            "spark-3.1.2-bin-hadoop2.7/jars/slf4j-api-1.7.30.jar\n",
            "spark-3.1.2-bin-hadoop2.7/jars/shims-0.9.0.jar\n",
            "spark-3.1.2-bin-hadoop2.7/jars/shapeless_2.12-2.3.3.jar\n",
            "spark-3.1.2-bin-hadoop2.7/jars/scala-xml_2.12-1.2.0.jar\n",
            "spark-3.1.2-bin-hadoop2.7/jars/scala-reflect-2.12.10.jar\n",
            "spark-3.1.2-bin-hadoop2.7/jars/scala-parser-combinators_2.12-1.1.2.jar\n",
            "spark-3.1.2-bin-hadoop2.7/jars/scala-library-2.12.10.jar\n",
            "spark-3.1.2-bin-hadoop2.7/jars/scala-compiler-2.12.10.jar\n",
            "spark-3.1.2-bin-hadoop2.7/jars/scala-collection-compat_2.12-2.1.1.jar\n",
            "spark-3.1.2-bin-hadoop2.7/jars/pyrolite-4.30.jar\n",
            "spark-3.1.2-bin-hadoop2.7/jars/py4j-0.10.9.jar\n",
            "spark-3.1.2-bin-hadoop2.7/jars/protobuf-java-2.5.0.jar\n",
            "spark-3.1.2-bin-hadoop2.7/jars/parquet-jackson-1.10.1.jar\n",
            "spark-3.1.2-bin-hadoop2.7/jars/parquet-hadoop-1.10.1.jar\n",
            "spark-3.1.2-bin-hadoop2.7/jars/parquet-format-2.4.0.jar\n",
            "spark-3.1.2-bin-hadoop2.7/jars/parquet-encoding-1.10.1.jar\n",
            "spark-3.1.2-bin-hadoop2.7/jars/parquet-common-1.10.1.jar\n",
            "spark-3.1.2-bin-hadoop2.7/jars/parquet-column-1.10.1.jar\n",
            "spark-3.1.2-bin-hadoop2.7/jars/paranamer-2.8.jar\n",
            "spark-3.1.2-bin-hadoop2.7/jars/osgi-resource-locator-1.0.3.jar\n",
            "spark-3.1.2-bin-hadoop2.7/jars/oro-2.0.8.jar\n",
            "spark-3.1.2-bin-hadoop2.7/jars/orc-shims-1.5.12.jar\n",
            "spark-3.1.2-bin-hadoop2.7/jars/orc-mapreduce-1.5.12.jar\n",
            "spark-3.1.2-bin-hadoop2.7/jars/orc-core-1.5.12.jar\n",
            "spark-3.1.2-bin-hadoop2.7/jars/opencsv-2.3.jar\n",
            "spark-3.1.2-bin-hadoop2.7/jars/okio-1.14.0.jar\n",
            "spark-3.1.2-bin-hadoop2.7/jars/okhttp-3.12.12.jar\n",
            "spark-3.1.2-bin-hadoop2.7/jars/objenesis-2.6.jar\n",
            "spark-3.1.2-bin-hadoop2.7/jars/netty-all-4.1.51.Final.jar\n",
            "spark-3.1.2-bin-hadoop2.7/jars/minlog-1.3.0.jar\n",
            "spark-3.1.2-bin-hadoop2.7/jars/metrics-jvm-4.1.1.jar\n",
            "spark-3.1.2-bin-hadoop2.7/jars/metrics-json-4.1.1.jar\n",
            "spark-3.1.2-bin-hadoop2.7/jars/metrics-jmx-4.1.1.jar\n",
            "spark-3.1.2-bin-hadoop2.7/jars/metrics-graphite-4.1.1.jar\n",
            "spark-3.1.2-bin-hadoop2.7/jars/metrics-core-4.1.1.jar\n",
            "spark-3.1.2-bin-hadoop2.7/jars/mesos-1.4.0-shaded-protobuf.jar\n",
            "spark-3.1.2-bin-hadoop2.7/jars/macro-compat_2.12-1.1.1.jar\n",
            "spark-3.1.2-bin-hadoop2.7/jars/machinist_2.12-0.6.8.jar\n",
            "spark-3.1.2-bin-hadoop2.7/jars/lz4-java-1.7.1.jar\n",
            "spark-3.1.2-bin-hadoop2.7/jars/logging-interceptor-3.12.12.jar\n",
            "spark-3.1.2-bin-hadoop2.7/jars/log4j-1.2.17.jar\n",
            "spark-3.1.2-bin-hadoop2.7/jars/libthrift-0.12.0.jar\n",
            "spark-3.1.2-bin-hadoop2.7/jars/libfb303-0.9.3.jar\n",
            "spark-3.1.2-bin-hadoop2.7/jars/leveldbjni-all-1.8.jar\n",
            "spark-3.1.2-bin-hadoop2.7/jars/kubernetes-model-storageclass-4.12.0.jar\n",
            "spark-3.1.2-bin-hadoop2.7/jars/kubernetes-model-settings-4.12.0.jar\n",
            "spark-3.1.2-bin-hadoop2.7/jars/kubernetes-model-scheduling-4.12.0.jar\n",
            "spark-3.1.2-bin-hadoop2.7/jars/kubernetes-model-rbac-4.12.0.jar\n",
            "spark-3.1.2-bin-hadoop2.7/jars/kubernetes-model-policy-4.12.0.jar\n",
            "spark-3.1.2-bin-hadoop2.7/jars/kubernetes-model-networking-4.12.0.jar\n",
            "spark-3.1.2-bin-hadoop2.7/jars/kubernetes-model-metrics-4.12.0.jar\n",
            "spark-3.1.2-bin-hadoop2.7/jars/kubernetes-model-extensions-4.12.0.jar\n",
            "spark-3.1.2-bin-hadoop2.7/jars/kubernetes-model-events-4.12.0.jar\n",
            "spark-3.1.2-bin-hadoop2.7/jars/kubernetes-model-discovery-4.12.0.jar\n",
            "spark-3.1.2-bin-hadoop2.7/jars/kubernetes-model-core-4.12.0.jar\n",
            "spark-3.1.2-bin-hadoop2.7/jars/kubernetes-model-coordination-4.12.0.jar\n",
            "spark-3.1.2-bin-hadoop2.7/jars/kubernetes-model-common-4.12.0.jar\n",
            "spark-3.1.2-bin-hadoop2.7/jars/kubernetes-model-certificates-4.12.0.jar\n",
            "spark-3.1.2-bin-hadoop2.7/jars/kubernetes-model-batch-4.12.0.jar\n",
            "spark-3.1.2-bin-hadoop2.7/jars/kubernetes-model-autoscaling-4.12.0.jar\n",
            "spark-3.1.2-bin-hadoop2.7/jars/kubernetes-model-apps-4.12.0.jar\n",
            "spark-3.1.2-bin-hadoop2.7/jars/kubernetes-model-apiextensions-4.12.0.jar\n",
            "spark-3.1.2-bin-hadoop2.7/jars/kubernetes-model-admissionregistration-4.12.0.jar\n",
            "spark-3.1.2-bin-hadoop2.7/jars/kubernetes-client-4.12.0.jar\n",
            "spark-3.1.2-bin-hadoop2.7/jars/kryo-shaded-4.0.2.jar\n",
            "spark-3.1.2-bin-hadoop2.7/jars/jul-to-slf4j-1.7.30.jar\n",
            "spark-3.1.2-bin-hadoop2.7/jars/jta-1.1.jar\n",
            "spark-3.1.2-bin-hadoop2.7/jars/jsr305-3.0.0.jar\n",
            "spark-3.1.2-bin-hadoop2.7/jars/jsp-api-2.1.jar\n",
            "spark-3.1.2-bin-hadoop2.7/jars/json4s-scalap_2.12-3.7.0-M5.jar\n",
            "spark-3.1.2-bin-hadoop2.7/jars/json4s-jackson_2.12-3.7.0-M5.jar\n",
            "spark-3.1.2-bin-hadoop2.7/jars/json4s-core_2.12-3.7.0-M5.jar\n",
            "spark-3.1.2-bin-hadoop2.7/jars/json4s-ast_2.12-3.7.0-M5.jar\n",
            "spark-3.1.2-bin-hadoop2.7/jars/json-1.8.jar\n",
            "spark-3.1.2-bin-hadoop2.7/jars/jpam-1.1.jar\n",
            "spark-3.1.2-bin-hadoop2.7/jars/jodd-core-3.5.2.jar\n",
            "spark-3.1.2-bin-hadoop2.7/jars/joda-time-2.10.5.jar\n",
            "spark-3.1.2-bin-hadoop2.7/jars/jline-2.14.6.jar\n",
            "spark-3.1.2-bin-hadoop2.7/jars/jetty-util-6.1.26.jar\n",
            "spark-3.1.2-bin-hadoop2.7/jars/jetty-sslengine-6.1.26.jar\n",
            "spark-3.1.2-bin-hadoop2.7/jars/jetty-6.1.26.jar\n",
            "spark-3.1.2-bin-hadoop2.7/jars/jersey-server-2.30.jar\n",
            "spark-3.1.2-bin-hadoop2.7/jars/jersey-media-jaxb-2.30.jar\n",
            "spark-3.1.2-bin-hadoop2.7/jars/jersey-hk2-2.30.jar\n",
            "spark-3.1.2-bin-hadoop2.7/jars/jersey-container-servlet-core-2.30.jar\n",
            "spark-3.1.2-bin-hadoop2.7/jars/jersey-container-servlet-2.30.jar\n",
            "spark-3.1.2-bin-hadoop2.7/jars/jersey-common-2.30.jar\n",
            "spark-3.1.2-bin-hadoop2.7/jars/jersey-client-2.30.jar\n",
            "spark-3.1.2-bin-hadoop2.7/jars/jdo-api-3.0.1.jar\n",
            "spark-3.1.2-bin-hadoop2.7/jars/jcl-over-slf4j-1.7.30.jar\n",
            "spark-3.1.2-bin-hadoop2.7/jars/jaxb-runtime-2.3.2.jar\n",
            "spark-3.1.2-bin-hadoop2.7/jars/jaxb-api-2.2.2.jar\n",
            "spark-3.1.2-bin-hadoop2.7/jars/javolution-5.5.1.jar\n",
            "spark-3.1.2-bin-hadoop2.7/jars/javax.jdo-3.2.0-m3.jar\n",
            "spark-3.1.2-bin-hadoop2.7/jars/javax.inject-1.jar\n",
            "spark-3.1.2-bin-hadoop2.7/jars/javassist-3.25.0-GA.jar\n",
            "spark-3.1.2-bin-hadoop2.7/jars/janino-3.0.16.jar\n",
            "spark-3.1.2-bin-hadoop2.7/jars/jakarta.xml.bind-api-2.3.2.jar\n",
            "spark-3.1.2-bin-hadoop2.7/jars/jakarta.ws.rs-api-2.1.6.jar\n",
            "spark-3.1.2-bin-hadoop2.7/jars/jakarta.validation-api-2.0.2.jar\n",
            "spark-3.1.2-bin-hadoop2.7/jars/jakarta.servlet-api-4.0.3.jar\n",
            "spark-3.1.2-bin-hadoop2.7/jars/jakarta.inject-2.6.1.jar\n",
            "spark-3.1.2-bin-hadoop2.7/jars/jakarta.annotation-api-1.3.5.jar\n",
            "spark-3.1.2-bin-hadoop2.7/jars/jakarta.activation-api-1.2.1.jar\n",
            "spark-3.1.2-bin-hadoop2.7/jars/jackson-xc-1.9.13.jar\n",
            "spark-3.1.2-bin-hadoop2.7/jars/jackson-module-scala_2.12-2.10.0.jar\n",
            "spark-3.1.2-bin-hadoop2.7/jars/jackson-module-paranamer-2.10.0.jar\n",
            "spark-3.1.2-bin-hadoop2.7/jars/jackson-module-jaxb-annotations-2.10.0.jar\n",
            "spark-3.1.2-bin-hadoop2.7/jars/jackson-mapper-asl-1.9.13.jar\n",
            "spark-3.1.2-bin-hadoop2.7/jars/jackson-jaxrs-1.9.13.jar\n",
            "spark-3.1.2-bin-hadoop2.7/jars/jackson-datatype-jsr310-2.11.2.jar\n",
            "spark-3.1.2-bin-hadoop2.7/jars/jackson-dataformat-yaml-2.10.0.jar\n",
            "spark-3.1.2-bin-hadoop2.7/jars/jackson-databind-2.10.0.jar\n",
            "spark-3.1.2-bin-hadoop2.7/jars/jackson-core-asl-1.9.13.jar\n",
            "spark-3.1.2-bin-hadoop2.7/jars/jackson-core-2.10.0.jar\n",
            "spark-3.1.2-bin-hadoop2.7/jars/jackson-annotations-2.10.0.jar\n",
            "spark-3.1.2-bin-hadoop2.7/jars/ivy-2.4.0.jar\n",
            "spark-3.1.2-bin-hadoop2.7/jars/istack-commons-runtime-3.0.8.jar\n",
            "spark-3.1.2-bin-hadoop2.7/jars/httpcore-4.4.12.jar\n",
            "spark-3.1.2-bin-hadoop2.7/jars/httpclient-4.5.6.jar\n",
            "spark-3.1.2-bin-hadoop2.7/jars/htrace-core-3.1.0-incubating.jar\n",
            "spark-3.1.2-bin-hadoop2.7/jars/hk2-utils-2.6.1.jar\n",
            "spark-3.1.2-bin-hadoop2.7/jars/hk2-locator-2.6.1.jar\n",
            "spark-3.1.2-bin-hadoop2.7/jars/hk2-api-2.6.1.jar\n",
            "spark-3.1.2-bin-hadoop2.7/jars/hive-vector-code-gen-2.3.7.jar\n",
            "spark-3.1.2-bin-hadoop2.7/jars/hive-storage-api-2.7.2.jar\n",
            "spark-3.1.2-bin-hadoop2.7/jars/hive-shims-scheduler-2.3.7.jar\n",
            "spark-3.1.2-bin-hadoop2.7/jars/hive-shims-common-2.3.7.jar\n",
            "spark-3.1.2-bin-hadoop2.7/jars/hive-shims-2.3.7.jar\n",
            "spark-3.1.2-bin-hadoop2.7/jars/hive-shims-0.23-2.3.7.jar\n",
            "spark-3.1.2-bin-hadoop2.7/jars/hive-service-rpc-3.1.2.jar\n",
            "spark-3.1.2-bin-hadoop2.7/jars/hive-serde-2.3.7.jar\n",
            "spark-3.1.2-bin-hadoop2.7/jars/hive-metastore-2.3.7.jar\n",
            "spark-3.1.2-bin-hadoop2.7/jars/hive-llap-common-2.3.7.jar\n",
            "spark-3.1.2-bin-hadoop2.7/jars/hive-jdbc-2.3.7.jar\n",
            "spark-3.1.2-bin-hadoop2.7/jars/hive-exec-2.3.7-core.jar\n",
            "spark-3.1.2-bin-hadoop2.7/jars/hive-common-2.3.7.jar\n",
            "spark-3.1.2-bin-hadoop2.7/jars/hive-cli-2.3.7.jar\n",
            "spark-3.1.2-bin-hadoop2.7/jars/hive-beeline-2.3.7.jar\n",
            "spark-3.1.2-bin-hadoop2.7/jars/hadoop-yarn-server-web-proxy-2.7.4.jar\n",
            "spark-3.1.2-bin-hadoop2.7/jars/hadoop-yarn-server-common-2.7.4.jar\n",
            "spark-3.1.2-bin-hadoop2.7/jars/hadoop-yarn-common-2.7.4.jar\n",
            "spark-3.1.2-bin-hadoop2.7/jars/hadoop-yarn-client-2.7.4.jar\n",
            "spark-3.1.2-bin-hadoop2.7/jars/hadoop-yarn-api-2.7.4.jar\n",
            "spark-3.1.2-bin-hadoop2.7/jars/hadoop-mapreduce-client-shuffle-2.7.4.jar\n",
            "spark-3.1.2-bin-hadoop2.7/jars/hadoop-mapreduce-client-jobclient-2.7.4.jar\n",
            "spark-3.1.2-bin-hadoop2.7/jars/hadoop-mapreduce-client-core-2.7.4.jar\n",
            "spark-3.1.2-bin-hadoop2.7/jars/hadoop-mapreduce-client-common-2.7.4.jar\n",
            "spark-3.1.2-bin-hadoop2.7/jars/hadoop-mapreduce-client-app-2.7.4.jar\n",
            "spark-3.1.2-bin-hadoop2.7/jars/hadoop-hdfs-2.7.4.jar\n",
            "spark-3.1.2-bin-hadoop2.7/jars/hadoop-common-2.7.4.jar\n",
            "spark-3.1.2-bin-hadoop2.7/jars/hadoop-client-2.7.4.jar\n",
            "spark-3.1.2-bin-hadoop2.7/jars/hadoop-auth-2.7.4.jar\n",
            "spark-3.1.2-bin-hadoop2.7/jars/hadoop-annotations-2.7.4.jar\n",
            "spark-3.1.2-bin-hadoop2.7/jars/guice-servlet-3.0.jar\n",
            "spark-3.1.2-bin-hadoop2.7/jars/guice-3.0.jar\n",
            "spark-3.1.2-bin-hadoop2.7/jars/guava-14.0.1.jar\n",
            "spark-3.1.2-bin-hadoop2.7/jars/gson-2.2.4.jar\n",
            "spark-3.1.2-bin-hadoop2.7/jars/generex-1.0.2.jar\n",
            "spark-3.1.2-bin-hadoop2.7/jars/flatbuffers-java-1.9.0.jar\n",
            "spark-3.1.2-bin-hadoop2.7/jars/dropwizard-metrics-hadoop-metrics2-reporter-0.1.2.jar\n",
            "spark-3.1.2-bin-hadoop2.7/jars/derby-10.12.1.1.jar\n",
            "spark-3.1.2-bin-hadoop2.7/jars/datanucleus-rdbms-4.1.19.jar\n",
            "spark-3.1.2-bin-hadoop2.7/jars/datanucleus-core-4.1.17.jar\n",
            "spark-3.1.2-bin-hadoop2.7/jars/datanucleus-api-jdo-4.2.4.jar\n",
            "spark-3.1.2-bin-hadoop2.7/jars/curator-recipes-2.7.1.jar\n",
            "spark-3.1.2-bin-hadoop2.7/jars/curator-framework-2.7.1.jar\n",
            "spark-3.1.2-bin-hadoop2.7/jars/curator-client-2.7.1.jar\n",
            "spark-3.1.2-bin-hadoop2.7/jars/core-1.1.2.jar\n",
            "spark-3.1.2-bin-hadoop2.7/jars/compress-lzf-1.0.3.jar\n",
            "spark-3.1.2-bin-hadoop2.7/jars/commons-text-1.6.jar\n",
            "spark-3.1.2-bin-hadoop2.7/jars/commons-pool-1.5.4.jar\n",
            "spark-3.1.2-bin-hadoop2.7/jars/commons-net-3.1.jar\n",
            "spark-3.1.2-bin-hadoop2.7/jars/commons-math3-3.4.1.jar\n",
            "spark-3.1.2-bin-hadoop2.7/jars/commons-logging-1.1.3.jar\n",
            "spark-3.1.2-bin-hadoop2.7/jars/commons-lang3-3.10.jar\n",
            "spark-3.1.2-bin-hadoop2.7/jars/commons-lang-2.6.jar\n",
            "spark-3.1.2-bin-hadoop2.7/jars/commons-io-2.4.jar\n",
            "spark-3.1.2-bin-hadoop2.7/jars/commons-httpclient-3.1.jar\n",
            "spark-3.1.2-bin-hadoop2.7/jars/commons-digester-1.8.jar\n",
            "spark-3.1.2-bin-hadoop2.7/jars/commons-dbcp-1.4.jar\n",
            "spark-3.1.2-bin-hadoop2.7/jars/commons-crypto-1.1.0.jar\n",
            "spark-3.1.2-bin-hadoop2.7/jars/commons-configuration-1.6.jar\n",
            "spark-3.1.2-bin-hadoop2.7/jars/commons-compress-1.20.jar\n",
            "spark-3.1.2-bin-hadoop2.7/jars/commons-compiler-3.0.16.jar\n",
            "spark-3.1.2-bin-hadoop2.7/jars/commons-collections-3.2.2.jar\n",
            "spark-3.1.2-bin-hadoop2.7/jars/commons-codec-1.10.jar\n",
            "spark-3.1.2-bin-hadoop2.7/jars/commons-cli-1.2.jar\n",
            "spark-3.1.2-bin-hadoop2.7/jars/commons-beanutils-1.9.4.jar\n",
            "spark-3.1.2-bin-hadoop2.7/jars/chill_2.12-0.9.5.jar\n",
            "spark-3.1.2-bin-hadoop2.7/jars/chill-java-0.9.5.jar\n",
            "spark-3.1.2-bin-hadoop2.7/jars/cats-kernel_2.12-2.0.0-M4.jar\n",
            "spark-3.1.2-bin-hadoop2.7/jars/breeze_2.12-1.0.jar\n",
            "spark-3.1.2-bin-hadoop2.7/jars/breeze-macros_2.12-1.0.jar\n",
            "spark-3.1.2-bin-hadoop2.7/jars/bonecp-0.8.0.RELEASE.jar\n",
            "spark-3.1.2-bin-hadoop2.7/jars/avro-mapred-1.8.2-hadoop2.jar\n",
            "spark-3.1.2-bin-hadoop2.7/jars/avro-ipc-1.8.2.jar\n",
            "spark-3.1.2-bin-hadoop2.7/jars/avro-1.8.2.jar\n",
            "spark-3.1.2-bin-hadoop2.7/jars/automaton-1.11-8.jar\n",
            "spark-3.1.2-bin-hadoop2.7/jars/audience-annotations-0.5.0.jar\n",
            "spark-3.1.2-bin-hadoop2.7/jars/arrow-vector-2.0.0.jar\n",
            "spark-3.1.2-bin-hadoop2.7/jars/arrow-memory-netty-2.0.0.jar\n",
            "spark-3.1.2-bin-hadoop2.7/jars/arrow-memory-core-2.0.0.jar\n",
            "spark-3.1.2-bin-hadoop2.7/jars/arrow-format-2.0.0.jar\n",
            "spark-3.1.2-bin-hadoop2.7/jars/arpack_combined_all-0.1.jar\n",
            "spark-3.1.2-bin-hadoop2.7/jars/api-util-1.0.0-M20.jar\n",
            "spark-3.1.2-bin-hadoop2.7/jars/api-asn1-api-1.0.0-M20.jar\n",
            "spark-3.1.2-bin-hadoop2.7/jars/apacheds-kerberos-codec-2.0.0-M15.jar\n",
            "spark-3.1.2-bin-hadoop2.7/jars/apacheds-i18n-2.0.0-M15.jar\n",
            "spark-3.1.2-bin-hadoop2.7/jars/aopalliance-repackaged-2.6.1.jar\n",
            "spark-3.1.2-bin-hadoop2.7/jars/aopalliance-1.0.jar\n",
            "spark-3.1.2-bin-hadoop2.7/jars/antlr4-runtime-4.8-1.jar\n",
            "spark-3.1.2-bin-hadoop2.7/jars/antlr-runtime-3.5.2.jar\n",
            "spark-3.1.2-bin-hadoop2.7/jars/algebra_2.12-2.0.0-M2.jar\n",
            "spark-3.1.2-bin-hadoop2.7/jars/aircompressor-0.10.jar\n",
            "spark-3.1.2-bin-hadoop2.7/jars/activation-1.1.1.jar\n",
            "spark-3.1.2-bin-hadoop2.7/jars/ST4-4.0.4.jar\n",
            "spark-3.1.2-bin-hadoop2.7/jars/RoaringBitmap-0.9.0.jar\n",
            "spark-3.1.2-bin-hadoop2.7/jars/JTransforms-3.1.jar\n",
            "spark-3.1.2-bin-hadoop2.7/jars/JLargeArrays-1.5.jar\n",
            "spark-3.1.2-bin-hadoop2.7/jars/HikariCP-2.5.1.jar\n",
            "spark-3.1.2-bin-hadoop2.7/python/\n",
            "spark-3.1.2-bin-hadoop2.7/python/test_support/\n",
            "spark-3.1.2-bin-hadoop2.7/python/test_support/userlibrary.py\n",
            "spark-3.1.2-bin-hadoop2.7/python/test_support/userlib-0.1.zip\n",
            "spark-3.1.2-bin-hadoop2.7/python/test_support/sql/\n",
            "spark-3.1.2-bin-hadoop2.7/python/test_support/sql/text-test.txt\n",
            "spark-3.1.2-bin-hadoop2.7/python/test_support/sql/streaming/\n",
            "spark-3.1.2-bin-hadoop2.7/python/test_support/sql/streaming/text-test.txt\n",
            "spark-3.1.2-bin-hadoop2.7/python/test_support/sql/people_array_utf16le.json\n",
            "spark-3.1.2-bin-hadoop2.7/python/test_support/sql/people_array.json\n",
            "spark-3.1.2-bin-hadoop2.7/python/test_support/sql/people1.json\n",
            "spark-3.1.2-bin-hadoop2.7/python/test_support/sql/people.json\n",
            "spark-3.1.2-bin-hadoop2.7/python/test_support/sql/parquet_partitioned/\n",
            "spark-3.1.2-bin-hadoop2.7/python/test_support/sql/parquet_partitioned/year=2015/\n",
            "spark-3.1.2-bin-hadoop2.7/python/test_support/sql/parquet_partitioned/year=2015/month=9/\n",
            "spark-3.1.2-bin-hadoop2.7/python/test_support/sql/parquet_partitioned/year=2015/month=9/day=1/\n",
            "spark-3.1.2-bin-hadoop2.7/python/test_support/sql/parquet_partitioned/year=2015/month=9/day=1/part-r-00007.gz.parquet\n",
            "spark-3.1.2-bin-hadoop2.7/python/test_support/sql/parquet_partitioned/year=2015/month=9/day=1/.part-r-00007.gz.parquet.crc\n",
            "spark-3.1.2-bin-hadoop2.7/python/test_support/sql/parquet_partitioned/year=2015/month=10/\n",
            "spark-3.1.2-bin-hadoop2.7/python/test_support/sql/parquet_partitioned/year=2015/month=10/day=26/\n",
            "spark-3.1.2-bin-hadoop2.7/python/test_support/sql/parquet_partitioned/year=2015/month=10/day=26/part-r-00005.gz.parquet\n",
            "spark-3.1.2-bin-hadoop2.7/python/test_support/sql/parquet_partitioned/year=2015/month=10/day=26/.part-r-00005.gz.parquet.crc\n",
            "spark-3.1.2-bin-hadoop2.7/python/test_support/sql/parquet_partitioned/year=2015/month=10/day=25/\n",
            "spark-3.1.2-bin-hadoop2.7/python/test_support/sql/parquet_partitioned/year=2015/month=10/day=25/part-r-00004.gz.parquet\n",
            "spark-3.1.2-bin-hadoop2.7/python/test_support/sql/parquet_partitioned/year=2015/month=10/day=25/part-r-00002.gz.parquet\n",
            "spark-3.1.2-bin-hadoop2.7/python/test_support/sql/parquet_partitioned/year=2015/month=10/day=25/.part-r-00004.gz.parquet.crc\n",
            "spark-3.1.2-bin-hadoop2.7/python/test_support/sql/parquet_partitioned/year=2015/month=10/day=25/.part-r-00002.gz.parquet.crc\n",
            "spark-3.1.2-bin-hadoop2.7/python/test_support/sql/parquet_partitioned/year=2014/\n",
            "spark-3.1.2-bin-hadoop2.7/python/test_support/sql/parquet_partitioned/year=2014/month=9/\n",
            "spark-3.1.2-bin-hadoop2.7/python/test_support/sql/parquet_partitioned/year=2014/month=9/day=1/\n",
            "spark-3.1.2-bin-hadoop2.7/python/test_support/sql/parquet_partitioned/year=2014/month=9/day=1/part-r-00008.gz.parquet\n",
            "spark-3.1.2-bin-hadoop2.7/python/test_support/sql/parquet_partitioned/year=2014/month=9/day=1/.part-r-00008.gz.parquet.crc\n",
            "spark-3.1.2-bin-hadoop2.7/python/test_support/sql/parquet_partitioned/_metadata\n",
            "spark-3.1.2-bin-hadoop2.7/python/test_support/sql/parquet_partitioned/_common_metadata\n",
            "spark-3.1.2-bin-hadoop2.7/python/test_support/sql/parquet_partitioned/_SUCCESS\n",
            "spark-3.1.2-bin-hadoop2.7/python/test_support/sql/orc_partitioned/\n",
            "spark-3.1.2-bin-hadoop2.7/python/test_support/sql/orc_partitioned/b=1/\n",
            "spark-3.1.2-bin-hadoop2.7/python/test_support/sql/orc_partitioned/b=1/c=1/\n",
            "spark-3.1.2-bin-hadoop2.7/python/test_support/sql/orc_partitioned/b=1/c=1/part-r-00000-829af031-b970-49d6-ad39-30460a0be2c8.orc\n",
            "spark-3.1.2-bin-hadoop2.7/python/test_support/sql/orc_partitioned/b=1/c=1/.part-r-00000-829af031-b970-49d6-ad39-30460a0be2c8.orc.crc\n",
            "spark-3.1.2-bin-hadoop2.7/python/test_support/sql/orc_partitioned/b=0/\n",
            "spark-3.1.2-bin-hadoop2.7/python/test_support/sql/orc_partitioned/b=0/c=0/\n",
            "spark-3.1.2-bin-hadoop2.7/python/test_support/sql/orc_partitioned/b=0/c=0/part-r-00000-829af031-b970-49d6-ad39-30460a0be2c8.orc\n",
            "spark-3.1.2-bin-hadoop2.7/python/test_support/sql/orc_partitioned/b=0/c=0/.part-r-00000-829af031-b970-49d6-ad39-30460a0be2c8.orc.crc\n",
            "spark-3.1.2-bin-hadoop2.7/python/test_support/sql/orc_partitioned/_SUCCESS\n",
            "spark-3.1.2-bin-hadoop2.7/python/test_support/sql/ages_newlines.csv\n",
            "spark-3.1.2-bin-hadoop2.7/python/test_support/sql/ages.csv\n",
            "spark-3.1.2-bin-hadoop2.7/python/test_support/hello/\n",
            "spark-3.1.2-bin-hadoop2.7/python/test_support/hello/sub_hello/\n",
            "spark-3.1.2-bin-hadoop2.7/python/test_support/hello/sub_hello/sub_hello.txt\n",
            "spark-3.1.2-bin-hadoop2.7/python/test_support/hello/hello.txt\n",
            "spark-3.1.2-bin-hadoop2.7/python/test_support/SimpleHTTPServer.py\n",
            "spark-3.1.2-bin-hadoop2.7/python/test_coverage/\n",
            "spark-3.1.2-bin-hadoop2.7/python/test_coverage/sitecustomize.py\n",
            "spark-3.1.2-bin-hadoop2.7/python/test_coverage/coverage_daemon.py\n",
            "spark-3.1.2-bin-hadoop2.7/python/test_coverage/conf/\n",
            "spark-3.1.2-bin-hadoop2.7/python/test_coverage/conf/spark-defaults.conf\n",
            "spark-3.1.2-bin-hadoop2.7/python/setup.cfg\n",
            "spark-3.1.2-bin-hadoop2.7/python/run-tests\n",
            "spark-3.1.2-bin-hadoop2.7/python/pyspark/\n",
            "spark-3.1.2-bin-hadoop2.7/python/pyspark/version.pyi\n",
            "spark-3.1.2-bin-hadoop2.7/python/pyspark/util.py\n",
            "spark-3.1.2-bin-hadoop2.7/python/pyspark/traceback_utils.py\n",
            "spark-3.1.2-bin-hadoop2.7/python/pyspark/tests/\n",
            "spark-3.1.2-bin-hadoop2.7/python/pyspark/tests/test_worker.py\n",
            "spark-3.1.2-bin-hadoop2.7/python/pyspark/tests/test_util.py\n",
            "spark-3.1.2-bin-hadoop2.7/python/pyspark/tests/test_taskcontext.py\n",
            "spark-3.1.2-bin-hadoop2.7/python/pyspark/tests/test_shuffle.py\n",
            "spark-3.1.2-bin-hadoop2.7/python/pyspark/tests/test_serializers.py\n",
            "spark-3.1.2-bin-hadoop2.7/python/pyspark/tests/test_readwrite.py\n",
            "spark-3.1.2-bin-hadoop2.7/python/pyspark/tests/test_rddbarrier.py\n",
            "spark-3.1.2-bin-hadoop2.7/python/pyspark/tests/test_rdd.py\n",
            "spark-3.1.2-bin-hadoop2.7/python/pyspark/tests/test_profiler.py\n",
            "spark-3.1.2-bin-hadoop2.7/python/pyspark/tests/test_pin_thread.py\n",
            "spark-3.1.2-bin-hadoop2.7/python/pyspark/tests/test_join.py\n",
            "spark-3.1.2-bin-hadoop2.7/python/pyspark/tests/test_install_spark.py\n",
            "spark-3.1.2-bin-hadoop2.7/python/pyspark/tests/test_daemon.py\n",
            "spark-3.1.2-bin-hadoop2.7/python/pyspark/tests/test_context.py\n",
            "spark-3.1.2-bin-hadoop2.7/python/pyspark/tests/test_conf.py\n",
            "spark-3.1.2-bin-hadoop2.7/python/pyspark/tests/test_broadcast.py\n",
            "spark-3.1.2-bin-hadoop2.7/python/pyspark/tests/test_appsubmit.py\n",
            "spark-3.1.2-bin-hadoop2.7/python/pyspark/tests/__init__.py\n",
            "spark-3.1.2-bin-hadoop2.7/python/pyspark/testing/\n",
            "spark-3.1.2-bin-hadoop2.7/python/pyspark/testing/streamingutils.py\n",
            "spark-3.1.2-bin-hadoop2.7/python/pyspark/testing/sqlutils.py\n",
            "spark-3.1.2-bin-hadoop2.7/python/pyspark/testing/mlutils.py\n",
            "spark-3.1.2-bin-hadoop2.7/python/pyspark/testing/mllibutils.py\n",
            "spark-3.1.2-bin-hadoop2.7/python/pyspark/testing/__init__.py\n",
            "spark-3.1.2-bin-hadoop2.7/python/pyspark/testing/utils.py\n",
            "spark-3.1.2-bin-hadoop2.7/python/pyspark/taskcontext.pyi\n",
            "spark-3.1.2-bin-hadoop2.7/python/pyspark/streaming/\n",
            "spark-3.1.2-bin-hadoop2.7/python/pyspark/streaming/util.py\n",
            "spark-3.1.2-bin-hadoop2.7/python/pyspark/streaming/tests/\n",
            "spark-3.1.2-bin-hadoop2.7/python/pyspark/streaming/tests/test_listener.py\n",
            "spark-3.1.2-bin-hadoop2.7/python/pyspark/streaming/tests/test_kinesis.py\n",
            "spark-3.1.2-bin-hadoop2.7/python/pyspark/streaming/tests/test_dstream.py\n",
            "spark-3.1.2-bin-hadoop2.7/python/pyspark/streaming/tests/test_context.py\n",
            "spark-3.1.2-bin-hadoop2.7/python/pyspark/streaming/tests/__init__.py\n",
            "spark-3.1.2-bin-hadoop2.7/python/pyspark/streaming/listener.pyi\n",
            "spark-3.1.2-bin-hadoop2.7/python/pyspark/streaming/listener.py\n",
            "spark-3.1.2-bin-hadoop2.7/python/pyspark/streaming/kinesis.pyi\n",
            "spark-3.1.2-bin-hadoop2.7/python/pyspark/streaming/kinesis.py\n",
            "spark-3.1.2-bin-hadoop2.7/python/pyspark/streaming/dstream.pyi\n",
            "spark-3.1.2-bin-hadoop2.7/python/pyspark/streaming/context.pyi\n",
            "spark-3.1.2-bin-hadoop2.7/python/pyspark/streaming/context.py\n",
            "spark-3.1.2-bin-hadoop2.7/python/pyspark/streaming/__init__.py\n",
            "spark-3.1.2-bin-hadoop2.7/python/pyspark/streaming/dstream.py\n",
            "spark-3.1.2-bin-hadoop2.7/python/pyspark/storagelevel.pyi\n",
            "spark-3.1.2-bin-hadoop2.7/python/pyspark/storagelevel.py\n",
            "spark-3.1.2-bin-hadoop2.7/python/pyspark/status.pyi\n",
            "spark-3.1.2-bin-hadoop2.7/python/pyspark/status.py\n",
            "spark-3.1.2-bin-hadoop2.7/python/pyspark/statcounter.pyi\n",
            "spark-3.1.2-bin-hadoop2.7/python/pyspark/statcounter.py\n",
            "spark-3.1.2-bin-hadoop2.7/python/pyspark/mllib/\n",
            "spark-3.1.2-bin-hadoop2.7/python/pyspark/mllib/stat/\n",
            "spark-3.1.2-bin-hadoop2.7/python/pyspark/mllib/stat/_statistics.py\n",
            "spark-3.1.2-bin-hadoop2.7/python/pyspark/mllib/stat/__init__.pyi\n",
            "spark-3.1.2-bin-hadoop2.7/python/pyspark/mllib/stat/__init__.py\n",
            "spark-3.1.2-bin-hadoop2.7/python/pyspark/mllib/stat/KernelDensity.pyi\n",
            "spark-3.1.2-bin-hadoop2.7/python/pyspark/mllib/stat/KernelDensity.py\n",
            "spark-3.1.2-bin-hadoop2.7/python/pyspark/mllib/stat/test.pyi\n",
            "spark-3.1.2-bin-hadoop2.7/python/pyspark/mllib/stat/test.py\n",
            "spark-3.1.2-bin-hadoop2.7/python/pyspark/mllib/stat/distribution.pyi\n",
            "spark-3.1.2-bin-hadoop2.7/python/pyspark/mllib/stat/distribution.py\n",
            "spark-3.1.2-bin-hadoop2.7/python/pyspark/mllib/stat/_statistics.pyi\n",
            "spark-3.1.2-bin-hadoop2.7/python/pyspark/mllib/regression.pyi\n",
            "spark-3.1.2-bin-hadoop2.7/python/pyspark/mllib/recommendation.pyi\n",
            "spark-3.1.2-bin-hadoop2.7/python/pyspark/mllib/recommendation.py\n",
            "spark-3.1.2-bin-hadoop2.7/python/pyspark/mllib/random.pyi\n",
            "spark-3.1.2-bin-hadoop2.7/python/pyspark/mllib/random.py\n",
            "spark-3.1.2-bin-hadoop2.7/python/pyspark/mllib/linalg/\n",
            "spark-3.1.2-bin-hadoop2.7/python/pyspark/mllib/linalg/distributed.pyi\n",
            "spark-3.1.2-bin-hadoop2.7/python/pyspark/mllib/linalg/__init__.pyi\n",
            "spark-3.1.2-bin-hadoop2.7/python/pyspark/mllib/linalg/__init__.py\n",
            "spark-3.1.2-bin-hadoop2.7/python/pyspark/mllib/linalg/distributed.py\n",
            "spark-3.1.2-bin-hadoop2.7/python/pyspark/mllib/fpm.pyi\n",
            "spark-3.1.2-bin-hadoop2.7/python/pyspark/mllib/fpm.py\n",
            "spark-3.1.2-bin-hadoop2.7/python/pyspark/mllib/feature.pyi\n",
            "spark-3.1.2-bin-hadoop2.7/python/pyspark/mllib/feature.py\n",
            "spark-3.1.2-bin-hadoop2.7/python/pyspark/mllib/evaluation.pyi\n",
            "spark-3.1.2-bin-hadoop2.7/python/pyspark/mllib/evaluation.py\n",
            "spark-3.1.2-bin-hadoop2.7/python/pyspark/mllib/common.pyi\n",
            "spark-3.1.2-bin-hadoop2.7/python/pyspark/mllib/common.py\n",
            "spark-3.1.2-bin-hadoop2.7/python/pyspark/mllib/clustering.pyi\n",
            "spark-3.1.2-bin-hadoop2.7/python/pyspark/mllib/classification.pyi\n",
            "spark-3.1.2-bin-hadoop2.7/python/pyspark/mllib/_typing.pyi\n",
            "spark-3.1.2-bin-hadoop2.7/python/pyspark/mllib/__init__.py\n",
            "spark-3.1.2-bin-hadoop2.7/python/pyspark/mllib/util.pyi\n",
            "spark-3.1.2-bin-hadoop2.7/python/pyspark/mllib/util.py\n",
            "spark-3.1.2-bin-hadoop2.7/python/pyspark/mllib/tree.pyi\n",
            "spark-3.1.2-bin-hadoop2.7/python/pyspark/mllib/tree.py\n",
            "spark-3.1.2-bin-hadoop2.7/python/pyspark/mllib/tests/\n",
            "spark-3.1.2-bin-hadoop2.7/python/pyspark/mllib/tests/test_util.py\n",
            "spark-3.1.2-bin-hadoop2.7/python/pyspark/mllib/tests/test_streaming_algorithms.py\n",
            "spark-3.1.2-bin-hadoop2.7/python/pyspark/mllib/tests/test_stat.py\n",
            "spark-3.1.2-bin-hadoop2.7/python/pyspark/mllib/tests/test_feature.py\n",
            "spark-3.1.2-bin-hadoop2.7/python/pyspark/mllib/tests/test_algorithms.py\n",
            "spark-3.1.2-bin-hadoop2.7/python/pyspark/mllib/tests/__init__.py\n",
            "spark-3.1.2-bin-hadoop2.7/python/pyspark/mllib/tests/test_linalg.py\n",
            "spark-3.1.2-bin-hadoop2.7/python/pyspark/mllib/regression.py\n",
            "spark-3.1.2-bin-hadoop2.7/python/pyspark/mllib/clustering.py\n",
            "spark-3.1.2-bin-hadoop2.7/python/pyspark/mllib/classification.py\n",
            "spark-3.1.2-bin-hadoop2.7/python/pyspark/ml/\n",
            "spark-3.1.2-bin-hadoop2.7/python/pyspark/ml/wrapper.pyi\n",
            "spark-3.1.2-bin-hadoop2.7/python/pyspark/ml/wrapper.py\n",
            "spark-3.1.2-bin-hadoop2.7/python/pyspark/ml/util.pyi\n",
            "spark-3.1.2-bin-hadoop2.7/python/pyspark/ml/util.py\n",
            "spark-3.1.2-bin-hadoop2.7/python/pyspark/ml/tree.pyi\n",
            "spark-3.1.2-bin-hadoop2.7/python/pyspark/ml/tests/\n",
            "spark-3.1.2-bin-hadoop2.7/python/pyspark/ml/tests/test_wrapper.py\n",
            "spark-3.1.2-bin-hadoop2.7/python/pyspark/ml/tests/test_util.py\n",
            "spark-3.1.2-bin-hadoop2.7/python/pyspark/ml/tests/test_stat.py\n",
            "spark-3.1.2-bin-hadoop2.7/python/pyspark/ml/tests/test_pipeline.py\n",
            "spark-3.1.2-bin-hadoop2.7/python/pyspark/ml/tests/test_persistence.py\n",
            "spark-3.1.2-bin-hadoop2.7/python/pyspark/ml/tests/test_linalg.py\n",
            "spark-3.1.2-bin-hadoop2.7/python/pyspark/ml/tests/test_image.py\n",
            "spark-3.1.2-bin-hadoop2.7/python/pyspark/ml/tests/test_feature.py\n",
            "spark-3.1.2-bin-hadoop2.7/python/pyspark/ml/tests/test_algorithms.py\n",
            "spark-3.1.2-bin-hadoop2.7/python/pyspark/ml/tests/__init__.py\n",
            "spark-3.1.2-bin-hadoop2.7/python/pyspark/ml/tests/test_tuning.py\n",
            "spark-3.1.2-bin-hadoop2.7/python/pyspark/ml/tests/test_training_summary.py\n",
            "spark-3.1.2-bin-hadoop2.7/python/pyspark/ml/tests/test_param.py\n",
            "spark-3.1.2-bin-hadoop2.7/python/pyspark/ml/tests/test_evaluation.py\n",
            "spark-3.1.2-bin-hadoop2.7/python/pyspark/ml/tests/test_base.py\n",
            "spark-3.1.2-bin-hadoop2.7/python/pyspark/ml/stat.pyi\n",
            "spark-3.1.2-bin-hadoop2.7/python/pyspark/ml/stat.py\n",
            "spark-3.1.2-bin-hadoop2.7/python/pyspark/ml/regression.pyi\n",
            "spark-3.1.2-bin-hadoop2.7/python/pyspark/ml/recommendation.pyi\n",
            "spark-3.1.2-bin-hadoop2.7/python/pyspark/ml/pipeline.pyi\n",
            "spark-3.1.2-bin-hadoop2.7/python/pyspark/ml/pipeline.py\n",
            "spark-3.1.2-bin-hadoop2.7/python/pyspark/ml/param/\n",
            "spark-3.1.2-bin-hadoop2.7/python/pyspark/ml/param/shared.pyi\n",
            "spark-3.1.2-bin-hadoop2.7/python/pyspark/ml/param/shared.py\n",
            "spark-3.1.2-bin-hadoop2.7/python/pyspark/ml/param/_shared_params_code_gen.pyi\n",
            "spark-3.1.2-bin-hadoop2.7/python/pyspark/ml/param/_shared_params_code_gen.py\n",
            "spark-3.1.2-bin-hadoop2.7/python/pyspark/ml/param/__init__.pyi\n",
            "spark-3.1.2-bin-hadoop2.7/python/pyspark/ml/param/__init__.py\n",
            "spark-3.1.2-bin-hadoop2.7/python/pyspark/ml/linalg/\n",
            "spark-3.1.2-bin-hadoop2.7/python/pyspark/ml/linalg/__init__.pyi\n",
            "spark-3.1.2-bin-hadoop2.7/python/pyspark/ml/linalg/__init__.py\n",
            "spark-3.1.2-bin-hadoop2.7/python/pyspark/ml/image.pyi\n",
            "spark-3.1.2-bin-hadoop2.7/python/pyspark/ml/image.py\n",
            "spark-3.1.2-bin-hadoop2.7/python/pyspark/ml/functions.pyi\n",
            "spark-3.1.2-bin-hadoop2.7/python/pyspark/ml/fpm.pyi\n",
            "spark-3.1.2-bin-hadoop2.7/python/pyspark/ml/feature.pyi\n",
            "spark-3.1.2-bin-hadoop2.7/python/pyspark/ml/evaluation.pyi\n",
            "spark-3.1.2-bin-hadoop2.7/python/pyspark/ml/common.pyi\n",
            "spark-3.1.2-bin-hadoop2.7/python/pyspark/ml/common.py\n",
            "spark-3.1.2-bin-hadoop2.7/python/pyspark/ml/clustering.pyi\n",
            "spark-3.1.2-bin-hadoop2.7/python/pyspark/ml/classification.pyi\n",
            "spark-3.1.2-bin-hadoop2.7/python/pyspark/ml/base.pyi\n",
            "spark-3.1.2-bin-hadoop2.7/python/pyspark/ml/_typing.pyi\n",
            "spark-3.1.2-bin-hadoop2.7/python/pyspark/ml/__init__.py\n",
            "spark-3.1.2-bin-hadoop2.7/python/pyspark/ml/tuning.pyi\n",
            "spark-3.1.2-bin-hadoop2.7/python/pyspark/ml/tuning.py\n",
            "spark-3.1.2-bin-hadoop2.7/python/pyspark/ml/tree.py\n",
            "spark-3.1.2-bin-hadoop2.7/python/pyspark/ml/regression.py\n",
            "spark-3.1.2-bin-hadoop2.7/python/pyspark/ml/recommendation.py\n",
            "spark-3.1.2-bin-hadoop2.7/python/pyspark/ml/functions.py\n",
            "spark-3.1.2-bin-hadoop2.7/python/pyspark/ml/fpm.py\n",
            "spark-3.1.2-bin-hadoop2.7/python/pyspark/ml/feature.py\n",
            "spark-3.1.2-bin-hadoop2.7/python/pyspark/ml/evaluation.py\n",
            "spark-3.1.2-bin-hadoop2.7/python/pyspark/ml/clustering.py\n",
            "spark-3.1.2-bin-hadoop2.7/python/pyspark/ml/classification.py\n",
            "spark-3.1.2-bin-hadoop2.7/python/pyspark/ml/base.py\n",
            "spark-3.1.2-bin-hadoop2.7/python/pyspark/join.py\n",
            "spark-3.1.2-bin-hadoop2.7/python/pyspark/java_gateway.py\n",
            "spark-3.1.2-bin-hadoop2.7/python/pyspark/install.py\n",
            "spark-3.1.2-bin-hadoop2.7/python/pyspark/find_spark_home.py\n",
            "spark-3.1.2-bin-hadoop2.7/python/pyspark/files.pyi\n",
            "spark-3.1.2-bin-hadoop2.7/python/pyspark/files.py\n",
            "spark-3.1.2-bin-hadoop2.7/python/pyspark/daemon.py\n",
            "spark-3.1.2-bin-hadoop2.7/python/pyspark/context.pyi\n",
            "spark-3.1.2-bin-hadoop2.7/python/pyspark/context.py\n",
            "spark-3.1.2-bin-hadoop2.7/python/pyspark/conf.pyi\n",
            "spark-3.1.2-bin-hadoop2.7/python/pyspark/conf.py\n",
            "spark-3.1.2-bin-hadoop2.7/python/pyspark/cloudpickle/\n",
            "spark-3.1.2-bin-hadoop2.7/python/pyspark/cloudpickle/compat.py\n",
            "spark-3.1.2-bin-hadoop2.7/python/pyspark/cloudpickle/cloudpickle_fast.py\n",
            "spark-3.1.2-bin-hadoop2.7/python/pyspark/cloudpickle/cloudpickle.py\n",
            "spark-3.1.2-bin-hadoop2.7/python/pyspark/cloudpickle/__init__.py\n",
            "spark-3.1.2-bin-hadoop2.7/python/pyspark/broadcast.pyi\n",
            "spark-3.1.2-bin-hadoop2.7/python/pyspark/broadcast.py\n",
            "spark-3.1.2-bin-hadoop2.7/python/pyspark/accumulators.pyi\n",
            "spark-3.1.2-bin-hadoop2.7/python/pyspark/accumulators.py\n",
            "spark-3.1.2-bin-hadoop2.7/python/pyspark/_typing.pyi\n",
            "spark-3.1.2-bin-hadoop2.7/python/pyspark/_globals.py\n",
            "spark-3.1.2-bin-hadoop2.7/python/pyspark/__init__.pyi\n",
            "spark-3.1.2-bin-hadoop2.7/python/pyspark/__init__.py\n",
            "spark-3.1.2-bin-hadoop2.7/python/pyspark/sql/\n",
            "spark-3.1.2-bin-hadoop2.7/python/pyspark/sql/window.pyi\n",
            "spark-3.1.2-bin-hadoop2.7/python/pyspark/sql/window.py\n",
            "spark-3.1.2-bin-hadoop2.7/python/pyspark/sql/utils.py\n",
            "spark-3.1.2-bin-hadoop2.7/python/pyspark/sql/udf.pyi\n",
            "spark-3.1.2-bin-hadoop2.7/python/pyspark/sql/types.pyi\n",
            "spark-3.1.2-bin-hadoop2.7/python/pyspark/sql/types.py\n",
            "spark-3.1.2-bin-hadoop2.7/python/pyspark/sql/tests/\n",
            "spark-3.1.2-bin-hadoop2.7/python/pyspark/sql/tests/test_utils.py\n",
            "spark-3.1.2-bin-hadoop2.7/python/pyspark/sql/tests/test_udf.py\n",
            "spark-3.1.2-bin-hadoop2.7/python/pyspark/sql/tests/test_types.py\n",
            "spark-3.1.2-bin-hadoop2.7/python/pyspark/sql/tests/test_streaming.py\n",
            "spark-3.1.2-bin-hadoop2.7/python/pyspark/sql/tests/test_session.py\n",
            "spark-3.1.2-bin-hadoop2.7/python/pyspark/sql/tests/test_serde.py\n",
            "spark-3.1.2-bin-hadoop2.7/python/pyspark/sql/tests/test_readwriter.py\n",
            "spark-3.1.2-bin-hadoop2.7/python/pyspark/sql/tests/test_pandas_udf_window.py\n",
            "spark-3.1.2-bin-hadoop2.7/python/pyspark/sql/tests/test_pandas_udf_typehints.py\n",
            "spark-3.1.2-bin-hadoop2.7/python/pyspark/sql/tests/test_pandas_udf_scalar.py\n",
            "spark-3.1.2-bin-hadoop2.7/python/pyspark/sql/tests/test_pandas_udf_grouped_agg.py\n",
            "spark-3.1.2-bin-hadoop2.7/python/pyspark/sql/tests/test_pandas_udf.py\n",
            "spark-3.1.2-bin-hadoop2.7/python/pyspark/sql/tests/test_pandas_map.py\n",
            "spark-3.1.2-bin-hadoop2.7/python/pyspark/sql/tests/test_pandas_cogrouped_map.py\n",
            "spark-3.1.2-bin-hadoop2.7/python/pyspark/sql/tests/test_datasources.py\n",
            "spark-3.1.2-bin-hadoop2.7/python/pyspark/sql/tests/test_context.py\n",
            "spark-3.1.2-bin-hadoop2.7/python/pyspark/sql/tests/test_conf.py\n",
            "spark-3.1.2-bin-hadoop2.7/python/pyspark/sql/tests/test_catalog.py\n",
            "spark-3.1.2-bin-hadoop2.7/python/pyspark/sql/tests/__init__.py\n",
            "spark-3.1.2-bin-hadoop2.7/python/pyspark/sql/tests/test_pandas_grouped_map.py\n",
            "spark-3.1.2-bin-hadoop2.7/python/pyspark/sql/tests/test_group.py\n",
            "spark-3.1.2-bin-hadoop2.7/python/pyspark/sql/tests/test_functions.py\n",
            "spark-3.1.2-bin-hadoop2.7/python/pyspark/sql/tests/test_dataframe.py\n",
            "spark-3.1.2-bin-hadoop2.7/python/pyspark/sql/tests/test_column.py\n",
            "spark-3.1.2-bin-hadoop2.7/python/pyspark/sql/tests/test_arrow.py\n",
            "spark-3.1.2-bin-hadoop2.7/python/pyspark/sql/streaming.pyi\n",
            "spark-3.1.2-bin-hadoop2.7/python/pyspark/sql/session.pyi\n",
            "spark-3.1.2-bin-hadoop2.7/python/pyspark/sql/readwriter.pyi\n",
            "spark-3.1.2-bin-hadoop2.7/python/pyspark/sql/pandas/\n",
            "spark-3.1.2-bin-hadoop2.7/python/pyspark/sql/pandas/utils.py\n",
            "spark-3.1.2-bin-hadoop2.7/python/pyspark/sql/pandas/typehints.py\n",
            "spark-3.1.2-bin-hadoop2.7/python/pyspark/sql/pandas/serializers.py\n",
            "spark-3.1.2-bin-hadoop2.7/python/pyspark/sql/pandas/map_ops.pyi\n",
            "spark-3.1.2-bin-hadoop2.7/python/pyspark/sql/pandas/map_ops.py\n",
            "spark-3.1.2-bin-hadoop2.7/python/pyspark/sql/pandas/group_ops.pyi\n",
            "spark-3.1.2-bin-hadoop2.7/python/pyspark/sql/pandas/group_ops.py\n",
            "spark-3.1.2-bin-hadoop2.7/python/pyspark/sql/pandas/functions.pyi\n",
            "spark-3.1.2-bin-hadoop2.7/python/pyspark/sql/pandas/functions.py\n",
            "spark-3.1.2-bin-hadoop2.7/python/pyspark/sql/pandas/conversion.pyi\n",
            "spark-3.1.2-bin-hadoop2.7/python/pyspark/sql/pandas/_typing/\n",
            "spark-3.1.2-bin-hadoop2.7/python/pyspark/sql/pandas/_typing/protocols/\n",
            "spark-3.1.2-bin-hadoop2.7/python/pyspark/sql/pandas/_typing/protocols/series.pyi\n",
            "spark-3.1.2-bin-hadoop2.7/python/pyspark/sql/pandas/_typing/protocols/frame.pyi\n",
            "spark-3.1.2-bin-hadoop2.7/python/pyspark/sql/pandas/_typing/protocols/__init__.pyi\n",
            "spark-3.1.2-bin-hadoop2.7/python/pyspark/sql/pandas/_typing/__init__.pyi\n",
            "spark-3.1.2-bin-hadoop2.7/python/pyspark/sql/pandas/__init__.py\n",
            "spark-3.1.2-bin-hadoop2.7/python/pyspark/sql/pandas/types.py\n",
            "spark-3.1.2-bin-hadoop2.7/python/pyspark/sql/pandas/conversion.py\n",
            "spark-3.1.2-bin-hadoop2.7/python/pyspark/sql/group.pyi\n",
            "spark-3.1.2-bin-hadoop2.7/python/pyspark/sql/group.py\n",
            "spark-3.1.2-bin-hadoop2.7/python/pyspark/sql/dataframe.pyi\n",
            "spark-3.1.2-bin-hadoop2.7/python/pyspark/sql/context.pyi\n",
            "spark-3.1.2-bin-hadoop2.7/python/pyspark/sql/conf.pyi\n",
            "spark-3.1.2-bin-hadoop2.7/python/pyspark/sql/conf.py\n",
            "spark-3.1.2-bin-hadoop2.7/python/pyspark/sql/column.pyi\n",
            "spark-3.1.2-bin-hadoop2.7/python/pyspark/sql/catalog.pyi\n",
            "spark-3.1.2-bin-hadoop2.7/python/pyspark/sql/avro/\n",
            "spark-3.1.2-bin-hadoop2.7/python/pyspark/sql/avro/__init__.py\n",
            "spark-3.1.2-bin-hadoop2.7/python/pyspark/sql/avro/functions.pyi\n",
            "spark-3.1.2-bin-hadoop2.7/python/pyspark/sql/avro/functions.py\n",
            "spark-3.1.2-bin-hadoop2.7/python/pyspark/sql/_typing.pyi\n",
            "spark-3.1.2-bin-hadoop2.7/python/pyspark/sql/__init__.pyi\n",
            "spark-3.1.2-bin-hadoop2.7/python/pyspark/sql/__init__.py\n",
            "spark-3.1.2-bin-hadoop2.7/python/pyspark/sql/udf.py\n",
            "spark-3.1.2-bin-hadoop2.7/python/pyspark/sql/streaming.py\n",
            "spark-3.1.2-bin-hadoop2.7/python/pyspark/sql/session.py\n",
            "spark-3.1.2-bin-hadoop2.7/python/pyspark/sql/readwriter.py\n",
            "spark-3.1.2-bin-hadoop2.7/python/pyspark/sql/functions.pyi\n",
            "spark-3.1.2-bin-hadoop2.7/python/pyspark/sql/functions.py\n",
            "spark-3.1.2-bin-hadoop2.7/python/pyspark/sql/dataframe.py\n",
            "spark-3.1.2-bin-hadoop2.7/python/pyspark/sql/context.py\n",
            "spark-3.1.2-bin-hadoop2.7/python/pyspark/sql/column.py\n",
            "spark-3.1.2-bin-hadoop2.7/python/pyspark/sql/catalog.py\n",
            "spark-3.1.2-bin-hadoop2.7/python/pyspark/shuffle.py\n",
            "spark-3.1.2-bin-hadoop2.7/python/pyspark/shell.py\n",
            "spark-3.1.2-bin-hadoop2.7/python/pyspark/serializers.py\n",
            "spark-3.1.2-bin-hadoop2.7/python/pyspark/resultiterable.pyi\n",
            "spark-3.1.2-bin-hadoop2.7/python/pyspark/resultiterable.py\n",
            "spark-3.1.2-bin-hadoop2.7/python/pyspark/resource/\n",
            "spark-3.1.2-bin-hadoop2.7/python/pyspark/resource/tests/\n",
            "spark-3.1.2-bin-hadoop2.7/python/pyspark/resource/tests/test_resources.py\n",
            "spark-3.1.2-bin-hadoop2.7/python/pyspark/resource/tests/__init__.py\n",
            "spark-3.1.2-bin-hadoop2.7/python/pyspark/resource/requests.pyi\n",
            "spark-3.1.2-bin-hadoop2.7/python/pyspark/resource/requests.py\n",
            "spark-3.1.2-bin-hadoop2.7/python/pyspark/resource/information.pyi\n",
            "spark-3.1.2-bin-hadoop2.7/python/pyspark/resource/information.py\n",
            "spark-3.1.2-bin-hadoop2.7/python/pyspark/resource/__init__.py\n",
            "spark-3.1.2-bin-hadoop2.7/python/pyspark/resource/profile.pyi\n",
            "spark-3.1.2-bin-hadoop2.7/python/pyspark/resource/profile.py\n",
            "spark-3.1.2-bin-hadoop2.7/python/pyspark/rddsampler.py\n",
            "spark-3.1.2-bin-hadoop2.7/python/pyspark/rdd.pyi\n",
            "spark-3.1.2-bin-hadoop2.7/python/pyspark/py.typed\n",
            "spark-3.1.2-bin-hadoop2.7/python/pyspark/profiler.pyi\n",
            "spark-3.1.2-bin-hadoop2.7/python/pyspark/profiler.py\n",
            "spark-3.1.2-bin-hadoop2.7/python/pyspark/worker.py\n",
            "spark-3.1.2-bin-hadoop2.7/python/pyspark/version.py\n",
            "spark-3.1.2-bin-hadoop2.7/python/pyspark/taskcontext.py\n",
            "spark-3.1.2-bin-hadoop2.7/python/pyspark/rdd.py\n",
            "spark-3.1.2-bin-hadoop2.7/python/pylintrc\n",
            "spark-3.1.2-bin-hadoop2.7/python/lib/\n",
            "spark-3.1.2-bin-hadoop2.7/python/lib/PY4J_LICENSE.txt\n",
            "spark-3.1.2-bin-hadoop2.7/python/lib/py4j-0.10.9-src.zip\n",
            "spark-3.1.2-bin-hadoop2.7/python/lib/pyspark.zip\n",
            "spark-3.1.2-bin-hadoop2.7/python/docs/\n",
            "spark-3.1.2-bin-hadoop2.7/python/docs/source/\n",
            "spark-3.1.2-bin-hadoop2.7/python/docs/source/user_guide/\n",
            "spark-3.1.2-bin-hadoop2.7/python/docs/source/user_guide/python_packaging.rst\n",
            "spark-3.1.2-bin-hadoop2.7/python/docs/source/user_guide/index.rst\n",
            "spark-3.1.2-bin-hadoop2.7/python/docs/source/user_guide/arrow_pandas.rst\n",
            "spark-3.1.2-bin-hadoop2.7/python/docs/source/reference/\n",
            "spark-3.1.2-bin-hadoop2.7/python/docs/source/reference/pyspark.streaming.rst\n",
            "spark-3.1.2-bin-hadoop2.7/python/docs/source/reference/pyspark.ss.rst\n",
            "spark-3.1.2-bin-hadoop2.7/python/docs/source/reference/pyspark.rst\n",
            "spark-3.1.2-bin-hadoop2.7/python/docs/source/reference/pyspark.resource.rst\n",
            "spark-3.1.2-bin-hadoop2.7/python/docs/source/reference/pyspark.mllib.rst\n",
            "spark-3.1.2-bin-hadoop2.7/python/docs/source/reference/index.rst\n",
            "spark-3.1.2-bin-hadoop2.7/python/docs/source/reference/pyspark.sql.rst\n",
            "spark-3.1.2-bin-hadoop2.7/python/docs/source/reference/pyspark.ml.rst\n",
            "spark-3.1.2-bin-hadoop2.7/python/docs/source/migration_guide/\n",
            "spark-3.1.2-bin-hadoop2.7/python/docs/source/migration_guide/pyspark_2.3_to_2.4.rst\n",
            "spark-3.1.2-bin-hadoop2.7/python/docs/source/migration_guide/pyspark_2.3.0_to_2.3.1_above.rst\n",
            "spark-3.1.2-bin-hadoop2.7/python/docs/source/migration_guide/pyspark_2.2_to_2.3.rst\n",
            "spark-3.1.2-bin-hadoop2.7/python/docs/source/migration_guide/pyspark_1.4_to_1.5.rst\n",
            "spark-3.1.2-bin-hadoop2.7/python/docs/source/migration_guide/pyspark_1.0_1.2_to_1.3.rst\n",
            "spark-3.1.2-bin-hadoop2.7/python/docs/source/migration_guide/pyspark_2.4_to_3.0.rst\n",
            "spark-3.1.2-bin-hadoop2.7/python/docs/source/migration_guide/index.rst\n",
            "spark-3.1.2-bin-hadoop2.7/python/docs/source/getting_started/\n",
            "spark-3.1.2-bin-hadoop2.7/python/docs/source/getting_started/quickstart.ipynb\n",
            "spark-3.1.2-bin-hadoop2.7/python/docs/source/getting_started/index.rst\n",
            "spark-3.1.2-bin-hadoop2.7/python/docs/source/getting_started/install.rst\n",
            "spark-3.1.2-bin-hadoop2.7/python/docs/source/development/\n",
            "spark-3.1.2-bin-hadoop2.7/python/docs/source/development/testing.rst\n",
            "spark-3.1.2-bin-hadoop2.7/python/docs/source/development/setting_ide.rst\n",
            "spark-3.1.2-bin-hadoop2.7/python/docs/source/development/index.rst\n",
            "spark-3.1.2-bin-hadoop2.7/python/docs/source/development/debugging.rst\n",
            "spark-3.1.2-bin-hadoop2.7/python/docs/source/development/contributing.rst\n",
            "spark-3.1.2-bin-hadoop2.7/python/docs/source/_templates/\n",
            "spark-3.1.2-bin-hadoop2.7/python/docs/source/_templates/autosummary/\n",
            "spark-3.1.2-bin-hadoop2.7/python/docs/source/_templates/autosummary/class_with_docs.rst\n",
            "spark-3.1.2-bin-hadoop2.7/python/docs/source/_templates/autosummary/class.rst\n",
            "spark-3.1.2-bin-hadoop2.7/python/docs/source/_static/\n",
            "spark-3.1.2-bin-hadoop2.7/python/docs/source/_static/css/\n",
            "spark-3.1.2-bin-hadoop2.7/python/docs/source/_static/css/pyspark.css\n",
            "spark-3.1.2-bin-hadoop2.7/python/docs/source/_static/copybutton.js\n",
            "spark-3.1.2-bin-hadoop2.7/python/docs/source/index.rst\n",
            "spark-3.1.2-bin-hadoop2.7/python/docs/source/conf.py\n",
            "spark-3.1.2-bin-hadoop2.7/python/docs/make.bat\n",
            "spark-3.1.2-bin-hadoop2.7/python/docs/make2.bat\n",
            "spark-3.1.2-bin-hadoop2.7/python/docs/Makefile\n",
            "spark-3.1.2-bin-hadoop2.7/python/README.md\n",
            "spark-3.1.2-bin-hadoop2.7/python/MANIFEST.in\n",
            "spark-3.1.2-bin-hadoop2.7/python/.gitignore\n",
            "spark-3.1.2-bin-hadoop2.7/python/.coveragerc\n",
            "spark-3.1.2-bin-hadoop2.7/python/setup.py\n",
            "spark-3.1.2-bin-hadoop2.7/python/run-tests.py\n",
            "spark-3.1.2-bin-hadoop2.7/python/run-tests-with-coverage\n",
            "spark-3.1.2-bin-hadoop2.7/python/mypy.ini\n",
            "spark-3.1.2-bin-hadoop2.7/bin/\n",
            "spark-3.1.2-bin-hadoop2.7/bin/sparkR2.cmd\n",
            "spark-3.1.2-bin-hadoop2.7/bin/sparkR.cmd\n",
            "spark-3.1.2-bin-hadoop2.7/bin/sparkR\n",
            "spark-3.1.2-bin-hadoop2.7/bin/spark-submit2.cmd\n",
            "spark-3.1.2-bin-hadoop2.7/bin/spark-submit.cmd\n",
            "spark-3.1.2-bin-hadoop2.7/bin/spark-submit\n",
            "spark-3.1.2-bin-hadoop2.7/bin/spark-sql2.cmd\n",
            "spark-3.1.2-bin-hadoop2.7/bin/spark-sql.cmd\n",
            "spark-3.1.2-bin-hadoop2.7/bin/spark-sql\n",
            "spark-3.1.2-bin-hadoop2.7/bin/spark-shell2.cmd\n",
            "spark-3.1.2-bin-hadoop2.7/bin/spark-shell.cmd\n",
            "spark-3.1.2-bin-hadoop2.7/bin/spark-shell\n",
            "spark-3.1.2-bin-hadoop2.7/bin/spark-class2.cmd\n",
            "spark-3.1.2-bin-hadoop2.7/bin/spark-class.cmd\n",
            "spark-3.1.2-bin-hadoop2.7/bin/spark-class\n",
            "spark-3.1.2-bin-hadoop2.7/bin/run-example.cmd\n",
            "spark-3.1.2-bin-hadoop2.7/bin/run-example\n",
            "spark-3.1.2-bin-hadoop2.7/bin/pyspark.cmd\n",
            "spark-3.1.2-bin-hadoop2.7/bin/load-spark-env.sh\n",
            "spark-3.1.2-bin-hadoop2.7/bin/load-spark-env.cmd\n",
            "spark-3.1.2-bin-hadoop2.7/bin/find-spark-home.cmd\n",
            "spark-3.1.2-bin-hadoop2.7/bin/find-spark-home\n",
            "spark-3.1.2-bin-hadoop2.7/bin/docker-image-tool.sh\n",
            "spark-3.1.2-bin-hadoop2.7/bin/beeline.cmd\n",
            "spark-3.1.2-bin-hadoop2.7/bin/beeline\n",
            "spark-3.1.2-bin-hadoop2.7/bin/pyspark2.cmd\n",
            "spark-3.1.2-bin-hadoop2.7/bin/pyspark\n",
            "spark-3.1.2-bin-hadoop2.7/README.md\n",
            "spark-3.1.2-bin-hadoop2.7/conf/\n",
            "spark-3.1.2-bin-hadoop2.7/conf/workers.template\n",
            "spark-3.1.2-bin-hadoop2.7/conf/spark-env.sh.template\n",
            "spark-3.1.2-bin-hadoop2.7/conf/spark-defaults.conf.template\n",
            "spark-3.1.2-bin-hadoop2.7/conf/metrics.properties.template\n",
            "spark-3.1.2-bin-hadoop2.7/conf/log4j.properties.template\n",
            "spark-3.1.2-bin-hadoop2.7/conf/fairscheduler.xml.template\n",
            "spark-3.1.2-bin-hadoop2.7/data/\n",
            "spark-3.1.2-bin-hadoop2.7/data/streaming/\n",
            "spark-3.1.2-bin-hadoop2.7/data/streaming/AFINN-111.txt\n",
            "spark-3.1.2-bin-hadoop2.7/data/mllib/\n",
            "spark-3.1.2-bin-hadoop2.7/data/mllib/streaming_kmeans_data_test.txt\n",
            "spark-3.1.2-bin-hadoop2.7/data/mllib/sample_svm_data.txt\n",
            "spark-3.1.2-bin-hadoop2.7/data/mllib/sample_multiclass_classification_data.txt\n",
            "spark-3.1.2-bin-hadoop2.7/data/mllib/sample_movielens_data.txt\n",
            "spark-3.1.2-bin-hadoop2.7/data/mllib/sample_linear_regression_data.txt\n",
            "spark-3.1.2-bin-hadoop2.7/data/mllib/sample_libsvm_data.txt\n",
            "spark-3.1.2-bin-hadoop2.7/data/mllib/sample_lda_libsvm_data.txt\n",
            "spark-3.1.2-bin-hadoop2.7/data/mllib/sample_lda_data.txt\n",
            "spark-3.1.2-bin-hadoop2.7/data/mllib/sample_kmeans_data.txt\n",
            "spark-3.1.2-bin-hadoop2.7/data/mllib/sample_isotonic_regression_libsvm_data.txt\n",
            "spark-3.1.2-bin-hadoop2.7/data/mllib/sample_fpgrowth.txt\n",
            "spark-3.1.2-bin-hadoop2.7/data/mllib/sample_binary_classification_data.txt\n",
            "spark-3.1.2-bin-hadoop2.7/data/mllib/ridge-data/\n",
            "spark-3.1.2-bin-hadoop2.7/data/mllib/ridge-data/lpsa.data\n",
            "spark-3.1.2-bin-hadoop2.7/data/mllib/pic_data.txt\n",
            "spark-3.1.2-bin-hadoop2.7/data/mllib/pagerank_data.txt\n",
            "spark-3.1.2-bin-hadoop2.7/data/mllib/kmeans_data.txt\n",
            "spark-3.1.2-bin-hadoop2.7/data/mllib/iris_libsvm.txt\n",
            "spark-3.1.2-bin-hadoop2.7/data/mllib/images/\n",
            "spark-3.1.2-bin-hadoop2.7/data/mllib/images/partitioned/\n",
            "spark-3.1.2-bin-hadoop2.7/data/mllib/images/partitioned/cls=multichannel/\n",
            "spark-3.1.2-bin-hadoop2.7/data/mllib/images/partitioned/cls=multichannel/date=2018-02/\n",
            "spark-3.1.2-bin-hadoop2.7/data/mllib/images/partitioned/cls=multichannel/date=2018-02/grayscale.jpg\n",
            "spark-3.1.2-bin-hadoop2.7/data/mllib/images/partitioned/cls=multichannel/date=2018-02/chr30.4.184.jpg\n",
            "spark-3.1.2-bin-hadoop2.7/data/mllib/images/partitioned/cls=multichannel/date=2018-01/\n",
            "spark-3.1.2-bin-hadoop2.7/data/mllib/images/partitioned/cls=multichannel/date=2018-01/BGRA_alpha_60.png\n",
            "spark-3.1.2-bin-hadoop2.7/data/mllib/images/partitioned/cls=multichannel/date=2018-01/BGRA.png\n",
            "spark-3.1.2-bin-hadoop2.7/data/mllib/images/partitioned/cls=kittens/\n",
            "spark-3.1.2-bin-hadoop2.7/data/mllib/images/partitioned/cls=kittens/date=2018-02/\n",
            "spark-3.1.2-bin-hadoop2.7/data/mllib/images/partitioned/cls=kittens/date=2018-02/DP802813.jpg\n",
            "spark-3.1.2-bin-hadoop2.7/data/mllib/images/partitioned/cls=kittens/date=2018-02/DP153539.jpg\n",
            "spark-3.1.2-bin-hadoop2.7/data/mllib/images/partitioned/cls=kittens/date=2018-02/54893.jpg\n",
            "spark-3.1.2-bin-hadoop2.7/data/mllib/images/partitioned/cls=kittens/date=2018-01/\n",
            "spark-3.1.2-bin-hadoop2.7/data/mllib/images/partitioned/cls=kittens/date=2018-01/not-image.txt\n",
            "spark-3.1.2-bin-hadoop2.7/data/mllib/images/partitioned/cls=kittens/date=2018-01/29.5.a_b_EGDP022204.jpg\n",
            "spark-3.1.2-bin-hadoop2.7/data/mllib/images/origin/\n",
            "spark-3.1.2-bin-hadoop2.7/data/mllib/images/origin/multi-channel/\n",
            "spark-3.1.2-bin-hadoop2.7/data/mllib/images/origin/multi-channel/grayscale.jpg\n",
            "spark-3.1.2-bin-hadoop2.7/data/mllib/images/origin/multi-channel/chr30.4.184.jpg\n",
            "spark-3.1.2-bin-hadoop2.7/data/mllib/images/origin/multi-channel/BGRA_alpha_60.png\n",
            "spark-3.1.2-bin-hadoop2.7/data/mllib/images/origin/multi-channel/BGRA.png\n",
            "spark-3.1.2-bin-hadoop2.7/data/mllib/images/origin/license.txt\n",
            "spark-3.1.2-bin-hadoop2.7/data/mllib/images/origin/kittens/\n",
            "spark-3.1.2-bin-hadoop2.7/data/mllib/images/origin/kittens/not-image.txt\n",
            "spark-3.1.2-bin-hadoop2.7/data/mllib/images/origin/kittens/DP802813.jpg\n",
            "spark-3.1.2-bin-hadoop2.7/data/mllib/images/origin/kittens/DP153539.jpg\n",
            "spark-3.1.2-bin-hadoop2.7/data/mllib/images/origin/kittens/54893.jpg\n",
            "spark-3.1.2-bin-hadoop2.7/data/mllib/images/origin/kittens/29.5.a_b_EGDP022204.jpg\n",
            "spark-3.1.2-bin-hadoop2.7/data/mllib/images/license.txt\n",
            "spark-3.1.2-bin-hadoop2.7/data/mllib/gmm_data.txt\n",
            "spark-3.1.2-bin-hadoop2.7/data/mllib/als/\n",
            "spark-3.1.2-bin-hadoop2.7/data/mllib/als/test.data\n",
            "spark-3.1.2-bin-hadoop2.7/data/mllib/als/sample_movielens_ratings.txt\n",
            "spark-3.1.2-bin-hadoop2.7/data/graphx/\n",
            "spark-3.1.2-bin-hadoop2.7/data/graphx/users.txt\n",
            "spark-3.1.2-bin-hadoop2.7/data/graphx/followers.txt\n",
            "spark-3.1.2-bin-hadoop2.7/NOTICE\n",
            "spark-3.1.2-bin-hadoop2.7/licenses/\n",
            "spark-3.1.2-bin-hadoop2.7/licenses/LICENSE-zstd.txt\n",
            "spark-3.1.2-bin-hadoop2.7/licenses/LICENSE-zstd-jni.txt\n",
            "spark-3.1.2-bin-hadoop2.7/licenses/LICENSE-xmlenc.txt\n",
            "spark-3.1.2-bin-hadoop2.7/licenses/LICENSE-vis-timeline.txt\n",
            "spark-3.1.2-bin-hadoop2.7/licenses/LICENSE-spire.txt\n",
            "spark-3.1.2-bin-hadoop2.7/licenses/LICENSE-sorttable.js.txt\n",
            "spark-3.1.2-bin-hadoop2.7/licenses/LICENSE-slf4j.txt\n",
            "spark-3.1.2-bin-hadoop2.7/licenses/LICENSE-scopt.txt\n",
            "spark-3.1.2-bin-hadoop2.7/licenses/LICENSE-scala.txt\n",
            "spark-3.1.2-bin-hadoop2.7/licenses/LICENSE-sbt-launch-lib.txt\n",
            "spark-3.1.2-bin-hadoop2.7/licenses/LICENSE-respond.txt\n",
            "spark-3.1.2-bin-hadoop2.7/licenses/LICENSE-reflectasm.txt\n",
            "spark-3.1.2-bin-hadoop2.7/licenses/LICENSE-re2j.txt\n",
            "spark-3.1.2-bin-hadoop2.7/licenses/LICENSE-pyrolite.txt\n",
            "spark-3.1.2-bin-hadoop2.7/licenses/LICENSE-py4j.txt\n",
            "spark-3.1.2-bin-hadoop2.7/licenses/LICENSE-protobuf.txt\n",
            "spark-3.1.2-bin-hadoop2.7/licenses/LICENSE-pmml-model.txt\n",
            "spark-3.1.2-bin-hadoop2.7/licenses/LICENSE-paranamer.txt\n",
            "spark-3.1.2-bin-hadoop2.7/licenses/LICENSE-netlib.txt\n",
            "spark-3.1.2-bin-hadoop2.7/licenses/LICENSE-mustache.txt\n",
            "spark-3.1.2-bin-hadoop2.7/licenses/LICENSE-modernizr.txt\n",
            "spark-3.1.2-bin-hadoop2.7/licenses/LICENSE-minlog.txt\n",
            "spark-3.1.2-bin-hadoop2.7/licenses/LICENSE-matchMedia-polyfill.txt\n",
            "spark-3.1.2-bin-hadoop2.7/licenses/LICENSE-machinist.txt\n",
            "spark-3.1.2-bin-hadoop2.7/licenses/LICENSE-leveldbjni.txt\n",
            "spark-3.1.2-bin-hadoop2.7/licenses/LICENSE-kryo.txt\n",
            "spark-3.1.2-bin-hadoop2.7/licenses/LICENSE-jsp-api.txt\n",
            "spark-3.1.2-bin-hadoop2.7/licenses/LICENSE-json-formatter.txt\n",
            "spark-3.1.2-bin-hadoop2.7/licenses/LICENSE-jquery.txt\n",
            "spark-3.1.2-bin-hadoop2.7/licenses/LICENSE-join.txt\n",
            "spark-3.1.2-bin-hadoop2.7/licenses/LICENSE-jodd.txt\n",
            "spark-3.1.2-bin-hadoop2.7/licenses/LICENSE-jline.txt\n",
            "spark-3.1.2-bin-hadoop2.7/licenses/LICENSE-jaxb-runtime.txt\n",
            "spark-3.1.2-bin-hadoop2.7/licenses/LICENSE-javolution.txt\n",
            "spark-3.1.2-bin-hadoop2.7/licenses/LICENSE-javax-transaction-transaction-api.txt\n",
            "spark-3.1.2-bin-hadoop2.7/licenses/LICENSE-javassist.html\n",
            "spark-3.1.2-bin-hadoop2.7/licenses/LICENSE-janino.txt\n",
            "spark-3.1.2-bin-hadoop2.7/licenses/LICENSE-jakarta.xml.bind-api.txt\n",
            "spark-3.1.2-bin-hadoop2.7/licenses/LICENSE-jakarta.activation-api.txt\n",
            "spark-3.1.2-bin-hadoop2.7/licenses/LICENSE-jakarta-ws-rs-api\n",
            "spark-3.1.2-bin-hadoop2.7/licenses/LICENSE-jakarta-annotation-api\n",
            "spark-3.1.2-bin-hadoop2.7/licenses/LICENSE-istack-commons-runtime.txt\n",
            "spark-3.1.2-bin-hadoop2.7/licenses/LICENSE-graphlib-dot.txt\n",
            "spark-3.1.2-bin-hadoop2.7/licenses/LICENSE-f2j.txt\n",
            "spark-3.1.2-bin-hadoop2.7/licenses/LICENSE-dnsjava.txt\n",
            "spark-3.1.2-bin-hadoop2.7/licenses/LICENSE-datatables.txt\n",
            "spark-3.1.2-bin-hadoop2.7/licenses/LICENSE-dagre-d3.txt\n",
            "spark-3.1.2-bin-hadoop2.7/licenses/LICENSE-d3.min.js.txt\n",
            "spark-3.1.2-bin-hadoop2.7/licenses/LICENSE-cloudpickle.txt\n",
            "spark-3.1.2-bin-hadoop2.7/licenses/LICENSE-bootstrap.txt\n",
            "spark-3.1.2-bin-hadoop2.7/licenses/LICENSE-automaton.txt\n",
            "spark-3.1.2-bin-hadoop2.7/licenses/LICENSE-arpack.txt\n",
            "spark-3.1.2-bin-hadoop2.7/licenses/LICENSE-antlr.txt\n",
            "spark-3.1.2-bin-hadoop2.7/licenses/LICENSE-JTransforms.txt\n",
            "spark-3.1.2-bin-hadoop2.7/licenses/LICENSE-JLargeArrays.txt\n",
            "spark-3.1.2-bin-hadoop2.7/licenses/LICENSE-CC0.txt\n",
            "spark-3.1.2-bin-hadoop2.7/licenses/LICENSE-AnchorJS.txt\n",
            "spark-3.1.2-bin-hadoop2.7/LICENSE\n",
            "spark-3.1.2-bin-hadoop2.7/RELEASE\n"
          ]
        }
      ],
      "source": [
        "!apt-get update                                                                          # อัพเดท Package ทั้งหมดใน VM ตัวนี้\n",
        "!apt-get install openjdk-8-jdk-headless -qq > /dev/null                                  # ติดตั้ง Java Development Kit (จำเป็นสำหรับการติดตั้ง Spark)\n",
        "!wget -q https://archive.apache.org/dist/spark/spark-3.1.2/spark-3.1.2-bin-hadoop2.7.tgz # ติดตั้ง Spark 3.1.2\n",
        "!tar xzvf spark-3.1.2-bin-hadoop2.7.tgz                                                  # Unzip ไฟล์ Spark 3.1.2\n",
        "!pip install -q findspark==1.3.0"
      ]
    },
    {
      "cell_type": "code",
      "source": [
        "import os\n",
        "os.environ[\"JAVA_HOME\"] = \"/usr/lib/jvm/java-8-openjdk-amd64\"\n",
        "os.environ[\"SPARK}_HOME\"] = \"/content/spark-3.1.2-bin-hadoop2.7\""
      ],
      "metadata": {
        "id": "QPDvuQehQwIb"
      },
      "execution_count": 2,
      "outputs": []
    },
    {
      "cell_type": "code",
      "source": [
        "!pip install pyspark==3.1.2"
      ],
      "metadata": {
        "colab": {
          "base_uri": "https://localhost:8080/"
        },
        "id": "TzFsCCE5R0Zt",
        "outputId": "f08cb1c1-52ee-4664-b6ad-92f7e4b1df15"
      },
      "execution_count": 3,
      "outputs": [
        {
          "output_type": "stream",
          "name": "stdout",
          "text": [
            "Looking in indexes: https://pypi.org/simple, https://us-python.pkg.dev/colab-wheels/public/simple/\n",
            "Collecting pyspark==3.1.2\n",
            "  Downloading pyspark-3.1.2.tar.gz (212.4 MB)\n",
            "\u001b[K     |████████████████████████████████| 212.4 MB 60 kB/s \n",
            "\u001b[?25hCollecting py4j==0.10.9\n",
            "  Downloading py4j-0.10.9-py2.py3-none-any.whl (198 kB)\n",
            "\u001b[K     |████████████████████████████████| 198 kB 13.9 MB/s \n",
            "\u001b[?25hBuilding wheels for collected packages: pyspark\n",
            "  Building wheel for pyspark (setup.py) ... \u001b[?25l\u001b[?25hdone\n",
            "  Created wheel for pyspark: filename=pyspark-3.1.2-py2.py3-none-any.whl size=212880769 sha256=1c61435965d0ddaaa3cda839a4aa7140ee0cfd094a314f25de7b2cfa055af855\n",
            "  Stored in directory: /root/.cache/pip/wheels/a5/0a/c1/9561f6fecb759579a7d863dcd846daaa95f598744e71b02c77\n",
            "Successfully built pyspark\n",
            "Installing collected packages: py4j, pyspark\n",
            "Successfully installed py4j-0.10.9 pyspark-3.1.2\n"
          ]
        }
      ]
    },
    {
      "cell_type": "markdown",
      "source": [
        "## เริ่มใช้งาน Spark"
      ],
      "metadata": {
        "id": "8qGZH3GD6dH-"
      }
    },
    {
      "cell_type": "code",
      "source": [
        "!cat /proc/cpuinfo"
      ],
      "metadata": {
        "id": "YkgKqFx8R2Tf",
        "colab": {
          "base_uri": "https://localhost:8080/"
        },
        "outputId": "7aba3183-1540-4831-ecab-d687698b2073"
      },
      "execution_count": 4,
      "outputs": [
        {
          "output_type": "stream",
          "name": "stdout",
          "text": [
            "processor\t: 0\n",
            "vendor_id\t: GenuineIntel\n",
            "cpu family\t: 6\n",
            "model\t\t: 79\n",
            "model name\t: Intel(R) Xeon(R) CPU @ 2.20GHz\n",
            "stepping\t: 0\n",
            "microcode\t: 0x1\n",
            "cpu MHz\t\t: 2200.214\n",
            "cache size\t: 56320 KB\n",
            "physical id\t: 0\n",
            "siblings\t: 2\n",
            "core id\t\t: 0\n",
            "cpu cores\t: 1\n",
            "apicid\t\t: 0\n",
            "initial apicid\t: 0\n",
            "fpu\t\t: yes\n",
            "fpu_exception\t: yes\n",
            "cpuid level\t: 13\n",
            "wp\t\t: yes\n",
            "flags\t\t: fpu vme de pse tsc msr pae mce cx8 apic sep mtrr pge mca cmov pat pse36 clflush mmx fxsr sse sse2 ss ht syscall nx pdpe1gb rdtscp lm constant_tsc rep_good nopl xtopology nonstop_tsc cpuid tsc_known_freq pni pclmulqdq ssse3 fma cx16 pcid sse4_1 sse4_2 x2apic movbe popcnt aes xsave avx f16c rdrand hypervisor lahf_lm abm 3dnowprefetch invpcid_single ssbd ibrs ibpb stibp fsgsbase tsc_adjust bmi1 hle avx2 smep bmi2 erms invpcid rtm rdseed adx smap xsaveopt arat md_clear arch_capabilities\n",
            "bugs\t\t: cpu_meltdown spectre_v1 spectre_v2 spec_store_bypass l1tf mds swapgs taa mmio_stale_data retbleed\n",
            "bogomips\t: 4400.42\n",
            "clflush size\t: 64\n",
            "cache_alignment\t: 64\n",
            "address sizes\t: 46 bits physical, 48 bits virtual\n",
            "power management:\n",
            "\n",
            "processor\t: 1\n",
            "vendor_id\t: GenuineIntel\n",
            "cpu family\t: 6\n",
            "model\t\t: 79\n",
            "model name\t: Intel(R) Xeon(R) CPU @ 2.20GHz\n",
            "stepping\t: 0\n",
            "microcode\t: 0x1\n",
            "cpu MHz\t\t: 2200.214\n",
            "cache size\t: 56320 KB\n",
            "physical id\t: 0\n",
            "siblings\t: 2\n",
            "core id\t\t: 0\n",
            "cpu cores\t: 1\n",
            "apicid\t\t: 1\n",
            "initial apicid\t: 1\n",
            "fpu\t\t: yes\n",
            "fpu_exception\t: yes\n",
            "cpuid level\t: 13\n",
            "wp\t\t: yes\n",
            "flags\t\t: fpu vme de pse tsc msr pae mce cx8 apic sep mtrr pge mca cmov pat pse36 clflush mmx fxsr sse sse2 ss ht syscall nx pdpe1gb rdtscp lm constant_tsc rep_good nopl xtopology nonstop_tsc cpuid tsc_known_freq pni pclmulqdq ssse3 fma cx16 pcid sse4_1 sse4_2 x2apic movbe popcnt aes xsave avx f16c rdrand hypervisor lahf_lm abm 3dnowprefetch invpcid_single ssbd ibrs ibpb stibp fsgsbase tsc_adjust bmi1 hle avx2 smep bmi2 erms invpcid rtm rdseed adx smap xsaveopt arat md_clear arch_capabilities\n",
            "bugs\t\t: cpu_meltdown spectre_v1 spectre_v2 spec_store_bypass l1tf mds swapgs taa mmio_stale_data retbleed\n",
            "bogomips\t: 4400.42\n",
            "clflush size\t: 64\n",
            "cache_alignment\t: 64\n",
            "address sizes\t: 46 bits physical, 48 bits virtual\n",
            "power management:\n",
            "\n"
          ]
        }
      ]
    },
    {
      "cell_type": "code",
      "source": [
        "# ตั้งค่า lcoal[*] เพื่อ Spark ใช้งาน Multi_core ใน Spark ใช้ CPU ทุก Core\n",
        "# Spark Session \n",
        "from pyspark.sql import SparkSession\n",
        "spark = SparkSession.builder.master('local[*]').getOrCreate()"
      ],
      "metadata": {
        "id": "xK3kPUexSGrv"
      },
      "execution_count": 5,
      "outputs": []
    },
    {
      "cell_type": "code",
      "source": [
        "# version python\n",
        "import sys \n",
        "sys.version_info"
      ],
      "metadata": {
        "colab": {
          "base_uri": "https://localhost:8080/"
        },
        "id": "rfuMcDK4SMGV",
        "outputId": "f3af8892-8e13-4cdf-aa0f-ee7f8d474ab7"
      },
      "execution_count": 6,
      "outputs": [
        {
          "output_type": "execute_result",
          "data": {
            "text/plain": [
              "sys.version_info(major=3, minor=7, micro=15, releaselevel='final', serial=0)"
            ]
          },
          "metadata": {},
          "execution_count": 6
        }
      ]
    },
    {
      "cell_type": "markdown",
      "source": [
        "### Load data เข้าใน Spark\n",
        "ใช้ spark.read.csv เพื่ออ่านข้อูลจากไฟล์ csv\n",
        "\n",
        "heater=True บรรทัดแรกในไฟล์ csv คือ Header \n",
        "\n",
        "inferSchema=True ตัว Spark จะกำหนด Type แต่ละคอลัมน์เป็นชนิดอะไร"
      ],
      "metadata": {
        "id": "8lcPJ9LQA7Xp"
      }
    },
    {
      "cell_type": "code",
      "source": [
        "superstore = spark.read.csv('/content/superstore.csv',\n",
        "                            header=True,\n",
        "                            inferSchema=True)"
      ],
      "metadata": {
        "id": "Bl2uw6VtSSAM"
      },
      "execution_count": 92,
      "outputs": []
    },
    {
      "cell_type": "markdown",
      "metadata": {
        "id": "gKBjHvpzTM6-"
      },
      "source": [
        "# Step 2) Data Profiling"
      ]
    },
    {
      "cell_type": "markdown",
      "source": [
        "ตรวจสอบ Column"
      ],
      "metadata": {
        "id": "oLgnS0FlSuK8"
      }
    },
    {
      "cell_type": "code",
      "source": [
        "superstore.show()"
      ],
      "metadata": {
        "colab": {
          "base_uri": "https://localhost:8080/"
        },
        "id": "fJT7vs3GSe3C",
        "outputId": "7cc562b8-351f-4f69-df89-88dcd037706a"
      },
      "execution_count": null,
      "outputs": [
        {
          "output_type": "stream",
          "name": "stdout",
          "text": [
            "+------+--------------+----------+----------+--------------+-----------+------------------+-----------+-------------+---------------+--------------+-----------+-------+---------------+---------------+------------+--------------------+--------+--------+--------+--------+\n",
            "|Row ID|      Order ID|Order Date| Ship Date|     Ship Mode|Customer ID|     Customer Name|    Segment|      Country|           City|         State|Postal Code| Region|     Product ID|       Category|Sub-Category|        Product Name|   Sales|Quantity|Discount|  Profit|\n",
            "+------+--------------+----------+----------+--------------+-----------+------------------+-----------+-------------+---------------+--------------+-----------+-------+---------------+---------------+------------+--------------------+--------+--------+--------+--------+\n",
            "|     1|CA-2016-152156|2016-11-08|11/11/2016|  Second Class|   CG-12520|       Claire Gute|   Consumer|United States|      Henderson|      Kentucky|      42420|  South|FUR-BO-10001798|      Furniture|   Bookcases|Bush Somerset Col...|  261.96|       2|       0| 41.9136|\n",
            "|     2|CA-2016-152156|2016-11-08|11/11/2016|  Second Class|   CG-12520|       Claire Gute|   Consumer|United States|      Henderson|      Kentucky|      42420|  South|FUR-CH-10000454|      Furniture|      Chairs|Hon Deluxe Fabric...|  731.94|       3|       0| 219.582|\n",
            "|     3|CA-2016-138688|2016-06-12| 6/16/2016|  Second Class|   DV-13045|   Darrin Van Huff|  Corporate|United States|    Los Angeles|    California|      90036|   West|OFF-LA-10000240|Office Supplies|      Labels|Self-Adhesive Add...|   14.62|       2|       0|  6.8714|\n",
            "|     4|US-2015-108966|2015-10-11|10/18/2015|Standard Class|   SO-20335|    Sean O'Donnell|   Consumer|United States|Fort Lauderdale|       Florida|      33311|  South|FUR-TA-10000577|      Furniture|      Tables|Bretford CR4500 S...|957.5775|       5|    0.45|-383.031|\n",
            "|     5|US-2015-108966|2015-10-11|10/18/2015|Standard Class|   SO-20335|    Sean O'Donnell|   Consumer|United States|Fort Lauderdale|       Florida|      33311|  South|OFF-ST-10000760|Office Supplies|     Storage|Eldon Fold 'N Rol...|  22.368|       2|     0.2|  2.5164|\n",
            "|     6|CA-2014-115812|2014-06-09| 6/14/2014|Standard Class|   BH-11710|   Brosina Hoffman|   Consumer|United States|    Los Angeles|    California|      90032|   West|FUR-FU-10001487|      Furniture| Furnishings|Eldon Expressions...|   48.86|       7|       0| 14.1694|\n",
            "|     7|CA-2014-115812|2014-06-09| 6/14/2014|Standard Class|   BH-11710|   Brosina Hoffman|   Consumer|United States|    Los Angeles|    California|      90032|   West|OFF-AR-10002833|Office Supplies|         Art|          Newell 322|    7.28|       4|       0|  1.9656|\n",
            "|     8|CA-2014-115812|2014-06-09| 6/14/2014|Standard Class|   BH-11710|   Brosina Hoffman|   Consumer|United States|    Los Angeles|    California|      90032|   West|TEC-PH-10002275|     Technology|      Phones|Mitel 5320 IP Pho...| 907.152|       6|     0.2| 90.7152|\n",
            "|     9|CA-2014-115812|2014-06-09| 6/14/2014|Standard Class|   BH-11710|   Brosina Hoffman|   Consumer|United States|    Los Angeles|    California|      90032|   West|OFF-BI-10003910|Office Supplies|     Binders|DXL Angle-View Bi...|  18.504|       3|     0.2|  5.7825|\n",
            "|    10|CA-2014-115812|2014-06-09| 6/14/2014|Standard Class|   BH-11710|   Brosina Hoffman|   Consumer|United States|    Los Angeles|    California|      90032|   West|OFF-AP-10002892|Office Supplies|  Appliances|Belkin F5C206VTEL...|   114.9|       5|       0|   34.47|\n",
            "|    11|CA-2014-115812|2014-06-09| 6/14/2014|Standard Class|   BH-11710|   Brosina Hoffman|   Consumer|United States|    Los Angeles|    California|      90032|   West|FUR-TA-10001539|      Furniture|      Tables|Chromcraft Rectan...|1706.184|       9|     0.2| 85.3092|\n",
            "|    12|CA-2014-115812|2014-06-09| 6/14/2014|Standard Class|   BH-11710|   Brosina Hoffman|   Consumer|United States|    Los Angeles|    California|      90032|   West|TEC-PH-10002033|     Technology|      Phones|Konftel 250 Confe...| 911.424|       4|     0.2| 68.3568|\n",
            "|    13|CA-2017-114412|2017-04-15| 4/20/2017|Standard Class|   AA-10480|      Andrew Allen|   Consumer|United States|        Concord|North Carolina|      28027|  South|OFF-PA-10002365|Office Supplies|       Paper|          Xerox 1967|  15.552|       3|     0.2|  5.4432|\n",
            "|    14|CA-2016-161389|2016-12-05|12/10/2016|Standard Class|   IM-15070|      Irene Maddox|   Consumer|United States|        Seattle|    Washington|      98103|   West|OFF-BI-10003656|Office Supplies|     Binders|Fellowes PB200 Pl...| 407.976|       3|     0.2|132.5922|\n",
            "|    15|US-2015-118983|2015-11-22|11/26/2015|Standard Class|   HP-14815|     Harold Pawlan|Home Office|United States|     Fort Worth|         Texas|      76106|Central|OFF-AP-10002311|Office Supplies|  Appliances|Holmes Replacemen...|   68.81|       5|     0.8|-123.858|\n",
            "|    16|US-2015-118983|2015-11-22|11/26/2015|Standard Class|   HP-14815|     Harold Pawlan|Home Office|United States|     Fort Worth|         Texas|      76106|Central|OFF-BI-10000756|Office Supplies|     Binders|Storex DuraTech R...|   2.544|       3|     0.8|  -3.816|\n",
            "|    17|CA-2014-105893|2014-11-11|11/18/2014|Standard Class|   PK-19075|         Pete Kriz|   Consumer|United States|        Madison|     Wisconsin|      53711|Central|OFF-ST-10004186|Office Supplies|     Storage|\"Stur-D-Stor Shel...|  665.88|       6|       0| 13.3176|\n",
            "|    18|CA-2014-167164|2014-05-13| 5/15/2014|  Second Class|   AG-10270|   Alejandro Grove|   Consumer|United States|    West Jordan|          Utah|      84084|   West|OFF-ST-10000107|Office Supplies|     Storage|Fellowes Super St...|    55.5|       2|       0|    9.99|\n",
            "|    19|CA-2014-143336|2014-08-27|  9/1/2014|  Second Class|   ZD-21925|Zuschuss Donatelli|   Consumer|United States|  San Francisco|    California|      94109|   West|OFF-AR-10003056|Office Supplies|         Art|          Newell 341|    8.56|       2|       0|  2.4824|\n",
            "|    20|CA-2014-143336|2014-08-27|  9/1/2014|  Second Class|   ZD-21925|Zuschuss Donatelli|   Consumer|United States|  San Francisco|    California|      94109|   West|TEC-PH-10001949|     Technology|      Phones|Cisco SPA 501G IP...|  213.48|       3|     0.2|  16.011|\n",
            "+------+--------------+----------+----------+--------------+-----------+------------------+-----------+-------------+---------------+--------------+-----------+-------+---------------+---------------+------------+--------------------+--------+--------+--------+--------+\n",
            "only showing top 20 rows\n",
            "\n"
          ]
        }
      ]
    },
    {
      "cell_type": "code",
      "source": [
        "# ข้อมูล 10 แถวแรก\n",
        "superstore.show(10)"
      ],
      "metadata": {
        "colab": {
          "base_uri": "https://localhost:8080/"
        },
        "id": "RlhJd3r7SiaV",
        "outputId": "44b23f2e-efc5-431f-dedb-5b8f4a5498e3"
      },
      "execution_count": null,
      "outputs": [
        {
          "output_type": "stream",
          "name": "stdout",
          "text": [
            "+------+--------------+----------+----------+--------------+-----------+---------------+---------+-------------+---------------+----------+-----------+------+---------------+---------------+------------+--------------------+--------+--------+--------+--------+\n",
            "|Row ID|      Order ID|Order Date| Ship Date|     Ship Mode|Customer ID|  Customer Name|  Segment|      Country|           City|     State|Postal Code|Region|     Product ID|       Category|Sub-Category|        Product Name|   Sales|Quantity|Discount|  Profit|\n",
            "+------+--------------+----------+----------+--------------+-----------+---------------+---------+-------------+---------------+----------+-----------+------+---------------+---------------+------------+--------------------+--------+--------+--------+--------+\n",
            "|     1|CA-2016-152156|2016-11-08|11/11/2016|  Second Class|   CG-12520|    Claire Gute| Consumer|United States|      Henderson|  Kentucky|      42420| South|FUR-BO-10001798|      Furniture|   Bookcases|Bush Somerset Col...|  261.96|       2|       0| 41.9136|\n",
            "|     2|CA-2016-152156|2016-11-08|11/11/2016|  Second Class|   CG-12520|    Claire Gute| Consumer|United States|      Henderson|  Kentucky|      42420| South|FUR-CH-10000454|      Furniture|      Chairs|Hon Deluxe Fabric...|  731.94|       3|       0| 219.582|\n",
            "|     3|CA-2016-138688|2016-06-12| 6/16/2016|  Second Class|   DV-13045|Darrin Van Huff|Corporate|United States|    Los Angeles|California|      90036|  West|OFF-LA-10000240|Office Supplies|      Labels|Self-Adhesive Add...|   14.62|       2|       0|  6.8714|\n",
            "|     4|US-2015-108966|2015-10-11|10/18/2015|Standard Class|   SO-20335| Sean O'Donnell| Consumer|United States|Fort Lauderdale|   Florida|      33311| South|FUR-TA-10000577|      Furniture|      Tables|Bretford CR4500 S...|957.5775|       5|    0.45|-383.031|\n",
            "|     5|US-2015-108966|2015-10-11|10/18/2015|Standard Class|   SO-20335| Sean O'Donnell| Consumer|United States|Fort Lauderdale|   Florida|      33311| South|OFF-ST-10000760|Office Supplies|     Storage|Eldon Fold 'N Rol...|  22.368|       2|     0.2|  2.5164|\n",
            "|     6|CA-2014-115812|2014-06-09| 6/14/2014|Standard Class|   BH-11710|Brosina Hoffman| Consumer|United States|    Los Angeles|California|      90032|  West|FUR-FU-10001487|      Furniture| Furnishings|Eldon Expressions...|   48.86|       7|       0| 14.1694|\n",
            "|     7|CA-2014-115812|2014-06-09| 6/14/2014|Standard Class|   BH-11710|Brosina Hoffman| Consumer|United States|    Los Angeles|California|      90032|  West|OFF-AR-10002833|Office Supplies|         Art|          Newell 322|    7.28|       4|       0|  1.9656|\n",
            "|     8|CA-2014-115812|2014-06-09| 6/14/2014|Standard Class|   BH-11710|Brosina Hoffman| Consumer|United States|    Los Angeles|California|      90032|  West|TEC-PH-10002275|     Technology|      Phones|Mitel 5320 IP Pho...| 907.152|       6|     0.2| 90.7152|\n",
            "|     9|CA-2014-115812|2014-06-09| 6/14/2014|Standard Class|   BH-11710|Brosina Hoffman| Consumer|United States|    Los Angeles|California|      90032|  West|OFF-BI-10003910|Office Supplies|     Binders|DXL Angle-View Bi...|  18.504|       3|     0.2|  5.7825|\n",
            "|    10|CA-2014-115812|2014-06-09| 6/14/2014|Standard Class|   BH-11710|Brosina Hoffman| Consumer|United States|    Los Angeles|California|      90032|  West|OFF-AP-10002892|Office Supplies|  Appliances|Belkin F5C206VTEL...|   114.9|       5|       0|   34.47|\n",
            "+------+--------------+----------+----------+--------------+-----------+---------------+---------+-------------+---------------+----------+-----------+------+---------------+---------------+------------+--------------------+--------+--------+--------+--------+\n",
            "only showing top 10 rows\n",
            "\n"
          ]
        }
      ]
    },
    {
      "cell_type": "code",
      "source": [
        "# Type ของ column\n",
        "superstore.dtypes"
      ],
      "metadata": {
        "colab": {
          "base_uri": "https://localhost:8080/"
        },
        "id": "jDn0c0HQTyof",
        "outputId": "b1da6337-0676-4073-c02f-7848ab6251e1"
      },
      "execution_count": null,
      "outputs": [
        {
          "output_type": "execute_result",
          "data": {
            "text/plain": [
              "[('Row ID', 'int'),\n",
              " ('Order ID', 'string'),\n",
              " ('Order Date', 'string'),\n",
              " ('Ship Date', 'string'),\n",
              " ('Ship Mode', 'string'),\n",
              " ('Customer ID', 'string'),\n",
              " ('Customer Name', 'string'),\n",
              " ('Segment', 'string'),\n",
              " ('Country', 'string'),\n",
              " ('City', 'string'),\n",
              " ('State', 'string'),\n",
              " ('Postal Code', 'int'),\n",
              " ('Region', 'string'),\n",
              " ('Product ID', 'string'),\n",
              " ('Category', 'string'),\n",
              " ('Sub-Category', 'string'),\n",
              " ('Product Name', 'string'),\n",
              " ('Sales', 'string'),\n",
              " ('Quantity', 'string'),\n",
              " ('Discount', 'string'),\n",
              " ('Profit', 'double')]"
            ]
          },
          "metadata": {},
          "execution_count": 324
        }
      ]
    },
    {
      "cell_type": "code",
      "source": [
        "superstore.printSchema()"
      ],
      "metadata": {
        "colab": {
          "base_uri": "https://localhost:8080/"
        },
        "id": "hsrj9dE1T4TM",
        "outputId": "b334fcd5-baed-4c41-db38-0515b87fb8d6"
      },
      "execution_count": null,
      "outputs": [
        {
          "output_type": "stream",
          "name": "stdout",
          "text": [
            "root\n",
            " |-- Row ID: integer (nullable = true)\n",
            " |-- Order ID: string (nullable = true)\n",
            " |-- Order Date: string (nullable = true)\n",
            " |-- Ship Date: string (nullable = true)\n",
            " |-- Ship Mode: string (nullable = true)\n",
            " |-- Customer ID: string (nullable = true)\n",
            " |-- Customer Name: string (nullable = true)\n",
            " |-- Segment: string (nullable = true)\n",
            " |-- Country: string (nullable = true)\n",
            " |-- City: string (nullable = true)\n",
            " |-- State: string (nullable = true)\n",
            " |-- Postal Code: integer (nullable = true)\n",
            " |-- Region: string (nullable = true)\n",
            " |-- Product ID: string (nullable = true)\n",
            " |-- Category: string (nullable = true)\n",
            " |-- Sub-Category: string (nullable = true)\n",
            " |-- Product Name: string (nullable = true)\n",
            " |-- Sales: string (nullable = true)\n",
            " |-- Quantity: string (nullable = true)\n",
            " |-- Discount: string (nullable = true)\n",
            " |-- Profit: double (nullable = true)\n",
            "\n"
          ]
        }
      ]
    },
    {
      "cell_type": "markdown",
      "source": [
        "Type คอลัมน์ Order Date, Ship Date, Sales, Quantity, Discount, Profit ไม่ถูกต้อง จัดการเปลี่ยน Type ภายหลัง"
      ],
      "metadata": {
        "id": "_VirXBZFWb9Y"
      }
    },
    {
      "cell_type": "code",
      "source": [
        "# นับ Row และ Column\n",
        "print((superstore.count(), len(superstore.columns)))"
      ],
      "metadata": {
        "colab": {
          "base_uri": "https://localhost:8080/"
        },
        "id": "bZEMDhcjT_Bo",
        "outputId": "70bdcfdd-2fdb-4711-d8b0-aaef972643d6"
      },
      "execution_count": null,
      "outputs": [
        {
          "output_type": "stream",
          "name": "stdout",
          "text": [
            "(9994, 21)\n"
          ]
        }
      ]
    },
    {
      "cell_type": "code",
      "source": [
        "# ข้อมูลสติถิ\n",
        "superstore.describe().show()"
      ],
      "metadata": {
        "colab": {
          "base_uri": "https://localhost:8080/"
        },
        "id": "vFmh-G7vEG9_",
        "outputId": "38de41d0-e715-4b96-e8f0-2fa35e6b7c40"
      },
      "execution_count": null,
      "outputs": [
        {
          "output_type": "stream",
          "name": "stdout",
          "text": [
            "+-------+------------------+--------------+----------+---------+--------------+-----------+------------------+-----------+-------------+--------+-------+------------------+-------+---------------+----------+------------+--------------------+------------------+------------------+------------------+------------------+\n",
            "|summary|            Row ID|      Order ID|Order Date|Ship Date|     Ship Mode|Customer ID|     Customer Name|    Segment|      Country|    City|  State|       Postal Code| Region|     Product ID|  Category|Sub-Category|        Product Name|             Sales|          Quantity|          Discount|            Profit|\n",
            "+-------+------------------+--------------+----------+---------+--------------+-----------+------------------+-----------+-------------+--------+-------+------------------+-------+---------------+----------+------------+--------------------+------------------+------------------+------------------+------------------+\n",
            "|  count|              9994|          9994|      9994|     9994|          9994|       9994|              9994|       9994|         9994|    9994|   9994|              9994|   9994|           9994|      9994|        9994|                9994|              9994|              9994|              9994|              9994|\n",
            "|   mean|            4997.5|          null|      null|     null|          null|       null|              null|       null|         null|    null|   null|  55190.3794276566|   null|           null|      null|        null|                null|234.41818199917006| 5.828590535392018|0.3155949113492862|28.587912967780834|\n",
            "| stddev|2885.1636290974325|          null|      null|     null|          null|       null|              null|       null|         null|    null|   null|32063.693350364487|   null|           null|      null|        null|                null| 631.7890112674363|25.520975563736403| 3.314008629792499| 234.3891156047269|\n",
            "|    min|                 1|CA-2014-100006|2014-01-03| 1/1/2015|   First Class|   AA-10315|     Aaron Bergman|   Consumer|United States|Aberdeen|Alabama|              1040|Central|FUR-BO-10000112| Furniture| Accessories|\"\"\"While you Were...|          10/Pack\"|      1040 sheets\"|           30/Box\"|         -6599.978|\n",
            "|    max|              9994|US-2017-169551|2017-12-30| 9/9/2017|Standard Class|   ZD-21925|Zuschuss Donatelli|Home Office|United States|    Yuma|Wyoming|             99301|   West|TEC-PH-10004977|Technology|      Tables|netTALK DUO VoIP ...|            999.98|            98.352|            98.352|          8399.976|\n",
            "+-------+------------------+--------------+----------+---------+--------------+-----------+------------------+-----------+-------------+--------+-------+------------------+-------+---------------+----------+------------+--------------------+------------------+------------------+------------------+------------------+\n",
            "\n"
          ]
        }
      ]
    },
    {
      "cell_type": "code",
      "source": [
        "# summary() ดูข้อมูลสติถิละเอียดมากขึ้น\n",
        "superstore.summary().show()"
      ],
      "metadata": {
        "colab": {
          "base_uri": "https://localhost:8080/"
        },
        "id": "XcdpO5HjEfVa",
        "outputId": "c6fe5a0a-d8db-4a50-831d-1a1248d66bc0"
      },
      "execution_count": null,
      "outputs": [
        {
          "output_type": "stream",
          "name": "stdout",
          "text": [
            "+-------+------------------+--------------+----------+---------+--------------+-----------+------------------+-----------+-------------+--------+-------+------------------+-------+---------------+----------+------------+--------------------+------------------+------------------+------------------+------------------+\n",
            "|summary|            Row ID|      Order ID|Order Date|Ship Date|     Ship Mode|Customer ID|     Customer Name|    Segment|      Country|    City|  State|       Postal Code| Region|     Product ID|  Category|Sub-Category|        Product Name|             Sales|          Quantity|          Discount|            Profit|\n",
            "+-------+------------------+--------------+----------+---------+--------------+-----------+------------------+-----------+-------------+--------+-------+------------------+-------+---------------+----------+------------+--------------------+------------------+------------------+------------------+------------------+\n",
            "|  count|              9994|          9994|      9994|     9994|          9994|       9994|              9994|       9994|         9994|    9994|   9994|              9994|   9994|           9994|      9994|        9994|                9994|              9994|              9994|              9994|              9994|\n",
            "|   mean|            4997.5|          null|      null|     null|          null|       null|              null|       null|         null|    null|   null|  55190.3794276566|   null|           null|      null|        null|                null|234.41818199917006| 5.828590535392018|0.3155949113492862|28.587912967780834|\n",
            "| stddev|2885.1636290974325|          null|      null|     null|          null|       null|              null|       null|         null|    null|   null|32063.693350364487|   null|           null|      null|        null|                null| 631.7890112674363|25.520975563736403| 3.314008629792499| 234.3891156047269|\n",
            "|    min|                 1|CA-2014-100006|2014-01-03| 1/1/2015|   First Class|   AA-10315|     Aaron Bergman|   Consumer|United States|Aberdeen|Alabama|              1040|Central|FUR-BO-10000112| Furniture| Accessories|\"\"\"While you Were...|          10/Pack\"|      1040 sheets\"|           30/Box\"|         -6599.978|\n",
            "|    25%|              2498|          null|      null|     null|          null|       null|              null|       null|         null|    null|   null|             23223|   null|           null|      null|        null|                null|             17.48|               2.0|               0.0|            1.2038|\n",
            "|    50%|              4996|          null|      null|     null|          null|       null|              null|       null|         null|    null|   null|             56301|   null|           null|      null|        null|                null|             55.92|               3.0|               0.2|            8.1072|\n",
            "|    75%|              7495|          null|      null|     null|          null|       null|              null|       null|         null|    null|   null|             90008|   null|           null|      null|        null|                null|             214.7|               5.0|               0.2|           28.7964|\n",
            "|    max|              9994|US-2017-169551|2017-12-30| 9/9/2017|Standard Class|   ZD-21925|Zuschuss Donatelli|Home Office|United States|    Yuma|Wyoming|             99301|   West|TEC-PH-10004977|Technology|      Tables|netTALK DUO VoIP ...|            999.98|            98.352|            98.352|          8399.976|\n",
            "+-------+------------------+--------------+----------+---------+--------------+-----------+------------------+-----------+-------------+--------+-------+------------------+-------+---------------+----------+------------+--------------------+------------------+------------------+------------------+------------------+\n",
            "\n"
          ]
        }
      ]
    },
    {
      "cell_type": "code",
      "source": [
        "# เลือก column เฉพาะดูข้อมูลสติถิ\n",
        "superstore.select('Sales', 'Profit', 'Quantity', 'Discount').describe().show()"
      ],
      "metadata": {
        "colab": {
          "base_uri": "https://localhost:8080/"
        },
        "id": "JWBIy6EhEsRr",
        "outputId": "f33e7800-89a4-4f42-c4ee-14f096e77620"
      },
      "execution_count": null,
      "outputs": [
        {
          "output_type": "stream",
          "name": "stdout",
          "text": [
            "+-------+------------------+------------------+------------------+------------------+\n",
            "|summary|             Sales|            Profit|          Quantity|          Discount|\n",
            "+-------+------------------+------------------+------------------+------------------+\n",
            "|  count|              9994|              9994|              9994|              9994|\n",
            "|   mean|234.41818199917006|28.587912967780834| 5.828590535392018|0.3155949113492862|\n",
            "| stddev| 631.7890112674363| 234.3891156047269|25.520975563736403| 3.314008629792499|\n",
            "|    min|          10/Pack\"|         -6599.978|      1040 sheets\"|           30/Box\"|\n",
            "|    max|            999.98|          8399.976|            98.352|            98.352|\n",
            "+-------+------------------+------------------+------------------+------------------+\n",
            "\n"
          ]
        }
      ]
    },
    {
      "cell_type": "code",
      "source": [
        "superstore.printSchema()"
      ],
      "metadata": {
        "colab": {
          "base_uri": "https://localhost:8080/"
        },
        "id": "hzTzTNzkHbiy",
        "outputId": "cdfea529-ba4c-4d76-c5d4-b117dccf06d9"
      },
      "execution_count": null,
      "outputs": [
        {
          "output_type": "stream",
          "name": "stdout",
          "text": [
            "root\n",
            " |-- Row ID: integer (nullable = true)\n",
            " |-- Order ID: string (nullable = true)\n",
            " |-- Order Date: string (nullable = true)\n",
            " |-- Ship Date: string (nullable = true)\n",
            " |-- Ship Mode: string (nullable = true)\n",
            " |-- Customer ID: string (nullable = true)\n",
            " |-- Customer Name: string (nullable = true)\n",
            " |-- Segment: string (nullable = true)\n",
            " |-- Country: string (nullable = true)\n",
            " |-- City: string (nullable = true)\n",
            " |-- State: string (nullable = true)\n",
            " |-- Postal Code: integer (nullable = true)\n",
            " |-- Region: string (nullable = true)\n",
            " |-- Product ID: string (nullable = true)\n",
            " |-- Category: string (nullable = true)\n",
            " |-- Sub-Category: string (nullable = true)\n",
            " |-- Product Name: string (nullable = true)\n",
            " |-- Sales: string (nullable = true)\n",
            " |-- Quantity: string (nullable = true)\n",
            " |-- Discount: string (nullable = true)\n",
            " |-- Profit: double (nullable = true)\n",
            "\n"
          ]
        }
      ]
    },
    {
      "cell_type": "code",
      "source": [
        "# เลือก columns เฉพราะที่ต้องการดู\n",
        "superstore.select(['Order ID', 'Order Date', 'Sub-Category', 'Sales']).show()"
      ],
      "metadata": {
        "colab": {
          "base_uri": "https://localhost:8080/"
        },
        "id": "VUPk8ZTKG7X3",
        "outputId": "70263ae6-01ce-4a3f-d7bf-d2f1475d05c8"
      },
      "execution_count": null,
      "outputs": [
        {
          "output_type": "stream",
          "name": "stdout",
          "text": [
            "+--------------+----------+------------+--------+\n",
            "|      Order ID|Order Date|Sub-Category|   Sales|\n",
            "+--------------+----------+------------+--------+\n",
            "|CA-2016-152156|2016-11-08|   Bookcases|  261.96|\n",
            "|CA-2016-152156|2016-11-08|      Chairs|  731.94|\n",
            "|CA-2016-138688|2016-06-12|      Labels|   14.62|\n",
            "|US-2015-108966|2015-10-11|      Tables|957.5775|\n",
            "|US-2015-108966|2015-10-11|     Storage|  22.368|\n",
            "|CA-2014-115812|2014-06-09| Furnishings|   48.86|\n",
            "|CA-2014-115812|2014-06-09|         Art|    7.28|\n",
            "|CA-2014-115812|2014-06-09|      Phones| 907.152|\n",
            "|CA-2014-115812|2014-06-09|     Binders|  18.504|\n",
            "|CA-2014-115812|2014-06-09|  Appliances|   114.9|\n",
            "|CA-2014-115812|2014-06-09|      Tables|1706.184|\n",
            "|CA-2014-115812|2014-06-09|      Phones| 911.424|\n",
            "|CA-2017-114412|2017-04-15|       Paper|  15.552|\n",
            "|CA-2016-161389|2016-12-05|     Binders| 407.976|\n",
            "|US-2015-118983|2015-11-22|  Appliances|   68.81|\n",
            "|US-2015-118983|2015-11-22|     Binders|   2.544|\n",
            "|CA-2014-105893|2014-11-11|     Storage|  665.88|\n",
            "|CA-2014-167164|2014-05-13|     Storage|    55.5|\n",
            "|CA-2014-143336|2014-08-27|         Art|    8.56|\n",
            "|CA-2014-143336|2014-08-27|      Phones|  213.48|\n",
            "+--------------+----------+------------+--------+\n",
            "only showing top 20 rows\n",
            "\n"
          ]
        }
      ]
    },
    {
      "cell_type": "markdown",
      "source": [
        "คอลัมน์ไหนมี Missing Value บ้าง"
      ],
      "metadata": {
        "id": "oCIn1GOGHwT8"
      }
    },
    {
      "cell_type": "code",
      "source": [
        "superstore.summary('count').show()"
      ],
      "metadata": {
        "colab": {
          "base_uri": "https://localhost:8080/"
        },
        "id": "AhOaw7EjHiqc",
        "outputId": "6128646b-5b3e-40f6-d8c9-422e74c6029e"
      },
      "execution_count": null,
      "outputs": [
        {
          "output_type": "stream",
          "name": "stdout",
          "text": [
            "+-------+------+--------+----------+---------+---------+-----------+-------------+-------+-------+----+-----+-----------+------+----------+--------+------------+------------+-----+--------+--------+------+\n",
            "|summary|Row ID|Order ID|Order Date|Ship Date|Ship Mode|Customer ID|Customer Name|Segment|Country|City|State|Postal Code|Region|Product ID|Category|Sub-Category|Product Name|Sales|Quantity|Discount|Profit|\n",
            "+-------+------+--------+----------+---------+---------+-----------+-------------+-------+-------+----+-----+-----------+------+----------+--------+------------+------------+-----+--------+--------+------+\n",
            "|  count|  9994|    9994|      9994|     9994|     9994|       9994|         9994|   9994|   9994|9994| 9994|       9994|  9994|      9994|    9994|        9994|        9994| 9994|    9994|    9994|  9994|\n",
            "+-------+------+--------+----------+---------+---------+-----------+-------------+-------+-------+----+-----+-----------+------+----------+--------+------------+------------+-----+--------+--------+------+\n",
            "\n"
          ]
        }
      ]
    },
    {
      "cell_type": "markdown",
      "source": [
        "แสดงข้อมูลแถวที่มี Missing Value "
      ],
      "metadata": {
        "id": "yNJ24aXNJAqX"
      }
    },
    {
      "cell_type": "code",
      "source": [
        "superstore.where( superstore.Sales.isNull() ).show()"
      ],
      "metadata": {
        "colab": {
          "base_uri": "https://localhost:8080/"
        },
        "id": "hloMqaqDH29t",
        "outputId": "741ca4f3-ef43-4bd0-8ac2-352916bef269"
      },
      "execution_count": null,
      "outputs": [
        {
          "output_type": "stream",
          "name": "stdout",
          "text": [
            "+------+--------+----------+---------+---------+-----------+-------------+-------+-------+----+-----+-----------+------+----------+--------+------------+------------+-----+--------+--------+------+\n",
            "|Row ID|Order ID|Order Date|Ship Date|Ship Mode|Customer ID|Customer Name|Segment|Country|City|State|Postal Code|Region|Product ID|Category|Sub-Category|Product Name|Sales|Quantity|Discount|Profit|\n",
            "+------+--------+----------+---------+---------+-----------+-------------+-------+-------+----+-----+-----------+------+----------+--------+------------+------------+-----+--------+--------+------+\n",
            "+------+--------+----------+---------+---------+-----------+-------------+-------+-------+----+-----+-----------+------+----------+--------+------------+------------+-----+--------+--------+------+\n",
            "\n"
          ]
        }
      ]
    },
    {
      "cell_type": "markdown",
      "metadata": {
        "id": "qe1VrTpETgar"
      },
      "source": [
        "# Step 3) EDA - Exploratory Data Analysis"
      ]
    },
    {
      "cell_type": "markdown",
      "metadata": {
        "id": "LRmig4MaQm2s"
      },
      "source": [
        "## Non-Graphical EDA\n",
        "\n",
        "เราสามารถใช้คำสั่ง Spark ในการค้นหาข้อมูลที่ต้องการได้"
      ]
    },
    {
      "cell_type": "markdown",
      "source": [
        "Filter"
      ],
      "metadata": {
        "id": "Hr4Ig1IaKr1M"
      }
    },
    {
      "cell_type": "code",
      "source": [
        "# แสงดยอดขายมากกว่า 1000 และเรียง Sales มากที่สุดก่อน\n",
        "superstore.filter('Sales >= 5000 ').sort('Sales', ascending=False).show()"
      ],
      "metadata": {
        "colab": {
          "base_uri": "https://localhost:8080/"
        },
        "id": "Sg--JzV9JihO",
        "outputId": "4bc4d465-d669-4c9f-87aa-f3e127cfb6ea"
      },
      "execution_count": null,
      "outputs": [
        {
          "output_type": "stream",
          "name": "stdout",
          "text": [
            "+------+--------------+----------+----------+--------------+-----------+--------------------+-----------+-------------+-------------+--------------+-----------+-------+---------------+---------------+------------+--------------------+---------+--------+--------+----------+\n",
            "|Row ID|      Order ID|Order Date| Ship Date|     Ship Mode|Customer ID|       Customer Name|    Segment|      Country|         City|         State|Postal Code| Region|     Product ID|       Category|Sub-Category|        Product Name|    Sales|Quantity|Discount|    Profit|\n",
            "+------+--------------+----------+----------+--------------+-----------+--------------------+-----------+-------------+-------------+--------------+-----------+-------+---------------+---------------+------------+--------------------+---------+--------+--------+----------+\n",
            "|  9040|CA-2016-117121|2016-12-17|12/21/2016|Standard Class|   AB-10105|       Adrian Barton|   Consumer|United States|      Detroit|      Michigan|      48205|Central|OFF-BI-10000545|Office Supplies|     Binders|GBC Ibimaster 500...|  9892.74|      13|       0|   4946.37|\n",
            "|  4099|CA-2014-116904|2014-09-23| 9/28/2014|Standard Class|   SC-20095|        Sanjit Chand|   Consumer|United States|  Minneapolis|     Minnesota|      55407|Central|OFF-BI-10001120|Office Supplies|     Binders|Ibico EPK-21 Elec...|  9449.95|       5|       0| 4630.4755|\n",
            "|  4278|US-2016-107440|2016-04-16| 4/20/2016|Standard Class|   BS-11365|        Bill Shonely|  Corporate|United States|     Lakewood|    New Jersey|       8701|   East|TEC-MA-10001047|     Technology|    Machines|3D Systems Cube P...|  9099.93|       7|       0| 2365.9818|\n",
            "|  8489|CA-2016-158841|2016-02-02|  2/4/2016|  Second Class|   SE-20110|        Sanjit Engle|   Consumer|United States|    Arlington|      Virginia|      22204|  South|TEC-MA-10001127|     Technology|    Machines|\"HP Designjet T52...|  8749.95|       5|       0|  2799.984|\n",
            "|  6426|CA-2016-143714|2016-05-23| 5/27/2016|Standard Class|   CC-12370|  Christopher Conant|   Consumer|United States| Philadelphia|  Pennsylvania|      19120|   East|TEC-CO-10004722|     Technology|     Copiers|Canon imageCLASS ...| 8399.976|       4|     0.4| 1119.9968|\n",
            "|  2506|CA-2014-143917|2014-07-25| 7/27/2014|  Second Class|   KL-16645|        Ken Lonsdale|   Consumer|United States|San Francisco|    California|      94122|   West|OFF-SU-10000151|Office Supplies|    Supplies|High Speed Automa...|  8187.65|       5|       0|   327.506|\n",
            "|   166|CA-2014-139892|2014-09-08| 9/12/2014|Standard Class|   BM-11140|        Becky Martin|   Consumer|United States|  San Antonio|         Texas|      78207|Central|TEC-MA-10000822|     Technology|    Machines|Lexmark MX611dhe ...| 8159.952|       8|     0.4| -1359.992|\n",
            "|   684|US-2017-168116|2017-11-04| 11/4/2017|      Same Day|   GT-14635|      Grant Thornton|  Corporate|United States|   Burlington|North Carolina|      27217|  South|TEC-MA-10004125|     Technology|    Machines|Cubify CubeX 3D P...|  7999.98|       4|     0.5|-3839.9904|\n",
            "|  6627|CA-2014-145541|2014-12-14|12/21/2014|Standard Class|   TB-21400|    Tom Boeckenhauer|   Consumer|United States|New York City|      New York|      10024|   East|TEC-MA-10001127|     Technology|    Machines|\"HP Designjet T52...|  6999.96|       4|       0| 2239.9872|\n",
            "|   510|CA-2015-145352|2015-03-16| 3/22/2015|Standard Class|   CM-12385|Christopher Martinez|   Consumer|United States|      Atlanta|       Georgia|      30318|  South|OFF-BI-10003527|Office Supplies|     Binders|Fellowes PB500 El...|  6354.95|       5|       0|  3177.475|\n",
            "|  6521|CA-2017-138289|2017-01-16| 1/18/2017|  Second Class|   AR-10540|         Andy Reiter|   Consumer|United States|      Jackson|      Michigan|      49201|Central|OFF-BI-10004995|Office Supplies|     Binders|GBC DocuBind P400...|  5443.96|       4|       0| 2504.2216|\n",
            "|  7667|US-2016-140158|2016-10-04| 10/8/2016|Standard Class|   DR-12940|       Daniel Raglin|Home Office|United States|   Providence|  Rhode Island|       2908|   East|TEC-CO-10001449|     Technology|     Copiers|Hewlett Packard L...|  5399.91|       9|       0| 2591.9568|\n",
            "|  6341|CA-2017-143112|2017-10-05| 10/9/2017|Standard Class|   TS-21370|        Todd Sumrall|  Corporate|United States|New York City|      New York|      10035|   East|TEC-MA-10001047|     Technology|    Machines|3D Systems Cube P...|  5199.96|       4|       0| 1351.9896|\n",
            "|  8859|CA-2017-135909|2017-10-13|10/20/2017|Standard Class|   JW-15220|           Jane Waco|  Corporate|United States|   Sacramento|    California|      95823|   West|OFF-BI-10003527|Office Supplies|     Binders|Fellowes PB500 El...|  5083.96|       5|     0.2|  1906.485|\n",
            "|  2698|CA-2014-145317|2014-03-18| 3/23/2014|Standard Class|   SM-20320|         Sean Miller|Home Office|United States| Jacksonville|       Florida|      32216|  South|TEC-MA-10002412|     Technology|    Machines|Cisco TelePresenc...| 22638.48|       6|     0.5|-1811.0784|\n",
            "|  6827|CA-2016-118689|2016-10-02| 10/9/2016|Standard Class|   TC-20980|        Tamara Chand|  Corporate|United States|    Lafayette|       Indiana|      47905|Central|TEC-CO-10004722|     Technology|     Copiers|Canon imageCLASS ...| 17499.95|       5|       0|  8399.976|\n",
            "|  8154|CA-2017-140151|2017-03-23| 3/25/2017|   First Class|   RB-19360|        Raymond Buch|   Consumer|United States|      Seattle|    Washington|      98115|   West|TEC-CO-10004722|     Technology|     Copiers|Canon imageCLASS ...| 13999.96|       4|       0| 6719.9808|\n",
            "|  2624|CA-2017-127180|2017-10-22|10/24/2017|   First Class|   TA-21385|        Tom Ashbrook|Home Office|United States|New York City|      New York|      10024|   East|TEC-CO-10004722|     Technology|     Copiers|Canon imageCLASS ...|11199.968|       4|     0.2| 3919.9888|\n",
            "|  4191|CA-2017-166709|2017-11-17|11/22/2017|Standard Class|   HL-15040|        Hunter Lopez|   Consumer|United States|       Newark|      Delaware|      19711|   East|TEC-CO-10004722|     Technology|     Copiers|Canon imageCLASS ...| 10499.97|       3|       0| 5039.9856|\n",
            "+------+--------------+----------+----------+--------------+-----------+--------------------+-----------+-------------+-------------+--------------+-----------+-------+---------------+---------------+------------+--------------------+---------+--------+--------+----------+\n",
            "\n"
          ]
        }
      ]
    },
    {
      "cell_type": "code",
      "source": [
        "superstore.filter(superstore.Category == \"Office Supplies\" ).show()"
      ],
      "metadata": {
        "colab": {
          "base_uri": "https://localhost:8080/"
        },
        "id": "Ml6vb3iRK3JB",
        "outputId": "8d2e64aa-b167-4d65-f2fc-d018ee95c46b"
      },
      "execution_count": null,
      "outputs": [
        {
          "output_type": "stream",
          "name": "stdout",
          "text": [
            "+------+--------------+----------+----------+--------------+-----------+------------------+-----------+-------------+---------------+--------------+-----------+-------+---------------+---------------+------------+--------------------+---------------+--------+--------+--------+\n",
            "|Row ID|      Order ID|Order Date| Ship Date|     Ship Mode|Customer ID|     Customer Name|    Segment|      Country|           City|         State|Postal Code| Region|     Product ID|       Category|Sub-Category|        Product Name|          Sales|Quantity|Discount|  Profit|\n",
            "+------+--------------+----------+----------+--------------+-----------+------------------+-----------+-------------+---------------+--------------+-----------+-------+---------------+---------------+------------+--------------------+---------------+--------+--------+--------+\n",
            "|     3|CA-2016-138688|2016-06-12| 6/16/2016|  Second Class|   DV-13045|   Darrin Van Huff|  Corporate|United States|    Los Angeles|    California|      90036|   West|OFF-LA-10000240|Office Supplies|      Labels|Self-Adhesive Add...|          14.62|       2|       0|  6.8714|\n",
            "|     5|US-2015-108966|2015-10-11|10/18/2015|Standard Class|   SO-20335|    Sean O'Donnell|   Consumer|United States|Fort Lauderdale|       Florida|      33311|  South|OFF-ST-10000760|Office Supplies|     Storage|Eldon Fold 'N Rol...|         22.368|       2|     0.2|  2.5164|\n",
            "|     7|CA-2014-115812|2014-06-09| 6/14/2014|Standard Class|   BH-11710|   Brosina Hoffman|   Consumer|United States|    Los Angeles|    California|      90032|   West|OFF-AR-10002833|Office Supplies|         Art|          Newell 322|           7.28|       4|       0|  1.9656|\n",
            "|     9|CA-2014-115812|2014-06-09| 6/14/2014|Standard Class|   BH-11710|   Brosina Hoffman|   Consumer|United States|    Los Angeles|    California|      90032|   West|OFF-BI-10003910|Office Supplies|     Binders|DXL Angle-View Bi...|         18.504|       3|     0.2|  5.7825|\n",
            "|    10|CA-2014-115812|2014-06-09| 6/14/2014|Standard Class|   BH-11710|   Brosina Hoffman|   Consumer|United States|    Los Angeles|    California|      90032|   West|OFF-AP-10002892|Office Supplies|  Appliances|Belkin F5C206VTEL...|          114.9|       5|       0|   34.47|\n",
            "|    13|CA-2017-114412|2017-04-15| 4/20/2017|Standard Class|   AA-10480|      Andrew Allen|   Consumer|United States|        Concord|North Carolina|      28027|  South|OFF-PA-10002365|Office Supplies|       Paper|          Xerox 1967|         15.552|       3|     0.2|  5.4432|\n",
            "|    14|CA-2016-161389|2016-12-05|12/10/2016|Standard Class|   IM-15070|      Irene Maddox|   Consumer|United States|        Seattle|    Washington|      98103|   West|OFF-BI-10003656|Office Supplies|     Binders|Fellowes PB200 Pl...|        407.976|       3|     0.2|132.5922|\n",
            "|    15|US-2015-118983|2015-11-22|11/26/2015|Standard Class|   HP-14815|     Harold Pawlan|Home Office|United States|     Fort Worth|         Texas|      76106|Central|OFF-AP-10002311|Office Supplies|  Appliances|Holmes Replacemen...|          68.81|       5|     0.8|-123.858|\n",
            "|    16|US-2015-118983|2015-11-22|11/26/2015|Standard Class|   HP-14815|     Harold Pawlan|Home Office|United States|     Fort Worth|         Texas|      76106|Central|OFF-BI-10000756|Office Supplies|     Binders|Storex DuraTech R...|          2.544|       3|     0.8|  -3.816|\n",
            "|    17|CA-2014-105893|2014-11-11|11/18/2014|Standard Class|   PK-19075|         Pete Kriz|   Consumer|United States|        Madison|     Wisconsin|      53711|Central|OFF-ST-10004186|Office Supplies|     Storage|\"Stur-D-Stor Shel...|         665.88|       6|       0| 13.3176|\n",
            "|    18|CA-2014-167164|2014-05-13| 5/15/2014|  Second Class|   AG-10270|   Alejandro Grove|   Consumer|United States|    West Jordan|          Utah|      84084|   West|OFF-ST-10000107|Office Supplies|     Storage|Fellowes Super St...|           55.5|       2|       0|    9.99|\n",
            "|    19|CA-2014-143336|2014-08-27|  9/1/2014|  Second Class|   ZD-21925|Zuschuss Donatelli|   Consumer|United States|  San Francisco|    California|      94109|   West|OFF-AR-10003056|Office Supplies|         Art|          Newell 341|           8.56|       2|       0|  2.4824|\n",
            "|    21|CA-2014-143336|2014-08-27|  9/1/2014|  Second Class|   ZD-21925|Zuschuss Donatelli|   Consumer|United States|  San Francisco|    California|      94109|   West|OFF-BI-10002215|Office Supplies|     Binders|Wilson Jones Hang...|          22.72|       4|     0.2|   7.384|\n",
            "|    22|CA-2016-137330|2016-12-09|12/13/2016|Standard Class|   KB-16585|         Ken Black|  Corporate|United States|        Fremont|      Nebraska|      68025|Central|OFF-AR-10000246|Office Supplies|         Art|          Newell 318|          19.46|       7|       0|  5.0596|\n",
            "|    23|CA-2016-137330|2016-12-09|12/13/2016|Standard Class|   KB-16585|         Ken Black|  Corporate|United States|        Fremont|      Nebraska|      68025|Central|OFF-AP-10001492|Office Supplies|  Appliances|Acco Six-Outlet P...|          60.34|       7|       0| 15.6884|\n",
            "|    26|CA-2016-121755|2016-01-16| 1/20/2016|  Second Class|   EH-13945|     Eric Hoffmann|   Consumer|United States|    Los Angeles|    California|      90049|   West|OFF-BI-10001634|Office Supplies|     Binders|Wilson Jones Acti...|         11.648|       2|     0.2|  4.2224|\n",
            "|    29|US-2015-150630|2015-09-17| 9/21/2015|Standard Class|   TB-21520|   Tracy Blumstein|   Consumer|United States|   Philadelphia|  Pennsylvania|      19140|   East|OFF-BI-10000474|Office Supplies|     Binders|Avery Recycled Fl...|          9.618|       2|     0.7| -7.0532|\n",
            "|    31|US-2015-150630|2015-09-17| 9/21/2015|Standard Class|   TB-21520|   Tracy Blumstein|   Consumer|United States|   Philadelphia|  Pennsylvania|      19140|   East|OFF-EN-10001509|Office Supplies|   Envelopes|Poly String Tie E...|          3.264|       2|     0.2|  1.1016|\n",
            "|    32|US-2015-150630|2015-09-17| 9/21/2015|Standard Class|   TB-21520|   Tracy Blumstein|   Consumer|United States|   Philadelphia|  Pennsylvania|      19140|   East|OFF-AR-10004042|Office Supplies|         Art|BOSTON Model 1800...|         86.304|       6|     0.2|  9.7092|\n",
            "|    33|US-2015-150630|2015-09-17| 9/21/2015|Standard Class|   TB-21520|   Tracy Blumstein|   Consumer|United States|   Philadelphia|  Pennsylvania|      19140|   East|OFF-BI-10001525|Office Supplies|     Binders|\"Acco Pressboard ...| Executive Red\"|   6.858|       6|     0.7|\n",
            "+------+--------------+----------+----------+--------------+-----------+------------------+-----------+-------------+---------------+--------------+-----------+-------+---------------+---------------+------------+--------------------+---------------+--------+--------+--------+\n",
            "only showing top 20 rows\n",
            "\n"
          ]
        }
      ]
    },
    {
      "cell_type": "code",
      "source": [
        "from pyspark.sql.functions import col\n",
        "\n",
        "superstore.filter(col(\"City\") == \"Los Angeles\").show()"
      ],
      "metadata": {
        "colab": {
          "base_uri": "https://localhost:8080/"
        },
        "id": "RB2ofbsiM9Zc",
        "outputId": "a3611fcd-c8a8-47ba-9d4a-5e9434416852"
      },
      "execution_count": null,
      "outputs": [
        {
          "output_type": "stream",
          "name": "stdout",
          "text": [
            "+------+--------------+----------+----------+--------------+-----------+----------------+-----------+-------------+-----------+----------+-----------+------+---------------+---------------+------------+--------------------+--------+--------+--------+-------+\n",
            "|Row ID|      Order ID|Order Date| Ship Date|     Ship Mode|Customer ID|   Customer Name|    Segment|      Country|       City|     State|Postal Code|Region|     Product ID|       Category|Sub-Category|        Product Name|   Sales|Quantity|Discount| Profit|\n",
            "+------+--------------+----------+----------+--------------+-----------+----------------+-----------+-------------+-----------+----------+-----------+------+---------------+---------------+------------+--------------------+--------+--------+--------+-------+\n",
            "|     3|CA-2016-138688|2016-06-12| 6/16/2016|  Second Class|   DV-13045| Darrin Van Huff|  Corporate|United States|Los Angeles|California|      90036|  West|OFF-LA-10000240|Office Supplies|      Labels|Self-Adhesive Add...|   14.62|       2|       0| 6.8714|\n",
            "|     6|CA-2014-115812|2014-06-09| 6/14/2014|Standard Class|   BH-11710| Brosina Hoffman|   Consumer|United States|Los Angeles|California|      90032|  West|FUR-FU-10001487|      Furniture| Furnishings|Eldon Expressions...|   48.86|       7|       0|14.1694|\n",
            "|     7|CA-2014-115812|2014-06-09| 6/14/2014|Standard Class|   BH-11710| Brosina Hoffman|   Consumer|United States|Los Angeles|California|      90032|  West|OFF-AR-10002833|Office Supplies|         Art|          Newell 322|    7.28|       4|       0| 1.9656|\n",
            "|     8|CA-2014-115812|2014-06-09| 6/14/2014|Standard Class|   BH-11710| Brosina Hoffman|   Consumer|United States|Los Angeles|California|      90032|  West|TEC-PH-10002275|     Technology|      Phones|Mitel 5320 IP Pho...| 907.152|       6|     0.2|90.7152|\n",
            "|     9|CA-2014-115812|2014-06-09| 6/14/2014|Standard Class|   BH-11710| Brosina Hoffman|   Consumer|United States|Los Angeles|California|      90032|  West|OFF-BI-10003910|Office Supplies|     Binders|DXL Angle-View Bi...|  18.504|       3|     0.2| 5.7825|\n",
            "|    10|CA-2014-115812|2014-06-09| 6/14/2014|Standard Class|   BH-11710| Brosina Hoffman|   Consumer|United States|Los Angeles|California|      90032|  West|OFF-AP-10002892|Office Supplies|  Appliances|Belkin F5C206VTEL...|   114.9|       5|       0|  34.47|\n",
            "|    11|CA-2014-115812|2014-06-09| 6/14/2014|Standard Class|   BH-11710| Brosina Hoffman|   Consumer|United States|Los Angeles|California|      90032|  West|FUR-TA-10001539|      Furniture|      Tables|Chromcraft Rectan...|1706.184|       9|     0.2|85.3092|\n",
            "|    12|CA-2014-115812|2014-06-09| 6/14/2014|Standard Class|   BH-11710| Brosina Hoffman|   Consumer|United States|Los Angeles|California|      90032|  West|TEC-PH-10002033|     Technology|      Phones|Konftel 250 Confe...| 911.424|       4|     0.2|68.3568|\n",
            "|    26|CA-2016-121755|2016-01-16| 1/20/2016|  Second Class|   EH-13945|   Eric Hoffmann|   Consumer|United States|Los Angeles|California|      90049|  West|OFF-BI-10001634|Office Supplies|     Binders|Wilson Jones Acti...|  11.648|       2|     0.2| 4.2224|\n",
            "|    27|CA-2016-121755|2016-01-16| 1/20/2016|  Second Class|   EH-13945|   Eric Hoffmann|   Consumer|United States|Los Angeles|California|      90049|  West|TEC-AC-10003027|     Technology| Accessories|Imation 8GB Mini ...|   90.57|       3|       0|11.7741|\n",
            "|    43|CA-2016-101343|2016-07-17| 7/22/2016|Standard Class|   RA-19885|    Ruben Ausman|  Corporate|United States|Los Angeles|California|      90049|  West|OFF-ST-10003479|Office Supplies|     Storage|Eldon Base for st...|   77.88|       2|       0|  3.894|\n",
            "|    63|CA-2015-135545|2015-11-24|11/30/2015|Standard Class|   KM-16720|    Kunst Miller|   Consumer|United States|Los Angeles|California|      90004|  West|TEC-AC-10004633|     Technology| Accessories|Verbatim 25 GB 6x...|   13.98|       2|       0| 6.1512|\n",
            "|    64|CA-2015-135545|2015-11-24|11/30/2015|Standard Class|   KM-16720|    Kunst Miller|   Consumer|United States|Los Angeles|California|      90004|  West|OFF-BI-10001078|Office Supplies|     Binders|\"Acco PRESSTEX Da...|  25.824|       6|     0.2| 9.3612|\n",
            "|    65|CA-2015-135545|2015-11-24|11/30/2015|Standard Class|   KM-16720|    Kunst Miller|   Consumer|United States|Los Angeles|California|      90004|  West|OFF-PA-10003892|Office Supplies|       Paper|          Xerox 1943|  146.73|       3|       0|68.9631|\n",
            "|    66|CA-2015-135545|2015-11-24|11/30/2015|Standard Class|   KM-16720|    Kunst Miller|   Consumer|United States|Los Angeles|California|      90004|  West|FUR-FU-10000397|      Furniture| Furnishings|Luxo Economy Swin...|   79.76|       4|       0|22.3328|\n",
            "|    90|CA-2016-109806|2016-09-17| 9/22/2016|Standard Class|   JS-15685|        Jim Sink|  Corporate|United States|Los Angeles|California|      90036|  West|OFF-AR-10004930|Office Supplies|         Art|Turquoise Lead Ho...|    20.1|       3|       0|  6.633|\n",
            "|    91|CA-2016-109806|2016-09-17| 9/22/2016|Standard Class|   JS-15685|        Jim Sink|  Corporate|United States|Los Angeles|California|      90036|  West|TEC-PH-10004093|     Technology|      Phones|  Panasonic Kx-TS550|  73.584|       2|     0.2| 8.2782|\n",
            "|    92|CA-2016-109806|2016-09-17| 9/22/2016|Standard Class|   JS-15685|        Jim Sink|  Corporate|United States|Los Angeles|California|      90036|  West|OFF-PA-10000304|Office Supplies|       Paper|          Xerox 1995|    6.48|       1|       0| 3.1104|\n",
            "|   129|US-2016-125969|2016-11-06|11/10/2016|  Second Class|   LS-16975|Lindsay Shagiari|Home Office|United States|Los Angeles|California|      90004|  West|FUR-CH-10001146|      Furniture|      Chairs|Global Task Chair...|  81.424|       2|     0.2|-9.1602|\n",
            "|   130|US-2016-125969|2016-11-06|11/10/2016|  Second Class|   LS-16975|Lindsay Shagiari|Home Office|United States|Los Angeles|California|      90004|  West|FUR-FU-10003773|      Furniture| Furnishings|Eldon Cleatmat Pl...|  238.56|       3|       0|26.2416|\n",
            "+------+--------------+----------+----------+--------------+-----------+----------------+-----------+-------------+-----------+----------+-----------+------+---------------+---------------+------------+--------------------+--------+--------+--------+-------+\n",
            "only showing top 20 rows\n",
            "\n"
          ]
        }
      ]
    },
    {
      "cell_type": "markdown",
      "source": [
        "where"
      ],
      "metadata": {
        "id": "-epORX21O82-"
      }
    },
    {
      "cell_type": "code",
      "source": [
        "superstore.where(superstore.Profit > 10).select(['Customer ID','Category','Profit']).show()"
      ],
      "metadata": {
        "colab": {
          "base_uri": "https://localhost:8080/"
        },
        "id": "gk9NSNIZOBjD",
        "outputId": "a627adc5-6f6a-4ad5-81ee-c5728057b6ec"
      },
      "execution_count": null,
      "outputs": [
        {
          "output_type": "stream",
          "name": "stdout",
          "text": [
            "+-----------+---------------+--------+\n",
            "|Customer ID|       Category|  Profit|\n",
            "+-----------+---------------+--------+\n",
            "|   CG-12520|      Furniture| 41.9136|\n",
            "|   CG-12520|      Furniture| 219.582|\n",
            "|   BH-11710|      Furniture| 14.1694|\n",
            "|   BH-11710|     Technology| 90.7152|\n",
            "|   BH-11710|Office Supplies|   34.47|\n",
            "|   BH-11710|      Furniture| 85.3092|\n",
            "|   BH-11710|     Technology| 68.3568|\n",
            "|   IM-15070|Office Supplies|132.5922|\n",
            "|   PK-19075|Office Supplies| 13.3176|\n",
            "|   ZD-21925|     Technology|  16.011|\n",
            "|   KB-16585|Office Supplies| 15.6884|\n",
            "|   EB-13870|      Furniture|240.2649|\n",
            "|   EH-13945|     Technology| 11.7741|\n",
            "|   TB-21520|      Furniture|  15.525|\n",
            "|   GH-14485|     Technology|123.4737|\n",
            "|   SN-20710|Office Supplies|  35.415|\n",
            "|   SN-20710|     Technology| 41.7564|\n",
            "|   LC-16930|     Technology| 16.5564|\n",
            "|   ON-18715|     Technology| 19.7714|\n",
            "|   DP-13000|Office Supplies| 17.9634|\n",
            "+-----------+---------------+--------+\n",
            "only showing top 20 rows\n",
            "\n"
          ]
        }
      ]
    },
    {
      "cell_type": "code",
      "source": [
        "superstore.where(superstore.City == 'San Francisco' ).show()"
      ],
      "metadata": {
        "id": "qYLIxsg5PCpu",
        "colab": {
          "base_uri": "https://localhost:8080/"
        },
        "outputId": "0ef345d7-fe23-4df3-dafd-bae600749337"
      },
      "execution_count": null,
      "outputs": [
        {
          "output_type": "stream",
          "name": "stdout",
          "text": [
            "+------+--------------+----------+----------+--------------+-----------+------------------+---------+-------------+-------------+----------+-----------+------+---------------+---------------+------------+--------------------+-------+--------+--------+--------+\n",
            "|Row ID|      Order ID|Order Date| Ship Date|     Ship Mode|Customer ID|     Customer Name|  Segment|      Country|         City|     State|Postal Code|Region|     Product ID|       Category|Sub-Category|        Product Name|  Sales|Quantity|Discount|  Profit|\n",
            "+------+--------------+----------+----------+--------------+-----------+------------------+---------+-------------+-------------+----------+-----------+------+---------------+---------------+------------+--------------------+-------+--------+--------+--------+\n",
            "|    19|CA-2014-143336|2014-08-27|  9/1/2014|  Second Class|   ZD-21925|Zuschuss Donatelli| Consumer|United States|San Francisco|California|      94109|  West|OFF-AR-10003056|Office Supplies|         Art|          Newell 341|   8.56|       2|       0|  2.4824|\n",
            "|    20|CA-2014-143336|2014-08-27|  9/1/2014|  Second Class|   ZD-21925|Zuschuss Donatelli| Consumer|United States|San Francisco|California|      94109|  West|TEC-PH-10001949|     Technology|      Phones|Cisco SPA 501G IP...| 213.48|       3|     0.2|  16.011|\n",
            "|    21|CA-2014-143336|2014-08-27|  9/1/2014|  Second Class|   ZD-21925|Zuschuss Donatelli| Consumer|United States|San Francisco|California|      94109|  West|OFF-BI-10002215|Office Supplies|     Binders|Wilson Jones Hang...|  22.72|       4|     0.2|   7.384|\n",
            "|    82|CA-2014-139451|2014-10-12|10/16/2014|Standard Class|   DN-13690|      Duane Noonan| Consumer|United States|San Francisco|California|      94122|  West|OFF-AR-10002053|Office Supplies|         Art|Premium Writing P...|   14.9|       5|       0|   4.172|\n",
            "|    83|CA-2014-139451|2014-10-12|10/16/2014|Standard Class|   DN-13690|      Duane Noonan| Consumer|United States|San Francisco|California|      94122|  West|OFF-ST-10002370|Office Supplies|     Storage|Sortfiler Multipu...|  21.39|       1|       0|  6.2031|\n",
            "|    98|CA-2017-157833|2017-06-17| 6/20/2017|   First Class|   KD-16345|  Katherine Ducich| Consumer|United States|San Francisco|California|      94122|  West|OFF-BI-10001721|Office Supplies|     Binders|Trimflex Flexible...| 51.312|       3|     0.2| 17.9592|\n",
            "|   142|CA-2017-106180|2017-09-18| 9/23/2017|Standard Class|   SH-19975|     Sally Hughsby|Corporate|United States|San Francisco|California|      94122|  West|OFF-AR-10000940|Office Supplies|         Art|          Newell 343|   8.82|       3|       0|  2.3814|\n",
            "|   143|CA-2017-106180|2017-09-18| 9/23/2017|Standard Class|   SH-19975|     Sally Hughsby|Corporate|United States|San Francisco|California|      94122|  West|OFF-EN-10004030|Office Supplies|   Envelopes|Convenience Packs...|  10.86|       3|       0|  5.1042|\n",
            "|   144|CA-2017-106180|2017-09-18| 9/23/2017|Standard Class|   SH-19975|     Sally Hughsby|Corporate|United States|San Francisco|California|      94122|  West|OFF-PA-10004327|Office Supplies|       Paper|          Xerox 1911|  143.7|       3|       0|  68.976|\n",
            "|   250|CA-2016-154739|2016-12-10|12/15/2016|  Second Class|   LH-17155|  Logan Haushalter| Consumer|United States|San Francisco|California|      94109|  West|FUR-CH-10002965|      Furniture|      Chairs|Global Leather Hi...|321.568|       2|     0.2| 28.1372|\n",
            "|   271|CA-2017-163979|2017-12-28|  1/2/2018|  Second Class|   KH-16690|  Kristen Hastings|Corporate|United States|San Francisco|California|      94110|  West|OFF-ST-10003208|Office Supplies|     Storage|Adjustable Depth ...| 725.84|       4|       0|210.4936|\n",
            "|   272|CA-2015-155334|2015-07-30| 7/31/2015|   First Class|   HA-14920|    Helen Andreada| Consumer|United States|San Francisco|California|      94109|  West|TEC-AC-10003628|     Technology| Accessories|Logitech 910-0029...| 209.93|       7|       0| 92.3692|\n",
            "|   273|CA-2015-155334|2015-07-30| 7/31/2015|   First Class|   HA-14920|    Helen Andreada| Consumer|United States|San Francisco|California|      94109|  West|FUR-FU-10003274|      Furniture| Furnishings|Regeneration Desk...|   5.28|       3|       0|  2.3232|\n",
            "|   274|CA-2015-155334|2015-07-30| 7/31/2015|   First Class|   HA-14920|    Helen Andreada| Consumer|United States|San Francisco|California|      94109|  West|OFF-BI-10002557|Office Supplies|     Binders|Presstex Flexible...|  10.92|       3|     0.2|   4.095|\n",
            "|   338|CA-2014-129924|2014-07-12| 7/17/2014|Standard Class|   AC-10420|     Alyssa Crouse|Corporate|United States|San Francisco|California|      94122|  West|OFF-BI-10003314|Office Supplies|     Binders|Tuff Stuff Recycl...|  7.712|       2|     0.2|  2.7956|\n",
            "|   339|CA-2014-129924|2014-07-12| 7/17/2014|Standard Class|   AC-10420|     Alyssa Crouse|Corporate|United States|San Francisco|California|      94122|  West|FUR-TA-10004575|      Furniture|      Tables|Hon 5100 Series W...|698.352|       3|     0.2|-17.4588|\n",
            "|   346|CA-2017-169901|2017-06-15| 6/19/2017|Standard Class|   CC-12550|     Clay Cheatham| Consumer|United States|San Francisco|California|      94122|  West|TEC-PH-10002293|     Technology|      Phones|Anker 36W 4-Port ...| 47.976|       3|     0.2|  4.7976|\n",
            "|   366|CA-2014-123344|2014-09-24| 9/29/2014|Standard Class|   JD-16060|      Julia Dunbar| Consumer|United States|San Francisco|California|      94109|  West|OFF-ST-10001713|Office Supplies|     Storage|Gould Plastics 9-...| 211.96|       4|       0|  8.4784|\n",
            "|   382|CA-2016-134775|2016-10-28|10/29/2016|   First Class|   AS-10285|  Alejandro Savely|Corporate|United States|San Francisco|California|      94109|  West|OFF-PA-10004734|Office Supplies|       Paper|Southworth Struct...|  50.96|       7|       0|   25.48|\n",
            "|   383|CA-2016-134775|2016-10-28|10/29/2016|   First Class|   AS-10285|  Alejandro Savely|Corporate|United States|San Francisco|California|      94109|  West|OFF-BI-10002225|Office Supplies|     Binders|\"Square Ring Data...| 49.536|       3|     0.2| 17.3376|\n",
            "+------+--------------+----------+----------+--------------+-----------+------------------+---------+-------------+-------------+----------+-----------+------+---------------+---------------+------------+--------------------+-------+--------+--------+--------+\n",
            "only showing top 20 rows\n",
            "\n"
          ]
        }
      ]
    },
    {
      "cell_type": "code",
      "source": [
        "# นับ City มีกี่ City ที่ไม่ซ้ำกัน\n",
        "superstore.select('City').distinct().count()"
      ],
      "metadata": {
        "colab": {
          "base_uri": "https://localhost:8080/"
        },
        "id": "twqk0O_alv4J",
        "outputId": "c9b227cf-80f1-44d5-8cec-7577b08a35f1"
      },
      "execution_count": null,
      "outputs": [
        {
          "output_type": "execute_result",
          "data": {
            "text/plain": [
              "531"
            ]
          },
          "metadata": {},
          "execution_count": 339
        }
      ]
    },
    {
      "cell_type": "code",
      "source": [
        "# แสดงชื่อเมืองทั้งหมด \n",
        "superstore.select('City').distinct().sort('City').show(531, False)"
      ],
      "metadata": {
        "colab": {
          "base_uri": "https://localhost:8080/"
        },
        "id": "XgrdYm7MmaDP",
        "outputId": "4718509e-b084-43ef-ec5c-5cd9cd280f76"
      },
      "execution_count": null,
      "outputs": [
        {
          "output_type": "stream",
          "name": "stdout",
          "text": [
            "+-----------------+\n",
            "|City             |\n",
            "+-----------------+\n",
            "|Aberdeen         |\n",
            "|Abilene          |\n",
            "|Akron            |\n",
            "|Albuquerque      |\n",
            "|Alexandria       |\n",
            "|Allen            |\n",
            "|Allentown        |\n",
            "|Altoona          |\n",
            "|Amarillo         |\n",
            "|Anaheim          |\n",
            "|Andover          |\n",
            "|Ann Arbor        |\n",
            "|Antioch          |\n",
            "|Apopka           |\n",
            "|Apple Valley     |\n",
            "|Appleton         |\n",
            "|Arlington        |\n",
            "|Arlington Heights|\n",
            "|Arvada           |\n",
            "|Asheville        |\n",
            "|Athens           |\n",
            "|Atlanta          |\n",
            "|Atlantic City    |\n",
            "|Auburn           |\n",
            "|Aurora           |\n",
            "|Austin           |\n",
            "|Avondale         |\n",
            "|Bakersfield      |\n",
            "|Baltimore        |\n",
            "|Bangor           |\n",
            "|Bartlett         |\n",
            "|Bayonne          |\n",
            "|Baytown          |\n",
            "|Beaumont         |\n",
            "|Bedford          |\n",
            "|Belleville       |\n",
            "|Bellevue         |\n",
            "|Bellingham       |\n",
            "|Bethlehem        |\n",
            "|Beverly          |\n",
            "|Billings         |\n",
            "|Bloomington      |\n",
            "|Boca Raton       |\n",
            "|Boise            |\n",
            "|Bolingbrook      |\n",
            "|Bossier City     |\n",
            "|Bowling Green    |\n",
            "|Boynton Beach    |\n",
            "|Bozeman          |\n",
            "|Brentwood        |\n",
            "|Bridgeton        |\n",
            "|Bristol          |\n",
            "|Broken Arrow     |\n",
            "|Broomfield       |\n",
            "|Brownsville      |\n",
            "|Bryan            |\n",
            "|Buffalo          |\n",
            "|Buffalo Grove    |\n",
            "|Bullhead City    |\n",
            "|Burbank          |\n",
            "|Burlington       |\n",
            "|Caldwell         |\n",
            "|Camarillo        |\n",
            "|Cambridge        |\n",
            "|Canton           |\n",
            "|Carlsbad         |\n",
            "|Carol Stream     |\n",
            "|Carrollton       |\n",
            "|Cary             |\n",
            "|Cedar Hill       |\n",
            "|Cedar Rapids     |\n",
            "|Champaign        |\n",
            "|Chandler         |\n",
            "|Chapel Hill      |\n",
            "|Charlotte        |\n",
            "|Charlottesville  |\n",
            "|Chattanooga      |\n",
            "|Chesapeake       |\n",
            "|Chester          |\n",
            "|Cheyenne         |\n",
            "|Chicago          |\n",
            "|Chico            |\n",
            "|Chula Vista      |\n",
            "|Cincinnati       |\n",
            "|Citrus Heights   |\n",
            "|Clarksville      |\n",
            "|Cleveland        |\n",
            "|Clifton          |\n",
            "|Clinton          |\n",
            "|Clovis           |\n",
            "|Coachella        |\n",
            "|College Station  |\n",
            "|Colorado Springs |\n",
            "|Columbia         |\n",
            "|Columbus         |\n",
            "|Commerce City    |\n",
            "|Concord          |\n",
            "|Conroe           |\n",
            "|Conway           |\n",
            "|Coon Rapids      |\n",
            "|Coppell          |\n",
            "|Coral Gables     |\n",
            "|Coral Springs    |\n",
            "|Corpus Christi   |\n",
            "|Costa Mesa       |\n",
            "|Cottage Grove    |\n",
            "|Covington        |\n",
            "|Cranston         |\n",
            "|Cuyahoga Falls   |\n",
            "|Dallas           |\n",
            "|Danbury          |\n",
            "|Danville         |\n",
            "|Davis            |\n",
            "|Daytona Beach    |\n",
            "|Dearborn         |\n",
            "|Dearborn Heights |\n",
            "|Decatur          |\n",
            "|Deer Park        |\n",
            "|Delray Beach     |\n",
            "|Deltona          |\n",
            "|Denver           |\n",
            "|Des Moines       |\n",
            "|Des Plaines      |\n",
            "|Detroit          |\n",
            "|Dover            |\n",
            "|Draper           |\n",
            "|Dublin           |\n",
            "|Dubuque          |\n",
            "|Durham           |\n",
            "|Eagan            |\n",
            "|East Orange      |\n",
            "|East Point       |\n",
            "|Eau Claire       |\n",
            "|Edinburg         |\n",
            "|Edmond           |\n",
            "|Edmonds          |\n",
            "|El Cajon         |\n",
            "|El Paso          |\n",
            "|Elkhart          |\n",
            "|Elmhurst         |\n",
            "|Elyria           |\n",
            "|Encinitas        |\n",
            "|Englewood        |\n",
            "|Escondido        |\n",
            "|Eugene           |\n",
            "|Evanston         |\n",
            "|Everett          |\n",
            "|Fairfield        |\n",
            "|Fargo            |\n",
            "|Farmington       |\n",
            "|Fayetteville     |\n",
            "|Florence         |\n",
            "|Fort Collins     |\n",
            "|Fort Lauderdale  |\n",
            "|Fort Worth       |\n",
            "|Frankfort        |\n",
            "|Franklin         |\n",
            "|Freeport         |\n",
            "|Fremont          |\n",
            "|Fresno           |\n",
            "|Frisco           |\n",
            "|Gaithersburg     |\n",
            "|Garden City      |\n",
            "|Garland          |\n",
            "|Gastonia         |\n",
            "|Georgetown       |\n",
            "|Gilbert          |\n",
            "|Gladstone        |\n",
            "|Glendale         |\n",
            "|Glenview         |\n",
            "|Goldsboro        |\n",
            "|Grand Island     |\n",
            "|Grand Prairie    |\n",
            "|Grand Rapids     |\n",
            "|Grapevine        |\n",
            "|Great Falls      |\n",
            "|Greeley          |\n",
            "|Green Bay        |\n",
            "|Greensboro       |\n",
            "|Greenville       |\n",
            "|Greenwood        |\n",
            "|Gresham          |\n",
            "|Grove City       |\n",
            "|Gulfport         |\n",
            "|Hackensack       |\n",
            "|Hagerstown       |\n",
            "|Haltom City      |\n",
            "|Hamilton         |\n",
            "|Hampton          |\n",
            "|Harlingen        |\n",
            "|Harrisonburg     |\n",
            "|Hattiesburg      |\n",
            "|Helena           |\n",
            "|Hempstead        |\n",
            "|Henderson        |\n",
            "|Hendersonville   |\n",
            "|Hesperia         |\n",
            "|Hialeah          |\n",
            "|Hickory          |\n",
            "|Highland Park    |\n",
            "|Hillsboro        |\n",
            "|Holland          |\n",
            "|Hollywood        |\n",
            "|Holyoke          |\n",
            "|Homestead        |\n",
            "|Hoover           |\n",
            "|Hot Springs      |\n",
            "|Houston          |\n",
            "|Huntington Beach |\n",
            "|Huntsville       |\n",
            "|Independence     |\n",
            "|Indianapolis     |\n",
            "|Inglewood        |\n",
            "|Iowa City        |\n",
            "|Irving           |\n",
            "|Jackson          |\n",
            "|Jacksonville     |\n",
            "|Jamestown        |\n",
            "|Jefferson City   |\n",
            "|Johnson City     |\n",
            "|Jonesboro        |\n",
            "|Jupiter          |\n",
            "|Keller           |\n",
            "|Kenner           |\n",
            "|Kenosha          |\n",
            "|Kent             |\n",
            "|Kirkwood         |\n",
            "|Kissimmee        |\n",
            "|Knoxville        |\n",
            "|La Crosse        |\n",
            "|La Mesa          |\n",
            "|La Porte         |\n",
            "|La Quinta        |\n",
            "|Lafayette        |\n",
            "|Laguna Niguel    |\n",
            "|Lake Charles     |\n",
            "|Lake Elsinore    |\n",
            "|Lake Forest      |\n",
            "|Lakeland         |\n",
            "|Lakeville        |\n",
            "|Lakewood         |\n",
            "|Lancaster        |\n",
            "|Lansing          |\n",
            "|Laredo           |\n",
            "|Las Cruces       |\n",
            "|Las Vegas        |\n",
            "|Laurel           |\n",
            "|Lawrence         |\n",
            "|Lawton           |\n",
            "|Layton           |\n",
            "|League City      |\n",
            "|Lebanon          |\n",
            "|Lehi             |\n",
            "|Leominster       |\n",
            "|Lewiston         |\n",
            "|Lincoln Park     |\n",
            "|Linden           |\n",
            "|Lindenhurst      |\n",
            "|Little Rock      |\n",
            "|Littleton        |\n",
            "|Lodi             |\n",
            "|Logan            |\n",
            "|Long Beach       |\n",
            "|Longmont         |\n",
            "|Longview         |\n",
            "|Lorain           |\n",
            "|Los Angeles      |\n",
            "|Louisville       |\n",
            "|Loveland         |\n",
            "|Lowell           |\n",
            "|Lubbock          |\n",
            "|Macon            |\n",
            "|Madison          |\n",
            "|Malden           |\n",
            "|Manchester       |\n",
            "|Manhattan        |\n",
            "|Mansfield        |\n",
            "|Manteca          |\n",
            "|Maple Grove      |\n",
            "|Margate          |\n",
            "|Marietta         |\n",
            "|Marion           |\n",
            "|Marlborough      |\n",
            "|Marysville       |\n",
            "|Mason            |\n",
            "|Mcallen          |\n",
            "|Medford          |\n",
            "|Medina           |\n",
            "|Melbourne        |\n",
            "|Memphis          |\n",
            "|Mentor           |\n",
            "|Meriden          |\n",
            "|Meridian         |\n",
            "|Mesa             |\n",
            "|Mesquite         |\n",
            "|Miami            |\n",
            "|Middletown       |\n",
            "|Midland          |\n",
            "|Milford          |\n",
            "|Milwaukee        |\n",
            "|Minneapolis      |\n",
            "|Miramar          |\n",
            "|Mishawaka        |\n",
            "|Mission Viejo    |\n",
            "|Missoula         |\n",
            "|Missouri City    |\n",
            "|Mobile           |\n",
            "|Modesto          |\n",
            "|Monroe           |\n",
            "|Montebello       |\n",
            "|Montgomery       |\n",
            "|Moorhead         |\n",
            "|Moreno Valley    |\n",
            "|Morgan Hill      |\n",
            "|Morristown       |\n",
            "|Mount Pleasant   |\n",
            "|Mount Vernon     |\n",
            "|Murfreesboro     |\n",
            "|Murray           |\n",
            "|Murrieta         |\n",
            "|Muskogee         |\n",
            "|Naperville       |\n",
            "|Nashua           |\n",
            "|Nashville        |\n",
            "|New Albany       |\n",
            "|New Bedford      |\n",
            "|New Brunswick    |\n",
            "|New Castle       |\n",
            "|New Rochelle     |\n",
            "|New York City    |\n",
            "|Newark           |\n",
            "|Newport News     |\n",
            "|Niagara Falls    |\n",
            "|Noblesville      |\n",
            "|Norfolk          |\n",
            "|Normal           |\n",
            "|Norman           |\n",
            "|North Charleston |\n",
            "|North Las Vegas  |\n",
            "|North Miami      |\n",
            "|Norwich          |\n",
            "|Oak Park         |\n",
            "|Oakland          |\n",
            "|Oceanside        |\n",
            "|Odessa           |\n",
            "|Oklahoma City    |\n",
            "|Olathe           |\n",
            "|Olympia          |\n",
            "|Omaha            |\n",
            "|Ontario          |\n",
            "|Orange           |\n",
            "|Orem             |\n",
            "|Orland Park      |\n",
            "|Orlando          |\n",
            "|Ormond Beach     |\n",
            "|Oswego           |\n",
            "|Overland Park    |\n",
            "|Owensboro        |\n",
            "|Oxnard           |\n",
            "|Palatine         |\n",
            "|Palm Coast       |\n",
            "|Park Ridge       |\n",
            "|Parker           |\n",
            "|Parma            |\n",
            "|Pasadena         |\n",
            "|Pasco            |\n",
            "|Passaic          |\n",
            "|Paterson         |\n",
            "|Pearland         |\n",
            "|Pembroke Pines   |\n",
            "|Pensacola        |\n",
            "|Peoria           |\n",
            "|Perth Amboy      |\n",
            "|Pharr            |\n",
            "|Philadelphia     |\n",
            "|Phoenix          |\n",
            "|Pico Rivera      |\n",
            "|Pine Bluff       |\n",
            "|Plainfield       |\n",
            "|Plano            |\n",
            "|Plantation       |\n",
            "|Pleasant Grove   |\n",
            "|Pocatello        |\n",
            "|Pomona           |\n",
            "|Pompano Beach    |\n",
            "|Port Arthur      |\n",
            "|Port Orange      |\n",
            "|Port Saint Lucie |\n",
            "|Portage          |\n",
            "|Portland         |\n",
            "|Providence       |\n",
            "|Provo            |\n",
            "|Pueblo           |\n",
            "|Quincy           |\n",
            "|Raleigh          |\n",
            "|Rancho Cucamonga |\n",
            "|Rapid City       |\n",
            "|Reading          |\n",
            "|Redding          |\n",
            "|Redlands         |\n",
            "|Redmond          |\n",
            "|Redondo Beach    |\n",
            "|Redwood City     |\n",
            "|Reno             |\n",
            "|Renton           |\n",
            "|Revere           |\n",
            "|Richardson       |\n",
            "|Richmond         |\n",
            "|Rio Rancho       |\n",
            "|Riverside        |\n",
            "|Rochester        |\n",
            "|Rochester Hills  |\n",
            "|Rock Hill        |\n",
            "|Rockford         |\n",
            "|Rockville        |\n",
            "|Rogers           |\n",
            "|Rome             |\n",
            "|Romeoville       |\n",
            "|Roseville        |\n",
            "|Roswell          |\n",
            "|Round Rock       |\n",
            "|Royal Oak        |\n",
            "|Sacramento       |\n",
            "|Saginaw          |\n",
            "|Saint Charles    |\n",
            "|Saint Cloud      |\n",
            "|Saint Louis      |\n",
            "|Saint Paul       |\n",
            "|Saint Peters     |\n",
            "|Saint Petersburg |\n",
            "|Salem            |\n",
            "|Salinas          |\n",
            "|Salt Lake City   |\n",
            "|San Angelo       |\n",
            "|San Antonio      |\n",
            "|San Bernardino   |\n",
            "|San Clemente     |\n",
            "|San Diego        |\n",
            "|San Francisco    |\n",
            "|San Gabriel      |\n",
            "|San Jose         |\n",
            "|San Luis Obispo  |\n",
            "|San Marcos       |\n",
            "|San Mateo        |\n",
            "|Sandy Springs    |\n",
            "|Sanford          |\n",
            "|Santa Ana        |\n",
            "|Santa Barbara    |\n",
            "|Santa Clara      |\n",
            "|Santa Fe         |\n",
            "|Santa Maria      |\n",
            "|Scottsdale       |\n",
            "|Seattle          |\n",
            "|Sheboygan        |\n",
            "|Shelton          |\n",
            "|Sierra Vista     |\n",
            "|Sioux Falls      |\n",
            "|Skokie           |\n",
            "|Smyrna           |\n",
            "|South Bend       |\n",
            "|Southaven        |\n",
            "|Sparks           |\n",
            "|Spokane          |\n",
            "|Springdale       |\n",
            "|Springfield      |\n",
            "|Sterling Heights |\n",
            "|Stockton         |\n",
            "|Suffolk          |\n",
            "|Summerville      |\n",
            "|Sunnyvale        |\n",
            "|Superior         |\n",
            "|Tallahassee      |\n",
            "|Tamarac          |\n",
            "|Tampa            |\n",
            "|Taylor           |\n",
            "|Temecula         |\n",
            "|Tempe            |\n",
            "|Texarkana        |\n",
            "|Texas City       |\n",
            "|The Colony       |\n",
            "|Thomasville      |\n",
            "|Thornton         |\n",
            "|Thousand Oaks    |\n",
            "|Tigard           |\n",
            "|Tinley Park      |\n",
            "|Toledo           |\n",
            "|Torrance         |\n",
            "|Trenton          |\n",
            "|Troy             |\n",
            "|Tucson           |\n",
            "|Tulsa            |\n",
            "|Tuscaloosa       |\n",
            "|Twin Falls       |\n",
            "|Tyler            |\n",
            "|Urbandale        |\n",
            "|Utica            |\n",
            "|Vacaville        |\n",
            "|Vallejo          |\n",
            "|Vancouver        |\n",
            "|Vineland         |\n",
            "|Virginia Beach   |\n",
            "|Visalia          |\n",
            "|Waco             |\n",
            "|Warner Robins    |\n",
            "|Warwick          |\n",
            "|Washington       |\n",
            "|Waterbury        |\n",
            "|Waterloo         |\n",
            "|Watertown        |\n",
            "|Waukesha         |\n",
            "|Wausau           |\n",
            "|Waynesboro       |\n",
            "|West Allis       |\n",
            "|West Jordan      |\n",
            "|West Palm Beach  |\n",
            "|Westfield        |\n",
            "|Westland         |\n",
            "|Westminster      |\n",
            "|Wheeling         |\n",
            "|Whittier         |\n",
            "|Wichita          |\n",
            "|Wilmington       |\n",
            "|Wilson           |\n",
            "|Woodbury         |\n",
            "|Woodland         |\n",
            "|Woodstock        |\n",
            "|Woonsocket       |\n",
            "|Yonkers          |\n",
            "|York             |\n",
            "|Yucaipa          |\n",
            "|Yuma             |\n",
            "+-----------------+\n",
            "\n"
          ]
        }
      ]
    },
    {
      "cell_type": "markdown",
      "source": [
        "##EDA แบบใช้กราฟฟิก"
      ],
      "metadata": {
        "id": "jDX9XkQHAHUr"
      }
    },
    {
      "cell_type": "code",
      "source": [
        "import pandas as pd\n",
        "import seaborn as sns\n",
        "import matplotlib.pyplot as plt\n",
        "import numpy as np"
      ],
      "metadata": {
        "id": "BfwGVopqp8H3"
      },
      "execution_count": null,
      "outputs": []
    },
    {
      "cell_type": "code",
      "source": [
        "df_superstore = superstore.toPandas()"
      ],
      "metadata": {
        "id": "NZ9MBEwkunr1"
      },
      "execution_count": null,
      "outputs": []
    },
    {
      "cell_type": "code",
      "source": [
        "df_superstore.head()"
      ],
      "metadata": {
        "colab": {
          "base_uri": "https://localhost:8080/",
          "height": 629
        },
        "id": "lmfhZMqzvxMK",
        "outputId": "95eb20b1-c4aa-4a4e-f9b8-982a9f2bef2f"
      },
      "execution_count": null,
      "outputs": [
        {
          "output_type": "execute_result",
          "data": {
            "text/plain": [
              "   Row ID        Order ID  Order Date   Ship Date       Ship Mode Customer ID  \\\n",
              "0       1  CA-2016-152156  2016-11-08  11/11/2016    Second Class    CG-12520   \n",
              "1       2  CA-2016-152156  2016-11-08  11/11/2016    Second Class    CG-12520   \n",
              "2       3  CA-2016-138688  2016-06-12   6/16/2016    Second Class    DV-13045   \n",
              "3       4  US-2015-108966  2015-10-11  10/18/2015  Standard Class    SO-20335   \n",
              "4       5  US-2015-108966  2015-10-11  10/18/2015  Standard Class    SO-20335   \n",
              "\n",
              "     Customer Name    Segment        Country             City  ...  \\\n",
              "0      Claire Gute   Consumer  United States        Henderson  ...   \n",
              "1      Claire Gute   Consumer  United States        Henderson  ...   \n",
              "2  Darrin Van Huff  Corporate  United States      Los Angeles  ...   \n",
              "3   Sean O'Donnell   Consumer  United States  Fort Lauderdale  ...   \n",
              "4   Sean O'Donnell   Consumer  United States  Fort Lauderdale  ...   \n",
              "\n",
              "  Postal Code  Region       Product ID         Category Sub-Category  \\\n",
              "0       42420   South  FUR-BO-10001798        Furniture    Bookcases   \n",
              "1       42420   South  FUR-CH-10000454        Furniture       Chairs   \n",
              "2       90036    West  OFF-LA-10000240  Office Supplies       Labels   \n",
              "3       33311   South  FUR-TA-10000577        Furniture       Tables   \n",
              "4       33311   South  OFF-ST-10000760  Office Supplies      Storage   \n",
              "\n",
              "                                        Product Name     Sales Quantity  \\\n",
              "0                  Bush Somerset Collection Bookcase    261.96        2   \n",
              "1  Hon Deluxe Fabric Upholstered Stacking Chairs,...    731.94        3   \n",
              "2  Self-Adhesive Address Labels for Typewriters b...     14.62        2   \n",
              "3      Bretford CR4500 Series Slim Rectangular Table  957.5775        5   \n",
              "4                     Eldon Fold 'N Roll Cart System    22.368        2   \n",
              "\n",
              "  Discount    Profit  \n",
              "0        0   41.9136  \n",
              "1        0  219.5820  \n",
              "2        0    6.8714  \n",
              "3     0.45 -383.0310  \n",
              "4      0.2    2.5164  \n",
              "\n",
              "[5 rows x 21 columns]"
            ],
            "text/html": [
              "\n",
              "  <div id=\"df-e9516fb7-2ba1-468f-b434-accef901daf9\">\n",
              "    <div class=\"colab-df-container\">\n",
              "      <div>\n",
              "<style scoped>\n",
              "    .dataframe tbody tr th:only-of-type {\n",
              "        vertical-align: middle;\n",
              "    }\n",
              "\n",
              "    .dataframe tbody tr th {\n",
              "        vertical-align: top;\n",
              "    }\n",
              "\n",
              "    .dataframe thead th {\n",
              "        text-align: right;\n",
              "    }\n",
              "</style>\n",
              "<table border=\"1\" class=\"dataframe\">\n",
              "  <thead>\n",
              "    <tr style=\"text-align: right;\">\n",
              "      <th></th>\n",
              "      <th>Row ID</th>\n",
              "      <th>Order ID</th>\n",
              "      <th>Order Date</th>\n",
              "      <th>Ship Date</th>\n",
              "      <th>Ship Mode</th>\n",
              "      <th>Customer ID</th>\n",
              "      <th>Customer Name</th>\n",
              "      <th>Segment</th>\n",
              "      <th>Country</th>\n",
              "      <th>City</th>\n",
              "      <th>...</th>\n",
              "      <th>Postal Code</th>\n",
              "      <th>Region</th>\n",
              "      <th>Product ID</th>\n",
              "      <th>Category</th>\n",
              "      <th>Sub-Category</th>\n",
              "      <th>Product Name</th>\n",
              "      <th>Sales</th>\n",
              "      <th>Quantity</th>\n",
              "      <th>Discount</th>\n",
              "      <th>Profit</th>\n",
              "    </tr>\n",
              "  </thead>\n",
              "  <tbody>\n",
              "    <tr>\n",
              "      <th>0</th>\n",
              "      <td>1</td>\n",
              "      <td>CA-2016-152156</td>\n",
              "      <td>2016-11-08</td>\n",
              "      <td>11/11/2016</td>\n",
              "      <td>Second Class</td>\n",
              "      <td>CG-12520</td>\n",
              "      <td>Claire Gute</td>\n",
              "      <td>Consumer</td>\n",
              "      <td>United States</td>\n",
              "      <td>Henderson</td>\n",
              "      <td>...</td>\n",
              "      <td>42420</td>\n",
              "      <td>South</td>\n",
              "      <td>FUR-BO-10001798</td>\n",
              "      <td>Furniture</td>\n",
              "      <td>Bookcases</td>\n",
              "      <td>Bush Somerset Collection Bookcase</td>\n",
              "      <td>261.96</td>\n",
              "      <td>2</td>\n",
              "      <td>0</td>\n",
              "      <td>41.9136</td>\n",
              "    </tr>\n",
              "    <tr>\n",
              "      <th>1</th>\n",
              "      <td>2</td>\n",
              "      <td>CA-2016-152156</td>\n",
              "      <td>2016-11-08</td>\n",
              "      <td>11/11/2016</td>\n",
              "      <td>Second Class</td>\n",
              "      <td>CG-12520</td>\n",
              "      <td>Claire Gute</td>\n",
              "      <td>Consumer</td>\n",
              "      <td>United States</td>\n",
              "      <td>Henderson</td>\n",
              "      <td>...</td>\n",
              "      <td>42420</td>\n",
              "      <td>South</td>\n",
              "      <td>FUR-CH-10000454</td>\n",
              "      <td>Furniture</td>\n",
              "      <td>Chairs</td>\n",
              "      <td>Hon Deluxe Fabric Upholstered Stacking Chairs,...</td>\n",
              "      <td>731.94</td>\n",
              "      <td>3</td>\n",
              "      <td>0</td>\n",
              "      <td>219.5820</td>\n",
              "    </tr>\n",
              "    <tr>\n",
              "      <th>2</th>\n",
              "      <td>3</td>\n",
              "      <td>CA-2016-138688</td>\n",
              "      <td>2016-06-12</td>\n",
              "      <td>6/16/2016</td>\n",
              "      <td>Second Class</td>\n",
              "      <td>DV-13045</td>\n",
              "      <td>Darrin Van Huff</td>\n",
              "      <td>Corporate</td>\n",
              "      <td>United States</td>\n",
              "      <td>Los Angeles</td>\n",
              "      <td>...</td>\n",
              "      <td>90036</td>\n",
              "      <td>West</td>\n",
              "      <td>OFF-LA-10000240</td>\n",
              "      <td>Office Supplies</td>\n",
              "      <td>Labels</td>\n",
              "      <td>Self-Adhesive Address Labels for Typewriters b...</td>\n",
              "      <td>14.62</td>\n",
              "      <td>2</td>\n",
              "      <td>0</td>\n",
              "      <td>6.8714</td>\n",
              "    </tr>\n",
              "    <tr>\n",
              "      <th>3</th>\n",
              "      <td>4</td>\n",
              "      <td>US-2015-108966</td>\n",
              "      <td>2015-10-11</td>\n",
              "      <td>10/18/2015</td>\n",
              "      <td>Standard Class</td>\n",
              "      <td>SO-20335</td>\n",
              "      <td>Sean O'Donnell</td>\n",
              "      <td>Consumer</td>\n",
              "      <td>United States</td>\n",
              "      <td>Fort Lauderdale</td>\n",
              "      <td>...</td>\n",
              "      <td>33311</td>\n",
              "      <td>South</td>\n",
              "      <td>FUR-TA-10000577</td>\n",
              "      <td>Furniture</td>\n",
              "      <td>Tables</td>\n",
              "      <td>Bretford CR4500 Series Slim Rectangular Table</td>\n",
              "      <td>957.5775</td>\n",
              "      <td>5</td>\n",
              "      <td>0.45</td>\n",
              "      <td>-383.0310</td>\n",
              "    </tr>\n",
              "    <tr>\n",
              "      <th>4</th>\n",
              "      <td>5</td>\n",
              "      <td>US-2015-108966</td>\n",
              "      <td>2015-10-11</td>\n",
              "      <td>10/18/2015</td>\n",
              "      <td>Standard Class</td>\n",
              "      <td>SO-20335</td>\n",
              "      <td>Sean O'Donnell</td>\n",
              "      <td>Consumer</td>\n",
              "      <td>United States</td>\n",
              "      <td>Fort Lauderdale</td>\n",
              "      <td>...</td>\n",
              "      <td>33311</td>\n",
              "      <td>South</td>\n",
              "      <td>OFF-ST-10000760</td>\n",
              "      <td>Office Supplies</td>\n",
              "      <td>Storage</td>\n",
              "      <td>Eldon Fold 'N Roll Cart System</td>\n",
              "      <td>22.368</td>\n",
              "      <td>2</td>\n",
              "      <td>0.2</td>\n",
              "      <td>2.5164</td>\n",
              "    </tr>\n",
              "  </tbody>\n",
              "</table>\n",
              "<p>5 rows × 21 columns</p>\n",
              "</div>\n",
              "      <button class=\"colab-df-convert\" onclick=\"convertToInteractive('df-e9516fb7-2ba1-468f-b434-accef901daf9')\"\n",
              "              title=\"Convert this dataframe to an interactive table.\"\n",
              "              style=\"display:none;\">\n",
              "        \n",
              "  <svg xmlns=\"http://www.w3.org/2000/svg\" height=\"24px\"viewBox=\"0 0 24 24\"\n",
              "       width=\"24px\">\n",
              "    <path d=\"M0 0h24v24H0V0z\" fill=\"none\"/>\n",
              "    <path d=\"M18.56 5.44l.94 2.06.94-2.06 2.06-.94-2.06-.94-.94-2.06-.94 2.06-2.06.94zm-11 1L8.5 8.5l.94-2.06 2.06-.94-2.06-.94L8.5 2.5l-.94 2.06-2.06.94zm10 10l.94 2.06.94-2.06 2.06-.94-2.06-.94-.94-2.06-.94 2.06-2.06.94z\"/><path d=\"M17.41 7.96l-1.37-1.37c-.4-.4-.92-.59-1.43-.59-.52 0-1.04.2-1.43.59L10.3 9.45l-7.72 7.72c-.78.78-.78 2.05 0 2.83L4 21.41c.39.39.9.59 1.41.59.51 0 1.02-.2 1.41-.59l7.78-7.78 2.81-2.81c.8-.78.8-2.07 0-2.86zM5.41 20L4 18.59l7.72-7.72 1.47 1.35L5.41 20z\"/>\n",
              "  </svg>\n",
              "      </button>\n",
              "      \n",
              "  <style>\n",
              "    .colab-df-container {\n",
              "      display:flex;\n",
              "      flex-wrap:wrap;\n",
              "      gap: 12px;\n",
              "    }\n",
              "\n",
              "    .colab-df-convert {\n",
              "      background-color: #E8F0FE;\n",
              "      border: none;\n",
              "      border-radius: 50%;\n",
              "      cursor: pointer;\n",
              "      display: none;\n",
              "      fill: #1967D2;\n",
              "      height: 32px;\n",
              "      padding: 0 0 0 0;\n",
              "      width: 32px;\n",
              "    }\n",
              "\n",
              "    .colab-df-convert:hover {\n",
              "      background-color: #E2EBFA;\n",
              "      box-shadow: 0px 1px 2px rgba(60, 64, 67, 0.3), 0px 1px 3px 1px rgba(60, 64, 67, 0.15);\n",
              "      fill: #174EA6;\n",
              "    }\n",
              "\n",
              "    [theme=dark] .colab-df-convert {\n",
              "      background-color: #3B4455;\n",
              "      fill: #D2E3FC;\n",
              "    }\n",
              "\n",
              "    [theme=dark] .colab-df-convert:hover {\n",
              "      background-color: #434B5C;\n",
              "      box-shadow: 0px 1px 3px 1px rgba(0, 0, 0, 0.15);\n",
              "      filter: drop-shadow(0px 1px 2px rgba(0, 0, 0, 0.3));\n",
              "      fill: #FFFFFF;\n",
              "    }\n",
              "  </style>\n",
              "\n",
              "      <script>\n",
              "        const buttonEl =\n",
              "          document.querySelector('#df-e9516fb7-2ba1-468f-b434-accef901daf9 button.colab-df-convert');\n",
              "        buttonEl.style.display =\n",
              "          google.colab.kernel.accessAllowed ? 'block' : 'none';\n",
              "\n",
              "        async function convertToInteractive(key) {\n",
              "          const element = document.querySelector('#df-e9516fb7-2ba1-468f-b434-accef901daf9');\n",
              "          const dataTable =\n",
              "            await google.colab.kernel.invokeFunction('convertToInteractive',\n",
              "                                                     [key], {});\n",
              "          if (!dataTable) return;\n",
              "\n",
              "          const docLinkHtml = 'Like what you see? Visit the ' +\n",
              "            '<a target=\"_blank\" href=https://colab.research.google.com/notebooks/data_table.ipynb>data table notebook</a>'\n",
              "            + ' to learn more about interactive tables.';\n",
              "          element.innerHTML = '';\n",
              "          dataTable['output_type'] = 'display_data';\n",
              "          await google.colab.output.renderOutput(dataTable, element);\n",
              "          const docLink = document.createElement('div');\n",
              "          docLink.innerHTML = docLinkHtml;\n",
              "          element.appendChild(docLink);\n",
              "        }\n",
              "      </script>\n",
              "    </div>\n",
              "  </div>\n",
              "  "
            ]
          },
          "metadata": {},
          "execution_count": 343
        }
      ]
    },
    {
      "cell_type": "code",
      "source": [
        "# แปลง Sales เป็น float\n",
        "# แปลง Quantity, Discount เป็น int\n",
        "\n",
        "df_superstore['Sales'] = pd.to_numeric(df_superstore['Sales'],errors='coerce')"
      ],
      "metadata": {
        "id": "qe3-ajVXv2Lo"
      },
      "execution_count": null,
      "outputs": []
    },
    {
      "cell_type": "code",
      "source": [
        "df_superstore['Quantity'] = pd.to_numeric(df_superstore['Quantity'], errors='coerce')\n",
        "df_superstore['Discount'] = pd.to_numeric(df_superstore['Discount'], errors='coerce')"
      ],
      "metadata": {
        "id": "2Ssi5YH1xk_t"
      },
      "execution_count": null,
      "outputs": []
    },
    {
      "cell_type": "code",
      "source": [
        "df_superstore.info()"
      ],
      "metadata": {
        "colab": {
          "base_uri": "https://localhost:8080/"
        },
        "id": "Pzz0x1spusxy",
        "outputId": "29ce471d-1806-4425-e21b-3028252a74d6"
      },
      "execution_count": null,
      "outputs": [
        {
          "output_type": "stream",
          "name": "stdout",
          "text": [
            "<class 'pandas.core.frame.DataFrame'>\n",
            "RangeIndex: 9994 entries, 0 to 9993\n",
            "Data columns (total 21 columns):\n",
            " #   Column         Non-Null Count  Dtype  \n",
            "---  ------         --------------  -----  \n",
            " 0   Row ID         9994 non-null   int32  \n",
            " 1   Order ID       9994 non-null   object \n",
            " 2   Order Date     9994 non-null   object \n",
            " 3   Ship Date      9994 non-null   object \n",
            " 4   Ship Mode      9994 non-null   object \n",
            " 5   Customer ID    9994 non-null   object \n",
            " 6   Customer Name  9994 non-null   object \n",
            " 7   Segment        9994 non-null   object \n",
            " 8   Country        9994 non-null   object \n",
            " 9   City           9994 non-null   object \n",
            " 10  State          9994 non-null   object \n",
            " 11  Postal Code    9994 non-null   int32  \n",
            " 12  Region         9994 non-null   object \n",
            " 13  Product ID     9994 non-null   object \n",
            " 14  Category       9994 non-null   object \n",
            " 15  Sub-Category   9994 non-null   object \n",
            " 16  Product Name   9994 non-null   object \n",
            " 17  Sales          9694 non-null   float64\n",
            " 18  Quantity       9974 non-null   float64\n",
            " 19  Discount       9983 non-null   float64\n",
            " 20  Profit         9994 non-null   float64\n",
            "dtypes: float64(4), int32(2), object(15)\n",
            "memory usage: 1.5+ MB\n"
          ]
        }
      ]
    },
    {
      "cell_type": "markdown",
      "source": [
        "Boxplot"
      ],
      "metadata": {
        "id": "9AruAQP3uyJs"
      }
    },
    {
      "cell_type": "code",
      "source": [
        "sns.boxplot(data=df_superstore[['Sales']])"
      ],
      "metadata": {
        "colab": {
          "base_uri": "https://localhost:8080/",
          "height": 282
        },
        "id": "uJIS59jkuuCe",
        "outputId": "e449997e-0e70-4a8c-ed36-128b3404ffa7"
      },
      "execution_count": null,
      "outputs": [
        {
          "output_type": "execute_result",
          "data": {
            "text/plain": [
              "<matplotlib.axes._subplots.AxesSubplot at 0x7f6024cb21d0>"
            ]
          },
          "metadata": {},
          "execution_count": 347
        },
        {
          "output_type": "display_data",
          "data": {
            "text/plain": [
              "<Figure size 432x288 with 1 Axes>"
            ],
            "image/png": "[encoded data removed]"
          },
          "metadata": {
            "needs_background": "light"
          }
        }
      ]
    },
    {
      "cell_type": "markdown",
      "source": [
        "Histogram"
      ],
      "metadata": {
        "id": "pcFuIg3s0YWb"
      }
    },
    {
      "cell_type": "code",
      "source": [
        "sns.histplot(df_superstore['Quantity'], bins=[0, 10, 20, 40, 80, 120, 160, 180])"
      ],
      "metadata": {
        "colab": {
          "base_uri": "https://localhost:8080/",
          "height": 299
        },
        "id": "vvttVHEr0eto",
        "outputId": "7f6786c5-6134-4f32-bfbe-eeb170c1dae8"
      },
      "execution_count": null,
      "outputs": [
        {
          "output_type": "execute_result",
          "data": {
            "text/plain": [
              "<matplotlib.axes._subplots.AxesSubplot at 0x7f600faee950>"
            ]
          },
          "metadata": {},
          "execution_count": 348
        },
        {
          "output_type": "display_data",
          "data": {
            "text/plain": [
              "<Figure size 432x288 with 1 Axes>"
            ],
            "image/png": "[encoded data removed]"
          },
          "metadata": {
            "needs_background": "light"
          }
        }
      ]
    },
    {
      "cell_type": "markdown",
      "source": [
        "Scatterplot"
      ],
      "metadata": {
        "id": "mVhQ5Rwo1tds"
      }
    },
    {
      "cell_type": "code",
      "source": [
        "sns.scatterplot(x='Sales', y='Profit',\n",
        "                data=df_superstore,\n",
        "                hue='Category')"
      ],
      "metadata": {
        "colab": {
          "base_uri": "https://localhost:8080/",
          "height": 296
        },
        "id": "-C0_SJ8_08RR",
        "outputId": "c0587e17-d612-41e9-a9ff-8ef28bd25e8e"
      },
      "execution_count": null,
      "outputs": [
        {
          "output_type": "execute_result",
          "data": {
            "text/plain": [
              "<matplotlib.axes._subplots.AxesSubplot at 0x7f6011bb5410>"
            ]
          },
          "metadata": {},
          "execution_count": 349
        },
        {
          "output_type": "display_data",
          "data": {
            "text/plain": [
              "<Figure size 432x288 with 1 Axes>"
            ],
            "image/png": "[encoded data removed]"
          },
          "metadata": {
            "needs_background": "light"
          }
        }
      ]
    },
    {
      "cell_type": "markdown",
      "metadata": {
        "id": "fbAnv3_Rwj5l"
      },
      "source": [
        "# Step 4) Data Cleansing with Spark\n",
        "\n",
        "มาทำความสะอาดข้อมูลด้วย Spark"
      ]
    },
    {
      "cell_type": "markdown",
      "source": [
        "### แปลง Data Type \n",
        "\n",
        "ตรวจสอบ Type ของคอลัมน์ถูกต้องไหม เปลี่ยน Data Type ให้ตรงกับ Type"
      ],
      "metadata": {
        "id": "CXMD8upcit3C"
      }
    },
    {
      "cell_type": "markdown",
      "source": [
        "Rename คอลัมน์"
      ],
      "metadata": {
        "id": "Hl7XlsigNNkr"
      }
    },
    {
      "cell_type": "code",
      "source": [
        "superstore_clean = superstore"
      ],
      "metadata": {
        "id": "p5vp9X3rbqnr"
      },
      "execution_count": 93,
      "outputs": []
    },
    {
      "cell_type": "code",
      "source": [
        "superstoreSparkSQL = superstore"
      ],
      "metadata": {
        "id": "UNicBUJvMLgb"
      },
      "execution_count": 94,
      "outputs": []
    },
    {
      "cell_type": "code",
      "source": [
        "superstore = superstore.withColumnRenamed(\"Row ID\",\"Row_ID\")\\\n",
        "                        .withColumnRenamed(\"Order ID\",\"Order_ID\")\\\n",
        "                        .withColumnRenamed(\"Order Date\",\"Order_Date\")\\\n",
        "                        .withColumnRenamed(\"Ship Date\",\"Ship_Date\")\\\n",
        "                        .withColumnRenamed(\"Customer ID\",\"Customer_ID\")\\\n",
        "                        .withColumnRenamed(\"Postal Code\",\"Postal_Code\")\\\n",
        "                        .withColumnRenamed(\"Product ID\",\"Product_ID\")\\\n",
        "                        .withColumnRenamed(\"Sub-Category\",\"Sub_Category\")\\\n",
        "                        .withColumnRenamed(\"Product Name\",\"Product_Name\")\\\n",
        "                        .withColumnRenamed(\"Customer Name\",\"Customer_Name\")\\\n",
        "                        .withColumnRenamed(\"Ship Mode\",\"Ship_Mode\")"
      ],
      "metadata": {
        "id": "u_3CAarQkhFy"
      },
      "execution_count": 95,
      "outputs": []
    },
    {
      "cell_type": "code",
      "source": [
        "superstore_clean = superstore_clean.withColumnRenamed(\"Row ID\",\"Row_ID\")\\\n",
        "                        .withColumnRenamed(\"Order ID\",\"Order_ID\")\\\n",
        "                        .withColumnRenamed(\"Order Date\",\"Order_Date\")\\\n",
        "                        .withColumnRenamed(\"Ship Date\",\"Ship_Date\")\\\n",
        "                        .withColumnRenamed(\"Customer ID\",\"Customer_ID\")\\\n",
        "                        .withColumnRenamed(\"Postal Code\",\"Postal_Code\")\\\n",
        "                        .withColumnRenamed(\"Product ID\",\"Product_ID\")\\\n",
        "                        .withColumnRenamed(\"Sub-Category\",\"Sub_Category\")\\\n",
        "                        .withColumnRenamed(\"Product Name\",\"Product_Name\")\\\n",
        "                        .withColumnRenamed(\"Customer Name\",\"Customer_Name\")\\\n",
        "                        .withColumnRenamed(\"Ship Mode\",\"Ship_Mode\")"
      ],
      "metadata": {
        "id": "Qda_KGYFMm1a"
      },
      "execution_count": 96,
      "outputs": []
    },
    {
      "cell_type": "code",
      "source": [
        "superstoreSparkSQL = superstoreSparkSQL.withColumnRenamed(\"Row ID\",\"Row_ID\")\\\n",
        "                        .withColumnRenamed(\"Order ID\",\"Order_ID\")\\\n",
        "                        .withColumnRenamed(\"Order Date\",\"Order_Date\")\\\n",
        "                        .withColumnRenamed(\"Ship Date\",\"Ship_Date\")\\\n",
        "                        .withColumnRenamed(\"Customer ID\",\"Customer_ID\")\\\n",
        "                        .withColumnRenamed(\"Postal Code\",\"Postal_Code\")\\\n",
        "                        .withColumnRenamed(\"Product ID\",\"Product_ID\")\\\n",
        "                        .withColumnRenamed(\"Sub-Category\",\"Sub_Category\")\\\n",
        "                        .withColumnRenamed(\"Product Name\",\"Product_Name\")\\\n",
        "                        .withColumnRenamed(\"Customer Name\",\"Customer_Name\")\\\n",
        "                        .withColumnRenamed(\"Ship Mode\",\"Ship_Mode\")"
      ],
      "metadata": {
        "id": "ndOuOCMsMS2j"
      },
      "execution_count": 97,
      "outputs": []
    },
    {
      "cell_type": "code",
      "source": [
        "superstore_clean.dtypes"
      ],
      "metadata": {
        "colab": {
          "base_uri": "https://localhost:8080/"
        },
        "id": "WH608vh0rJO_",
        "outputId": "9de000d5-7f6a-49e3-8b18-2a81bbc44cae"
      },
      "execution_count": 35,
      "outputs": [
        {
          "output_type": "execute_result",
          "data": {
            "text/plain": [
              "[('Row_ID', 'int'),\n",
              " ('Order_ID', 'string'),\n",
              " ('Order_Date', 'string'),\n",
              " ('Ship_Date', 'string'),\n",
              " ('Ship_Mode', 'string'),\n",
              " ('Customer_ID', 'string'),\n",
              " ('Customer_Name', 'string'),\n",
              " ('Segment', 'string'),\n",
              " ('Country', 'string'),\n",
              " ('City', 'string'),\n",
              " ('State', 'string'),\n",
              " ('Postal_Code', 'int'),\n",
              " ('Region', 'string'),\n",
              " ('Product_ID', 'string'),\n",
              " ('Category', 'string'),\n",
              " ('Sub_Category', 'string'),\n",
              " ('Product_Name', 'string'),\n",
              " ('Sales', 'double'),\n",
              " ('Quantity', 'int'),\n",
              " ('Discount', 'double'),\n",
              " ('Profit', 'double')]"
            ]
          },
          "metadata": {},
          "execution_count": 35
        }
      ]
    },
    {
      "cell_type": "markdown",
      "source": [
        "แปลงคอลัมน์ตัวเลข"
      ],
      "metadata": {
        "id": "RC8pLYSF3qF6"
      }
    },
    {
      "cell_type": "code",
      "source": [
        "from pyspark.sql.types import IntegerType\n",
        "\n",
        "# int\n",
        "superstore_clean = superstore_clean.withColumn(\"Quantity\", superstore_clean[\"Quantity\"].cast(IntegerType()))\n",
        "\n",
        "# double\n",
        "superstore_clean = superstore_clean.withColumn(\"Sales\", superstore_clean.Sales.cast('double'))\\\n",
        "                        .withColumn(\"Discount\", superstore_clean.Discount.cast('double'))"
      ],
      "metadata": {
        "id": "qbI1f1ZB0FVw"
      },
      "execution_count": 31,
      "outputs": []
    },
    {
      "cell_type": "code",
      "source": [
        "superstore_clean.select(['Sales', 'Quantity', 'Profit', 'Discount']).show()"
      ],
      "metadata": {
        "colab": {
          "base_uri": "https://localhost:8080/"
        },
        "id": "t6tZTer4PGLj",
        "outputId": "c6a199a5-0a1f-42cc-838b-61b43f7918f4"
      },
      "execution_count": 14,
      "outputs": [
        {
          "output_type": "stream",
          "name": "stdout",
          "text": [
            "+--------+--------+--------+--------+\n",
            "|   Sales|Quantity|  Profit|Discount|\n",
            "+--------+--------+--------+--------+\n",
            "|  261.96|       2| 41.9136|     0.0|\n",
            "|  731.94|       3| 219.582|     0.0|\n",
            "|   14.62|       2|  6.8714|     0.0|\n",
            "|957.5775|       5|-383.031|    0.45|\n",
            "|  22.368|       2|  2.5164|     0.2|\n",
            "|   48.86|       7| 14.1694|     0.0|\n",
            "|    7.28|       4|  1.9656|     0.0|\n",
            "| 907.152|       6| 90.7152|     0.2|\n",
            "|  18.504|       3|  5.7825|     0.2|\n",
            "|   114.9|       5|   34.47|     0.0|\n",
            "|1706.184|       9| 85.3092|     0.2|\n",
            "| 911.424|       4| 68.3568|     0.2|\n",
            "|  15.552|       3|  5.4432|     0.2|\n",
            "| 407.976|       3|132.5922|     0.2|\n",
            "|   68.81|       5|-123.858|     0.8|\n",
            "|   2.544|       3|  -3.816|     0.8|\n",
            "|  665.88|       6| 13.3176|     0.0|\n",
            "|    55.5|       2|    9.99|     0.0|\n",
            "|    8.56|       2|  2.4824|     0.0|\n",
            "|  213.48|       3|  16.011|     0.2|\n",
            "+--------+--------+--------+--------+\n",
            "only showing top 20 rows\n",
            "\n"
          ]
        }
      ]
    },
    {
      "cell_type": "markdown",
      "source": [
        "แปลงคอลัม Order_date จาก string เป็น date time MM/DD/YYYY"
      ],
      "metadata": {
        "id": "hUJUuhqN3tYo"
      }
    },
    {
      "cell_type": "code",
      "source": [
        "superstore_clean.select('Order_Date').show(5)"
      ],
      "metadata": {
        "colab": {
          "base_uri": "https://localhost:8080/"
        },
        "id": "UXcK85Jl6zur",
        "outputId": "34489ee5-fada-46e3-b215-74c3a8927f6b"
      },
      "execution_count": 15,
      "outputs": [
        {
          "output_type": "stream",
          "name": "stdout",
          "text": [
            "+----------+\n",
            "|Order_Date|\n",
            "+----------+\n",
            "|2016-11-08|\n",
            "|2016-11-08|\n",
            "|2016-06-12|\n",
            "|2015-10-11|\n",
            "|2015-10-11|\n",
            "+----------+\n",
            "only showing top 5 rows\n",
            "\n"
          ]
        }
      ]
    },
    {
      "cell_type": "markdown",
      "source": [
        "คอลัมน์ Order_Date แสดงเลขวันที่ MM-DD-yyyy\n",
        "เปลี่ยนเฉพาะคอลัมน์ Order_Date จาก string เป็น date "
      ],
      "metadata": {
        "id": "i-A8ynnbO-Tc"
      }
    },
    {
      "cell_type": "code",
      "source": [
        "from pyspark.sql.types import *\n",
        "superstore_clean = superstore_clean.withColumn(\"Order_Date\", superstore_clean[\"Order_Date\"].cast(DateType()))"
      ],
      "metadata": {
        "id": "BWho-aP73PQI"
      },
      "execution_count": 36,
      "outputs": []
    },
    {
      "cell_type": "code",
      "source": [
        "superstore_clean.printSchema()"
      ],
      "metadata": {
        "colab": {
          "base_uri": "https://localhost:8080/"
        },
        "id": "o-yysDylOh_c",
        "outputId": "deb8d063-c7e3-4268-bab1-e6c2eb9d0bf6"
      },
      "execution_count": 37,
      "outputs": [
        {
          "output_type": "stream",
          "name": "stdout",
          "text": [
            "root\n",
            " |-- Row_ID: integer (nullable = true)\n",
            " |-- Order_ID: string (nullable = true)\n",
            " |-- Order_Date: date (nullable = true)\n",
            " |-- Ship_Date: string (nullable = true)\n",
            " |-- Ship_Mode: string (nullable = true)\n",
            " |-- Customer_ID: string (nullable = true)\n",
            " |-- Customer_Name: string (nullable = true)\n",
            " |-- Segment: string (nullable = true)\n",
            " |-- Country: string (nullable = true)\n",
            " |-- City: string (nullable = true)\n",
            " |-- State: string (nullable = true)\n",
            " |-- Postal_Code: integer (nullable = true)\n",
            " |-- Region: string (nullable = true)\n",
            " |-- Product_ID: string (nullable = true)\n",
            " |-- Category: string (nullable = true)\n",
            " |-- Sub_Category: string (nullable = true)\n",
            " |-- Product_Name: string (nullable = true)\n",
            " |-- Sales: double (nullable = true)\n",
            " |-- Quantity: integer (nullable = true)\n",
            " |-- Discount: double (nullable = true)\n",
            " |-- Profit: double (nullable = true)\n",
            "\n"
          ]
        }
      ]
    },
    {
      "cell_type": "code",
      "source": [
        "superstore_clean.show(5)"
      ],
      "metadata": {
        "colab": {
          "base_uri": "https://localhost:8080/"
        },
        "id": "V51ahsOFOlo1",
        "outputId": "899ccd7c-37ab-48a9-b644-fadf646afc78"
      },
      "execution_count": 38,
      "outputs": [
        {
          "output_type": "stream",
          "name": "stdout",
          "text": [
            "+------+--------------+----------+----------+--------------+-----------+---------------+---------+-------------+---------------+----------+-----------+------+---------------+---------------+------------+--------------------+--------+--------+--------+--------+\n",
            "|Row_ID|      Order_ID|Order_Date| Ship_Date|     Ship_Mode|Customer_ID|  Customer_Name|  Segment|      Country|           City|     State|Postal_Code|Region|     Product_ID|       Category|Sub_Category|        Product_Name|   Sales|Quantity|Discount|  Profit|\n",
            "+------+--------------+----------+----------+--------------+-----------+---------------+---------+-------------+---------------+----------+-----------+------+---------------+---------------+------------+--------------------+--------+--------+--------+--------+\n",
            "|     1|CA-2016-152156|2016-11-08|11/11/2016|  Second Class|   CG-12520|    Claire Gute| Consumer|United States|      Henderson|  Kentucky|      42420| South|FUR-BO-10001798|      Furniture|   Bookcases|Bush Somerset Col...|  261.96|       2|     0.0| 41.9136|\n",
            "|     2|CA-2016-152156|2016-11-08|11/11/2016|  Second Class|   CG-12520|    Claire Gute| Consumer|United States|      Henderson|  Kentucky|      42420| South|FUR-CH-10000454|      Furniture|      Chairs|Hon Deluxe Fabric...|  731.94|       3|     0.0| 219.582|\n",
            "|     3|CA-2016-138688|2016-06-12| 6/16/2016|  Second Class|   DV-13045|Darrin Van Huff|Corporate|United States|    Los Angeles|California|      90036|  West|OFF-LA-10000240|Office Supplies|      Labels|Self-Adhesive Add...|   14.62|       2|     0.0|  6.8714|\n",
            "|     4|US-2015-108966|2015-10-11|10/18/2015|Standard Class|   SO-20335| Sean O'Donnell| Consumer|United States|Fort Lauderdale|   Florida|      33311| South|FUR-TA-10000577|      Furniture|      Tables|Bretford CR4500 S...|957.5775|       5|    0.45|-383.031|\n",
            "|     5|US-2015-108966|2015-10-11|10/18/2015|Standard Class|   SO-20335| Sean O'Donnell| Consumer|United States|Fort Lauderdale|   Florida|      33311| South|OFF-ST-10000760|Office Supplies|     Storage|Eldon Fold 'N Rol...|  22.368|       2|     0.2|  2.5164|\n",
            "+------+--------------+----------+----------+--------------+-----------+---------------+---------+-------------+---------------+----------+-----------+------+---------------+---------------+------------+--------------------+--------+--------+--------+--------+\n",
            "only showing top 5 rows\n",
            "\n"
          ]
        }
      ]
    },
    {
      "cell_type": "markdown",
      "metadata": {
        "id": "bLvddAM0SRuD"
      },
      "source": [
        "## Anomalies Check\n",
        "\n",
        "ใช้ Spark ตามหาสิ่งที่ผิดปกติในข้อมูล"
      ]
    },
    {
      "cell_type": "markdown",
      "metadata": {
        "id": "YQmzIi6c2Ugp"
      },
      "source": [
        "### ความผิดปกติ 1) Syntactical Anomalies\n",
        "**Lexical errors** เช่น สะกดผิด"
      ]
    },
    {
      "cell_type": "markdown",
      "source": [
        "ตรวจสอบหมวดหมู่สินค้าที่สะกดผิด"
      ],
      "metadata": {
        "id": "0R8Lj6_6SamP"
      }
    },
    {
      "cell_type": "code",
      "source": [
        "superstore_clean.select('Sub_Category').distinct().count()"
      ],
      "metadata": {
        "id": "CUju4MU2yBBH",
        "colab": {
          "base_uri": "https://localhost:8080/"
        },
        "outputId": "df51921b-a540-4a29-cc7d-52c8d258befe"
      },
      "execution_count": 39,
      "outputs": [
        {
          "output_type": "execute_result",
          "data": {
            "text/plain": [
              "18"
            ]
          },
          "metadata": {},
          "execution_count": 39
        }
      ]
    },
    {
      "cell_type": "markdown",
      "source": [
        "show ชื่อหมวดหมู่สินค้าทั้งหมดโดย sort เรียงตามตัวอักษร เพื่อดูหมวดหมู่สินค้าที่สะกดผิด"
      ],
      "metadata": {
        "id": "PmTzheSgS5cr"
      }
    },
    {
      "cell_type": "code",
      "source": [
        "superstore_clean.select('Sub_Category').distinct().sort('Sub_Category').show(18, False)"
      ],
      "metadata": {
        "id": "vGnbg-jZzWQZ",
        "colab": {
          "base_uri": "https://localhost:8080/"
        },
        "outputId": "28e806e1-f741-4104-aebb-85f17c10d905"
      },
      "execution_count": 40,
      "outputs": [
        {
          "output_type": "stream",
          "name": "stdout",
          "text": [
            "+------------+\n",
            "|Sub_Category|\n",
            "+------------+\n",
            "|Accessories |\n",
            "|Appliances  |\n",
            "|Art         |\n",
            "|Artt        |\n",
            "|Binders     |\n",
            "|Bookcases   |\n",
            "|Chairs      |\n",
            "|Copiers     |\n",
            "|Envelopes   |\n",
            "|Fasteners   |\n",
            "|Furnishings |\n",
            "|Labels      |\n",
            "|Machines    |\n",
            "|Paper       |\n",
            "|Phones      |\n",
            "|Storage     |\n",
            "|Supplies    |\n",
            "|Tables      |\n",
            "+------------+\n",
            "\n"
          ]
        }
      ]
    },
    {
      "cell_type": "markdown",
      "source": [
        "เปลี่ยนชื่อหมวดหมู่สินค้า Artt ให้เป็น Art\n",
        "\n",
        "\n"
      ],
      "metadata": {
        "id": "Q0OBRRFvLOeD"
      }
    },
    {
      "cell_type": "code",
      "source": [
        "from pyspark.sql.functions import when\n",
        "\n",
        "superstore_clean = superstore_clean.withColumn('Sub_CategoryUpdate',\n",
        "                                   when(superstore_clean['Sub_Category'] == 'Artt', 'Art') \\\n",
        "                                   .otherwise(superstore_clean['Sub_Category']))"
      ],
      "metadata": {
        "id": "uZahV-1lHumq"
      },
      "execution_count": 41,
      "outputs": []
    },
    {
      "cell_type": "code",
      "source": [
        "superstore_clean.select('Sub_CategoryUpdate').distinct().count()"
      ],
      "metadata": {
        "id": "oZ_uKrKDL2TO",
        "colab": {
          "base_uri": "https://localhost:8080/"
        },
        "outputId": "2391b9f5-2e33-4789-9b8b-22a355969784"
      },
      "execution_count": 42,
      "outputs": [
        {
          "output_type": "execute_result",
          "data": {
            "text/plain": [
              "17"
            ]
          },
          "metadata": {},
          "execution_count": 42
        }
      ]
    },
    {
      "cell_type": "markdown",
      "source": [
        " เอาคอลัมน์ Sub_CategoryUpdate ไปแทนที่คอลัมน์ Sub_Category\n"
      ],
      "metadata": {
        "id": "xV7uIQ2bZlD9"
      }
    },
    {
      "cell_type": "code",
      "source": [
        "superstore_clean = superstore_clean.drop('Sub_Category').withColumnRenamed('Sub_CategoryUpdate', 'Sub_Category')"
      ],
      "metadata": {
        "id": "BaVXm7wNMHJu"
      },
      "execution_count": 43,
      "outputs": []
    },
    {
      "cell_type": "code",
      "source": [
        "superstore_clean.show(5)"
      ],
      "metadata": {
        "id": "vAoZaIOJMUAz",
        "colab": {
          "base_uri": "https://localhost:8080/"
        },
        "outputId": "403beb78-f474-4688-c562-7c34172a67fd"
      },
      "execution_count": 23,
      "outputs": [
        {
          "output_type": "stream",
          "name": "stdout",
          "text": [
            "+------+--------------+----------+----------+--------------+-----------+---------------+---------+-------------+---------------+----------+-----------+------+---------------+---------------+--------------------+--------+--------+--------+--------+------------+\n",
            "|Row_ID|      Order_ID|Order_Date| Ship_Date|     Ship_Mode|Customer_ID|  Customer_Name|  Segment|      Country|           City|     State|Postal_Code|Region|     Product_ID|       Category|        Product_Name|   Sales|Quantity|Discount|  Profit|Sub_Category|\n",
            "+------+--------------+----------+----------+--------------+-----------+---------------+---------+-------------+---------------+----------+-----------+------+---------------+---------------+--------------------+--------+--------+--------+--------+------------+\n",
            "|     1|CA-2016-152156|2016-11-08|11/11/2016|  Second Class|   CG-12520|    Claire Gute| Consumer|United States|      Henderson|  Kentucky|      42420| South|FUR-BO-10001798|      Furniture|Bush Somerset Col...|  261.96|       2|     0.0| 41.9136|   Bookcases|\n",
            "|     2|CA-2016-152156|2016-11-08|11/11/2016|  Second Class|   CG-12520|    Claire Gute| Consumer|United States|      Henderson|  Kentucky|      42420| South|FUR-CH-10000454|      Furniture|Hon Deluxe Fabric...|  731.94|       3|     0.0| 219.582|      Chairs|\n",
            "|     3|CA-2016-138688|2016-06-12| 6/16/2016|  Second Class|   DV-13045|Darrin Van Huff|Corporate|United States|    Los Angeles|California|      90036|  West|OFF-LA-10000240|Office Supplies|Self-Adhesive Add...|   14.62|       2|     0.0|  6.8714|      Labels|\n",
            "|     4|US-2015-108966|2015-10-11|10/18/2015|Standard Class|   SO-20335| Sean O'Donnell| Consumer|United States|Fort Lauderdale|   Florida|      33311| South|FUR-TA-10000577|      Furniture|Bretford CR4500 S...|957.5775|       5|    0.45|-383.031|      Tables|\n",
            "|     5|US-2015-108966|2015-10-11|10/18/2015|Standard Class|   SO-20335| Sean O'Donnell| Consumer|United States|Fort Lauderdale|   Florida|      33311| South|OFF-ST-10000760|Office Supplies|Eldon Fold 'N Rol...|  22.368|       2|     0.2|  2.5164|     Storage|\n",
            "+------+--------------+----------+----------+--------------+-----------+---------------+---------+-------------+---------------+----------+-----------+------+---------------+---------------+--------------------+--------+--------+--------+--------+------------+\n",
            "only showing top 5 rows\n",
            "\n"
          ]
        }
      ]
    },
    {
      "cell_type": "code",
      "source": [
        "# เช็คว่า Artt ยังมีในคอลัมน์ Sub_Category อีกไหม\n",
        "superstore_clean.select('Sub_Category').distinct().sort('Sub_Category').show(18, False)"
      ],
      "metadata": {
        "colab": {
          "base_uri": "https://localhost:8080/"
        },
        "id": "Pp7vSVEFcUzx",
        "outputId": "9a3897a3-599d-462a-8a4c-ca471a19f3fc"
      },
      "execution_count": 44,
      "outputs": [
        {
          "output_type": "stream",
          "name": "stdout",
          "text": [
            "+------------+\n",
            "|Sub_Category|\n",
            "+------------+\n",
            "|Accessories |\n",
            "|Appliances  |\n",
            "|Art         |\n",
            "|Binders     |\n",
            "|Bookcases   |\n",
            "|Chairs      |\n",
            "|Copiers     |\n",
            "|Envelopes   |\n",
            "|Fasteners   |\n",
            "|Furnishings |\n",
            "|Labels      |\n",
            "|Machines    |\n",
            "|Paper       |\n",
            "|Phones      |\n",
            "|Storage     |\n",
            "|Supplies    |\n",
            "|Tables      |\n",
            "+------------+\n",
            "\n"
          ]
        }
      ]
    },
    {
      "cell_type": "markdown",
      "source": [
        "นำข้อมูลที่ Clean ชื่อสะกดผิดของคอลัมน์ Sub_Category ไป Save ในตัวแปร superstore"
      ],
      "metadata": {
        "id": "W8Jmlxx7JA-D"
      }
    },
    {
      "cell_type": "code",
      "source": [
        "superstore = superstore_clean"
      ],
      "metadata": {
        "id": "5amk9Bk5HTH3"
      },
      "execution_count": 45,
      "outputs": []
    },
    {
      "cell_type": "code",
      "source": [
        "# ลองเช็คว่าใน superstore คอลัมน์ Sub_Category มีสะกดผิดอีกหรือไหม\n",
        "superstore.select('Sub_Category').distinct().sort('Sub_Category').show(18, False)"
      ],
      "metadata": {
        "colab": {
          "base_uri": "https://localhost:8080/"
        },
        "id": "-_5ysUMWHbiG",
        "outputId": "032fd27f-dee4-4fa9-8795-e2458d764d3c"
      },
      "execution_count": 50,
      "outputs": [
        {
          "output_type": "stream",
          "name": "stdout",
          "text": [
            "+------------+\n",
            "|Sub_Category|\n",
            "+------------+\n",
            "|Accessories |\n",
            "|Appliances  |\n",
            "|Art         |\n",
            "|Binders     |\n",
            "|Bookcases   |\n",
            "|Chairs      |\n",
            "|Copiers     |\n",
            "|Envelopes   |\n",
            "|Fasteners   |\n",
            "|Furnishings |\n",
            "|Labels      |\n",
            "|Machines    |\n",
            "|Paper       |\n",
            "|Phones      |\n",
            "|Storage     |\n",
            "|Supplies    |\n",
            "|Tables      |\n",
            "+------------+\n",
            "\n"
          ]
        }
      ]
    },
    {
      "cell_type": "markdown",
      "metadata": {
        "id": "-kyrqLYF2YjO"
      },
      "source": [
        "### ความผิดปกติ 2) Semantic Anomalies\n",
        "\n",
        "**Integrity constraints**: ค่าอยู่นอกเหนือขอบเขตของค่าที่รับได้ เช่น\n",
        "- Customer_ID: ค่าจะต้องเป็นตัวพิมพ์ใหญ่ 2 ตัวอักษณ - และตัวเลข 5 หลัก"
      ]
    },
    {
      "cell_type": "code",
      "source": [
        "superstore_clean.select('Customer_ID').show()"
      ],
      "metadata": {
        "id": "eLl0ISmuMXdG",
        "colab": {
          "base_uri": "https://localhost:8080/"
        },
        "outputId": "912af19b-98fd-4812-b941-d36226f84b2e"
      },
      "execution_count": 51,
      "outputs": [
        {
          "output_type": "stream",
          "name": "stdout",
          "text": [
            "+-----------+\n",
            "|Customer_ID|\n",
            "+-----------+\n",
            "|   CG-12520|\n",
            "|   CG-12520|\n",
            "|   DV-13045|\n",
            "|   SO-20335|\n",
            "|   SO-20335|\n",
            "|   BH-11710|\n",
            "|   BH-11710|\n",
            "|   BH-11710|\n",
            "|   BH-11710|\n",
            "|   BH-11710|\n",
            "|   BH-11710|\n",
            "|   BH-11710|\n",
            "|   AA-10480|\n",
            "|   IM-15070|\n",
            "|   HP-14815|\n",
            "|   HP-14815|\n",
            "|   PK-19075|\n",
            "|   AG-10270|\n",
            "|   ZD-21925|\n",
            "|   ZD-21925|\n",
            "+-----------+\n",
            "only showing top 20 rows\n",
            "\n"
          ]
        }
      ]
    },
    {
      "cell_type": "code",
      "source": [
        "superstore_clean.select('Customer_ID').count()"
      ],
      "metadata": {
        "id": "f-11HSBtMuRC",
        "colab": {
          "base_uri": "https://localhost:8080/"
        },
        "outputId": "8614fe6f-0395-4547-a79c-1ab2d2bd7d2c"
      },
      "execution_count": 52,
      "outputs": [
        {
          "output_type": "execute_result",
          "data": {
            "text/plain": [
              "9994"
            ]
          },
          "metadata": {},
          "execution_count": 52
        }
      ]
    },
    {
      "cell_type": "code",
      "source": [
        "superstore_clean.where(superstore_clean['Customer_ID'].rlike(\"^[A-Za-z]{2}-[0-9]{5}$\")).count()"
      ],
      "metadata": {
        "id": "DM19M_KLMyDF",
        "colab": {
          "base_uri": "https://localhost:8080/"
        },
        "outputId": "0a0e8d8e-cc19-4db0-9297-5b8c0f05a53e"
      },
      "execution_count": 53,
      "outputs": [
        {
          "output_type": "execute_result",
          "data": {
            "text/plain": [
              "9992"
            ]
          },
          "metadata": {},
          "execution_count": 53
        }
      ]
    },
    {
      "cell_type": "markdown",
      "source": [
        "Customer_ID ที่มีตัวเลข 5 ตำแหน่งทั้งหมด 9992 และที่เหลืออีก 2 แถวมี Customer_ID ที่อยู่นอกเหนือขอบเขตของค่าที่รับ"
      ],
      "metadata": {
        "id": "qBFAqaz7bRG-"
      }
    },
    {
      "cell_type": "markdown",
      "metadata": {
        "id": "1LrPP5bgGFIi"
      },
      "source": [
        "![](https://file.designil.com/MmVhZf+)"
      ]
    },
    {
      "cell_type": "code",
      "source": [
        "# ตัวแปรเข้าไปหาพื้นที่สีฟ้า ใช้ filter/where\n",
        "correct_customerid = superstore_clean.filter(superstore_clean['Customer_ID'].rlike(\"^[A-Za-z]{2}-[0-9]{5}$\"))\n",
        "\n",
        "# พื้นที่สีแดงหาข้อมูลที่ผิด เอา data_book - พื้นที่สีแดง\n",
        "incorrect_customerid = superstore_clean.subtract(correct_customerid)\n",
        "incorrect_customerid.show()"
      ],
      "metadata": {
        "id": "J8bapgpONREH",
        "colab": {
          "base_uri": "https://localhost:8080/"
        },
        "outputId": "3fb03fa9-c663-494d-c81c-60f9732a55f6"
      },
      "execution_count": 54,
      "outputs": [
        {
          "output_type": "stream",
          "name": "stdout",
          "text": [
            "+------+--------------+----------+---------+--------------+-----------+-------------+-----------+-------------+----------+--------+-----------+------+---------------+---------------+--------------------+------+--------+--------+-------+------------+\n",
            "|Row_ID|      Order_ID|Order_Date|Ship_Date|     Ship_Mode|Customer_ID|Customer_Name|    Segment|      Country|      City|   State|Postal_Code|Region|     Product_ID|       Category|        Product_Name| Sales|Quantity|Discount| Profit|Sub_Category|\n",
            "+------+--------------+----------+---------+--------------+-----------+-------------+-----------+-------------+----------+--------+-----------+------+---------------+---------------+--------------------+------+--------+--------+-------+------------+\n",
            "|  6414|CA-2017-151211|2017-08-17|8/23/2017|Standard Class|  AH-101201|  Adrian Hane|Home Office|United States|Louisville|Kentucky|      40214| South|TEC-AC-10004510|     Technology|Logitech Desktop ...| 98.16|       6|     0.0|  9.816| Accessories|\n",
            "|  6413|CA-2017-151211|2017-08-17|8/23/2017|Standard Class|  AH-101201|  Adrian Hane|Home Office|United States|Louisville|Kentucky|      40214| South|OFF-BI-10002735|Office Supplies|GBC Prestige Ther...|102.93|       3|     0.0|48.3771|     Binders|\n",
            "+------+--------------+----------+---------+--------------+-----------+-------------+-----------+-------------+----------+--------+-----------+------+---------------+---------------+--------------------+------+--------+--------+-------+------------+\n",
            "\n"
          ]
        }
      ]
    },
    {
      "cell_type": "markdown",
      "source": [
        "Customer_ID >> AH-101201 ซึ่งเลข 1 เกินมาก"
      ],
      "metadata": {
        "id": "DhqNYVyaOImY"
      }
    },
    {
      "cell_type": "code",
      "source": [
        "incorrect_customerid.count()"
      ],
      "metadata": {
        "id": "5A8YQCzNOAXe",
        "colab": {
          "base_uri": "https://localhost:8080/"
        },
        "outputId": "e60dfe73-d173-49b6-ab37-f2766b1b3b61"
      },
      "execution_count": 55,
      "outputs": [
        {
          "output_type": "execute_result",
          "data": {
            "text/plain": [
              "2"
            ]
          },
          "metadata": {},
          "execution_count": 55
        }
      ]
    },
    {
      "cell_type": "markdown",
      "metadata": {
        "id": "38ekkpo7XyDG"
      },
      "source": [
        "มาทำการแก้ไข Customer_ID นี้ให้ถูกต้องกัน \n",
        "AH-101201 เปลี่ยนเป็น AH-10120"
      ]
    },
    {
      "cell_type": "code",
      "source": [
        "superstore_clean = superstore_clean.withColumn('Customer_ID_Update',\n",
        "                                         when(superstore_clean['Customer_ID'] == 'AH-101201', 'AH-10120' )\\\n",
        "                                         .otherwise(superstore_clean['Customer_ID']))"
      ],
      "metadata": {
        "id": "r_02usM5OUcV"
      },
      "execution_count": 56,
      "outputs": []
    },
    {
      "cell_type": "code",
      "source": [
        "# เอาคอลัมน์ user_id_update ไปแทนที่ user_id\n",
        "superstore_clean = superstore_clean.drop('Customer_ID').withColumnRenamed('Customer_ID_Update', 'Customer_ID')"
      ],
      "metadata": {
        "id": "DYsaUxsMO1bR"
      },
      "execution_count": 57,
      "outputs": []
    },
    {
      "cell_type": "code",
      "source": [
        "superstore_clean.show(5)"
      ],
      "metadata": {
        "id": "CMz_u2gRPl1L",
        "colab": {
          "base_uri": "https://localhost:8080/"
        },
        "outputId": "0119f29f-4a2d-47a7-ef50-1f91d6c4f649"
      },
      "execution_count": 58,
      "outputs": [
        {
          "output_type": "stream",
          "name": "stdout",
          "text": [
            "+------+--------------+----------+----------+--------------+---------------+---------+-------------+---------------+----------+-----------+------+---------------+---------------+--------------------+--------+--------+--------+--------+------------+-----------+\n",
            "|Row_ID|      Order_ID|Order_Date| Ship_Date|     Ship_Mode|  Customer_Name|  Segment|      Country|           City|     State|Postal_Code|Region|     Product_ID|       Category|        Product_Name|   Sales|Quantity|Discount|  Profit|Sub_Category|Customer_ID|\n",
            "+------+--------------+----------+----------+--------------+---------------+---------+-------------+---------------+----------+-----------+------+---------------+---------------+--------------------+--------+--------+--------+--------+------------+-----------+\n",
            "|     1|CA-2016-152156|2016-11-08|11/11/2016|  Second Class|    Claire Gute| Consumer|United States|      Henderson|  Kentucky|      42420| South|FUR-BO-10001798|      Furniture|Bush Somerset Col...|  261.96|       2|     0.0| 41.9136|   Bookcases|   CG-12520|\n",
            "|     2|CA-2016-152156|2016-11-08|11/11/2016|  Second Class|    Claire Gute| Consumer|United States|      Henderson|  Kentucky|      42420| South|FUR-CH-10000454|      Furniture|Hon Deluxe Fabric...|  731.94|       3|     0.0| 219.582|      Chairs|   CG-12520|\n",
            "|     3|CA-2016-138688|2016-06-12| 6/16/2016|  Second Class|Darrin Van Huff|Corporate|United States|    Los Angeles|California|      90036|  West|OFF-LA-10000240|Office Supplies|Self-Adhesive Add...|   14.62|       2|     0.0|  6.8714|      Labels|   DV-13045|\n",
            "|     4|US-2015-108966|2015-10-11|10/18/2015|Standard Class| Sean O'Donnell| Consumer|United States|Fort Lauderdale|   Florida|      33311| South|FUR-TA-10000577|      Furniture|Bretford CR4500 S...|957.5775|       5|    0.45|-383.031|      Tables|   SO-20335|\n",
            "|     5|US-2015-108966|2015-10-11|10/18/2015|Standard Class| Sean O'Donnell| Consumer|United States|Fort Lauderdale|   Florida|      33311| South|OFF-ST-10000760|Office Supplies|Eldon Fold 'N Rol...|  22.368|       2|     0.2|  2.5164|     Storage|   SO-20335|\n",
            "+------+--------------+----------+----------+--------------+---------------+---------+-------------+---------------+----------+-----------+------+---------------+---------------+--------------------+--------+--------+--------+--------+------------+-----------+\n",
            "only showing top 5 rows\n",
            "\n"
          ]
        }
      ]
    },
    {
      "cell_type": "code",
      "source": [
        "# นับ Customer_ID ที่ถูกต้องทั้งหมดจะต้องเท่ากับ 9994\n",
        "superstore_clean.where(superstore_clean['Customer_ID'].rlike(\"^[A-Za-z]{2}-[0-9]{5}$\")).count()"
      ],
      "metadata": {
        "id": "vlILJTDWOzVV",
        "colab": {
          "base_uri": "https://localhost:8080/"
        },
        "outputId": "13cb62da-b86d-4b84-cdb8-c6acd3b432e6"
      },
      "execution_count": 59,
      "outputs": [
        {
          "output_type": "execute_result",
          "data": {
            "text/plain": [
              "9994"
            ]
          },
          "metadata": {},
          "execution_count": 59
        }
      ]
    },
    {
      "cell_type": "markdown",
      "source": [
        "ลองเช็ค Customer_ID_Update มี ID ตัวเลขที่เกิน 5 ตัวอีกไหม"
      ],
      "metadata": {
        "id": "Lqfg0hLtO6Nq"
      }
    },
    {
      "cell_type": "code",
      "source": [
        "correct_customerid2 = superstore_clean.filter(superstore_clean['Customer_ID'].rlike(\"^[A-Za-z]{2}-[0-9]{5}$\"))\n",
        "\n",
        "incorrect_customerid2 = superstore_clean.subtract(correct_customerid2)\n",
        "incorrect_customerid2.show()"
      ],
      "metadata": {
        "colab": {
          "base_uri": "https://localhost:8080/"
        },
        "id": "u9k3SmZbfnqd",
        "outputId": "6dfdb67e-d8e6-45c6-cf34-0c593639ba9d"
      },
      "execution_count": 60,
      "outputs": [
        {
          "output_type": "stream",
          "name": "stdout",
          "text": [
            "+------+--------+----------+---------+---------+-------------+-------+-------+----+-----+-----------+------+----------+--------+------------+-----+--------+--------+------+------------+-----------+\n",
            "|Row_ID|Order_ID|Order_Date|Ship_Date|Ship_Mode|Customer_Name|Segment|Country|City|State|Postal_Code|Region|Product_ID|Category|Product_Name|Sales|Quantity|Discount|Profit|Sub_Category|Customer_ID|\n",
            "+------+--------+----------+---------+---------+-------------+-------+-------+----+-----+-----------+------+----------+--------+------------+-----+--------+--------+------+------------+-----------+\n",
            "+------+--------+----------+---------+---------+-------------+-------+-------+----+-----+-----------+------+----------+--------+------------+-----+--------+--------+------+------------+-----------+\n",
            "\n"
          ]
        }
      ]
    },
    {
      "cell_type": "code",
      "source": [
        "superstore = superstore_clean"
      ],
      "metadata": {
        "id": "2i9TSATbLemm"
      },
      "execution_count": 61,
      "outputs": []
    },
    {
      "cell_type": "code",
      "source": [
        "# ลองเช็ต superstore ในคอลัมน์ Customer_ID มี ID ที่ถูกต้องทั้งหมด 9994 หรือไหม \n",
        "superstore.where(superstore['Customer_ID'].rlike(\"^[A-Za-z]{2}-[0-9]{5}$\")).count()"
      ],
      "metadata": {
        "colab": {
          "base_uri": "https://localhost:8080/"
        },
        "id": "TOGd8a-6LjxE",
        "outputId": "9669a257-7b56-4cbb-95e5-60781b4824f9"
      },
      "execution_count": 62,
      "outputs": [
        {
          "output_type": "execute_result",
          "data": {
            "text/plain": [
              "9994"
            ]
          },
          "metadata": {},
          "execution_count": 62
        }
      ]
    },
    {
      "cell_type": "markdown",
      "metadata": {
        "id": "4kCf3LsX2b8L"
      },
      "source": [
        "### ความผิดปกติ 3) Missing values\n",
        "\n",
        "การเช็คและแก้ไข Missing Values (หากจำเป็น)\n",
        "\n",
        "ค่า Missing Value คือ ค่าที่ว่างเปล่า\n",
        "\n",
        "เราจะรู้ได้ยังไงว่าคอลัมน์ไหนมีค่าว่างเปล่ากี่ค่า"
      ]
    },
    {
      "cell_type": "code",
      "source": [
        "from pyspark.sql.functions import col, sum\n",
        "\n",
        "dt_nulllist = superstore_clean.select([ sum(col(colname).isNull().cast('int'))\\\n",
        "                                       .alias(colname) for colname in superstore_clean.columns ])\n",
        "\n",
        "dt_nulllist.show()"
      ],
      "metadata": {
        "id": "925Klp2PPrq6",
        "colab": {
          "base_uri": "https://localhost:8080/"
        },
        "outputId": "474daefa-7d2b-44d0-a426-3de18c18d1d7"
      },
      "execution_count": 63,
      "outputs": [
        {
          "output_type": "stream",
          "name": "stdout",
          "text": [
            "+------+--------+----------+---------+---------+-------------+-------+-------+----+-----+-----------+------+----------+--------+------------+-----+--------+--------+------+------------+-----------+\n",
            "|Row_ID|Order_ID|Order_Date|Ship_Date|Ship_Mode|Customer_Name|Segment|Country|City|State|Postal_Code|Region|Product_ID|Category|Product_Name|Sales|Quantity|Discount|Profit|Sub_Category|Customer_ID|\n",
            "+------+--------+----------+---------+---------+-------------+-------+-------+----+-----+-----------+------+----------+--------+------------+-----+--------+--------+------+------------+-----------+\n",
            "|     0|       0|         0|        0|        0|            0|      0|      0|   0|    0|          0|     0|         0|       0|           0|  300|      20|      11|     0|           0|          0|\n",
            "+------+--------+----------+---------+---------+-------------+-------+-------+----+-----+-----------+------+----------+--------+------------+-----+--------+--------+------+------------+-----------+\n",
            "\n"
          ]
        }
      ]
    },
    {
      "cell_type": "markdown",
      "source": [
        "ข้อมูล Superstore ไม่มี Missing Value"
      ],
      "metadata": {
        "id": "09dsssuyQw3e"
      }
    },
    {
      "cell_type": "code",
      "source": [
        "# อีกวิธีหาค่า Missing Value \n",
        "superstore_clean.summary('count').show()"
      ],
      "metadata": {
        "id": "Qqh458ZxQu1d",
        "colab": {
          "base_uri": "https://localhost:8080/"
        },
        "outputId": "27162a23-8362-433a-fa10-03611f56bcf7"
      },
      "execution_count": 64,
      "outputs": [
        {
          "output_type": "stream",
          "name": "stdout",
          "text": [
            "+-------+------+--------+---------+---------+-------------+-------+-------+----+-----+-----------+------+----------+--------+------------+-----+--------+--------+------+------------+-----------+\n",
            "|summary|Row_ID|Order_ID|Ship_Date|Ship_Mode|Customer_Name|Segment|Country|City|State|Postal_Code|Region|Product_ID|Category|Product_Name|Sales|Quantity|Discount|Profit|Sub_Category|Customer_ID|\n",
            "+-------+------+--------+---------+---------+-------------+-------+-------+----+-----+-----------+------+----------+--------+------------+-----+--------+--------+------+------------+-----------+\n",
            "|  count|  9994|    9994|     9994|     9994|         9994|   9994|   9994|9994| 9994|       9994|  9994|      9994|    9994|        9994| 9694|    9974|    9983|  9994|        9994|       9994|\n",
            "+-------+------+--------+---------+---------+-------------+-------+-------+----+-----+-----------+------+----------+--------+------------+-----+--------+--------+------+------------+-----------+\n",
            "\n"
          ]
        }
      ]
    },
    {
      "cell_type": "markdown",
      "metadata": {
        "id": "G9WmtPhUOJHi"
      },
      "source": [
        "### ความผิดปกติ 4) Outliers:\n",
        "\n",
        "ข้อมูลที่สูงหรือต่ำผิดปกติจากข้อมูลส่วนใหญ่\n",
        "\n",
        "มาลองใช้ Boxplot ในการหาค่า Outlier ของราคาหนังสือ"
      ]
    },
    {
      "cell_type": "code",
      "source": [
        "df_superstore = superstore_clean.toPandas()"
      ],
      "metadata": {
        "id": "_B44Oz1PQ-KJ"
      },
      "execution_count": null,
      "outputs": []
    },
    {
      "cell_type": "code",
      "source": [
        "sns.boxplot(x=df_superstore['Profit'])"
      ],
      "metadata": {
        "id": "NSGcBZ7TRaml",
        "colab": {
          "base_uri": "https://localhost:8080/",
          "height": 296
        },
        "outputId": "c40de1e3-53a8-4150-f7d6-b65ae58f82e3"
      },
      "execution_count": null,
      "outputs": [
        {
          "output_type": "execute_result",
          "data": {
            "text/plain": [
              "<matplotlib.axes._subplots.AxesSubplot at 0x7f6010b8b990>"
            ]
          },
          "metadata": {},
          "execution_count": 380
        },
        {
          "output_type": "display_data",
          "data": {
            "text/plain": [
              "<Figure size 432x288 with 1 Axes>"
            ],
            "image/png": "[encoded data removed]"
          },
          "metadata": {
            "needs_background": "light"
          }
        }
      ]
    },
    {
      "cell_type": "markdown",
      "source": [
        "เห็นได้ว่า Profit มีราค่าติดลบเยอะมาก ลองดูค่าสติถิคอลัมน์ Profit เหมือน Boxplot ไหม"
      ],
      "metadata": {
        "id": "CaDrQBoORfH1"
      }
    },
    {
      "cell_type": "code",
      "source": [
        "superstore_clean.select('Profit').summary().show()"
      ],
      "metadata": {
        "id": "waZMyKJORgWa",
        "colab": {
          "base_uri": "https://localhost:8080/"
        },
        "outputId": "e59bc565-16b2-4f0b-8354-f034e142fe66"
      },
      "execution_count": null,
      "outputs": [
        {
          "output_type": "stream",
          "name": "stdout",
          "text": [
            "+-------+------------------+\n",
            "|summary|            Profit|\n",
            "+-------+------------------+\n",
            "|  count|              9994|\n",
            "|   mean|28.587912967780834|\n",
            "| stddev| 234.3891156047269|\n",
            "|    min|         -6599.978|\n",
            "|    25%|            1.2038|\n",
            "|    50%|            8.1072|\n",
            "|    75%|           28.7964|\n",
            "|    max|          8399.976|\n",
            "+-------+------------------+\n",
            "\n"
          ]
        }
      ]
    },
    {
      "cell_type": "markdown",
      "source": [
        "เห็นได้ว่าข้อมูลตรงกันมาลองดูสินค้าชนิดไหนมี Profit ติดลบ"
      ],
      "metadata": {
        "id": "PwFRaW-5R3z0"
      }
    },
    {
      "cell_type": "code",
      "source": [
        "superstore_clean.where( superstore_clean.Profit < -6599 ).distinct().show()"
      ],
      "metadata": {
        "colab": {
          "base_uri": "https://localhost:8080/"
        },
        "id": "zDSWJuw-RSnG",
        "outputId": "9f13f718-3df9-4d6b-8099-f027fe1c8399"
      },
      "execution_count": null,
      "outputs": [
        {
          "output_type": "stream",
          "name": "stdout",
          "text": [
            "+------+--------------+----------+---------+--------------+-------------+--------+-------------+---------+-----+-----------+------+---------------+----------+--------------------+--------+--------+--------+---------+------------+-----------+\n",
            "|Row_ID|      Order_ID|Order_Date|Ship_Date|     Ship_Mode|Customer_Name| Segment|      Country|     City|State|Postal_Code|Region|     Product_ID|  Category|        Product_Name|   Sales|Quantity|Discount|   Profit|Sub_Category|Customer_ID|\n",
            "+------+--------------+----------+---------+--------------+-------------+--------+-------------+---------+-----+-----------+------+---------------+----------+--------------------+--------+--------+--------+---------+------------+-----------+\n",
            "|  7773|CA-2016-108196|2016-11-25|12/2/2016|Standard Class|Cindy Stewart|Consumer|United States|Lancaster| Ohio|      43130|  East|TEC-MA-10000418|Technology|Cubify CubeX 3D P...|4499.985|       5|     0.7|-6599.978|    Machines|   CS-12505|\n",
            "+------+--------------+----------+---------+--------------+-------------+--------+-------------+---------+-----+-----------+------+---------------+----------+--------------------+--------+--------+--------+---------+------------+-----------+\n",
            "\n"
          ]
        }
      ]
    },
    {
      "cell_type": "markdown",
      "metadata": {
        "id": "a5DtVcoRUsFp"
      },
      "source": [
        "### มาลอง Clean ข้อมูลด้วย Spark SQL\n",
        "\n",
        "![alt text](https://cdn-std.droplr.net/files/acc_513973/881iHw)"
      ]
    },
    {
      "cell_type": "code",
      "source": [
        "# แปลงข้อมูลจาก Spark DataFrame ให้เป็น TempView ก่อน\n",
        "superstoreSparkSQL.createOrReplaceTempView('data')\n",
        "superstore_sql = spark.sql('SELECT * FROM data')\n",
        "superstore_sql.show()"
      ],
      "metadata": {
        "colab": {
          "base_uri": "https://localhost:8080/"
        },
        "id": "r2PQN4c7R2mG",
        "outputId": "8037b4bc-f317-449f-c589-9bcbae17be8e"
      },
      "execution_count": 145,
      "outputs": [
        {
          "output_type": "stream",
          "name": "stdout",
          "text": [
            "+------+--------------+----------+----------+--------------+-----------+------------------+-----------+-------------+---------------+--------------+-----------+-------+---------------+---------------+------------+--------------------+--------+--------+--------+--------+\n",
            "|Row_ID|      Order_ID|Order_Date| Ship_Date|     Ship_Mode|Customer_ID|     Customer_Name|    Segment|      Country|           City|         State|Postal_Code| Region|     Product_ID|       Category|Sub_Category|        Product_Name|   Sales|Quantity|Discount|  Profit|\n",
            "+------+--------------+----------+----------+--------------+-----------+------------------+-----------+-------------+---------------+--------------+-----------+-------+---------------+---------------+------------+--------------------+--------+--------+--------+--------+\n",
            "|     1|CA-2016-152156|2016-11-08|11/11/2016|  Second Class|   CG-12520|       Claire Gute|   Consumer|United States|      Henderson|      Kentucky|      42420|  South|FUR-BO-10001798|      Furniture|   Bookcases|Bush Somerset Col...|  261.96|       2|       0| 41.9136|\n",
            "|     2|CA-2016-152156|2016-11-08|11/11/2016|  Second Class|   CG-12520|       Claire Gute|   Consumer|United States|      Henderson|      Kentucky|      42420|  South|FUR-CH-10000454|      Furniture|      Chairs|Hon Deluxe Fabric...|  731.94|       3|       0| 219.582|\n",
            "|     3|CA-2016-138688|2016-06-12| 6/16/2016|  Second Class|   DV-13045|   Darrin Van Huff|  Corporate|United States|    Los Angeles|    California|      90036|   West|OFF-LA-10000240|Office Supplies|      Labels|Self-Adhesive Add...|   14.62|       2|       0|  6.8714|\n",
            "|     4|US-2015-108966|2015-10-11|10/18/2015|Standard Class|   SO-20335|    Sean O'Donnell|   Consumer|United States|Fort Lauderdale|       Florida|      33311|  South|FUR-TA-10000577|      Furniture|      Tables|Bretford CR4500 S...|957.5775|       5|    0.45|-383.031|\n",
            "|     5|US-2015-108966|2015-10-11|10/18/2015|Standard Class|   SO-20335|    Sean O'Donnell|   Consumer|United States|Fort Lauderdale|       Florida|      33311|  South|OFF-ST-10000760|Office Supplies|     Storage|Eldon Fold 'N Rol...|  22.368|       2|     0.2|  2.5164|\n",
            "|     6|CA-2014-115812|2014-06-09| 6/14/2014|Standard Class|   BH-11710|   Brosina Hoffman|   Consumer|United States|    Los Angeles|    California|      90032|   West|FUR-FU-10001487|      Furniture| Furnishings|Eldon Expressions...|   48.86|       7|       0| 14.1694|\n",
            "|     7|CA-2014-115812|2014-06-09| 6/14/2014|Standard Class|   BH-11710|   Brosina Hoffman|   Consumer|United States|    Los Angeles|    California|      90032|   West|OFF-AR-10002833|Office Supplies|         Art|          Newell 322|    7.28|       4|       0|  1.9656|\n",
            "|     8|CA-2014-115812|2014-06-09| 6/14/2014|Standard Class|   BH-11710|   Brosina Hoffman|   Consumer|United States|    Los Angeles|    California|      90032|   West|TEC-PH-10002275|     Technology|      Phones|Mitel 5320 IP Pho...| 907.152|       6|     0.2| 90.7152|\n",
            "|     9|CA-2014-115812|2014-06-09| 6/14/2014|Standard Class|   BH-11710|   Brosina Hoffman|   Consumer|United States|    Los Angeles|    California|      90032|   West|OFF-BI-10003910|Office Supplies|     Binders|DXL Angle-View Bi...|  18.504|       3|     0.2|  5.7825|\n",
            "|    10|CA-2014-115812|2014-06-09| 6/14/2014|Standard Class|   BH-11710|   Brosina Hoffman|   Consumer|United States|    Los Angeles|    California|      90032|   West|OFF-AP-10002892|Office Supplies|  Appliances|Belkin F5C206VTEL...|   114.9|       5|       0|   34.47|\n",
            "|    11|CA-2014-115812|2014-06-09| 6/14/2014|Standard Class|   BH-11710|   Brosina Hoffman|   Consumer|United States|    Los Angeles|    California|      90032|   West|FUR-TA-10001539|      Furniture|      Tables|Chromcraft Rectan...|1706.184|       9|     0.2| 85.3092|\n",
            "|    12|CA-2014-115812|2014-06-09| 6/14/2014|Standard Class|   BH-11710|   Brosina Hoffman|   Consumer|United States|    Los Angeles|    California|      90032|   West|TEC-PH-10002033|     Technology|      Phones|Konftel 250 Confe...| 911.424|       4|     0.2| 68.3568|\n",
            "|    13|CA-2017-114412|2017-04-15| 4/20/2017|Standard Class|   AA-10480|      Andrew Allen|   Consumer|United States|        Concord|North Carolina|      28027|  South|OFF-PA-10002365|Office Supplies|       Paper|          Xerox 1967|  15.552|       3|     0.2|  5.4432|\n",
            "|    14|CA-2016-161389|2016-12-05|12/10/2016|Standard Class|   IM-15070|      Irene Maddox|   Consumer|United States|        Seattle|    Washington|      98103|   West|OFF-BI-10003656|Office Supplies|     Binders|Fellowes PB200 Pl...| 407.976|       3|     0.2|132.5922|\n",
            "|    15|US-2015-118983|2015-11-22|11/26/2015|Standard Class|   HP-14815|     Harold Pawlan|Home Office|United States|     Fort Worth|         Texas|      76106|Central|OFF-AP-10002311|Office Supplies|  Appliances|Holmes Replacemen...|   68.81|       5|     0.8|-123.858|\n",
            "|    16|US-2015-118983|2015-11-22|11/26/2015|Standard Class|   HP-14815|     Harold Pawlan|Home Office|United States|     Fort Worth|         Texas|      76106|Central|OFF-BI-10000756|Office Supplies|     Binders|Storex DuraTech R...|   2.544|       3|     0.8|  -3.816|\n",
            "|    17|CA-2014-105893|2014-11-11|11/18/2014|Standard Class|   PK-19075|         Pete Kriz|   Consumer|United States|        Madison|     Wisconsin|      53711|Central|OFF-ST-10004186|Office Supplies|     Storage|\"Stur-D-Stor Shel...|  665.88|       6|       0| 13.3176|\n",
            "|    18|CA-2014-167164|2014-05-13| 5/15/2014|  Second Class|   AG-10270|   Alejandro Grove|   Consumer|United States|    West Jordan|          Utah|      84084|   West|OFF-ST-10000107|Office Supplies|     Storage|Fellowes Super St...|    55.5|       2|       0|    9.99|\n",
            "|    19|CA-2014-143336|2014-08-27|  9/1/2014|  Second Class|   ZD-21925|Zuschuss Donatelli|   Consumer|United States|  San Francisco|    California|      94109|   West|OFF-AR-10003056|Office Supplies|         Art|          Newell 341|    8.56|       2|       0|  2.4824|\n",
            "|    20|CA-2014-143336|2014-08-27|  9/1/2014|  Second Class|   ZD-21925|Zuschuss Donatelli|   Consumer|United States|  San Francisco|    California|      94109|   West|TEC-PH-10001949|     Technology|      Phones|Cisco SPA 501G IP...|  213.48|       3|     0.2|  16.011|\n",
            "+------+--------------+----------+----------+--------------+-----------+------------------+-----------+-------------+---------------+--------------+-----------+-------+---------------+---------------+------------+--------------------+--------+--------+--------+--------+\n",
            "only showing top 20 rows\n",
            "\n"
          ]
        }
      ]
    },
    {
      "cell_type": "markdown",
      "source": [
        "show ชื่อหมวดหมู่สินค้าทั้งหมดโดย sort เรียงตามตัวอักษร เพื่อดูหมวดหมู่สินค้าที่สะกดผิด ด้วย Spark SQL"
      ],
      "metadata": {
        "id": "ThRegyB5hnKY"
      }
    },
    {
      "cell_type": "code",
      "source": [
        "check_Sub_Category= spark.sql(\"\"\" \n",
        "SELECT distinct Sub_Category\n",
        "FROM data\n",
        "ORDER BY Sub_Category \"\"\")\n",
        "\n",
        "check_Sub_Category.count()"
      ],
      "metadata": {
        "colab": {
          "base_uri": "https://localhost:8080/"
        },
        "id": "Q2YMSfzrlrUG",
        "outputId": "5da3b525-bf1f-48c6-ede1-ad377838f8eb"
      },
      "execution_count": 146,
      "outputs": [
        {
          "output_type": "execute_result",
          "data": {
            "text/plain": [
              "18"
            ]
          },
          "metadata": {},
          "execution_count": 146
        }
      ]
    },
    {
      "cell_type": "code",
      "source": [
        "clearnSub_Category = spark.sql('''\n",
        "select Sub_Category, count(Sub_Category) \n",
        "from data\n",
        "group by Sub_Category\n",
        "order by Sub_Category\n",
        "''')\n",
        "\n",
        "clearnSub_Category.show()"
      ],
      "metadata": {
        "colab": {
          "base_uri": "https://localhost:8080/"
        },
        "id": "UBzqzutoVDa2",
        "outputId": "84e2d7d5-53e7-451c-bddb-6808fca74c2a"
      },
      "execution_count": 148,
      "outputs": [
        {
          "output_type": "stream",
          "name": "stdout",
          "text": [
            "+------------+-------------------+\n",
            "|Sub_Category|count(Sub_Category)|\n",
            "+------------+-------------------+\n",
            "| Accessories|                775|\n",
            "|  Appliances|                466|\n",
            "|         Art|                793|\n",
            "|        Artt|                  3|\n",
            "|     Binders|               1523|\n",
            "|   Bookcases|                228|\n",
            "|      Chairs|                617|\n",
            "|     Copiers|                 68|\n",
            "|   Envelopes|                254|\n",
            "|   Fasteners|                217|\n",
            "| Furnishings|                957|\n",
            "|      Labels|                364|\n",
            "|    Machines|                115|\n",
            "|       Paper|               1370|\n",
            "|      Phones|                889|\n",
            "|     Storage|                846|\n",
            "|    Supplies|                190|\n",
            "|      Tables|                319|\n",
            "+------------+-------------------+\n",
            "\n"
          ]
        }
      ]
    },
    {
      "cell_type": "markdown",
      "source": [
        "Clear ด้วย Spark SQL\n",
        "\n",
        "\n"
      ],
      "metadata": {
        "id": "zgyeVstXlIuo"
      }
    },
    {
      "cell_type": "code",
      "source": [
        "check_Sub_Category = spark.sql(\"\"\"\n",
        "    SELECT * \n",
        "    FROM data\n",
        "    WHERE Sub_Category = 'Artt'\n",
        "\"\"\").show()"
      ],
      "metadata": {
        "colab": {
          "base_uri": "https://localhost:8080/"
        },
        "id": "0_fXUeRfQWpU",
        "outputId": "b7ca9788-4f93-4189-bfa9-b06b5ca81abc"
      },
      "execution_count": 149,
      "outputs": [
        {
          "output_type": "stream",
          "name": "stdout",
          "text": [
            "+------+--------------+----------+----------+--------------+-----------+-------------+---------+-------------+-------------+-----------+-----------+-------+---------------+---------------+------------+--------------------+-----+--------+--------+------+\n",
            "|Row_ID|      Order_ID|Order_Date| Ship_Date|     Ship_Mode|Customer_ID|Customer_Name|  Segment|      Country|         City|      State|Postal_Code| Region|     Product_ID|       Category|Sub_Category|        Product_Name|Sales|Quantity|Discount|Profit|\n",
            "+------+--------------+----------+----------+--------------+-----------+-------------+---------+-------------+-------------+-----------+-----------+-------+---------------+---------------+------------+--------------------+-----+--------+--------+------+\n",
            "|  6441|CA-2016-101161|2016-10-13|10/20/2016|Standard Class|   BW-11110| Bart Watters|Corporate|United States|New York City|   New York|      10024|   East|OFF-AR-10001860|Office Supplies|        Artt|BIC Liqua Brite L...| 34.7|       5|       0|12.492|\n",
            "|  6452|CA-2015-156510|2015-09-25| 9/29/2015|Standard Class|   EH-13990|Erica Hackney| Consumer|United States|      Meriden|Connecticut|       6450|   East|OFF-AR-10004930|Office Supplies|        Artt|Turquoise Lead Ho...|  6.7|       1|       0| 2.211|\n",
            "|  6506|CA-2016-152331|2016-06-26| 6/30/2016|Standard Class|   LD-16855| Lela Donovan|Corporate|United States|      Chicago|   Illinois|      60653|Central|OFF-AR-10001547|Office Supplies|        Artt|          Newell 311|5.304|       3|     0.2|0.4641|\n",
            "+------+--------------+----------+----------+--------------+-----------+-------------+---------+-------------+-------------+-----------+-----------+-------+---------------+---------------+------------+--------------------+-----+--------+--------+------+\n",
            "\n"
          ]
        }
      ]
    },
    {
      "cell_type": "code",
      "source": [
        "# ใช้ Spark SQL เปลี่ยน Artt เป็น Art\n",
        "clean_Sub_Category = spark.sql(\"\"\"\n",
        "select Row_ID, Order_ID, Order_Date, Ship_Date, Ship_Mode,\n",
        "    Customer_ID, Customer_Name, Segment, Country, City,\n",
        "    State, Postal_Code, Region, Product_ID,\n",
        "    Category, \n",
        "    case \n",
        "        when Sub_Category = 'Artt' then 'Art'\n",
        "    else Sub_Category\n",
        "    end as Sub_Category,\n",
        "    Product_Name, Sales, Quantity, Discount, Discount\n",
        "from data\n",
        "\"\"\")\n",
        "\n",
        "clean_Sub_Category.show()"
      ],
      "metadata": {
        "id": "iAfw9y7hh73M",
        "colab": {
          "base_uri": "https://localhost:8080/"
        },
        "outputId": "435033bf-1317-4a67-c744-e3c12d0ac41a"
      },
      "execution_count": 157,
      "outputs": [
        {
          "output_type": "stream",
          "name": "stdout",
          "text": [
            "+------+--------------+----------+----------+--------------+-----------+------------------+-----------+-------------+---------------+--------------+-----------+-------+---------------+---------------+------------+--------------------+--------+--------+--------+--------+\n",
            "|Row_ID|      Order_ID|Order_Date| Ship_Date|     Ship_Mode|Customer_ID|     Customer_Name|    Segment|      Country|           City|         State|Postal_Code| Region|     Product_ID|       Category|Sub_Category|        Product_Name|   Sales|Quantity|Discount|Discount|\n",
            "+------+--------------+----------+----------+--------------+-----------+------------------+-----------+-------------+---------------+--------------+-----------+-------+---------------+---------------+------------+--------------------+--------+--------+--------+--------+\n",
            "|     1|CA-2016-152156|2016-11-08|11/11/2016|  Second Class|   CG-12520|       Claire Gute|   Consumer|United States|      Henderson|      Kentucky|      42420|  South|FUR-BO-10001798|      Furniture|   Bookcases|Bush Somerset Col...|  261.96|       2|       0|       0|\n",
            "|     2|CA-2016-152156|2016-11-08|11/11/2016|  Second Class|   CG-12520|       Claire Gute|   Consumer|United States|      Henderson|      Kentucky|      42420|  South|FUR-CH-10000454|      Furniture|      Chairs|Hon Deluxe Fabric...|  731.94|       3|       0|       0|\n",
            "|     3|CA-2016-138688|2016-06-12| 6/16/2016|  Second Class|   DV-13045|   Darrin Van Huff|  Corporate|United States|    Los Angeles|    California|      90036|   West|OFF-LA-10000240|Office Supplies|      Labels|Self-Adhesive Add...|   14.62|       2|       0|       0|\n",
            "|     4|US-2015-108966|2015-10-11|10/18/2015|Standard Class|   SO-20335|    Sean O'Donnell|   Consumer|United States|Fort Lauderdale|       Florida|      33311|  South|FUR-TA-10000577|      Furniture|      Tables|Bretford CR4500 S...|957.5775|       5|    0.45|    0.45|\n",
            "|     5|US-2015-108966|2015-10-11|10/18/2015|Standard Class|   SO-20335|    Sean O'Donnell|   Consumer|United States|Fort Lauderdale|       Florida|      33311|  South|OFF-ST-10000760|Office Supplies|     Storage|Eldon Fold 'N Rol...|  22.368|       2|     0.2|     0.2|\n",
            "|     6|CA-2014-115812|2014-06-09| 6/14/2014|Standard Class|   BH-11710|   Brosina Hoffman|   Consumer|United States|    Los Angeles|    California|      90032|   West|FUR-FU-10001487|      Furniture| Furnishings|Eldon Expressions...|   48.86|       7|       0|       0|\n",
            "|     7|CA-2014-115812|2014-06-09| 6/14/2014|Standard Class|   BH-11710|   Brosina Hoffman|   Consumer|United States|    Los Angeles|    California|      90032|   West|OFF-AR-10002833|Office Supplies|         Art|          Newell 322|    7.28|       4|       0|       0|\n",
            "|     8|CA-2014-115812|2014-06-09| 6/14/2014|Standard Class|   BH-11710|   Brosina Hoffman|   Consumer|United States|    Los Angeles|    California|      90032|   West|TEC-PH-10002275|     Technology|      Phones|Mitel 5320 IP Pho...| 907.152|       6|     0.2|     0.2|\n",
            "|     9|CA-2014-115812|2014-06-09| 6/14/2014|Standard Class|   BH-11710|   Brosina Hoffman|   Consumer|United States|    Los Angeles|    California|      90032|   West|OFF-BI-10003910|Office Supplies|     Binders|DXL Angle-View Bi...|  18.504|       3|     0.2|     0.2|\n",
            "|    10|CA-2014-115812|2014-06-09| 6/14/2014|Standard Class|   BH-11710|   Brosina Hoffman|   Consumer|United States|    Los Angeles|    California|      90032|   West|OFF-AP-10002892|Office Supplies|  Appliances|Belkin F5C206VTEL...|   114.9|       5|       0|       0|\n",
            "|    11|CA-2014-115812|2014-06-09| 6/14/2014|Standard Class|   BH-11710|   Brosina Hoffman|   Consumer|United States|    Los Angeles|    California|      90032|   West|FUR-TA-10001539|      Furniture|      Tables|Chromcraft Rectan...|1706.184|       9|     0.2|     0.2|\n",
            "|    12|CA-2014-115812|2014-06-09| 6/14/2014|Standard Class|   BH-11710|   Brosina Hoffman|   Consumer|United States|    Los Angeles|    California|      90032|   West|TEC-PH-10002033|     Technology|      Phones|Konftel 250 Confe...| 911.424|       4|     0.2|     0.2|\n",
            "|    13|CA-2017-114412|2017-04-15| 4/20/2017|Standard Class|   AA-10480|      Andrew Allen|   Consumer|United States|        Concord|North Carolina|      28027|  South|OFF-PA-10002365|Office Supplies|       Paper|          Xerox 1967|  15.552|       3|     0.2|     0.2|\n",
            "|    14|CA-2016-161389|2016-12-05|12/10/2016|Standard Class|   IM-15070|      Irene Maddox|   Consumer|United States|        Seattle|    Washington|      98103|   West|OFF-BI-10003656|Office Supplies|     Binders|Fellowes PB200 Pl...| 407.976|       3|     0.2|     0.2|\n",
            "|    15|US-2015-118983|2015-11-22|11/26/2015|Standard Class|   HP-14815|     Harold Pawlan|Home Office|United States|     Fort Worth|         Texas|      76106|Central|OFF-AP-10002311|Office Supplies|  Appliances|Holmes Replacemen...|   68.81|       5|     0.8|     0.8|\n",
            "|    16|US-2015-118983|2015-11-22|11/26/2015|Standard Class|   HP-14815|     Harold Pawlan|Home Office|United States|     Fort Worth|         Texas|      76106|Central|OFF-BI-10000756|Office Supplies|     Binders|Storex DuraTech R...|   2.544|       3|     0.8|     0.8|\n",
            "|    17|CA-2014-105893|2014-11-11|11/18/2014|Standard Class|   PK-19075|         Pete Kriz|   Consumer|United States|        Madison|     Wisconsin|      53711|Central|OFF-ST-10004186|Office Supplies|     Storage|\"Stur-D-Stor Shel...|  665.88|       6|       0|       0|\n",
            "|    18|CA-2014-167164|2014-05-13| 5/15/2014|  Second Class|   AG-10270|   Alejandro Grove|   Consumer|United States|    West Jordan|          Utah|      84084|   West|OFF-ST-10000107|Office Supplies|     Storage|Fellowes Super St...|    55.5|       2|       0|       0|\n",
            "|    19|CA-2014-143336|2014-08-27|  9/1/2014|  Second Class|   ZD-21925|Zuschuss Donatelli|   Consumer|United States|  San Francisco|    California|      94109|   West|OFF-AR-10003056|Office Supplies|         Art|          Newell 341|    8.56|       2|       0|       0|\n",
            "|    20|CA-2014-143336|2014-08-27|  9/1/2014|  Second Class|   ZD-21925|Zuschuss Donatelli|   Consumer|United States|  San Francisco|    California|      94109|   West|TEC-PH-10001949|     Technology|      Phones|Cisco SPA 501G IP...|  213.48|       3|     0.2|     0.2|\n",
            "+------+--------------+----------+----------+--------------+-----------+------------------+-----------+-------------+---------------+--------------+-----------+-------+---------------+---------------+------------+--------------------+--------+--------+--------+--------+\n",
            "only showing top 20 rows\n",
            "\n"
          ]
        }
      ]
    },
    {
      "cell_type": "code",
      "source": [
        "# สังเกตุว่าก่อนยังไม่ clean ด้วย Spark SQL จะมีป Sub_Category อยู่ 18\n",
        "# เมื่อ clean ข้อมูล Sub_Category มี 17 ซึ่งถูกต้อง\n",
        "clean_Sub_Category.select('Sub_Category').distinct().count()"
      ],
      "metadata": {
        "colab": {
          "base_uri": "https://localhost:8080/"
        },
        "id": "YxdI7n0Sligq",
        "outputId": "234338e3-75c7-496c-efd9-2c5285ec867e"
      },
      "execution_count": 151,
      "outputs": [
        {
          "output_type": "execute_result",
          "data": {
            "text/plain": [
              "17"
            ]
          },
          "metadata": {},
          "execution_count": 151
        }
      ]
    },
    {
      "cell_type": "code",
      "source": [
        "clean_Sub_Category.select('Sub_Category').distinct().sort('Sub_Category').show(17, False)"
      ],
      "metadata": {
        "id": "Q9LLWaDfmKVE",
        "colab": {
          "base_uri": "https://localhost:8080/"
        },
        "outputId": "3728fbe3-a4d2-4747-fc66-70c415d5ef04"
      },
      "execution_count": 158,
      "outputs": [
        {
          "output_type": "stream",
          "name": "stdout",
          "text": [
            "+------------+\n",
            "|Sub_Category|\n",
            "+------------+\n",
            "|Accessories |\n",
            "|Appliances  |\n",
            "|Art         |\n",
            "|Binders     |\n",
            "|Bookcases   |\n",
            "|Chairs      |\n",
            "|Copiers     |\n",
            "|Envelopes   |\n",
            "|Fasteners   |\n",
            "|Furnishings |\n",
            "|Labels      |\n",
            "|Machines    |\n",
            "|Paper       |\n",
            "|Phones      |\n",
            "|Storage     |\n",
            "|Supplies    |\n",
            "|Tables      |\n",
            "+------------+\n",
            "\n"
          ]
        }
      ]
    },
    {
      "cell_type": "markdown",
      "source": [
        "แก้ไข Customer_ID นี้ให้ถูกต้องกัน AH-101201 เปลี่ยนเป็น AH-10120 ใช้ Spark SQL"
      ],
      "metadata": {
        "id": "TsPccB4ijW1B"
      }
    },
    {
      "cell_type": "code",
      "source": [
        "check_customerid = spark.sql(\"\"\" \n",
        "    SELECT * \n",
        "    FROM data\n",
        "    WHERE Customer_ID NOT RLIKE '^[A-Za-z]{2}-[0-9]{5}$'\n",
        "\"\"\").show()"
      ],
      "metadata": {
        "colab": {
          "base_uri": "https://localhost:8080/"
        },
        "id": "qk6O73E0i_CE",
        "outputId": "adc27401-2d35-403c-a2ae-e2a5906a5689"
      },
      "execution_count": 180,
      "outputs": [
        {
          "output_type": "stream",
          "name": "stdout",
          "text": [
            "+------+--------------+----------+---------+--------------+-----------+-------------+-----------+-------------+----------+--------+-----------+------+---------------+---------------+------------+--------------------+------+--------+--------+-------+\n",
            "|Row_ID|      Order_ID|Order_Date|Ship_Date|     Ship_Mode|Customer_ID|Customer_Name|    Segment|      Country|      City|   State|Postal_Code|Region|     Product_ID|       Category|Sub_Category|        Product_Name| Sales|Quantity|Discount| Profit|\n",
            "+------+--------------+----------+---------+--------------+-----------+-------------+-----------+-------------+----------+--------+-----------+------+---------------+---------------+------------+--------------------+------+--------+--------+-------+\n",
            "|  6413|CA-2017-151211|2017-08-17|8/23/2017|Standard Class|  AH-101201|  Adrian Hane|Home Office|United States|Louisville|Kentucky|      40214| South|OFF-BI-10002735|Office Supplies|     Binders|GBC Prestige Ther...|102.93|       3|       0|48.3771|\n",
            "|  6414|CA-2017-151211|2017-08-17|8/23/2017|Standard Class|  AH-101201|  Adrian Hane|Home Office|United States|Louisville|Kentucky|      40214| South|TEC-AC-10004510|     Technology| Accessories|Logitech Desktop ...| 98.16|       6|       0|  9.816|\n",
            "+------+--------------+----------+---------+--------------+-----------+-------------+-----------+-------------+----------+--------+-----------+------+---------------+---------------+------------+--------------------+------+--------+--------+-------+\n",
            "\n"
          ]
        }
      ]
    },
    {
      "cell_type": "markdown",
      "source": [
        "ทำการ Clean ข้อมูลทั้งคอลัมน์ Sub_Category และ Customer_ID พร้อมทีเดียว"
      ],
      "metadata": {
        "id": "qXUv3elNXQ-x"
      }
    },
    {
      "cell_type": "code",
      "source": [
        "df_Clean_superstore = spark.sql(\"\"\"\n",
        "select Row_ID, Order_ID, Order_Date, Ship_Date, Ship_Mode,\n",
        "    case \n",
        "        when Customer_ID = 'AH-101201' then 'AH-10120'\n",
        "    else Customer_ID\n",
        "    end Customer_ID, \n",
        "    Customer_Name, Segment, Country, City,\n",
        "    State, Postal_Code, Region, Product_ID,\n",
        "    Category, \n",
        "    case \n",
        "        when Sub_Category = 'Artt' then 'Art'\n",
        "    else Sub_Category\n",
        "    end as Sub_Category,\n",
        "    Product_Name, Sales, Quantity, \n",
        "    Discount\n",
        "from data\n",
        "\"\"\")"
      ],
      "metadata": {
        "id": "q1XFxVEQj1dT"
      },
      "execution_count": 190,
      "outputs": []
    },
    {
      "cell_type": "markdown",
      "source": [
        "ลองตรวจสอบข้อมูล clearn_superstore ที่ผ่าน Clean ด้วย Spark SQL \n",
        "\n",
        "\n",
        "\n",
        "1.   Missing Value ใน user_id ค่า null\n",
        "2.   เช็ค Customer_ID เกิน 6 หลัก\n",
        "3.   เช็ค Sub_Category > Artt มีในข้อมูลอีกไหม\n",
        "\n"
      ],
      "metadata": {
        "id": "mSr8IC9OBxF-"
      }
    },
    {
      "cell_type": "code",
      "source": [
        "# Missing Value \n",
        "check_mv = df_Clean_superstore.select([ sum(col(colname).isNull().cast('int'))\\\n",
        "                                       .alias(colname) for colname in df_Clean_superstore.columns ])\n",
        "check_mv.show()"
      ],
      "metadata": {
        "colab": {
          "base_uri": "https://localhost:8080/"
        },
        "id": "x_2ZEqo6kaOI",
        "outputId": "9b195b91-e3fd-4c2c-aa15-656a2b02b61f"
      },
      "execution_count": 193,
      "outputs": [
        {
          "output_type": "stream",
          "name": "stdout",
          "text": [
            "+------+--------+----------+---------+---------+-----------+-------------+-------+-------+----+-----+-----------+------+----------+--------+------------+------------+-----+--------+--------+\n",
            "|Row_ID|Order_ID|Order_Date|Ship_Date|Ship_Mode|Customer_ID|Customer_Name|Segment|Country|City|State|Postal_Code|Region|Product_ID|Category|Sub_Category|Product_Name|Sales|Quantity|Discount|\n",
            "+------+--------+----------+---------+---------+-----------+-------------+-------+-------+----+-----+-----------+------+----------+--------+------------+------------+-----+--------+--------+\n",
            "|     0|       0|         0|        0|        0|          0|            0|      0|      0|   0|    0|          0|     0|         0|       0|           0|           0|    0|       0|       0|\n",
            "+------+--------+----------+---------+---------+-----------+-------------+-------+-------+----+-----+-----------+------+----------+--------+------------+------------+-----+--------+--------+\n",
            "\n"
          ]
        }
      ]
    },
    {
      "cell_type": "code",
      "source": [
        "df_Clean_superstore.where(df_Clean_superstore.Customer_ID == 'AH-101201').show()"
      ],
      "metadata": {
        "colab": {
          "base_uri": "https://localhost:8080/"
        },
        "id": "wZhbuR0rkp2W",
        "outputId": "923edb9e-e0ce-4d89-ac3d-7ff1316e3ab9"
      },
      "execution_count": 194,
      "outputs": [
        {
          "output_type": "stream",
          "name": "stdout",
          "text": [
            "+------+--------+----------+---------+---------+-----------+-------------+-------+-------+----+-----+-----------+------+----------+--------+------------+------------+-----+--------+--------+\n",
            "|Row_ID|Order_ID|Order_Date|Ship_Date|Ship_Mode|Customer_ID|Customer_Name|Segment|Country|City|State|Postal_Code|Region|Product_ID|Category|Sub_Category|Product_Name|Sales|Quantity|Discount|\n",
            "+------+--------+----------+---------+---------+-----------+-------------+-------+-------+----+-----+-----------+------+----------+--------+------------+------------+-----+--------+--------+\n",
            "+------+--------+----------+---------+---------+-----------+-------------+-------+-------+----+-----+-----------+------+----------+--------+------------+------------+-----+--------+--------+\n",
            "\n"
          ]
        }
      ]
    },
    {
      "cell_type": "code",
      "source": [
        "df_Clean_superstore.where(df_Clean_superstore.Sub_Category == 'Artt').show()"
      ],
      "metadata": {
        "colab": {
          "base_uri": "https://localhost:8080/"
        },
        "id": "fpovJltroX2c",
        "outputId": "37f1f011-251d-49d0-cc35-b2ad76dbecf9"
      },
      "execution_count": 195,
      "outputs": [
        {
          "output_type": "stream",
          "name": "stdout",
          "text": [
            "+------+--------+----------+---------+---------+-----------+-------------+-------+-------+----+-----+-----------+------+----------+--------+------------+------------+-----+--------+--------+\n",
            "|Row_ID|Order_ID|Order_Date|Ship_Date|Ship_Mode|Customer_ID|Customer_Name|Segment|Country|City|State|Postal_Code|Region|Product_ID|Category|Sub_Category|Product_Name|Sales|Quantity|Discount|\n",
            "+------+--------+----------+---------+---------+-----------+-------------+-------+-------+----+-----+-----------+------+----------+--------+------------+------------+-----+--------+--------+\n",
            "+------+--------+----------+---------+---------+-----------+-------------+-------+-------+----+-----+-----------+------+----------+--------+------------+------------+-----+--------+--------+\n",
            "\n"
          ]
        }
      ]
    },
    {
      "cell_type": "markdown",
      "metadata": {
        "id": "lu3WQ4g8UBra"
      },
      "source": [
        "# Step 5) Save data เป็น CSV\n",
        "\n",
        "โดยปกติแล้ว Spark จะทำการ Save ออกมาเป็นหลายไฟล์ เพราะใช้หลายเครื่องในการประมวลผล"
      ]
    },
    {
      "cell_type": "code",
      "source": [
        "superstore_clean.coalesce(1).write.csv('spark_sperstore.csv',  header=True)\n",
        "\n",
        "df_Clean_superstore.coalesce(1).write.csv('spark_sql_superstore.csv', header=True)     "
      ],
      "metadata": {
        "id": "OlYLpZsLojhx"
      },
      "execution_count": 196,
      "outputs": []
    }
  ]
}